{
 "cells": [
  {
   "cell_type": "markdown",
   "id": "db88cb3b-d40b-4147-8200-c4e39da1d157",
   "metadata": {},
   "source": [
    "# Chapter 14 - Survival Analysis\n",
    "\n",
    "- Ways to reason about the time until an event occurs\n",
    "- We'll use the Weibull distribution\n",
    "\n",
    "## Weibull Distribution\n",
    "\n",
    "- Weibull distribution is often used for survival analysis because it does a reasonable job modelling the distribution of lifetimes for manufactured goods.\n",
    "\n",
    "There are several versions of the distribution; we'll use `weibull_min` from `scipy`. We'll wrap it in a function. $\\lambda$ mostly affects the location or central tendency and $k$ affects the shape."
   ]
  },
  {
   "cell_type": "code",
   "execution_count": 1,
   "id": "1bb0fb98-9b0c-424d-b854-783f2678b496",
   "metadata": {},
   "outputs": [
    {
     "data": {
      "text/plain": [
       "[<matplotlib.lines.Line2D at 0x7f83903912e0>]"
      ]
     },
     "execution_count": 1,
     "metadata": {},
     "output_type": "execute_result"
    },
    {
     "data": {
      "image/png": "[encoded data removed]",
      "text/plain": [
       "<Figure size 432x288 with 1 Axes>"
      ]
     },
     "metadata": {
      "needs_background": "light"
     },
     "output_type": "display_data"
    }
   ],
   "source": [
    "from scipy.stats import weibull_min\n",
    "import matplotlib.pyplot as plt\n",
    "import numpy as np\n",
    "\n",
    "def weibull_dist(lam, k):\n",
    "    return weibull_min(k, scale=lam)\n",
    "\n",
    "# example: weibull with lam=3 and k=0.8\n",
    "lam = 3\n",
    "k = 0.8\n",
    "actual_dist = weibull_dist(lam, k)\n",
    "\n",
    "durations = np.linspace(0, 12, 101)\n",
    "results = [ actual_dist.cdf(duration) for duration in durations]\n",
    "plt.plot(durations, results)"
   ]
  },
  {
   "cell_type": "code",
   "execution_count": 2,
   "id": "5f387df8-39f6-4ccd-ad23-5c2bb4f33969",
   "metadata": {},
   "outputs": [],
   "source": [
    "actual_dist = weibull_dist(lam, k)"
   ]
  },
  {
   "cell_type": "code",
   "execution_count": 3,
   "id": "85228c30-0175-4b85-96bf-7125215d6753",
   "metadata": {},
   "outputs": [
    {
     "data": {
      "text/plain": [
       "array([4.26175362, 1.15711113, 2.23724423, 0.13685279, 0.23513523,\n",
       "       1.26835615, 3.48168334, 1.50506403, 9.31105846, 0.23316204])"
      ]
     },
     "execution_count": 3,
     "metadata": {},
     "output_type": "execute_result"
    }
   ],
   "source": [
    "data = actual_dist.rvs(10)\n",
    "data"
   ]
  },
  {
   "cell_type": "code",
   "execution_count": 4,
   "id": "da663a35-6e8f-45ef-a867-1db79fb9070e",
   "metadata": {},
   "outputs": [
    {
     "data": {
      "text/html": [
       "<div>\n",
       "<style scoped>\n",
       "    .dataframe tbody tr th:only-of-type {\n",
       "        vertical-align: middle;\n",
       "    }\n",
       "\n",
       "    .dataframe tbody tr th {\n",
       "        vertical-align: top;\n",
       "    }\n",
       "\n",
       "    .dataframe thead th {\n",
       "        text-align: right;\n",
       "    }\n",
       "</style>\n",
       "<table border=\"1\" class=\"dataframe\">\n",
       "  <thead>\n",
       "    <tr style=\"text-align: right;\">\n",
       "      <th></th>\n",
       "      <th>0.1</th>\n",
       "      <th>0.2</th>\n",
       "      <th>0.3</th>\n",
       "      <th>0.4</th>\n",
       "      <th>0.5</th>\n",
       "      <th>0.6</th>\n",
       "      <th>0.7</th>\n",
       "      <th>0.8</th>\n",
       "      <th>0.9</th>\n",
       "      <th>1.0</th>\n",
       "      <th>...</th>\n",
       "      <th>9.2</th>\n",
       "      <th>9.3</th>\n",
       "      <th>9.4</th>\n",
       "      <th>9.5</th>\n",
       "      <th>9.6</th>\n",
       "      <th>9.7</th>\n",
       "      <th>9.8</th>\n",
       "      <th>9.9</th>\n",
       "      <th>10.0</th>\n",
       "      <th>10.1</th>\n",
       "    </tr>\n",
       "  </thead>\n",
       "  <tbody>\n",
       "    <tr>\n",
       "      <th>0.10</th>\n",
       "      <td>0.000098</td>\n",
       "      <td>0.000098</td>\n",
       "      <td>0.000098</td>\n",
       "      <td>0.000098</td>\n",
       "      <td>0.000098</td>\n",
       "      <td>0.000098</td>\n",
       "      <td>0.000098</td>\n",
       "      <td>0.000098</td>\n",
       "      <td>0.000098</td>\n",
       "      <td>0.000098</td>\n",
       "      <td>...</td>\n",
       "      <td>0.000098</td>\n",
       "      <td>0.000098</td>\n",
       "      <td>0.000098</td>\n",
       "      <td>0.000098</td>\n",
       "      <td>0.000098</td>\n",
       "      <td>0.000098</td>\n",
       "      <td>0.000098</td>\n",
       "      <td>0.000098</td>\n",
       "      <td>0.000098</td>\n",
       "      <td>0.000098</td>\n",
       "    </tr>\n",
       "    <tr>\n",
       "      <th>0.15</th>\n",
       "      <td>0.000098</td>\n",
       "      <td>0.000098</td>\n",
       "      <td>0.000098</td>\n",
       "      <td>0.000098</td>\n",
       "      <td>0.000098</td>\n",
       "      <td>0.000098</td>\n",
       "      <td>0.000098</td>\n",
       "      <td>0.000098</td>\n",
       "      <td>0.000098</td>\n",
       "      <td>0.000098</td>\n",
       "      <td>...</td>\n",
       "      <td>0.000098</td>\n",
       "      <td>0.000098</td>\n",
       "      <td>0.000098</td>\n",
       "      <td>0.000098</td>\n",
       "      <td>0.000098</td>\n",
       "      <td>0.000098</td>\n",
       "      <td>0.000098</td>\n",
       "      <td>0.000098</td>\n",
       "      <td>0.000098</td>\n",
       "      <td>0.000098</td>\n",
       "    </tr>\n",
       "    <tr>\n",
       "      <th>0.20</th>\n",
       "      <td>0.000098</td>\n",
       "      <td>0.000098</td>\n",
       "      <td>0.000098</td>\n",
       "      <td>0.000098</td>\n",
       "      <td>0.000098</td>\n",
       "      <td>0.000098</td>\n",
       "      <td>0.000098</td>\n",
       "      <td>0.000098</td>\n",
       "      <td>0.000098</td>\n",
       "      <td>0.000098</td>\n",
       "      <td>...</td>\n",
       "      <td>0.000098</td>\n",
       "      <td>0.000098</td>\n",
       "      <td>0.000098</td>\n",
       "      <td>0.000098</td>\n",
       "      <td>0.000098</td>\n",
       "      <td>0.000098</td>\n",
       "      <td>0.000098</td>\n",
       "      <td>0.000098</td>\n",
       "      <td>0.000098</td>\n",
       "      <td>0.000098</td>\n",
       "    </tr>\n",
       "    <tr>\n",
       "      <th>0.25</th>\n",
       "      <td>0.000098</td>\n",
       "      <td>0.000098</td>\n",
       "      <td>0.000098</td>\n",
       "      <td>0.000098</td>\n",
       "      <td>0.000098</td>\n",
       "      <td>0.000098</td>\n",
       "      <td>0.000098</td>\n",
       "      <td>0.000098</td>\n",
       "      <td>0.000098</td>\n",
       "      <td>0.000098</td>\n",
       "      <td>...</td>\n",
       "      <td>0.000098</td>\n",
       "      <td>0.000098</td>\n",
       "      <td>0.000098</td>\n",
       "      <td>0.000098</td>\n",
       "      <td>0.000098</td>\n",
       "      <td>0.000098</td>\n",
       "      <td>0.000098</td>\n",
       "      <td>0.000098</td>\n",
       "      <td>0.000098</td>\n",
       "      <td>0.000098</td>\n",
       "    </tr>\n",
       "    <tr>\n",
       "      <th>0.30</th>\n",
       "      <td>0.000098</td>\n",
       "      <td>0.000098</td>\n",
       "      <td>0.000098</td>\n",
       "      <td>0.000098</td>\n",
       "      <td>0.000098</td>\n",
       "      <td>0.000098</td>\n",
       "      <td>0.000098</td>\n",
       "      <td>0.000098</td>\n",
       "      <td>0.000098</td>\n",
       "      <td>0.000098</td>\n",
       "      <td>...</td>\n",
       "      <td>0.000098</td>\n",
       "      <td>0.000098</td>\n",
       "      <td>0.000098</td>\n",
       "      <td>0.000098</td>\n",
       "      <td>0.000098</td>\n",
       "      <td>0.000098</td>\n",
       "      <td>0.000098</td>\n",
       "      <td>0.000098</td>\n",
       "      <td>0.000098</td>\n",
       "      <td>0.000098</td>\n",
       "    </tr>\n",
       "    <tr>\n",
       "      <th>...</th>\n",
       "      <td>...</td>\n",
       "      <td>...</td>\n",
       "      <td>...</td>\n",
       "      <td>...</td>\n",
       "      <td>...</td>\n",
       "      <td>...</td>\n",
       "      <td>...</td>\n",
       "      <td>...</td>\n",
       "      <td>...</td>\n",
       "      <td>...</td>\n",
       "      <td>...</td>\n",
       "      <td>...</td>\n",
       "      <td>...</td>\n",
       "      <td>...</td>\n",
       "      <td>...</td>\n",
       "      <td>...</td>\n",
       "      <td>...</td>\n",
       "      <td>...</td>\n",
       "      <td>...</td>\n",
       "      <td>...</td>\n",
       "      <td>...</td>\n",
       "    </tr>\n",
       "    <tr>\n",
       "      <th>4.90</th>\n",
       "      <td>0.000098</td>\n",
       "      <td>0.000098</td>\n",
       "      <td>0.000098</td>\n",
       "      <td>0.000098</td>\n",
       "      <td>0.000098</td>\n",
       "      <td>0.000098</td>\n",
       "      <td>0.000098</td>\n",
       "      <td>0.000098</td>\n",
       "      <td>0.000098</td>\n",
       "      <td>0.000098</td>\n",
       "      <td>...</td>\n",
       "      <td>0.000098</td>\n",
       "      <td>0.000098</td>\n",
       "      <td>0.000098</td>\n",
       "      <td>0.000098</td>\n",
       "      <td>0.000098</td>\n",
       "      <td>0.000098</td>\n",
       "      <td>0.000098</td>\n",
       "      <td>0.000098</td>\n",
       "      <td>0.000098</td>\n",
       "      <td>0.000098</td>\n",
       "    </tr>\n",
       "    <tr>\n",
       "      <th>4.95</th>\n",
       "      <td>0.000098</td>\n",
       "      <td>0.000098</td>\n",
       "      <td>0.000098</td>\n",
       "      <td>0.000098</td>\n",
       "      <td>0.000098</td>\n",
       "      <td>0.000098</td>\n",
       "      <td>0.000098</td>\n",
       "      <td>0.000098</td>\n",
       "      <td>0.000098</td>\n",
       "      <td>0.000098</td>\n",
       "      <td>...</td>\n",
       "      <td>0.000098</td>\n",
       "      <td>0.000098</td>\n",
       "      <td>0.000098</td>\n",
       "      <td>0.000098</td>\n",
       "      <td>0.000098</td>\n",
       "      <td>0.000098</td>\n",
       "      <td>0.000098</td>\n",
       "      <td>0.000098</td>\n",
       "      <td>0.000098</td>\n",
       "      <td>0.000098</td>\n",
       "    </tr>\n",
       "    <tr>\n",
       "      <th>5.00</th>\n",
       "      <td>0.000098</td>\n",
       "      <td>0.000098</td>\n",
       "      <td>0.000098</td>\n",
       "      <td>0.000098</td>\n",
       "      <td>0.000098</td>\n",
       "      <td>0.000098</td>\n",
       "      <td>0.000098</td>\n",
       "      <td>0.000098</td>\n",
       "      <td>0.000098</td>\n",
       "      <td>0.000098</td>\n",
       "      <td>...</td>\n",
       "      <td>0.000098</td>\n",
       "      <td>0.000098</td>\n",
       "      <td>0.000098</td>\n",
       "      <td>0.000098</td>\n",
       "      <td>0.000098</td>\n",
       "      <td>0.000098</td>\n",
       "      <td>0.000098</td>\n",
       "      <td>0.000098</td>\n",
       "      <td>0.000098</td>\n",
       "      <td>0.000098</td>\n",
       "    </tr>\n",
       "    <tr>\n",
       "      <th>5.05</th>\n",
       "      <td>0.000098</td>\n",
       "      <td>0.000098</td>\n",
       "      <td>0.000098</td>\n",
       "      <td>0.000098</td>\n",
       "      <td>0.000098</td>\n",
       "      <td>0.000098</td>\n",
       "      <td>0.000098</td>\n",
       "      <td>0.000098</td>\n",
       "      <td>0.000098</td>\n",
       "      <td>0.000098</td>\n",
       "      <td>...</td>\n",
       "      <td>0.000098</td>\n",
       "      <td>0.000098</td>\n",
       "      <td>0.000098</td>\n",
       "      <td>0.000098</td>\n",
       "      <td>0.000098</td>\n",
       "      <td>0.000098</td>\n",
       "      <td>0.000098</td>\n",
       "      <td>0.000098</td>\n",
       "      <td>0.000098</td>\n",
       "      <td>0.000098</td>\n",
       "    </tr>\n",
       "    <tr>\n",
       "      <th>5.10</th>\n",
       "      <td>0.000098</td>\n",
       "      <td>0.000098</td>\n",
       "      <td>0.000098</td>\n",
       "      <td>0.000098</td>\n",
       "      <td>0.000098</td>\n",
       "      <td>0.000098</td>\n",
       "      <td>0.000098</td>\n",
       "      <td>0.000098</td>\n",
       "      <td>0.000098</td>\n",
       "      <td>0.000098</td>\n",
       "      <td>...</td>\n",
       "      <td>0.000098</td>\n",
       "      <td>0.000098</td>\n",
       "      <td>0.000098</td>\n",
       "      <td>0.000098</td>\n",
       "      <td>0.000098</td>\n",
       "      <td>0.000098</td>\n",
       "      <td>0.000098</td>\n",
       "      <td>0.000098</td>\n",
       "      <td>0.000098</td>\n",
       "      <td>0.000098</td>\n",
       "    </tr>\n",
       "  </tbody>\n",
       "</table>\n",
       "<p>101 rows × 101 columns</p>\n",
       "</div>"
      ],
      "text/plain": [
       "          0.1       0.2       0.3       0.4       0.5       0.6       0.7   \\\n",
       "0.10  0.000098  0.000098  0.000098  0.000098  0.000098  0.000098  0.000098   \n",
       "0.15  0.000098  0.000098  0.000098  0.000098  0.000098  0.000098  0.000098   \n",
       "0.20  0.000098  0.000098  0.000098  0.000098  0.000098  0.000098  0.000098   \n",
       "0.25  0.000098  0.000098  0.000098  0.000098  0.000098  0.000098  0.000098   \n",
       "0.30  0.000098  0.000098  0.000098  0.000098  0.000098  0.000098  0.000098   \n",
       "...        ...       ...       ...       ...       ...       ...       ...   \n",
       "4.90  0.000098  0.000098  0.000098  0.000098  0.000098  0.000098  0.000098   \n",
       "4.95  0.000098  0.000098  0.000098  0.000098  0.000098  0.000098  0.000098   \n",
       "5.00  0.000098  0.000098  0.000098  0.000098  0.000098  0.000098  0.000098   \n",
       "5.05  0.000098  0.000098  0.000098  0.000098  0.000098  0.000098  0.000098   \n",
       "5.10  0.000098  0.000098  0.000098  0.000098  0.000098  0.000098  0.000098   \n",
       "\n",
       "          0.8       0.9       1.0   ...      9.2       9.3       9.4   \\\n",
       "0.10  0.000098  0.000098  0.000098  ...  0.000098  0.000098  0.000098   \n",
       "0.15  0.000098  0.000098  0.000098  ...  0.000098  0.000098  0.000098   \n",
       "0.20  0.000098  0.000098  0.000098  ...  0.000098  0.000098  0.000098   \n",
       "0.25  0.000098  0.000098  0.000098  ...  0.000098  0.000098  0.000098   \n",
       "0.30  0.000098  0.000098  0.000098  ...  0.000098  0.000098  0.000098   \n",
       "...        ...       ...       ...  ...       ...       ...       ...   \n",
       "4.90  0.000098  0.000098  0.000098  ...  0.000098  0.000098  0.000098   \n",
       "4.95  0.000098  0.000098  0.000098  ...  0.000098  0.000098  0.000098   \n",
       "5.00  0.000098  0.000098  0.000098  ...  0.000098  0.000098  0.000098   \n",
       "5.05  0.000098  0.000098  0.000098  ...  0.000098  0.000098  0.000098   \n",
       "5.10  0.000098  0.000098  0.000098  ...  0.000098  0.000098  0.000098   \n",
       "\n",
       "          9.5       9.6       9.7       9.8       9.9       10.0      10.1  \n",
       "0.10  0.000098  0.000098  0.000098  0.000098  0.000098  0.000098  0.000098  \n",
       "0.15  0.000098  0.000098  0.000098  0.000098  0.000098  0.000098  0.000098  \n",
       "0.20  0.000098  0.000098  0.000098  0.000098  0.000098  0.000098  0.000098  \n",
       "0.25  0.000098  0.000098  0.000098  0.000098  0.000098  0.000098  0.000098  \n",
       "0.30  0.000098  0.000098  0.000098  0.000098  0.000098  0.000098  0.000098  \n",
       "...        ...       ...       ...       ...       ...       ...       ...  \n",
       "4.90  0.000098  0.000098  0.000098  0.000098  0.000098  0.000098  0.000098  \n",
       "4.95  0.000098  0.000098  0.000098  0.000098  0.000098  0.000098  0.000098  \n",
       "5.00  0.000098  0.000098  0.000098  0.000098  0.000098  0.000098  0.000098  \n",
       "5.05  0.000098  0.000098  0.000098  0.000098  0.000098  0.000098  0.000098  \n",
       "5.10  0.000098  0.000098  0.000098  0.000098  0.000098  0.000098  0.000098  \n",
       "\n",
       "[101 rows x 101 columns]"
      ]
     },
     "execution_count": 4,
     "metadata": {},
     "output_type": "execute_result"
    }
   ],
   "source": [
    "from utils import make_uniform, make_joint\n",
    "\n",
    "# creating a prior distribution for lambda\n",
    "lams = np.linspace(0.1, 10.1, num=101)\n",
    "prior_lam = make_uniform(lams)\n",
    "\n",
    "# and now for k\n",
    "ks = np.linspace(0.1, 5.1, num=101)\n",
    "prior_k = make_uniform(ks)\n",
    "\n",
    "prior = make_joint(prior_lam, prior_k)\n",
    "prior"
   ]
  },
  {
   "cell_type": "markdown",
   "id": "8af27a32-f0c3-4755-a1b3-6a413ea61a74",
   "metadata": {},
   "source": [
    "The result is a DataFrame with the possible lambdas across the columns and the ks down the rows.\n",
    "\n",
    "Next step: use meshgrid to create a 3D mesh with lambas on axis 0, ks on axis 1, and the data on axis 2"
   ]
  },
  {
   "cell_type": "code",
   "execution_count": 5,
   "id": "ef2bb40f-2056-432d-91b8-e50a06fc09c0",
   "metadata": {},
   "outputs": [
    {
     "data": {
      "text/plain": [
       "(101, 101, 10)"
      ]
     },
     "execution_count": 5,
     "metadata": {},
     "output_type": "execute_result"
    }
   ],
   "source": [
    "lam_mesh, k_mesh, data_mesh = np.meshgrid(prior.columns, prior.index, data)\n",
    "\n",
    "# use weibull_dist to compte the PDF of the Weibull distribution for each\n",
    "# pair of parameters and each data point:\n",
    "\n",
    "densities = weibull_dist(lam_mesh, k_mesh).pdf(data)\n",
    "densities.shape"
   ]
  },
  {
   "cell_type": "code",
   "execution_count": 6,
   "id": "0e6497b6-1966-4a6f-8073-0bef285519cf",
   "metadata": {},
   "outputs": [
    {
     "data": {
      "text/plain": [
       "2.2628264404252024e-06"
      ]
     },
     "execution_count": 6,
     "metadata": {},
     "output_type": "execute_result"
    }
   ],
   "source": [
    "# The likelihood is the product of the probability densities along axis=2\n",
    "likelihood = densities.prod(axis=2)\n",
    "likelihood.sum()"
   ]
  },
  {
   "cell_type": "code",
   "execution_count": 7,
   "id": "723e1f6f-107a-46c9-b672-7fbfd99382be",
   "metadata": {},
   "outputs": [
    {
     "data": {
      "text/plain": [
       "2.2182398200423514e-10"
      ]
     },
     "execution_count": 7,
     "metadata": {},
     "output_type": "execute_result"
    }
   ],
   "source": [
    "from utils import normalize\n",
    "\n",
    "posterior = prior * likelihood\n",
    "normalize(posterior)"
   ]
  },
  {
   "cell_type": "code",
   "execution_count": 8,
   "id": "75850843-1e20-4001-84e9-2946a09e92a3",
   "metadata": {},
   "outputs": [
    {
     "data": {
      "image/png": "[encoded data removed]",
      "text/plain": [
       "<Figure size 432x288 with 1 Axes>"
      ]
     },
     "metadata": {
      "needs_background": "light"
     },
     "output_type": "display_data"
    }
   ],
   "source": [
    "# now let's make a function of it\n",
    "def update_weibull(prior, data):\n",
    "    \"\"\" Update the prior based on the data \"\"\"\n",
    "    lam_mesh, k_mesh, data_mesh = np.meshgrid(prior.columns, prior.index, data)\n",
    "    \n",
    "    densities = weibull_dist(lam_mesh, k_mesh).pdf(data_mesh)\n",
    "    likelihood = densities.prod(axis=2)\n",
    "    \n",
    "    posterior = prior * likelihood\n",
    "    normalize(posterior)\n",
    "    \n",
    "    return posterior\n",
    "\n",
    "# testing it out on our actual data\n",
    "posterior = update_weibull(prior, data)\n",
    "\n",
    "from utils import plot_contour\n",
    "plot_contour(posterior)"
   ]
  },
  {
   "cell_type": "markdown",
   "id": "b9ef82da-edb2-49d6-8b55-1c67ec65d572",
   "metadata": {},
   "source": [
    "## Incomplete Data\n",
    "\n",
    "In the previous example we were given 10 random samples from the distribution, and we then used these to estimate the parameters (which we already knew). However, this is unrealistic - we will have information only about the past, not the future!\n",
    "\n",
    "As an example, say that you work in a dog shelter and are interested in the time between the arrival of a new dog and when it is adopted. Some dogs might be adopted quickly, while others might take a long time. The people operating the shelter might want to make inferences about the distribution of the residence times.\n",
    "\n",
    "Say that you monitor the arrival and adoption times over 8 weeks, and 10 dogs arrive during that interval. Assume that their arrival times are distributed randomly:"
   ]
  },
  {
   "cell_type": "code",
   "execution_count": 9,
   "id": "bef0b239-d124-4086-8f31-9767d6dce379",
   "metadata": {},
   "outputs": [
    {
     "data": {
      "text/plain": [
       "array([3.55365758, 6.70714836, 6.09769576, 0.8861917 , 2.72912921,\n",
       "       7.70790075, 6.87256258, 4.25813367, 7.45437185, 1.67027258])"
      ]
     },
     "execution_count": 9,
     "metadata": {},
     "output_type": "execute_result"
    }
   ],
   "source": [
    "start = np.random.uniform(0, 8, size=10)\n",
    "start"
   ]
  },
  {
   "cell_type": "markdown",
   "id": "4c1d0ea7-5210-4ee9-a2b9-59e4fd751f9a",
   "metadata": {},
   "source": [
    "Now say that the dogs' residence times follow the Weibull distribution we used earlier"
   ]
  },
  {
   "cell_type": "code",
   "execution_count": 10,
   "id": "a0ba299f-bffd-46f7-badc-8644eb05b4db",
   "metadata": {},
   "outputs": [
    {
     "data": {
      "text/plain": [
       "array([2.21174894e+00, 1.86684909e-01, 5.99311470e+00, 2.17243583e+01,\n",
       "       1.18595952e+00, 7.99489121e-01, 1.90145023e-03, 2.52236224e-01,\n",
       "       3.93237691e+00, 2.42876415e+00])"
      ]
     },
     "execution_count": 10,
     "metadata": {},
     "output_type": "execute_result"
    }
   ],
   "source": [
    "duration = actual_dist.rvs(10)\n",
    "duration"
   ]
  },
  {
   "cell_type": "markdown",
   "id": "3b516710-fcaa-4762-ac6f-17ff29e6872a",
   "metadata": {},
   "source": [
    "We can use these values to construct a DataFrame that contains the arrival and departure times for each dog, called `start` and `end`"
   ]
  },
  {
   "cell_type": "code",
   "execution_count": 11,
   "id": "6d582b4c-df9d-4196-b29c-3a12145993ac",
   "metadata": {},
   "outputs": [
    {
     "data": {
      "text/html": [
       "<div>\n",
       "<style scoped>\n",
       "    .dataframe tbody tr th:only-of-type {\n",
       "        vertical-align: middle;\n",
       "    }\n",
       "\n",
       "    .dataframe tbody tr th {\n",
       "        vertical-align: top;\n",
       "    }\n",
       "\n",
       "    .dataframe thead th {\n",
       "        text-align: right;\n",
       "    }\n",
       "</style>\n",
       "<table border=\"1\" class=\"dataframe\">\n",
       "  <thead>\n",
       "    <tr style=\"text-align: right;\">\n",
       "      <th></th>\n",
       "      <th>start</th>\n",
       "      <th>end</th>\n",
       "    </tr>\n",
       "  </thead>\n",
       "  <tbody>\n",
       "    <tr>\n",
       "      <th>0</th>\n",
       "      <td>3.553658</td>\n",
       "      <td>5.765407</td>\n",
       "    </tr>\n",
       "    <tr>\n",
       "      <th>1</th>\n",
       "      <td>6.707148</td>\n",
       "      <td>6.893833</td>\n",
       "    </tr>\n",
       "    <tr>\n",
       "      <th>2</th>\n",
       "      <td>6.097696</td>\n",
       "      <td>12.090810</td>\n",
       "    </tr>\n",
       "    <tr>\n",
       "      <th>3</th>\n",
       "      <td>0.886192</td>\n",
       "      <td>22.610550</td>\n",
       "    </tr>\n",
       "    <tr>\n",
       "      <th>4</th>\n",
       "      <td>2.729129</td>\n",
       "      <td>3.915089</td>\n",
       "    </tr>\n",
       "    <tr>\n",
       "      <th>5</th>\n",
       "      <td>7.707901</td>\n",
       "      <td>8.507390</td>\n",
       "    </tr>\n",
       "    <tr>\n",
       "      <th>6</th>\n",
       "      <td>6.872563</td>\n",
       "      <td>6.874464</td>\n",
       "    </tr>\n",
       "    <tr>\n",
       "      <th>7</th>\n",
       "      <td>4.258134</td>\n",
       "      <td>4.510370</td>\n",
       "    </tr>\n",
       "    <tr>\n",
       "      <th>8</th>\n",
       "      <td>7.454372</td>\n",
       "      <td>11.386749</td>\n",
       "    </tr>\n",
       "    <tr>\n",
       "      <th>9</th>\n",
       "      <td>1.670273</td>\n",
       "      <td>4.099037</td>\n",
       "    </tr>\n",
       "  </tbody>\n",
       "</table>\n",
       "</div>"
      ],
      "text/plain": [
       "      start        end\n",
       "0  3.553658   5.765407\n",
       "1  6.707148   6.893833\n",
       "2  6.097696  12.090810\n",
       "3  0.886192  22.610550\n",
       "4  2.729129   3.915089\n",
       "5  7.707901   8.507390\n",
       "6  6.872563   6.874464\n",
       "7  4.258134   4.510370\n",
       "8  7.454372  11.386749\n",
       "9  1.670273   4.099037"
      ]
     },
     "execution_count": 11,
     "metadata": {},
     "output_type": "execute_result"
    }
   ],
   "source": [
    "import pandas as pd\n",
    "\n",
    "d = dict(start=start, end=start+duration)\n",
    "obs = pd.DataFrame(d)\n",
    "obs"
   ]
  },
  {
   "cell_type": "markdown",
   "id": "7d56a5be-279e-467a-9375-f617c65d678f",
   "metadata": {},
   "source": [
    "Note - some of this data extends beyond the 8-week observation window! If we were doing this for real, we would not be able to see them. When data is hidden from us in this way, we call it 'censored'."
   ]
  },
  {
   "cell_type": "code",
   "execution_count": 12,
   "id": "f7812829-ecc4-4bc3-a8ca-6c4ff4679106",
   "metadata": {},
   "outputs": [
    {
     "data": {
      "text/plain": [
       "0    False\n",
       "1    False\n",
       "2     True\n",
       "3     True\n",
       "4    False\n",
       "5     True\n",
       "6    False\n",
       "7    False\n",
       "8     True\n",
       "9    False\n",
       "Name: end, dtype: bool"
      ]
     },
     "execution_count": 12,
     "metadata": {},
     "output_type": "execute_result"
    }
   ],
   "source": [
    "censored = obs['end'] > 8\n",
    "censored"
   ]
  },
  {
   "cell_type": "code",
   "execution_count": 13,
   "id": "37fbd5f3-0bdd-4c01-a97f-0274dc0c42e6",
   "metadata": {},
   "outputs": [
    {
     "data": {
      "text/html": [
       "<div>\n",
       "<style scoped>\n",
       "    .dataframe tbody tr th:only-of-type {\n",
       "        vertical-align: middle;\n",
       "    }\n",
       "\n",
       "    .dataframe tbody tr th {\n",
       "        vertical-align: top;\n",
       "    }\n",
       "\n",
       "    .dataframe thead th {\n",
       "        text-align: right;\n",
       "    }\n",
       "</style>\n",
       "<table border=\"1\" class=\"dataframe\">\n",
       "  <thead>\n",
       "    <tr style=\"text-align: right;\">\n",
       "      <th></th>\n",
       "      <th>start</th>\n",
       "      <th>end</th>\n",
       "      <th>status</th>\n",
       "      <th>T</th>\n",
       "    </tr>\n",
       "  </thead>\n",
       "  <tbody>\n",
       "    <tr>\n",
       "      <th>0</th>\n",
       "      <td>3.553658</td>\n",
       "      <td>5.765407</td>\n",
       "      <td>NaN</td>\n",
       "      <td>2.211749</td>\n",
       "    </tr>\n",
       "    <tr>\n",
       "      <th>1</th>\n",
       "      <td>6.707148</td>\n",
       "      <td>6.893833</td>\n",
       "      <td>NaN</td>\n",
       "      <td>0.186685</td>\n",
       "    </tr>\n",
       "    <tr>\n",
       "      <th>2</th>\n",
       "      <td>6.097696</td>\n",
       "      <td>8.000000</td>\n",
       "      <td>0.0</td>\n",
       "      <td>1.902304</td>\n",
       "    </tr>\n",
       "    <tr>\n",
       "      <th>3</th>\n",
       "      <td>0.886192</td>\n",
       "      <td>8.000000</td>\n",
       "      <td>0.0</td>\n",
       "      <td>7.113808</td>\n",
       "    </tr>\n",
       "    <tr>\n",
       "      <th>4</th>\n",
       "      <td>2.729129</td>\n",
       "      <td>3.915089</td>\n",
       "      <td>NaN</td>\n",
       "      <td>1.185960</td>\n",
       "    </tr>\n",
       "    <tr>\n",
       "      <th>5</th>\n",
       "      <td>7.707901</td>\n",
       "      <td>8.000000</td>\n",
       "      <td>0.0</td>\n",
       "      <td>0.292099</td>\n",
       "    </tr>\n",
       "    <tr>\n",
       "      <th>6</th>\n",
       "      <td>6.872563</td>\n",
       "      <td>6.874464</td>\n",
       "      <td>NaN</td>\n",
       "      <td>0.001901</td>\n",
       "    </tr>\n",
       "    <tr>\n",
       "      <th>7</th>\n",
       "      <td>4.258134</td>\n",
       "      <td>4.510370</td>\n",
       "      <td>NaN</td>\n",
       "      <td>0.252236</td>\n",
       "    </tr>\n",
       "    <tr>\n",
       "      <th>8</th>\n",
       "      <td>7.454372</td>\n",
       "      <td>8.000000</td>\n",
       "      <td>0.0</td>\n",
       "      <td>0.545628</td>\n",
       "    </tr>\n",
       "    <tr>\n",
       "      <th>9</th>\n",
       "      <td>1.670273</td>\n",
       "      <td>4.099037</td>\n",
       "      <td>NaN</td>\n",
       "      <td>2.428764</td>\n",
       "    </tr>\n",
       "  </tbody>\n",
       "</table>\n",
       "</div>"
      ],
      "text/plain": [
       "      start       end  status         T\n",
       "0  3.553658  5.765407     NaN  2.211749\n",
       "1  6.707148  6.893833     NaN  0.186685\n",
       "2  6.097696  8.000000     0.0  1.902304\n",
       "3  0.886192  8.000000     0.0  7.113808\n",
       "4  2.729129  3.915089     NaN  1.185960\n",
       "5  7.707901  8.000000     0.0  0.292099\n",
       "6  6.872563  6.874464     NaN  0.001901\n",
       "7  4.258134  4.510370     NaN  0.252236\n",
       "8  7.454372  8.000000     0.0  0.545628\n",
       "9  1.670273  4.099037     NaN  2.428764"
      ]
     },
     "execution_count": 13,
     "metadata": {},
     "output_type": "execute_result"
    }
   ],
   "source": [
    "# For the censored ones, let's truncate the end (because we haven't seen the end yet),\n",
    "# and include a status to indicate that the observation is incomplete\n",
    "obs.loc[censored,'end'] = 8 # because we haven't seen the end yet\n",
    "obs.loc[censored, 'status'] = 0\n",
    "obs['T'] = obs['end'] - obs['start'] # this is the observed duration\n",
    "obs"
   ]
  },
  {
   "cell_type": "code",
   "execution_count": 14,
   "id": "caebbe54-aa0c-41a0-ac97-80b1f357afb0",
   "metadata": {},
   "outputs": [],
   "source": [
    "# split into two data sets: one for where the arrival and departure times and known, and\n",
    "# one for incomplete observation\n",
    "data1 = obs.loc[~censored, 'T'] # known\n",
    "data2 = obs.loc[censored, 'T'] # unknown\n",
    "\n",
    "posterior1 = update_weibull(prior, data1)"
   ]
  },
  {
   "cell_type": "markdown",
   "id": "3b03f6e9-2a04-46c6-9f84-d3f3ce6fd9b1",
   "metadata": {},
   "source": [
    "For the incomplete data, we need to think a bit harder - at the end of the observation period we don't know what the residence time will be, but we know that what we have observed is a lower bound. That means that we can compute the likelihood of the data using the survival function, which is the probability that a value from a distribution exceeds 'T'.\n",
    "\n",
    "The following function is identical to `update_weibull`, except that it uses `sf` (the survival function) to compute the likelihood."
   ]
  },
  {
   "cell_type": "code",
   "execution_count": 15,
   "id": "71391d62-23a6-488d-936e-94b83742a6d6",
   "metadata": {},
   "outputs": [],
   "source": [
    "def update_weibull_incomplete(prior, data):\n",
    "    \"\"\" Update using incomplete data \"\"\"\n",
    "    lam_mesh, k_mesh, data_mesh = np.meshgrid(prior.columns, prior.index, data)\n",
    "    \n",
    "    # note that we use the survival function here\n",
    "    densities = weibull_dist(lam_mesh, k_mesh).sf(data_mesh)\n",
    "    likelihood = densities.prod(axis=2)\n",
    "    \n",
    "    posterior = prior * likelihood\n",
    "    normalize(posterior)\n",
    "    \n",
    "    return posterior"
   ]
  },
  {
   "cell_type": "code",
   "execution_count": 16,
   "id": "41621b65-3be9-4cf3-b742-e9d2cc63d1b9",
   "metadata": {},
   "outputs": [
    {
     "data": {
      "image/png": "[encoded data removed]",
      "text/plain": [
       "<Figure size 432x288 with 1 Axes>"
      ]
     },
     "metadata": {
      "needs_background": "light"
     },
     "output_type": "display_data"
    }
   ],
   "source": [
    "posterior2 = update_weibull_incomplete(posterior1, data2)\n",
    "plot_contour(posterior2)"
   ]
  },
  {
   "cell_type": "markdown",
   "id": "62c2e1c8-ee65-4c9a-a942-2154bdf9f1a7",
   "metadata": {},
   "source": [
    "So we can see that the distribution we get with incomplete data is mush wider that when we have all of it (possibly not shocking)."
   ]
  },
  {
   "cell_type": "markdown",
   "id": "045e52c3-de48-4fba-9d8b-e046e0555e9c",
   "metadata": {},
   "source": [
    "## Light Bulbs\n",
    "\n",
    "In 2007, researchers ran an experiment to characterize the distribution of lifetimes for light bulbs. The data is in the lamps.csv file."
   ]
  },
  {
   "cell_type": "code",
   "execution_count": 17,
   "id": "16519781-6953-402c-987d-c16f305566bb",
   "metadata": {},
   "outputs": [
    {
     "data": {
      "text/html": [
       "<div>\n",
       "<style scoped>\n",
       "    .dataframe tbody tr th:only-of-type {\n",
       "        vertical-align: middle;\n",
       "    }\n",
       "\n",
       "    .dataframe tbody tr th {\n",
       "        vertical-align: top;\n",
       "    }\n",
       "\n",
       "    .dataframe thead th {\n",
       "        text-align: right;\n",
       "    }\n",
       "</style>\n",
       "<table border=\"1\" class=\"dataframe\">\n",
       "  <thead>\n",
       "    <tr style=\"text-align: right;\">\n",
       "      <th></th>\n",
       "      <th>h</th>\n",
       "      <th>f</th>\n",
       "      <th>K</th>\n",
       "    </tr>\n",
       "    <tr>\n",
       "      <th>i</th>\n",
       "      <th></th>\n",
       "      <th></th>\n",
       "      <th></th>\n",
       "    </tr>\n",
       "  </thead>\n",
       "  <tbody>\n",
       "    <tr>\n",
       "      <th>0</th>\n",
       "      <td>0</td>\n",
       "      <td>0</td>\n",
       "      <td>50</td>\n",
       "    </tr>\n",
       "    <tr>\n",
       "      <th>1</th>\n",
       "      <td>840</td>\n",
       "      <td>2</td>\n",
       "      <td>48</td>\n",
       "    </tr>\n",
       "    <tr>\n",
       "      <th>2</th>\n",
       "      <td>852</td>\n",
       "      <td>1</td>\n",
       "      <td>47</td>\n",
       "    </tr>\n",
       "    <tr>\n",
       "      <th>3</th>\n",
       "      <td>936</td>\n",
       "      <td>1</td>\n",
       "      <td>46</td>\n",
       "    </tr>\n",
       "    <tr>\n",
       "      <th>4</th>\n",
       "      <td>960</td>\n",
       "      <td>1</td>\n",
       "      <td>45</td>\n",
       "    </tr>\n",
       "  </tbody>\n",
       "</table>\n",
       "</div>"
      ],
      "text/plain": [
       "     h  f   K\n",
       "i            \n",
       "0    0  0  50\n",
       "1  840  2  48\n",
       "2  852  1  47\n",
       "3  936  1  46\n",
       "4  960  1  45"
      ]
     },
     "execution_count": 17,
     "metadata": {},
     "output_type": "execute_result"
    }
   ],
   "source": [
    "import pandas as pd\n",
    "\n",
    "df = pd.read_csv(\"data/lamps.csv\", index_col=0)\n",
    "df.head()"
   ]
  },
  {
   "cell_type": "markdown",
   "id": "4a744f4e-257e-4224-869c-26bc6e9ae092",
   "metadata": {},
   "source": [
    "- `h` is the number of hourse until failure\n",
    "- `f` is the number of bulbs that died at that number of hours\n",
    "- `K` is ????\n",
    "\n",
    "We can represent this using a pmf:"
   ]
  },
  {
   "cell_type": "code",
   "execution_count": 18,
   "id": "e5dc3841-f403-4fae-9cf3-c704a4c0dbbb",
   "metadata": {},
   "outputs": [
    {
     "data": {
      "text/plain": [
       "50"
      ]
     },
     "execution_count": 18,
     "metadata": {},
     "output_type": "execute_result"
    }
   ],
   "source": [
    "from empiricaldist import Pmf\n",
    "\n",
    "pmf_bulb = Pmf(df['f'].to_numpy(), df['h'])\n",
    "pmf_bulb.normalize()"
   ]
  },
  {
   "cell_type": "code",
   "execution_count": 19,
   "id": "5c739b81-a94b-4902-8f59-c5c35f496532",
   "metadata": {},
   "outputs": [],
   "source": [
    "# now let's try to model the data\n",
    "lams = np.linspace(1000, 2000, num=51)\n",
    "prior_lam = make_uniform(lams)\n",
    "\n",
    "ks = np.linspace(1, 10, num=51)\n",
    "prior_k = make_uniform(ks)\n",
    "\n",
    "prior_bulb = make_joint(prior_lam, prior_k)"
   ]
  },
  {
   "cell_type": "markdown",
   "id": "69f439ff-1326-44b1-9f9d-6355a9c749da",
   "metadata": {},
   "source": [
    "There are only 32 unique lifetimes - we want that to be 50 lifetimes, with some repeated"
   ]
  },
  {
   "cell_type": "code",
   "execution_count": 20,
   "id": "4dda2118-82a3-4e9d-b083-7500de429e8a",
   "metadata": {},
   "outputs": [
    {
     "data": {
      "text/plain": [
       "50"
      ]
     },
     "execution_count": 20,
     "metadata": {},
     "output_type": "execute_result"
    }
   ],
   "source": [
    "data_bulb = np.repeat(df['h'], df['f'])\n",
    "len(data_bulb)"
   ]
  },
  {
   "cell_type": "code",
   "execution_count": 21,
   "id": "9a05f11f-24a8-45cf-8259-d9baf75a3fc2",
   "metadata": {},
   "outputs": [
    {
     "data": {
      "image/png": "[encoded data removed]",
      "text/plain": [
       "<Figure size 432x288 with 1 Axes>"
      ]
     },
     "metadata": {
      "needs_background": "light"
     },
     "output_type": "display_data"
    }
   ],
   "source": [
    "# the update\n",
    "\n",
    "posterior_bulb = update_weibull(prior_bulb, data_bulb)\n",
    "plot_contour(posterior_bulb)\n"
   ]
  },
  {
   "cell_type": "markdown",
   "id": "d5d95a1d-bdd1-44a4-884c-f2bb45a58522",
   "metadata": {},
   "source": [
    "## Posterior Means\n",
    "\n",
    "Let's compute the posterior mean of a joint distribution by making a mesh:"
   ]
  },
  {
   "cell_type": "code",
   "execution_count": 22,
   "id": "f745b593-49fc-4730-be03-5d6726e91205",
   "metadata": {},
   "outputs": [
    {
     "data": {
      "text/plain": [
       "(51, 51)"
      ]
     },
     "execution_count": 22,
     "metadata": {},
     "output_type": "execute_result"
    }
   ],
   "source": [
    "lam_mesh, k_mesh = np.meshgrid(prior_bulb.columns, prior_bulb.index)\n",
    "\n",
    "# now, for each pair of parameters, use the weibull distribution to compute the mean\n",
    "means = weibull_dist(lam_mesh, k_mesh).mean()\n",
    "means.shape"
   ]
  },
  {
   "cell_type": "code",
   "execution_count": 23,
   "id": "f2016989-f969-4167-bc98-d02d2143cfb1",
   "metadata": {},
   "outputs": [
    {
     "data": {
      "text/plain": [
       "1412.7242774305005"
      ]
     },
     "execution_count": 23,
     "metadata": {},
     "output_type": "execute_result"
    }
   ],
   "source": [
    "# now we weight the means by the likelihood of those parameters being there:\n",
    "prod = means * posterior_bulb\n",
    "prod.to_numpy().sum()"
   ]
  },
  {
   "cell_type": "markdown",
   "id": "4b277100-0694-42b2-9de8-31c92e588c14",
   "metadata": {},
   "source": [
    "So we believe that the lightbulbs last a mean of about 1400 hours."
   ]
  },
  {
   "cell_type": "code",
   "execution_count": 24,
   "id": "d855748e-1c64-4731-9a7c-5cbac11b9ce6",
   "metadata": {},
   "outputs": [],
   "source": [
    "# as usual, let's encapsulate these steps:\n",
    "def joint_weibull_mean(joint):\n",
    "    \"\"\" Compute the mean of a joint distribution of Weibulls \"\"\"\n",
    "    lam_mesh, k_mesh = np.meshgrid(joint.columns, joint.index)\n",
    "    means = weibull_dist(lam_mesh, k_mesh).mean()\n",
    "    weighted = means * joint\n",
    "    return weighted.to_numpy().sum()"
   ]
  },
  {
   "cell_type": "markdown",
   "id": "dd9f7895-43f3-40c4-84b6-d1a635c96f47",
   "metadata": {},
   "source": [
    "### Posterior Predictive Distribution\n",
    "\n",
    "Say you install 100 lightbulbs of the kind used in the previous section, and you come back to check on them after 1000 hours. Based on the posterior distribution we just found, what is the distribution for the number of dead lightbulbs?\n",
    "\n",
    "If we knew the parameters absolutely, we could just compute this directly. Say you knew $\\lambda = 1550$ and $k=4.25$, then"
   ]
  },
  {
   "cell_type": "code",
   "execution_count": 25,
   "id": "56ec9c07-ca77-44ea-8f2b-056e23d99d5f",
   "metadata": {},
   "outputs": [
    {
     "data": {
      "text/plain": [
       "0.14381685899960547"
      ]
     },
     "execution_count": 25,
     "metadata": {},
     "output_type": "execute_result"
    }
   ],
   "source": [
    "lam = 1550\n",
    "k = 4.25\n",
    "t = 1000\n",
    "\n",
    "prob_dead = weibull_dist(lam, k).cdf(t)\n",
    "prob_dead"
   ]
  },
  {
   "cell_type": "code",
   "execution_count": 26,
   "id": "983ead8f-39e6-431c-bcac-1249f5fe91a2",
   "metadata": {},
   "outputs": [
    {
     "data": {
      "text/plain": [
       "<AxesSubplot:>"
      ]
     },
     "execution_count": 26,
     "metadata": {},
     "output_type": "execute_result"
    },
    {
     "data": {
      "image/png": "[encoded data removed]",
      "text/plain": [
       "<Figure size 432x288 with 1 Axes>"
      ]
     },
     "metadata": {
      "needs_background": "light"
     },
     "output_type": "display_data"
    }
   ],
   "source": [
    "# So the probability that any bulb is dead after 1550 hours is about 0.14. Then the\n",
    "# number of actual dead bulbs will follow a binomial distribution\n",
    "from utils import make_binomial\n",
    "\n",
    "n = 100\n",
    "p = prob_dead\n",
    "dist_num_dead = make_binomial(n, p)\n",
    "dist_num_dead.plot()"
   ]
  },
  {
   "cell_type": "markdown",
   "id": "da6c6bb8-9da8-4730-a06c-00c93cbd387e",
   "metadata": {},
   "source": [
    "However, we don't actually know. Thus, we need to make a mixture of binomials, based on the likelihoods that we find. We can use `make_mixture` to do this. However, `make_mixture` doesn't work on joint distributions - we'll have to convert to a Series:"
   ]
  },
  {
   "cell_type": "code",
   "execution_count": 27,
   "id": "1b8efb04-4f8d-46a0-ba4a-7b641c51da20",
   "metadata": {},
   "outputs": [
    {
     "data": {
      "text/plain": [
       "1.0  1000.0    8.146763e-25\n",
       "     1020.0    1.210486e-24\n",
       "     1040.0    1.738327e-24\n",
       "     1060.0    2.418201e-24\n",
       "     1080.0    3.265549e-24\n",
       "dtype: float64"
      ]
     },
     "execution_count": 27,
     "metadata": {},
     "output_type": "execute_result"
    }
   ],
   "source": [
    "posterior_series = posterior_bulb.stack()\n",
    "posterior_series.head()"
   ]
  },
  {
   "cell_type": "markdown",
   "id": "e0e10116-fc11-4826-bff0-d7005db7a785",
   "metadata": {},
   "source": [
    "The result is a `Series` with a `MultiIndex` that contains two levels - the first level contains the values of `k`; the second contains the values of `lam`."
   ]
  },
  {
   "cell_type": "code",
   "execution_count": 28,
   "id": "7fb581bd-69a9-4c10-8c7e-caa7e05e91ab",
   "metadata": {},
   "outputs": [],
   "source": [
    "# Now we can iterate through the possible parameters and compute the predictive\n",
    "# distribution for each pair:\n",
    "pmf_seq = []\n",
    "for k, lam in posterior_series.index:\n",
    "    prob_dead = weibull_dist(lam, k).cdf(t)\n",
    "    pmf = make_binomial(n, prob_dead)\n",
    "    pmf_seq.append(pmf)\n",
    "    \n"
   ]
  },
  {
   "cell_type": "code",
   "execution_count": 29,
   "id": "0f79da99-b5cc-4780-b342-aa27402fd15b",
   "metadata": {},
   "outputs": [
    {
     "data": {
      "text/plain": [
       "<AxesSubplot:>"
      ]
     },
     "execution_count": 29,
     "metadata": {},
     "output_type": "execute_result"
    },
    {
     "data": {
      "image/png": "[encoded data removed]",
      "text/plain": [
       "<Figure size 432x288 with 1 Axes>"
      ]
     },
     "metadata": {
      "needs_background": "light"
     },
     "output_type": "display_data"
    }
   ],
   "source": [
    "from utils import make_mixture\n",
    "\n",
    "post_pred = make_mixture(posterior_series, pmf_seq)\n",
    "post_pred.plot()\n",
    "dist_num_dead.plot()"
   ]
  },
  {
   "cell_type": "markdown",
   "id": "0215d3a5-39f9-4d1a-ae24-2c334341f3e2",
   "metadata": {},
   "source": [
    "(The more spread-out one is the posterior predictive that we just calculated - it contains not only the basic uncertainty about the number of dead bulbs, but also the uncertainty about the parameters themselves.)"
   ]
  },
  {
   "cell_type": "markdown",
   "id": "cbf189ef-471b-4df3-84d9-0ade97d5a269",
   "metadata": {},
   "source": [
    "## Exercises"
   ]
  },
  {
   "cell_type": "markdown",
   "id": "ccb4dad4-5674-429d-b7cc-8b0c0ca888bf",
   "metadata": {},
   "source": [
    "### Exercise 14-1\n",
    "\n",
    "> Using data from the lifetime of light bulbs, we computed the posterior distribution from the parameters of a weibull distribution, and the posterior predictive distribution for the number of dead bulbs, out of 1000, after 1000 hours.\n",
    "> \n",
    "> Now suppose that you do the experiment: you install 100 light bulbs, come back after 1000 hours, and find 20 dead lightbulbs. Update the posterior distribution based on this data. How much does it change the posterior mean?"
   ]
  },
  {
   "cell_type": "markdown",
   "id": "d5d3768d-72dd-4ade-802c-edfbb35fa484",
   "metadata": {},
   "source": [
    "### Solution 14-1"
   ]
  },
  {
   "cell_type": "code",
   "execution_count": 30,
   "id": "133c0de4-685e-4c58-967e-1a4e86c7834e",
   "metadata": {},
   "outputs": [
    {
     "data": {
      "text/html": [
       "<div>\n",
       "<style scoped>\n",
       "    .dataframe tbody tr th:only-of-type {\n",
       "        vertical-align: middle;\n",
       "    }\n",
       "\n",
       "    .dataframe tbody tr th {\n",
       "        vertical-align: top;\n",
       "    }\n",
       "\n",
       "    .dataframe thead th {\n",
       "        text-align: right;\n",
       "    }\n",
       "</style>\n",
       "<table border=\"1\" class=\"dataframe\">\n",
       "  <thead>\n",
       "    <tr style=\"text-align: right;\">\n",
       "      <th></th>\n",
       "      <th>1000.0</th>\n",
       "      <th>1020.0</th>\n",
       "      <th>1040.0</th>\n",
       "      <th>1060.0</th>\n",
       "      <th>1080.0</th>\n",
       "      <th>1100.0</th>\n",
       "      <th>1120.0</th>\n",
       "      <th>1140.0</th>\n",
       "      <th>1160.0</th>\n",
       "      <th>1180.0</th>\n",
       "      <th>...</th>\n",
       "      <th>1820.0</th>\n",
       "      <th>1840.0</th>\n",
       "      <th>1860.0</th>\n",
       "      <th>1880.0</th>\n",
       "      <th>1900.0</th>\n",
       "      <th>1920.0</th>\n",
       "      <th>1940.0</th>\n",
       "      <th>1960.0</th>\n",
       "      <th>1980.0</th>\n",
       "      <th>2000.0</th>\n",
       "    </tr>\n",
       "  </thead>\n",
       "  <tbody>\n",
       "    <tr>\n",
       "      <th>1.00</th>\n",
       "      <td>8.146763e-25</td>\n",
       "      <td>1.210486e-24</td>\n",
       "      <td>1.738327e-24</td>\n",
       "      <td>2.418201e-24</td>\n",
       "      <td>3.265549e-24</td>\n",
       "      <td>4.289079e-24</td>\n",
       "      <td>5.488989e-24</td>\n",
       "      <td>6.855807e-24</td>\n",
       "      <td>8.370017e-24</td>\n",
       "      <td>1.000254e-23</td>\n",
       "      <td>...</td>\n",
       "      <td>5.492877e-24</td>\n",
       "      <td>4.851033e-24</td>\n",
       "      <td>4.270622e-24</td>\n",
       "      <td>3.748362e-24</td>\n",
       "      <td>3.280597e-24</td>\n",
       "      <td>2.863447e-24</td>\n",
       "      <td>2.492937e-24</td>\n",
       "      <td>2.165096e-24</td>\n",
       "      <td>1.876040e-24</td>\n",
       "      <td>1.622027e-24</td>\n",
       "    </tr>\n",
       "    <tr>\n",
       "      <th>1.18</th>\n",
       "      <td>3.676592e-22</td>\n",
       "      <td>6.567442e-22</td>\n",
       "      <td>1.115376e-21</td>\n",
       "      <td>1.807375e-21</td>\n",
       "      <td>2.803364e-21</td>\n",
       "      <td>4.174488e-21</td>\n",
       "      <td>5.984182e-21</td>\n",
       "      <td>8.278975e-21</td>\n",
       "      <td>1.107965e-20</td>\n",
       "      <td>1.437423e-20</td>\n",
       "      <td>...</td>\n",
       "      <td>7.593287e-21</td>\n",
       "      <td>6.430016e-21</td>\n",
       "      <td>5.421943e-21</td>\n",
       "      <td>4.553637e-21</td>\n",
       "      <td>3.809928e-21</td>\n",
       "      <td>3.176288e-21</td>\n",
       "      <td>2.639081e-21</td>\n",
       "      <td>2.185728e-21</td>\n",
       "      <td>1.804790e-21</td>\n",
       "      <td>1.485995e-21</td>\n",
       "    </tr>\n",
       "    <tr>\n",
       "      <th>1.36</th>\n",
       "      <td>3.088147e-20</td>\n",
       "      <td>6.953387e-20</td>\n",
       "      <td>1.457673e-19</td>\n",
       "      <td>2.859791e-19</td>\n",
       "      <td>5.275623e-19</td>\n",
       "      <td>9.190949e-19</td>\n",
       "      <td>1.518173e-18</td>\n",
       "      <td>2.386401e-18</td>\n",
       "      <td>3.581682e-18</td>\n",
       "      <td>5.148695e-18</td>\n",
       "      <td>...</td>\n",
       "      <td>2.858728e-18</td>\n",
       "      <td>2.311577e-18</td>\n",
       "      <td>1.859069e-18</td>\n",
       "      <td>1.487538e-18</td>\n",
       "      <td>1.184547e-18</td>\n",
       "      <td>9.390049e-19</td>\n",
       "      <td>7.411878e-19</td>\n",
       "      <td>5.826945e-19</td>\n",
       "      <td>4.563601e-19</td>\n",
       "      <td>3.561434e-19</td>\n",
       "    </tr>\n",
       "    <tr>\n",
       "      <th>1.54</th>\n",
       "      <td>6.122350e-19</td>\n",
       "      <td>1.834264e-18</td>\n",
       "      <td>4.983469e-18</td>\n",
       "      <td>1.236843e-17</td>\n",
       "      <td>2.823041e-17</td>\n",
       "      <td>5.962043e-17</td>\n",
       "      <td>1.171596e-16</td>\n",
       "      <td>2.153240e-16</td>\n",
       "      <td>3.718611e-16</td>\n",
       "      <td>6.060661e-16</td>\n",
       "      <td>...</td>\n",
       "      <td>3.971385e-16</td>\n",
       "      <td>3.055497e-16</td>\n",
       "      <td>2.335183e-16</td>\n",
       "      <td>1.773502e-16</td>\n",
       "      <td>1.338991e-16</td>\n",
       "      <td>1.005340e-16</td>\n",
       "      <td>7.509023e-17</td>\n",
       "      <td>5.581190e-17</td>\n",
       "      <td>4.129273e-17</td>\n",
       "      <td>3.041915e-17</td>\n",
       "    </tr>\n",
       "    <tr>\n",
       "      <th>1.72</th>\n",
       "      <td>3.271736e-18</td>\n",
       "      <td>1.387438e-17</td>\n",
       "      <td>5.164183e-17</td>\n",
       "      <td>1.704297e-16</td>\n",
       "      <td>5.033242e-16</td>\n",
       "      <td>1.341394e-15</td>\n",
       "      <td>3.250857e-15</td>\n",
       "      <td>7.214595e-15</td>\n",
       "      <td>1.475638e-14</td>\n",
       "      <td>2.798017e-14</td>\n",
       "      <td>...</td>\n",
       "      <td>2.498805e-14</td>\n",
       "      <td>1.823671e-14</td>\n",
       "      <td>1.320281e-14</td>\n",
       "      <td>9.486572e-15</td>\n",
       "      <td>6.768313e-15</td>\n",
       "      <td>4.797034e-15</td>\n",
       "      <td>3.378850e-15</td>\n",
       "      <td>2.366142e-15</td>\n",
       "      <td>1.647976e-15</td>\n",
       "      <td>1.141965e-15</td>\n",
       "    </tr>\n",
       "  </tbody>\n",
       "</table>\n",
       "<p>5 rows × 51 columns</p>\n",
       "</div>"
      ],
      "text/plain": [
       "            1000.0        1020.0        1040.0        1060.0        1080.0  \\\n",
       "1.00  8.146763e-25  1.210486e-24  1.738327e-24  2.418201e-24  3.265549e-24   \n",
       "1.18  3.676592e-22  6.567442e-22  1.115376e-21  1.807375e-21  2.803364e-21   \n",
       "1.36  3.088147e-20  6.953387e-20  1.457673e-19  2.859791e-19  5.275623e-19   \n",
       "1.54  6.122350e-19  1.834264e-18  4.983469e-18  1.236843e-17  2.823041e-17   \n",
       "1.72  3.271736e-18  1.387438e-17  5.164183e-17  1.704297e-16  5.033242e-16   \n",
       "\n",
       "            1100.0        1120.0        1140.0        1160.0        1180.0  \\\n",
       "1.00  4.289079e-24  5.488989e-24  6.855807e-24  8.370017e-24  1.000254e-23   \n",
       "1.18  4.174488e-21  5.984182e-21  8.278975e-21  1.107965e-20  1.437423e-20   \n",
       "1.36  9.190949e-19  1.518173e-18  2.386401e-18  3.581682e-18  5.148695e-18   \n",
       "1.54  5.962043e-17  1.171596e-16  2.153240e-16  3.718611e-16  6.060661e-16   \n",
       "1.72  1.341394e-15  3.250857e-15  7.214595e-15  1.475638e-14  2.798017e-14   \n",
       "\n",
       "      ...        1820.0        1840.0        1860.0        1880.0  \\\n",
       "1.00  ...  5.492877e-24  4.851033e-24  4.270622e-24  3.748362e-24   \n",
       "1.18  ...  7.593287e-21  6.430016e-21  5.421943e-21  4.553637e-21   \n",
       "1.36  ...  2.858728e-18  2.311577e-18  1.859069e-18  1.487538e-18   \n",
       "1.54  ...  3.971385e-16  3.055497e-16  2.335183e-16  1.773502e-16   \n",
       "1.72  ...  2.498805e-14  1.823671e-14  1.320281e-14  9.486572e-15   \n",
       "\n",
       "            1900.0        1920.0        1940.0        1960.0        1980.0  \\\n",
       "1.00  3.280597e-24  2.863447e-24  2.492937e-24  2.165096e-24  1.876040e-24   \n",
       "1.18  3.809928e-21  3.176288e-21  2.639081e-21  2.185728e-21  1.804790e-21   \n",
       "1.36  1.184547e-18  9.390049e-19  7.411878e-19  5.826945e-19  4.563601e-19   \n",
       "1.54  1.338991e-16  1.005340e-16  7.509023e-17  5.581190e-17  4.129273e-17   \n",
       "1.72  6.768313e-15  4.797034e-15  3.378850e-15  2.366142e-15  1.647976e-15   \n",
       "\n",
       "            2000.0  \n",
       "1.00  1.622027e-24  \n",
       "1.18  1.485995e-21  \n",
       "1.36  3.561434e-19  \n",
       "1.54  3.041915e-17  \n",
       "1.72  1.141965e-15  \n",
       "\n",
       "[5 rows x 51 columns]"
      ]
     },
     "execution_count": 30,
     "metadata": {},
     "output_type": "execute_result"
    }
   ],
   "source": [
    "posterior_bulb.head()"
   ]
  },
  {
   "cell_type": "markdown",
   "id": "d9669d1b-366a-4692-9ffc-4e1ec31e4255",
   "metadata": {},
   "source": [
    "Plan:\n",
    "\n",
    "We have two pieces of information: for 20 bulbs, lifetime < 1000. For 80 bulbs, lifetime > 1000. We can use the same idea of incomplete data, in two chunks: one for less than, one for greater than."
   ]
  },
  {
   "cell_type": "code",
   "execution_count": 31,
   "id": "42b6ae9c-90f4-4cff-bc45-6ef26cf4f4b2",
   "metadata": {},
   "outputs": [
    {
     "data": {
      "text/plain": [
       "1501.2348859689598"
      ]
     },
     "execution_count": 31,
     "metadata": {},
     "output_type": "execute_result"
    }
   ],
   "source": [
    "# first, for the ones that survived - this is encapsulated in the update_weibull_incomplete function\n",
    "data = [1000 for _ in range(80)]\n",
    "new_posterior = update_weibull_incomplete(posterior_bulb, data)\n",
    "mean = joint_weibull_mean(new_posterior)\n",
    "mean"
   ]
  },
  {
   "cell_type": "code",
   "execution_count": 32,
   "id": "7fe5cfbd-0e33-40f5-9744-6269b9744ba1",
   "metadata": {},
   "outputs": [
    {
     "data": {
      "text/plain": [
       "1378.394957281641"
      ]
     },
     "execution_count": 32,
     "metadata": {},
     "output_type": "execute_result"
    }
   ],
   "source": [
    "# now for the ones that died - forthis one we need to slighly modify the update_incomplete function to use the cdf instead of sf\n",
    "def update_weibull_survival(prior, data):\n",
    "    \"\"\" Update for the case where the data indicates that whatever we are considering died before that time \"\"\"\n",
    "    lam_mesh, k_mesh, data_mesh = np.meshgrid(prior.columns, prior.index, data)\n",
    "    probs = weibull_dist(lam_mesh, k_mesh).cdf(data_mesh)\n",
    "    likelihood = probs.prod(axis=2)\n",
    "    \n",
    "    posterior = prior * likelihood\n",
    "    normalize(posterior)\n",
    "    \n",
    "    return posterior\n",
    "\n",
    "data = [1000 for _ in range(20)]\n",
    "new_new_posterior = update_weibull_survival(new_posterior, data)\n",
    "mean = joint_weibull_mean(new_new_posterior)\n",
    "mean"
   ]
  },
  {
   "cell_type": "markdown",
   "id": "064af73b-9f54-4fc9-8b2b-c359a0772da1",
   "metadata": {},
   "source": [
    "Note: this method works, and the answer exactly matches the solution that the author uses. However, his method was different:\n",
    "1. Use the mesh grid to compute the probability of a bulb being dead after 1000 hours\n",
    "2. For each of those probabilities, compute the likelihood of finding 20 bulbs dead out of 100\n",
    "3. Use those likelihoods to compute the posterior"
   ]
  },
  {
   "cell_type": "markdown",
   "id": "fc06151b-952c-491e-83c8-cec1fbefeffe",
   "metadata": {},
   "source": [
    "### Exercise 14-2\n",
    "\n",
    "> In this exercise, we'll use one month's data to estimate the parameters of a distribution that describes daily rainfall in Seatlle. The we'll compute the posterior predictive distribution for daily rainfall and use it to estimate the probability of a rare event, like more that 1.5 inches of water in a day.\n",
    ">\n",
    "> According to hydrologists, the distribution of total rainfall (for days with rain) is well-modeled by a two-parameter gamma distribution. \n",
    ">\n",
    "> When we worked with the one-variable version, we used $\\alpha$ for this parameter. For the two-parameter version, we will use $k$ for the 'shape' parameter (which determines the shape of the distribution) and $\\theta$ for the \"scale parameter\".\n",
    ">\n",
    "> Suggestion:\n",
    "1. Construct a prior distribution for the parameters of the gamma distribution. Note that $k$ and $\\theta$ must be greater than 0.\n",
    "2. Use the observed rainfalls to update the distribution of parameters\n",
    "3. Compute the posterior predictive distriution of rainfall, and use it to estimate the probability of getting more than 1.5 inches of rainfall in a day."
   ]
  },
  {
   "cell_type": "code",
   "execution_count": 33,
   "id": "4617ebbe-8f98-4750-92d1-31948425385d",
   "metadata": {},
   "outputs": [],
   "source": [
    "import scipy.stats\n",
    "\n",
    "ks = np.linspace(0.1, 10, 101)\n",
    "thetas = np.linspace(0.1, 5, 101)\n",
    "\n",
    "prior_k = make_uniform(ks)\n",
    "prior_theta = make_uniform(thetas)\n",
    "\n",
    "def gamma_dist(k, theta):\n",
    "    return scipy.stats.gamma(k, scale=theta)"
   ]
  },
  {
   "cell_type": "markdown",
   "id": "344d21d6-74c9-47c6-9923-51a5c8709a1f",
   "metadata": {},
   "source": [
    "Now we need some data - use the NOAA data for Seattle for May 2020"
   ]
  },
  {
   "cell_type": "code",
   "execution_count": 34,
   "id": "08116a78-36a6-4c00-ae84-1422d8e23ce1",
   "metadata": {},
   "outputs": [
    {
     "data": {
      "text/html": [
       "<div>\n",
       "<style scoped>\n",
       "    .dataframe tbody tr th:only-of-type {\n",
       "        vertical-align: middle;\n",
       "    }\n",
       "\n",
       "    .dataframe tbody tr th {\n",
       "        vertical-align: top;\n",
       "    }\n",
       "\n",
       "    .dataframe thead th {\n",
       "        text-align: right;\n",
       "    }\n",
       "</style>\n",
       "<table border=\"1\" class=\"dataframe\">\n",
       "  <thead>\n",
       "    <tr style=\"text-align: right;\">\n",
       "      <th></th>\n",
       "      <th>STATION</th>\n",
       "      <th>NAME</th>\n",
       "      <th>DATE</th>\n",
       "      <th>AWND</th>\n",
       "      <th>PRCP</th>\n",
       "      <th>TMAX</th>\n",
       "      <th>TMIN</th>\n",
       "      <th>WT01</th>\n",
       "      <th>WT03</th>\n",
       "      <th>WT08</th>\n",
       "    </tr>\n",
       "  </thead>\n",
       "  <tbody>\n",
       "    <tr>\n",
       "      <th>0</th>\n",
       "      <td>USW00024233</td>\n",
       "      <td>SEATTLE TACOMA AIRPORT, WA US</td>\n",
       "      <td>2020-05-01</td>\n",
       "      <td>4.47</td>\n",
       "      <td>0.00</td>\n",
       "      <td>66</td>\n",
       "      <td>43</td>\n",
       "      <td>NaN</td>\n",
       "      <td>NaN</td>\n",
       "      <td>NaN</td>\n",
       "    </tr>\n",
       "    <tr>\n",
       "      <th>1</th>\n",
       "      <td>USW00024233</td>\n",
       "      <td>SEATTLE TACOMA AIRPORT, WA US</td>\n",
       "      <td>2020-05-02</td>\n",
       "      <td>9.40</td>\n",
       "      <td>0.24</td>\n",
       "      <td>58</td>\n",
       "      <td>47</td>\n",
       "      <td>1.0</td>\n",
       "      <td>NaN</td>\n",
       "      <td>NaN</td>\n",
       "    </tr>\n",
       "    <tr>\n",
       "      <th>2</th>\n",
       "      <td>USW00024233</td>\n",
       "      <td>SEATTLE TACOMA AIRPORT, WA US</td>\n",
       "      <td>2020-05-03</td>\n",
       "      <td>11.63</td>\n",
       "      <td>0.06</td>\n",
       "      <td>57</td>\n",
       "      <td>44</td>\n",
       "      <td>1.0</td>\n",
       "      <td>NaN</td>\n",
       "      <td>NaN</td>\n",
       "    </tr>\n",
       "    <tr>\n",
       "      <th>3</th>\n",
       "      <td>USW00024233</td>\n",
       "      <td>SEATTLE TACOMA AIRPORT, WA US</td>\n",
       "      <td>2020-05-04</td>\n",
       "      <td>4.47</td>\n",
       "      <td>0.00</td>\n",
       "      <td>65</td>\n",
       "      <td>39</td>\n",
       "      <td>NaN</td>\n",
       "      <td>NaN</td>\n",
       "      <td>NaN</td>\n",
       "    </tr>\n",
       "    <tr>\n",
       "      <th>4</th>\n",
       "      <td>USW00024233</td>\n",
       "      <td>SEATTLE TACOMA AIRPORT, WA US</td>\n",
       "      <td>2020-05-05</td>\n",
       "      <td>7.83</td>\n",
       "      <td>0.00</td>\n",
       "      <td>71</td>\n",
       "      <td>49</td>\n",
       "      <td>NaN</td>\n",
       "      <td>NaN</td>\n",
       "      <td>NaN</td>\n",
       "    </tr>\n",
       "  </tbody>\n",
       "</table>\n",
       "</div>"
      ],
      "text/plain": [
       "       STATION                           NAME        DATE   AWND  PRCP  TMAX  \\\n",
       "0  USW00024233  SEATTLE TACOMA AIRPORT, WA US  2020-05-01   4.47  0.00    66   \n",
       "1  USW00024233  SEATTLE TACOMA AIRPORT, WA US  2020-05-02   9.40  0.24    58   \n",
       "2  USW00024233  SEATTLE TACOMA AIRPORT, WA US  2020-05-03  11.63  0.06    57   \n",
       "3  USW00024233  SEATTLE TACOMA AIRPORT, WA US  2020-05-04   4.47  0.00    65   \n",
       "4  USW00024233  SEATTLE TACOMA AIRPORT, WA US  2020-05-05   7.83  0.00    71   \n",
       "\n",
       "   TMIN  WT01  WT03  WT08  \n",
       "0    43   NaN   NaN   NaN  \n",
       "1    47   1.0   NaN   NaN  \n",
       "2    44   1.0   NaN   NaN  \n",
       "3    39   NaN   NaN   NaN  \n",
       "4    49   NaN   NaN   NaN  "
      ]
     },
     "execution_count": 34,
     "metadata": {},
     "output_type": "execute_result"
    }
   ],
   "source": [
    "rainfall = pd.read_csv('data/rain.csv')\n",
    "rainfall.head()"
   ]
  },
  {
   "cell_type": "code",
   "execution_count": 35,
   "id": "0707a51e-031a-4b7e-8827-5cdce182e9bb",
   "metadata": {},
   "outputs": [
    {
     "data": {
      "text/plain": [
       "0     0.00\n",
       "1     0.24\n",
       "2     0.06\n",
       "3     0.00\n",
       "4     0.00\n",
       "5     0.11\n",
       "6     0.00\n",
       "7     0.00\n",
       "8     0.00\n",
       "9     0.00\n",
       "10    0.01\n",
       "11    0.05\n",
       "12    0.00\n",
       "13    0.11\n",
       "14    0.00\n",
       "15    0.54\n",
       "16    0.13\n",
       "17    0.00\n",
       "18    0.00\n",
       "19    0.03\n",
       "20    0.36\n",
       "21    0.05\n",
       "22    0.00\n",
       "23    0.00\n",
       "24    0.11\n",
       "25    0.00\n",
       "26    0.00\n",
       "27    0.00\n",
       "28    0.00\n",
       "29    1.14\n",
       "30    0.18\n",
       "Name: PRCP, dtype: float64"
      ]
     },
     "execution_count": 35,
     "metadata": {},
     "output_type": "execute_result"
    }
   ],
   "source": [
    "rainfall['PRCP']"
   ]
  },
  {
   "cell_type": "code",
   "execution_count": 36,
   "id": "e9950902-6982-44d8-a286-3607af6aaab4",
   "metadata": {},
   "outputs": [
    {
     "data": {
      "text/plain": [
       "(1     0.24\n",
       " 2     0.06\n",
       " 5     0.11\n",
       " 10    0.01\n",
       " 11    0.05\n",
       " 13    0.11\n",
       " 15    0.54\n",
       " 16    0.13\n",
       " 19    0.03\n",
       " 20    0.36\n",
       " 21    0.05\n",
       " 24    0.11\n",
       " 29    1.14\n",
       " 30    0.18\n",
       " Name: PRCP, dtype: float64,\n",
       " 14)"
      ]
     },
     "execution_count": 36,
     "metadata": {},
     "output_type": "execute_result"
    }
   ],
   "source": [
    "rainy = rainfall['PRCP'] > 0\n",
    "prcp = rainfall['PRCP'][rainy]\n",
    "prcp, rainy.sum()"
   ]
  },
  {
   "cell_type": "code",
   "execution_count": 37,
   "id": "de6aa92f-106e-410d-bd68-ef953160c9f9",
   "metadata": {},
   "outputs": [
    {
     "data": {
      "text/html": [
       "<div>\n",
       "<style scoped>\n",
       "    .dataframe tbody tr th:only-of-type {\n",
       "        vertical-align: middle;\n",
       "    }\n",
       "\n",
       "    .dataframe tbody tr th {\n",
       "        vertical-align: top;\n",
       "    }\n",
       "\n",
       "    .dataframe thead th {\n",
       "        text-align: right;\n",
       "    }\n",
       "</style>\n",
       "<table border=\"1\" class=\"dataframe\">\n",
       "  <thead>\n",
       "    <tr style=\"text-align: right;\">\n",
       "      <th></th>\n",
       "      <th>0.100</th>\n",
       "      <th>0.199</th>\n",
       "      <th>0.298</th>\n",
       "      <th>0.397</th>\n",
       "      <th>0.496</th>\n",
       "      <th>0.595</th>\n",
       "      <th>0.694</th>\n",
       "      <th>0.793</th>\n",
       "      <th>0.892</th>\n",
       "      <th>0.991</th>\n",
       "      <th>...</th>\n",
       "      <th>9.109</th>\n",
       "      <th>9.208</th>\n",
       "      <th>9.307</th>\n",
       "      <th>9.406</th>\n",
       "      <th>9.505</th>\n",
       "      <th>9.604</th>\n",
       "      <th>9.703</th>\n",
       "      <th>9.802</th>\n",
       "      <th>9.901</th>\n",
       "      <th>10.000</th>\n",
       "    </tr>\n",
       "  </thead>\n",
       "  <tbody>\n",
       "    <tr>\n",
       "      <th>0.100</th>\n",
       "      <td>2.519552e-19</td>\n",
       "      <td>9.653411e-17</td>\n",
       "      <td>7.119625e-15</td>\n",
       "      <td>2.076915e-13</td>\n",
       "      <td>3.316781e-12</td>\n",
       "      <td>3.454904e-11</td>\n",
       "      <td>2.608797e-10</td>\n",
       "      <td>1.529709e-09</td>\n",
       "      <td>7.303915e-09</td>\n",
       "      <td>2.938632e-08</td>\n",
       "      <td>...</td>\n",
       "      <td>3.701206e-17</td>\n",
       "      <td>1.553060e-17</td>\n",
       "      <td>6.463934e-18</td>\n",
       "      <td>2.668764e-18</td>\n",
       "      <td>1.093122e-18</td>\n",
       "      <td>4.442339e-19</td>\n",
       "      <td>1.791339e-19</td>\n",
       "      <td>7.168109e-20</td>\n",
       "      <td>2.846618e-20</td>\n",
       "      <td>1.121986e-20</td>\n",
       "    </tr>\n",
       "    <tr>\n",
       "      <th>0.149</th>\n",
       "      <td>5.295143e-13</td>\n",
       "      <td>1.265383e-10</td>\n",
       "      <td>5.820833e-09</td>\n",
       "      <td>1.059092e-07</td>\n",
       "      <td>1.054917e-06</td>\n",
       "      <td>6.853688e-06</td>\n",
       "      <td>3.227866e-05</td>\n",
       "      <td>1.180513e-04</td>\n",
       "      <td>3.515640e-04</td>\n",
       "      <td>8.822279e-04</td>\n",
       "      <td>...</td>\n",
       "      <td>1.716704e-29</td>\n",
       "      <td>4.492907e-30</td>\n",
       "      <td>1.166333e-30</td>\n",
       "      <td>3.003467e-31</td>\n",
       "      <td>7.673051e-32</td>\n",
       "      <td>1.944903e-32</td>\n",
       "      <td>4.891598e-33</td>\n",
       "      <td>1.220856e-33</td>\n",
       "      <td>3.023958e-34</td>\n",
       "      <td>7.433968e-35</td>\n",
       "    </tr>\n",
       "    <tr>\n",
       "      <th>0.198</th>\n",
       "      <td>5.500885e-11</td>\n",
       "      <td>9.965009e-09</td>\n",
       "      <td>3.474895e-07</td>\n",
       "      <td>4.792819e-06</td>\n",
       "      <td>3.618901e-05</td>\n",
       "      <td>1.782311e-04</td>\n",
       "      <td>6.363198e-04</td>\n",
       "      <td>1.764135e-03</td>\n",
       "      <td>3.982595e-03</td>\n",
       "      <td>7.576058e-03</td>\n",
       "      <td>...</td>\n",
       "      <td>2.013854e-38</td>\n",
       "      <td>3.995405e-39</td>\n",
       "      <td>7.862433e-40</td>\n",
       "      <td>1.534822e-40</td>\n",
       "      <td>2.972378e-41</td>\n",
       "      <td>5.711296e-42</td>\n",
       "      <td>1.088901e-42</td>\n",
       "      <td>2.060169e-43</td>\n",
       "      <td>3.868255e-44</td>\n",
       "      <td>7.208765e-45</td>\n",
       "    </tr>\n",
       "    <tr>\n",
       "      <th>0.247</th>\n",
       "      <td>5.010825e-10</td>\n",
       "      <td>7.455838e-08</td>\n",
       "      <td>2.135514e-06</td>\n",
       "      <td>2.419323e-05</td>\n",
       "      <td>1.500450e-04</td>\n",
       "      <td>6.069745e-04</td>\n",
       "      <td>1.779937e-03</td>\n",
       "      <td>4.053245e-03</td>\n",
       "      <td>7.515872e-03</td>\n",
       "      <td>1.174353e-02</td>\n",
       "      <td>...</td>\n",
       "      <td>3.067842e-45</td>\n",
       "      <td>4.999284e-46</td>\n",
       "      <td>8.080646e-47</td>\n",
       "      <td>1.295654e-47</td>\n",
       "      <td>2.060997e-48</td>\n",
       "      <td>3.252745e-49</td>\n",
       "      <td>5.093846e-50</td>\n",
       "      <td>7.915938e-51</td>\n",
       "      <td>1.220834e-51</td>\n",
       "      <td>1.868721e-52</td>\n",
       "    </tr>\n",
       "    <tr>\n",
       "      <th>0.296</th>\n",
       "      <td>1.761101e-09</td>\n",
       "      <td>2.249269e-07</td>\n",
       "      <td>5.529901e-06</td>\n",
       "      <td>5.377478e-05</td>\n",
       "      <td>2.862702e-04</td>\n",
       "      <td>9.940195e-04</td>\n",
       "      <td>2.502067e-03</td>\n",
       "      <td>4.890655e-03</td>\n",
       "      <td>7.784189e-03</td>\n",
       "      <td>1.044005e-02</td>\n",
       "      <td>...</td>\n",
       "      <td>9.923508e-51</td>\n",
       "      <td>1.388065e-51</td>\n",
       "      <td>1.925830e-52</td>\n",
       "      <td>2.650519e-53</td>\n",
       "      <td>3.619003e-54</td>\n",
       "      <td>4.902656e-55</td>\n",
       "      <td>6.590178e-56</td>\n",
       "      <td>8.790702e-57</td>\n",
       "      <td>1.163718e-57</td>\n",
       "      <td>1.528993e-58</td>\n",
       "    </tr>\n",
       "    <tr>\n",
       "      <th>...</th>\n",
       "      <td>...</td>\n",
       "      <td>...</td>\n",
       "      <td>...</td>\n",
       "      <td>...</td>\n",
       "      <td>...</td>\n",
       "      <td>...</td>\n",
       "      <td>...</td>\n",
       "      <td>...</td>\n",
       "      <td>...</td>\n",
       "      <td>...</td>\n",
       "      <td>...</td>\n",
       "      <td>...</td>\n",
       "      <td>...</td>\n",
       "      <td>...</td>\n",
       "      <td>...</td>\n",
       "      <td>...</td>\n",
       "      <td>...</td>\n",
       "      <td>...</td>\n",
       "      <td>...</td>\n",
       "      <td>...</td>\n",
       "      <td>...</td>\n",
       "    </tr>\n",
       "    <tr>\n",
       "      <th>4.804</th>\n",
       "      <td>1.083406e-08</td>\n",
       "      <td>1.812118e-07</td>\n",
       "      <td>5.834460e-07</td>\n",
       "      <td>7.430194e-07</td>\n",
       "      <td>5.180074e-07</td>\n",
       "      <td>2.355553e-07</td>\n",
       "      <td>7.764888e-08</td>\n",
       "      <td>1.987658e-08</td>\n",
       "      <td>4.143108e-09</td>\n",
       "      <td>7.277020e-10</td>\n",
       "      <td>...</td>\n",
       "      <td>2.787746e-130</td>\n",
       "      <td>5.106650e-132</td>\n",
       "      <td>9.278600e-134</td>\n",
       "      <td>1.672375e-135</td>\n",
       "      <td>2.990404e-137</td>\n",
       "      <td>5.305309e-139</td>\n",
       "      <td>9.339305e-141</td>\n",
       "      <td>1.631471e-142</td>\n",
       "      <td>2.828405e-144</td>\n",
       "      <td>4.866734e-146</td>\n",
       "    </tr>\n",
       "    <tr>\n",
       "      <th>4.853</th>\n",
       "      <td>1.071508e-08</td>\n",
       "      <td>1.779653e-07</td>\n",
       "      <td>5.689761e-07</td>\n",
       "      <td>7.195122e-07</td>\n",
       "      <td>4.981024e-07</td>\n",
       "      <td>2.249159e-07</td>\n",
       "      <td>7.362191e-08</td>\n",
       "      <td>1.871364e-08</td>\n",
       "      <td>3.873356e-09</td>\n",
       "      <td>6.755529e-10</td>\n",
       "      <td>...</td>\n",
       "      <td>1.453514e-130</td>\n",
       "      <td>2.643911e-132</td>\n",
       "      <td>4.770214e-134</td>\n",
       "      <td>8.537558e-136</td>\n",
       "      <td>1.515914e-137</td>\n",
       "      <td>2.670546e-139</td>\n",
       "      <td>4.668191e-141</td>\n",
       "      <td>8.097630e-143</td>\n",
       "      <td>1.394007e-144</td>\n",
       "      <td>2.381801e-146</td>\n",
       "    </tr>\n",
       "    <tr>\n",
       "      <th>4.902</th>\n",
       "      <td>1.059823e-08</td>\n",
       "      <td>1.748031e-07</td>\n",
       "      <td>5.549881e-07</td>\n",
       "      <td>6.969529e-07</td>\n",
       "      <td>4.791368e-07</td>\n",
       "      <td>2.148507e-07</td>\n",
       "      <td>6.983921e-08</td>\n",
       "      <td>1.762893e-08</td>\n",
       "      <td>3.623522e-09</td>\n",
       "      <td>6.275937e-10</td>\n",
       "      <td>...</td>\n",
       "      <td>7.628553e-131</td>\n",
       "      <td>1.377988e-132</td>\n",
       "      <td>2.468949e-134</td>\n",
       "      <td>4.388171e-136</td>\n",
       "      <td>7.737489e-138</td>\n",
       "      <td>1.353634e-139</td>\n",
       "      <td>2.349770e-141</td>\n",
       "      <td>4.047719e-143</td>\n",
       "      <td>6.919791e-145</td>\n",
       "      <td>1.174111e-146</td>\n",
       "    </tr>\n",
       "    <tr>\n",
       "      <th>4.951</th>\n",
       "      <td>1.048348e-08</td>\n",
       "      <td>1.717226e-07</td>\n",
       "      <td>5.414618e-07</td>\n",
       "      <td>6.752953e-07</td>\n",
       "      <td>4.610583e-07</td>\n",
       "      <td>2.053237e-07</td>\n",
       "      <td>6.628385e-08</td>\n",
       "      <td>1.661654e-08</td>\n",
       "      <td>3.391966e-09</td>\n",
       "      <td>5.834520e-10</td>\n",
       "      <td>...</td>\n",
       "      <td>4.029625e-131</td>\n",
       "      <td>7.228928e-133</td>\n",
       "      <td>1.286313e-134</td>\n",
       "      <td>2.270513e-136</td>\n",
       "      <td>3.976003e-138</td>\n",
       "      <td>6.908024e-140</td>\n",
       "      <td>1.190924e-141</td>\n",
       "      <td>2.037395e-143</td>\n",
       "      <td>3.459106e-145</td>\n",
       "      <td>5.828894e-147</td>\n",
       "    </tr>\n",
       "    <tr>\n",
       "      <th>5.000</th>\n",
       "      <td>1.037077e-08</td>\n",
       "      <td>1.687208e-07</td>\n",
       "      <td>5.283784e-07</td>\n",
       "      <td>6.544956e-07</td>\n",
       "      <td>4.438178e-07</td>\n",
       "      <td>1.963016e-07</td>\n",
       "      <td>6.294022e-08</td>\n",
       "      <td>1.567101e-08</td>\n",
       "      <td>3.177194e-09</td>\n",
       "      <td>5.427917e-10</td>\n",
       "      <td>...</td>\n",
       "      <td>2.142058e-131</td>\n",
       "      <td>3.816597e-133</td>\n",
       "      <td>6.745045e-135</td>\n",
       "      <td>1.182492e-136</td>\n",
       "      <td>2.056632e-138</td>\n",
       "      <td>3.548948e-140</td>\n",
       "      <td>6.076671e-142</td>\n",
       "      <td>1.032506e-143</td>\n",
       "      <td>1.741073e-145</td>\n",
       "      <td>2.913904e-147</td>\n",
       "    </tr>\n",
       "  </tbody>\n",
       "</table>\n",
       "<p>101 rows × 101 columns</p>\n",
       "</div>"
      ],
      "text/plain": [
       "             0.100         0.199         0.298         0.397         0.496   \\\n",
       "0.100  2.519552e-19  9.653411e-17  7.119625e-15  2.076915e-13  3.316781e-12   \n",
       "0.149  5.295143e-13  1.265383e-10  5.820833e-09  1.059092e-07  1.054917e-06   \n",
       "0.198  5.500885e-11  9.965009e-09  3.474895e-07  4.792819e-06  3.618901e-05   \n",
       "0.247  5.010825e-10  7.455838e-08  2.135514e-06  2.419323e-05  1.500450e-04   \n",
       "0.296  1.761101e-09  2.249269e-07  5.529901e-06  5.377478e-05  2.862702e-04   \n",
       "...             ...           ...           ...           ...           ...   \n",
       "4.804  1.083406e-08  1.812118e-07  5.834460e-07  7.430194e-07  5.180074e-07   \n",
       "4.853  1.071508e-08  1.779653e-07  5.689761e-07  7.195122e-07  4.981024e-07   \n",
       "4.902  1.059823e-08  1.748031e-07  5.549881e-07  6.969529e-07  4.791368e-07   \n",
       "4.951  1.048348e-08  1.717226e-07  5.414618e-07  6.752953e-07  4.610583e-07   \n",
       "5.000  1.037077e-08  1.687208e-07  5.283784e-07  6.544956e-07  4.438178e-07   \n",
       "\n",
       "             0.595         0.694         0.793         0.892         0.991   \\\n",
       "0.100  3.454904e-11  2.608797e-10  1.529709e-09  7.303915e-09  2.938632e-08   \n",
       "0.149  6.853688e-06  3.227866e-05  1.180513e-04  3.515640e-04  8.822279e-04   \n",
       "0.198  1.782311e-04  6.363198e-04  1.764135e-03  3.982595e-03  7.576058e-03   \n",
       "0.247  6.069745e-04  1.779937e-03  4.053245e-03  7.515872e-03  1.174353e-02   \n",
       "0.296  9.940195e-04  2.502067e-03  4.890655e-03  7.784189e-03  1.044005e-02   \n",
       "...             ...           ...           ...           ...           ...   \n",
       "4.804  2.355553e-07  7.764888e-08  1.987658e-08  4.143108e-09  7.277020e-10   \n",
       "4.853  2.249159e-07  7.362191e-08  1.871364e-08  3.873356e-09  6.755529e-10   \n",
       "4.902  2.148507e-07  6.983921e-08  1.762893e-08  3.623522e-09  6.275937e-10   \n",
       "4.951  2.053237e-07  6.628385e-08  1.661654e-08  3.391966e-09  5.834520e-10   \n",
       "5.000  1.963016e-07  6.294022e-08  1.567101e-08  3.177194e-09  5.427917e-10   \n",
       "\n",
       "       ...         9.109          9.208          9.307          9.406   \\\n",
       "0.100  ...   3.701206e-17   1.553060e-17   6.463934e-18   2.668764e-18   \n",
       "0.149  ...   1.716704e-29   4.492907e-30   1.166333e-30   3.003467e-31   \n",
       "0.198  ...   2.013854e-38   3.995405e-39   7.862433e-40   1.534822e-40   \n",
       "0.247  ...   3.067842e-45   4.999284e-46   8.080646e-47   1.295654e-47   \n",
       "0.296  ...   9.923508e-51   1.388065e-51   1.925830e-52   2.650519e-53   \n",
       "...    ...            ...            ...            ...            ...   \n",
       "4.804  ...  2.787746e-130  5.106650e-132  9.278600e-134  1.672375e-135   \n",
       "4.853  ...  1.453514e-130  2.643911e-132  4.770214e-134  8.537558e-136   \n",
       "4.902  ...  7.628553e-131  1.377988e-132  2.468949e-134  4.388171e-136   \n",
       "4.951  ...  4.029625e-131  7.228928e-133  1.286313e-134  2.270513e-136   \n",
       "5.000  ...  2.142058e-131  3.816597e-133  6.745045e-135  1.182492e-136   \n",
       "\n",
       "              9.505          9.604          9.703          9.802   \\\n",
       "0.100   1.093122e-18   4.442339e-19   1.791339e-19   7.168109e-20   \n",
       "0.149   7.673051e-32   1.944903e-32   4.891598e-33   1.220856e-33   \n",
       "0.198   2.972378e-41   5.711296e-42   1.088901e-42   2.060169e-43   \n",
       "0.247   2.060997e-48   3.252745e-49   5.093846e-50   7.915938e-51   \n",
       "0.296   3.619003e-54   4.902656e-55   6.590178e-56   8.790702e-57   \n",
       "...              ...            ...            ...            ...   \n",
       "4.804  2.990404e-137  5.305309e-139  9.339305e-141  1.631471e-142   \n",
       "4.853  1.515914e-137  2.670546e-139  4.668191e-141  8.097630e-143   \n",
       "4.902  7.737489e-138  1.353634e-139  2.349770e-141  4.047719e-143   \n",
       "4.951  3.976003e-138  6.908024e-140  1.190924e-141  2.037395e-143   \n",
       "5.000  2.056632e-138  3.548948e-140  6.076671e-142  1.032506e-143   \n",
       "\n",
       "              9.901          10.000  \n",
       "0.100   2.846618e-20   1.121986e-20  \n",
       "0.149   3.023958e-34   7.433968e-35  \n",
       "0.198   3.868255e-44   7.208765e-45  \n",
       "0.247   1.220834e-51   1.868721e-52  \n",
       "0.296   1.163718e-57   1.528993e-58  \n",
       "...              ...            ...  \n",
       "4.804  2.828405e-144  4.866734e-146  \n",
       "4.853  1.394007e-144  2.381801e-146  \n",
       "4.902  6.919791e-145  1.174111e-146  \n",
       "4.951  3.459106e-145  5.828894e-147  \n",
       "5.000  1.741073e-145  2.913904e-147  \n",
       "\n",
       "[101 rows x 101 columns]"
      ]
     },
     "execution_count": 37,
     "metadata": {},
     "output_type": "execute_result"
    },
    {
     "data": {
      "image/png": "[encoded data removed]",
      "text/plain": [
       "<Figure size 432x288 with 1 Axes>"
      ]
     },
     "metadata": {
      "needs_background": "light"
     },
     "output_type": "display_data"
    }
   ],
   "source": [
    "prior = make_joint(prior_k, prior_theta)\n",
    "def update_gamma(prior, data):\n",
    "    \"\"\" Update a gamma distribution \"\"\"\n",
    "    k_mesh, theta_mesh, data_mesh = np.meshgrid(prior.index, prior.columns, data)\n",
    "    probs = gamma_dist(k_mesh, theta_mesh).pdf(data)\n",
    "    likelihood = probs.prod(axis=2)\n",
    "    posterior = likelihood * prior\n",
    "    normalize(posterior)\n",
    "    \n",
    "    return posterior\n",
    "\n",
    "posterior = update_gamma(prior, prcp)\n",
    "plot_contour(posterior)\n",
    "posterior"
   ]
  },
  {
   "cell_type": "code",
   "execution_count": 38,
   "id": "7b1da4f9-24df-4985-ab67-db2d0ce1491d",
   "metadata": {},
   "outputs": [
    {
     "data": {
      "text/plain": [
       "<AxesSubplot:>"
      ]
     },
     "execution_count": 38,
     "metadata": {},
     "output_type": "execute_result"
    },
    {
     "data": {
      "image/png": "[encoded data removed]",
      "text/plain": [
       "<Figure size 432x288 with 1 Axes>"
      ]
     },
     "metadata": {
      "needs_background": "light"
     },
     "output_type": "display_data"
    }
   ],
   "source": [
    "from utils import marginal\n",
    "\n",
    "posterior_ks = marginal(posterior, 0)\n",
    "posterior_ks.plot()"
   ]
  },
  {
   "cell_type": "code",
   "execution_count": 39,
   "id": "9732e037-12c4-49e0-8bd7-8b7829a12c53",
   "metadata": {},
   "outputs": [
    {
     "data": {
      "text/plain": [
       "<AxesSubplot:>"
      ]
     },
     "execution_count": 39,
     "metadata": {},
     "output_type": "execute_result"
    },
    {
     "data": {
      "image/png": "[encoded data removed]",
      "text/plain": [
       "<Figure size 432x288 with 1 Axes>"
      ]
     },
     "metadata": {
      "needs_background": "light"
     },
     "output_type": "display_data"
    }
   ],
   "source": [
    "posterior_thetas = marginal(posterior, 1)\n",
    "posterior_thetas.plot()"
   ]
  },
  {
   "cell_type": "markdown",
   "id": "ea1655f2-909c-4a26-b8e8-18f1dea638bd",
   "metadata": {},
   "source": [
    "So now that we have this, what is the probability that we see an event like a day with > 1.5inches of rain?"
   ]
  },
  {
   "cell_type": "code",
   "execution_count": 40,
   "id": "11199190-b62d-4747-9c60-372736476567",
   "metadata": {},
   "outputs": [
    {
     "data": {
      "text/plain": [
       "0.1  0.100      2.519552e-19\n",
       "     0.199      9.653411e-17\n",
       "     0.298      7.119625e-15\n",
       "     0.397      2.076915e-13\n",
       "     0.496      3.316781e-12\n",
       "                   ...      \n",
       "5.0  9.604     3.548948e-140\n",
       "     9.703     6.076671e-142\n",
       "     9.802     1.032506e-143\n",
       "     9.901     1.741073e-145\n",
       "     10.000    2.913904e-147\n",
       "Length: 10201, dtype: float64"
      ]
     },
     "execution_count": 40,
     "metadata": {},
     "output_type": "execute_result"
    }
   ],
   "source": [
    "posterior_series = posterior.stack()\n",
    "posterior_series"
   ]
  },
  {
   "cell_type": "code",
   "execution_count": null,
   "id": "641d6cd3-b4f5-40a5-b771-ce015f3837f4",
   "metadata": {},
   "outputs": [],
   "source": [
    "from utils import pmf_from_dist\n",
    "low, high = 0.01, 2\n",
    "qs = np.linspace(low, high, num=101)\n",
    "\n",
    "pmf_seq = []\n",
    "for theta, k in posterior_series.index:\n",
    "    dist = gamma_dist(k, theta)\n",
    "    pmf = pmf_from_dist(dist, qs)\n",
    "    pmf_seq.append(pmf)\n",
    "    \n",
    "post_pred = make_mixture(posterior_series, pmf_seq)\n",
    "\n",
    "post_pred.make_cdf().plot()"
   ]
  },
  {
   "cell_type": "code",
   "execution_count": null,
   "id": "b931b970-4b39-4841-9b9e-e075bb268e9b",
   "metadata": {},
   "outputs": [],
   "source": []
  }
 ],
 "metadata": {
  "kernelspec": {
   "display_name": "Python 3 (ipykernel)",
   "language": "python",
   "name": "python3"
  },
  "language_info": {
   "codemirror_mode": {
    "name": "ipython",
    "version": 3
   },
   "file_extension": ".py",
   "mimetype": "text/x-python",
   "name": "python",
   "nbconvert_exporter": "python",
   "pygments_lexer": "ipython3",
   "version": "3.8.10"
  }
 },
 "nbformat": 4,
 "nbformat_minor": 5
}
