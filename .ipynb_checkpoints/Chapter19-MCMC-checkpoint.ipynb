{
 "cells": [
  {
   "cell_type": "markdown",
   "id": "706d52ed-b954-4ee4-a618-b0ecf39a6771",
   "metadata": {},
   "source": [
    "Chapter 19 - MCMC\n",
    "\n",
    "For most of the book, we've been using grid methods. These are with 1, 2, or three parameters, but rapidly get too slow to be practical.\n",
    "\n",
    "We can also solve some problems using conjugate priors, which is extremely fast. However, the number of situations where we can do this is limited.\n",
    "\n",
    "For problems with more than a few parameters, the most powerful method is MCMC: Markov chain Monte Carlo. In this context, Monte Carlo refers to a family of algorithms which generate random samples to provide the answer to some problem. MCMC mathods don't try to compute the posterior distribution; they sample from it instead.\n",
    "\n",
    "This shounds like nonsense. Let's see what it looks like with the world cup problem!\n",
    "\n",
    "## The World Cup Problem Again\n",
    "\n",
    "We modelled the goal scoring in football as a Poisson process characterized by a goal-scoring rate parameter $\\lambda$.\n",
    "\n",
    "We used a gamma distribution to represent the prior distribution of $\\lambda$, then we used the outcome of the game to compute the posterior distribution for both teams.\n",
    "\n",
    "To answer the first question, we used the posterior distribution to compute the \"probability of superiority\" for France.\n",
    "\n",
    "To answer the second question, computed the posterior predictive distributions for each team; that is, the distribution of goals we expect in a rematch.\n",
    "\n",
    "In this chapter, we'll solve the problem again using PyMC3, which is a library that provides implementations of several MCMC methods. But we'll start by reviewing the grid approximation of the prior and prior predictive distributions.\n",
    "\n",
    "## Grid Approximation"
   ]
  },
  {
   "cell_type": "code",
   "execution_count": 37,
   "id": "a7c4bf8c-3e9b-4b33-8bbd-310482291b27",
   "metadata": {},
   "outputs": [
    {
     "data": {
      "text/plain": [
       "0.05015532557804499"
      ]
     },
     "execution_count": 37,
     "metadata": {},
     "output_type": "execute_result"
    }
   ],
   "source": [
    "from scipy.stats import gamma, poisson\n",
    "import numpy as np\n",
    "from utils import pmf_from_dist\n",
    "from empiricaldist import Pmf\n",
    "import pandas as pd\n",
    "import matplotlib.pyplot as plt\n",
    "\n",
    "alpha = 1.4\n",
    "prior_dist = gamma(alpha)\n",
    "\n",
    "lams = np.linspace(0, 10, 101)\n",
    "prior_pmf = pmf_from_dist(prior_dist, lams)\n",
    "\n",
    "# We can use a Poisson distribution to compute the likelihood of the data; as an example we'll use 4 goals\n",
    "data = 4\n",
    "likelihood = poisson.pmf(data, lams)\n",
    "\n",
    "# Now we can do the update in the usual way\n",
    "posterior = prior_pmf * likelihood\n",
    "posterior.normalize()"
   ]
  },
  {
   "cell_type": "markdown",
   "id": "c56f1b26-9e75-46f7-893a-5783189ee99a",
   "metadata": {},
   "source": [
    "Now we'll solve the same problem with PyMC3, but first it will be useful to introduct something new: the prior predictive distribution.\n",
    "\n",
    "## Prior Predictive Distribution\n",
    "\n",
    "We have seen the posterior predictive distribution in previous chapters; the prior predictive distribution is similar except that it is based on the prior.\n",
    "\n",
    "To estimate the prior predictive distribution, we'll start by drawing a sample from the priors:"
   ]
  },
  {
   "cell_type": "code",
   "execution_count": 23,
   "id": "d7918558-6a67-4a79-a44f-5fb624c3eee3",
   "metadata": {},
   "outputs": [],
   "source": [
    "sample_prior = prior_dist.rvs(1000)"
   ]
  },
  {
   "cell_type": "markdown",
   "id": "ad46784b-b92e-4c8b-8967-b98d5f6d4cff",
   "metadata": {},
   "source": [
    "The result is an array of the possible goal-scoring values $\\lambda$. For each, we'll generate one value from a Poisson distribution:"
   ]
  },
  {
   "cell_type": "code",
   "execution_count": 24,
   "id": "89c0d30b-bbaa-41d4-ac3a-24d4a65b0693",
   "metadata": {},
   "outputs": [],
   "source": [
    "sample_prior_pred = poisson.rvs(sample_prior)"
   ]
  },
  {
   "cell_type": "markdown",
   "id": "0dab4ebd-a092-475b-98a6-d709608ff926",
   "metadata": {},
   "source": [
    "This is a sample from the prior predictive ddistribution. To see what it looks like, we'll compute the PMF of the sample:"
   ]
  },
  {
   "cell_type": "code",
   "execution_count": 25,
   "id": "dc4e93dc-aa7d-4d0e-82da-f82b4ced1e0d",
   "metadata": {},
   "outputs": [
    {
     "data": {
      "text/plain": [
       "<AxesSubplot:>"
      ]
     },
     "execution_count": 25,
     "metadata": {},
     "output_type": "execute_result"
    },
    {
     "data": {
      "image/png": "[encoded data removed]",
      "text/plain": [
       "<Figure size 432x288 with 1 Axes>"
      ]
     },
     "metadata": {
      "needs_background": "light"
     },
     "output_type": "display_data"
    }
   ],
   "source": [
    "from empiricaldist import Pmf\n",
    "\n",
    "pmf_prior_pred = Pmf.from_seq(sample_prior_pred)\n",
    "pmf_prior_pred.plot(kind=\"bar\")"
   ]
  },
  {
   "cell_type": "markdown",
   "id": "ac541a80-675a-4147-9069-01fa6d51aa93",
   "metadata": {},
   "source": [
    "We have two reasons for doing this. First of all, we should check to see that this makes sense. Looking at it, it roughly conforms with our idea of how many goals are scored in soccer matches. Second, this is the first step toward using MCMC!\n",
    "\n",
    "## Introducing PyMC3\n",
    "\n",
    "PyMC3 is a library that provides several MCMC methods. To use PyMC3, we need to specify a model of the process that generate the data. In this example, the model has two steps:\n",
    "1. First we draw a goal-scoring rate from the prior distribution\n",
    "2. The we draw a number of goals from a Poisson distribution\n",
    "\n",
    "Here's how we specify this model in PyMC3:"
   ]
  },
  {
   "cell_type": "code",
   "execution_count": 26,
   "id": "c37ac560-181a-4468-befa-8192cae9bb11",
   "metadata": {},
   "outputs": [],
   "source": [
    "import pymc3 as pm\n",
    "\n",
    "with pm.Model() as model:\n",
    "    lam = pm.Gamma('lam', alpha=1.4, beta=1.0)\n",
    "    goals = pm.Poisson('goals', lam)"
   ]
  },
  {
   "cell_type": "markdown",
   "id": "e41c9149-34b7-4459-b6f8-e35d3f76982a",
   "metadata": {},
   "source": [
    "The first line creates the prior, which is a gamma distribution with the given parameters\n",
    "\n",
    "The second line creates the prior predictive, which is a Poisson distribution with the parameter `lam`\n",
    "\n",
    "(The first parameter for `Gamma` and `Poisson` is a string variable name\n",
    "\n",
    "## Sampling the Prior\n",
    "\n",
    "PyMC3 provides a function that generates samples from the prior and prior predictive distributions. We can use a `with` statement to rin this function in the context of the model"
   ]
  },
  {
   "cell_type": "code",
   "execution_count": 27,
   "id": "30ec1182-f89e-434d-8f76-2dece3093e23",
   "metadata": {},
   "outputs": [],
   "source": [
    "with model:\n",
    "    trace = pm.sample_prior_predictive(1000)"
   ]
  },
  {
   "cell_type": "markdown",
   "id": "4d5058ae-8fa0-44fe-ab45-11c6cddfb3a4",
   "metadata": {},
   "source": [
    "The result is a dictionary-like object that maps from the variables, `lam` and `goals`, to the samples. We can extract the sample of `lam` like this:"
   ]
  },
  {
   "cell_type": "code",
   "execution_count": 28,
   "id": "5028f96e-07ea-4b26-9a5d-a1ac0b34afb6",
   "metadata": {},
   "outputs": [
    {
     "data": {
      "text/plain": [
       "(1000,)"
      ]
     },
     "execution_count": 28,
     "metadata": {},
     "output_type": "execute_result"
    }
   ],
   "source": [
    "sample_prior_pymc = trace['lam']\n",
    "sample_prior_pymc.shape"
   ]
  },
  {
   "cell_type": "markdown",
   "id": "c7fe99ba-9df3-4838-9f2d-72588a377846",
   "metadata": {},
   "source": [
    "If we compare the results to what we did earlier, we see that they are very similar."
   ]
  },
  {
   "cell_type": "markdown",
   "id": "e3cee5b3-c1b3-4697-94c9-cc4710be89f4",
   "metadata": {},
   "source": [
    "We can also extract the goals:"
   ]
  },
  {
   "cell_type": "code",
   "execution_count": 30,
   "id": "53821ca1-2e8f-455a-90f8-65c9d9c0b47e",
   "metadata": {},
   "outputs": [
    {
     "data": {
      "text/plain": [
       "array([ 2,  1,  1,  2,  2,  1,  1,  0,  3,  0,  2,  0,  1,  0,  0,  1,  1,\n",
       "        1,  1,  1,  3,  0,  3,  0,  0,  0,  0,  0,  0,  1,  0,  0,  3,  3,\n",
       "        2,  2,  3,  2,  2,  1,  0,  0,  1,  1,  0,  1,  0,  1,  3,  0,  3,\n",
       "        0,  5,  0,  1,  0,  1,  1,  0,  0,  2,  1,  1,  0,  1,  0,  0,  2,\n",
       "        0,  1,  3,  0,  0,  4,  0,  1,  5,  1,  1,  0,  1,  1,  1,  4,  0,\n",
       "        0,  1,  7,  1,  1,  5,  0,  0,  2,  2,  4,  1,  3,  1,  6,  1,  4,\n",
       "        3,  0,  0,  3,  0,  2,  0,  6,  2,  3,  1,  3,  0,  1,  1,  0,  1,\n",
       "        2,  1,  2,  3,  4,  4,  5,  0,  0,  2,  2,  0,  0,  1,  0,  0,  6,\n",
       "        0,  1,  2,  1,  1,  1,  1,  4,  0,  1,  2,  1,  0,  6,  1,  2,  0,\n",
       "        0,  8,  4,  0,  2,  1,  1,  0,  1,  0,  0,  2,  0,  0,  6,  0,  0,\n",
       "        0,  2,  1,  1,  0,  1,  3,  1,  4,  0,  3,  1,  1,  0,  0,  3,  0,\n",
       "        3,  3,  1,  0,  0,  0,  1,  1,  1,  1,  0,  0,  0,  0,  0,  0,  2,\n",
       "        0,  4,  0,  3,  0,  1,  0,  0,  2,  0,  0,  1,  0,  2,  0,  1,  1,\n",
       "        2,  0,  5,  0,  2,  2,  1,  1,  2,  6,  0,  0,  0,  0,  2,  2,  1,\n",
       "        0,  0,  1,  1,  1,  2,  1,  0,  4,  0,  0,  9,  1,  1,  4,  0,  0,\n",
       "        1,  0,  4,  1,  0,  0,  1,  2,  1,  0,  2,  1,  2,  0,  0,  1,  2,\n",
       "        0,  4,  1,  0,  1,  0,  2,  0,  0,  0,  0,  0,  0, 11,  3,  3,  3,\n",
       "        0,  3,  1,  2,  2,  0,  3,  1,  2,  0,  0,  4,  2,  0,  1,  0,  0,\n",
       "        4,  0,  0,  1,  1,  0,  2,  5,  1,  0,  5,  5,  6,  2,  2,  4,  0,\n",
       "        0,  0,  0,  1,  0,  0,  1,  3,  7,  1,  0,  0,  0,  0,  3,  3,  1,\n",
       "        0,  1,  3,  0,  0,  0,  0,  0,  4,  0,  0,  1,  0,  0,  0,  0,  4,\n",
       "        2,  2,  0,  0,  0,  1,  6,  1,  1,  2,  0,  1,  2,  0,  0,  0,  0,\n",
       "        6,  4,  4,  0,  0,  4,  2,  1,  2,  5,  0,  1,  3,  3,  0,  3,  3,\n",
       "        0,  1,  0,  0,  0,  2,  0,  2,  0,  1,  0,  1,  1,  0,  1,  3,  0,\n",
       "        1,  1,  1,  0,  0,  0,  2,  1,  1,  1,  0,  0,  2,  0,  0,  0,  1,\n",
       "        2,  2,  2,  2,  1,  1,  0,  1,  1,  3,  1,  0,  0,  0,  4,  0,  2,\n",
       "        0,  1,  1,  3,  0,  0,  0,  4,  4,  5,  3,  3,  0,  0,  1,  0,  0,\n",
       "        1,  1,  1,  1,  1,  1,  4,  2,  1,  0,  0,  0,  0,  0,  2,  4,  0,\n",
       "        1,  1,  1,  0,  0,  0,  0,  3,  2,  1,  1,  1,  0,  0,  0,  2,  0,\n",
       "        3,  1,  1,  3,  7,  5,  3,  1,  1,  1,  0,  1,  3,  2,  2,  1,  1,\n",
       "        3,  4,  2,  2,  1,  0,  0,  0,  1,  6,  0,  3,  1,  0,  0,  3,  1,\n",
       "        1,  0,  2,  0,  0,  1,  1,  1,  0,  3,  3,  2,  1,  3,  1,  0,  1,\n",
       "        4,  3,  0,  0,  4,  0,  0,  0,  1,  0,  0,  4,  0,  0,  3,  0,  3,\n",
       "        0,  1,  1,  0,  3,  0,  1,  2,  0,  2,  0,  3,  0,  0,  1,  3,  1,\n",
       "        1,  1,  0,  2,  2,  0,  0,  1,  1,  1,  3,  2,  1,  2,  3,  0,  6,\n",
       "        1,  1,  1,  0,  0,  2,  2,  0,  0,  0,  2,  0,  1,  1,  1,  1,  0,\n",
       "        0,  2,  1,  0,  4,  0,  1,  2,  1,  2,  3,  2,  0,  2,  0,  0,  3,\n",
       "        0,  1,  1,  0,  3,  0,  0,  1,  0,  2,  0,  1,  0,  1,  0,  5,  6,\n",
       "        5,  1,  2,  2,  1,  5,  0,  0,  0,  0,  0,  2,  0,  0,  0,  0,  1,\n",
       "        0,  0,  1,  0,  1,  1,  0,  2,  1,  0,  0,  1,  1,  3,  0,  0,  1,\n",
       "        0,  1,  2,  3,  0,  1,  2,  0,  4,  4,  0,  3,  1,  0,  2,  1,  3,\n",
       "        0,  6,  0,  0,  3,  0,  3,  2,  2,  6,  1,  0,  4,  4,  0,  2,  3,\n",
       "        0,  0,  0,  5,  1,  1,  5,  0,  1,  4,  2,  1,  0,  0,  2,  0,  0,\n",
       "        1,  2,  0,  2,  2,  2,  0,  0,  0,  0,  1,  0,  0,  0,  1,  2,  2,\n",
       "        0,  9,  0,  0,  0,  0,  2,  1,  1,  1,  1,  5,  1,  0,  1,  3,  0,\n",
       "        1,  3,  0,  0,  2,  0,  2,  2,  2,  0,  3,  3,  3,  1,  0,  1,  1,\n",
       "        0,  0,  0,  3,  2,  0,  0,  0,  0,  0,  0,  0,  0,  0,  3,  2,  0,\n",
       "        0,  0,  1,  0,  1,  0,  3,  1,  3,  3,  3,  0,  0,  0,  2,  3,  0,\n",
       "        1,  0,  0,  1,  0,  0,  2,  1,  0,  1,  1,  2,  1,  2,  0,  0,  1,\n",
       "        1,  1,  0,  2,  2,  1,  0,  6,  0,  1,  1,  1,  0,  3,  0,  0,  1,\n",
       "        1,  1,  6,  3,  1,  0,  0,  2,  3,  2,  0,  0,  5,  0,  3,  3,  2,\n",
       "        0,  1,  1,  0,  0,  2,  2,  0,  1,  3,  1,  2,  1,  6,  1,  1,  3,\n",
       "        0,  0,  0,  1,  0,  3,  0,  1,  0,  2,  2,  0,  1,  0,  0,  1,  1,\n",
       "        0,  1,  1,  3,  0,  1,  3,  1,  3,  1,  0,  1,  0,  3,  0,  0,  2,\n",
       "        1,  1,  3,  0,  0,  1,  1,  1,  1,  1,  0,  2,  0,  0,  3,  1,  1,\n",
       "        0, 10,  7,  1,  0,  2,  0,  0,  2,  0,  4,  0,  0,  0,  1,  3,  1,\n",
       "        0,  4,  0,  1,  4,  3,  2,  1,  3,  1,  2,  5,  0,  1,  0,  0,  3,\n",
       "        5,  1,  0,  0,  1,  1,  6,  2,  0,  0,  6,  0,  4,  4,  1,  2,  4,\n",
       "        0,  0,  0,  0,  2,  5,  0,  2,  0,  2,  0,  4,  0,  3])"
      ]
     },
     "execution_count": 30,
     "metadata": {},
     "output_type": "execute_result"
    }
   ],
   "source": [
    "sample_prior_pred_pymc = trace['goals']\n",
    "sample_prior_pred_pymc"
   ]
  },
  {
   "cell_type": "code",
   "execution_count": 31,
   "id": "375ad333-9968-432d-9a91-e3cbd32952c2",
   "metadata": {},
   "outputs": [
    {
     "data": {
      "text/plain": [
       "<AxesSubplot:>"
      ]
     },
     "execution_count": 31,
     "metadata": {},
     "output_type": "execute_result"
    },
    {
     "data": {
      "image/png": "[encoded data removed]",
      "text/plain": [
       "<Figure size 432x288 with 1 Axes>"
      ]
     },
     "metadata": {
      "needs_background": "light"
     },
     "output_type": "display_data"
    }
   ],
   "source": [
    "pymc_goals_pmf = Pmf.from_seq(sample_prior_pred_pymc)\n",
    "pymc_goals_pmf.plot(kind=\"bar\")"
   ]
  },
  {
   "cell_type": "markdown",
   "id": "9ee2e35f-bc05-44f0-a597-5bfe20b18605",
   "metadata": {},
   "source": [
    "Again, the results are similar, so we are fairly confident that we are using PyMC3 correctly.\n",
    "\n",
    "## When Do We Get To Inference?\n",
    "\n",
    "Let's do some actual inference! We just have to make one small change:\n",
    "\n",
    "Here's what we used for the prior predictive distribution:\n",
    "```python\n",
    "with pm.Model() as model:\n",
    "    lam = pm.Gamma('lam', alpha=1.4, beta=1.0)\n",
    "    goals = pm.Poisson('goals', lam)\n",
    "```"
   ]
  },
  {
   "cell_type": "code",
   "execution_count": 32,
   "id": "e06fcbf0-82fb-4701-ace1-d3321b755c16",
   "metadata": {},
   "outputs": [
    {
     "name": "stderr",
     "output_type": "stream",
     "text": [
      "Auto-assigning NUTS sampler...\n",
      "Initializing NUTS using jitter+adapt_diag...\n",
      "Multiprocess sampling (4 chains in 4 jobs)\n",
      "NUTS: [lam]\n"
     ]
    },
    {
     "data": {
      "text/html": [
       "\n",
       "<style>\n",
       "    /* Turns off some styling */\n",
       "    progress {\n",
       "        /* gets rid of default border in Firefox and Opera. */\n",
       "        border: none;\n",
       "        /* Needs to be in here for Safari polyfill so background images work as expected. */\n",
       "        background-size: auto;\n",
       "    }\n",
       "    .progress-bar-interrupted, .progress-bar-interrupted::-webkit-progress-bar {\n",
       "        background: #F44336;\n",
       "    }\n",
       "</style>\n"
      ],
      "text/plain": [
       "<IPython.core.display.HTML object>"
      ]
     },
     "metadata": {},
     "output_type": "display_data"
    },
    {
     "data": {
      "text/html": [
       "\n",
       "    <div>\n",
       "      <progress value='6000' class='' max='6000' style='width:300px; height:20px; vertical-align: middle;'></progress>\n",
       "      100.00% [6000/6000 00:01<00:00 Sampling 4 chains, 0 divergences]\n",
       "    </div>\n",
       "    "
      ],
      "text/plain": [
       "<IPython.core.display.HTML object>"
      ]
     },
     "metadata": {},
     "output_type": "display_data"
    },
    {
     "name": "stderr",
     "output_type": "stream",
     "text": [
      "Sampling 4 chains for 1_000 tune and 500 draw iterations (4_000 + 2_000 draws total) took 2 seconds.\n"
     ]
    }
   ],
   "source": [
    "# Posterior predictive\n",
    "with pm.Model() as model2:\n",
    "    lam = pm.Gamma('lam', alpha=1.4, beta=1.0)\n",
    "    goals = pm.Poisson('goals', lam, observed=4)\n",
    "    \n",
    "# The difference is that we are marking goals as observed and setting the value as 4\n",
    "# now instead of calling `sample_prior_predictive`, we'll call `sample`, which is understood to sample from the posterior distribution of `lam`:\n",
    "\n",
    "options = dict(return_inferencedata=False)\n",
    "\n",
    "with model2:\n",
    "    trace2 = pm.sample(500, **options)"
   ]
  },
  {
   "cell_type": "markdown",
   "id": "f0c40047-94fd-45ed-8ee9-c840d8774940",
   "metadata": {},
   "source": [
    "The sampling process is obviously very different!\n",
    "\n",
    "1. Depending on the model, PyMC3 uses several different samplers: in this case, the No U-Turn Sampler (NUTS), which is very efficient and robust\n",
    "1. When the sampler starts, the first values are generally not a distributive sample of the posterior, and so are discarded - this is called 'tuning'\n",
    "1. Instead of using a single Markov chain, multiple are used. Then we can compare results from different chains to make sure they are consistent.\n",
    "\n",
    "Although we asked for a sample of 500, PyMC3 generated two samples of 1000 and discarded half of each, and returned the remaining 1000. From trace2 we can extract a sample from the posterior distribution like this:"
   ]
  },
  {
   "cell_type": "code",
   "execution_count": 33,
   "id": "11a0bab8-e96a-4edb-8d10-a184e0712543",
   "metadata": {},
   "outputs": [
    {
     "data": {
      "text/plain": [
       "<AxesSubplot:>"
      ]
     },
     "execution_count": 33,
     "metadata": {},
     "output_type": "execute_result"
    },
    {
     "data": {
      "image/png": "[encoded data removed]",
      "text/plain": [
       "<Figure size 432x288 with 1 Axes>"
      ]
     },
     "metadata": {
      "needs_background": "light"
     },
     "output_type": "display_data"
    }
   ],
   "source": [
    "sample_post_pymc = trace2['lam']\n",
    "posterior_pymc_lam = Pmf.from_seq(sample_post_pymc).make_cdf()\n",
    "posterior_pymc_lam.plot()\n",
    "\n",
    "# also plot the one we made without PyMC3\n",
    "posterior.make_cdf().plot()"
   ]
  },
  {
   "cell_type": "markdown",
   "id": "4f479a78-f564-4344-b4bf-9ae8559cf0ba",
   "metadata": {},
   "source": [
    "So we can see that we have good consistency!\n",
    "\n",
    "## Posterior Predictive Distribution\n",
    "\n",
    "The previous results were for $\\lambda$; we can also generate the posterior predictive (for the goals):"
   ]
  },
  {
   "cell_type": "code",
   "execution_count": 34,
   "id": "f847e0de-077e-4402-9b0f-c6919a6fb42f",
   "metadata": {},
   "outputs": [
    {
     "data": {
      "text/html": [
       "\n",
       "<style>\n",
       "    /* Turns off some styling */\n",
       "    progress {\n",
       "        /* gets rid of default border in Firefox and Opera. */\n",
       "        border: none;\n",
       "        /* Needs to be in here for Safari polyfill so background images work as expected. */\n",
       "        background-size: auto;\n",
       "    }\n",
       "    .progress-bar-interrupted, .progress-bar-interrupted::-webkit-progress-bar {\n",
       "        background: #F44336;\n",
       "    }\n",
       "</style>\n"
      ],
      "text/plain": [
       "<IPython.core.display.HTML object>"
      ]
     },
     "metadata": {},
     "output_type": "display_data"
    },
    {
     "data": {
      "text/html": [
       "\n",
       "    <div>\n",
       "      <progress value='2000' class='' max='2000' style='width:300px; height:20px; vertical-align: middle;'></progress>\n",
       "      100.00% [2000/2000 00:00<00:00]\n",
       "    </div>\n",
       "    "
      ],
      "text/plain": [
       "<IPython.core.display.HTML object>"
      ]
     },
     "metadata": {},
     "output_type": "display_data"
    },
    {
     "data": {
      "text/plain": [
       "<AxesSubplot:>"
      ]
     },
     "execution_count": 34,
     "metadata": {},
     "output_type": "execute_result"
    },
    {
     "data": {
      "image/png": "[encoded data removed]",
      "text/plain": [
       "<Figure size 432x288 with 1 Axes>"
      ]
     },
     "metadata": {
      "needs_background": "light"
     },
     "output_type": "display_data"
    }
   ],
   "source": [
    "with model2:\n",
    "    post_pred = pm.sample_posterior_predictive(trace2)\n",
    "    \n",
    "sample_post_pred_pymc = post_pred['goals']\n",
    "\n",
    "# also a sample from the posterior distribution we found using grid methods\n",
    "sample_post = posterior.sample(1000)\n",
    "sample_post_pred = poisson(sample_post).rvs()\n",
    "\n",
    "Pmf.from_seq(sample_post_pred_pymc).make_cdf().plot()\n",
    "Pmf.from_seq(sample_post_pred).make_cdf().plot()"
   ]
  },
  {
   "cell_type": "markdown",
   "id": "b1024d60-10f6-4c5a-9cfb-2a159b3799b3",
   "metadata": {},
   "source": [
    "Again, we have good agreement between the methods.\n",
    "\n",
    "However, so far PyMC3 computes the same result, except it is slower and more complex than just using a grid method. So why use it?\n",
    "\n",
    "Hopefully it will become clear with a more complex model:\n",
    "\n",
    "## Happiness\n",
    "\n",
    "- Book or Article? `Happines and Life Satisfaction`.\n",
    "\n",
    "Discusses the relationship between happiness and a bunch of other variables\n",
    "\n",
    "- Income as represented by per capita GDP\n",
    "- Social support\n",
    "- Healthy life expectancy at birth\n",
    "- Freedom to make life choices\n",
    "- Generosity\n",
    "- Perceptions of corruption\n",
    "\n",
    "The dependent variables is the national average of responses to the \"Cantril ladder question\" used by the Gallup World Poll.\n",
    "\n",
    "> Please imagine a ladder with steps numbered from zero at the bottom to 10 at the top. The top of the ladder represents the best possible life for you and the bottom of the lader represents the worst possible life for you. On which step of the ladder would you say you personally feel you stand at this time?\n",
    "\n",
    "In the next few sections we'll replicate the analysis in this report using Bayesian regression."
   ]
  },
  {
   "cell_type": "code",
   "execution_count": 40,
   "id": "dd251f96-52c8-431f-8e02-3824846a9a99",
   "metadata": {},
   "outputs": [
    {
     "data": {
      "text/html": [
       "<div>\n",
       "<style scoped>\n",
       "    .dataframe tbody tr th:only-of-type {\n",
       "        vertical-align: middle;\n",
       "    }\n",
       "\n",
       "    .dataframe tbody tr th {\n",
       "        vertical-align: top;\n",
       "    }\n",
       "\n",
       "    .dataframe thead th {\n",
       "        text-align: right;\n",
       "    }\n",
       "</style>\n",
       "<table border=\"1\" class=\"dataframe\">\n",
       "  <thead>\n",
       "    <tr style=\"text-align: right;\">\n",
       "      <th></th>\n",
       "      <th>Country name</th>\n",
       "      <th>Regional indicator</th>\n",
       "      <th>Ladder score</th>\n",
       "      <th>Standard error of ladder score</th>\n",
       "      <th>upperwhisker</th>\n",
       "      <th>lowerwhisker</th>\n",
       "      <th>Logged GDP per capita</th>\n",
       "      <th>Social support</th>\n",
       "      <th>Healthy life expectancy</th>\n",
       "      <th>Freedom to make life choices</th>\n",
       "      <th>Generosity</th>\n",
       "      <th>Perceptions of corruption</th>\n",
       "      <th>Ladder score in Dystopia</th>\n",
       "      <th>Explained by: Log GDP per capita</th>\n",
       "      <th>Explained by: Social support</th>\n",
       "      <th>Explained by: Healthy life expectancy</th>\n",
       "      <th>Explained by: Freedom to make life choices</th>\n",
       "      <th>Explained by: Generosity</th>\n",
       "      <th>Explained by: Perceptions of corruption</th>\n",
       "      <th>Dystopia + residual</th>\n",
       "    </tr>\n",
       "  </thead>\n",
       "  <tbody>\n",
       "    <tr>\n",
       "      <th>0</th>\n",
       "      <td>Finland</td>\n",
       "      <td>Western Europe</td>\n",
       "      <td>7.8087</td>\n",
       "      <td>0.031156</td>\n",
       "      <td>7.869766</td>\n",
       "      <td>7.747634</td>\n",
       "      <td>10.639267</td>\n",
       "      <td>0.954330</td>\n",
       "      <td>71.900826</td>\n",
       "      <td>0.949172</td>\n",
       "      <td>-0.059482</td>\n",
       "      <td>0.195445</td>\n",
       "      <td>1.972317</td>\n",
       "      <td>1.285190</td>\n",
       "      <td>1.499526</td>\n",
       "      <td>0.961271</td>\n",
       "      <td>0.662317</td>\n",
       "      <td>0.159670</td>\n",
       "      <td>0.477857</td>\n",
       "      <td>2.762835</td>\n",
       "    </tr>\n",
       "    <tr>\n",
       "      <th>1</th>\n",
       "      <td>Denmark</td>\n",
       "      <td>Western Europe</td>\n",
       "      <td>7.6456</td>\n",
       "      <td>0.033492</td>\n",
       "      <td>7.711245</td>\n",
       "      <td>7.579955</td>\n",
       "      <td>10.774001</td>\n",
       "      <td>0.955991</td>\n",
       "      <td>72.402504</td>\n",
       "      <td>0.951444</td>\n",
       "      <td>0.066202</td>\n",
       "      <td>0.168489</td>\n",
       "      <td>1.972317</td>\n",
       "      <td>1.326949</td>\n",
       "      <td>1.503449</td>\n",
       "      <td>0.979333</td>\n",
       "      <td>0.665040</td>\n",
       "      <td>0.242793</td>\n",
       "      <td>0.495260</td>\n",
       "      <td>2.432741</td>\n",
       "    </tr>\n",
       "    <tr>\n",
       "      <th>2</th>\n",
       "      <td>Switzerland</td>\n",
       "      <td>Western Europe</td>\n",
       "      <td>7.5599</td>\n",
       "      <td>0.035014</td>\n",
       "      <td>7.628528</td>\n",
       "      <td>7.491272</td>\n",
       "      <td>10.979933</td>\n",
       "      <td>0.942847</td>\n",
       "      <td>74.102448</td>\n",
       "      <td>0.921337</td>\n",
       "      <td>0.105911</td>\n",
       "      <td>0.303728</td>\n",
       "      <td>1.972317</td>\n",
       "      <td>1.390774</td>\n",
       "      <td>1.472403</td>\n",
       "      <td>1.040533</td>\n",
       "      <td>0.628954</td>\n",
       "      <td>0.269056</td>\n",
       "      <td>0.407946</td>\n",
       "      <td>2.350267</td>\n",
       "    </tr>\n",
       "    <tr>\n",
       "      <th>3</th>\n",
       "      <td>Iceland</td>\n",
       "      <td>Western Europe</td>\n",
       "      <td>7.5045</td>\n",
       "      <td>0.059616</td>\n",
       "      <td>7.621347</td>\n",
       "      <td>7.387653</td>\n",
       "      <td>10.772559</td>\n",
       "      <td>0.974670</td>\n",
       "      <td>73.000000</td>\n",
       "      <td>0.948892</td>\n",
       "      <td>0.246944</td>\n",
       "      <td>0.711710</td>\n",
       "      <td>1.972317</td>\n",
       "      <td>1.326502</td>\n",
       "      <td>1.547567</td>\n",
       "      <td>1.000843</td>\n",
       "      <td>0.661981</td>\n",
       "      <td>0.362330</td>\n",
       "      <td>0.144541</td>\n",
       "      <td>2.460688</td>\n",
       "    </tr>\n",
       "    <tr>\n",
       "      <th>4</th>\n",
       "      <td>Norway</td>\n",
       "      <td>Western Europe</td>\n",
       "      <td>7.4880</td>\n",
       "      <td>0.034837</td>\n",
       "      <td>7.556281</td>\n",
       "      <td>7.419719</td>\n",
       "      <td>11.087804</td>\n",
       "      <td>0.952487</td>\n",
       "      <td>73.200783</td>\n",
       "      <td>0.955750</td>\n",
       "      <td>0.134533</td>\n",
       "      <td>0.263218</td>\n",
       "      <td>1.972317</td>\n",
       "      <td>1.424207</td>\n",
       "      <td>1.495173</td>\n",
       "      <td>1.008072</td>\n",
       "      <td>0.670201</td>\n",
       "      <td>0.287985</td>\n",
       "      <td>0.434101</td>\n",
       "      <td>2.168266</td>\n",
       "    </tr>\n",
       "  </tbody>\n",
       "</table>\n",
       "</div>"
      ],
      "text/plain": [
       "  Country name Regional indicator  Ladder score  \\\n",
       "0      Finland     Western Europe        7.8087   \n",
       "1      Denmark     Western Europe        7.6456   \n",
       "2  Switzerland     Western Europe        7.5599   \n",
       "3      Iceland     Western Europe        7.5045   \n",
       "4       Norway     Western Europe        7.4880   \n",
       "\n",
       "   Standard error of ladder score  upperwhisker  lowerwhisker  \\\n",
       "0                        0.031156      7.869766      7.747634   \n",
       "1                        0.033492      7.711245      7.579955   \n",
       "2                        0.035014      7.628528      7.491272   \n",
       "3                        0.059616      7.621347      7.387653   \n",
       "4                        0.034837      7.556281      7.419719   \n",
       "\n",
       "   Logged GDP per capita  Social support  Healthy life expectancy  \\\n",
       "0              10.639267        0.954330                71.900826   \n",
       "1              10.774001        0.955991                72.402504   \n",
       "2              10.979933        0.942847                74.102448   \n",
       "3              10.772559        0.974670                73.000000   \n",
       "4              11.087804        0.952487                73.200783   \n",
       "\n",
       "   Freedom to make life choices  Generosity  Perceptions of corruption  \\\n",
       "0                      0.949172   -0.059482                   0.195445   \n",
       "1                      0.951444    0.066202                   0.168489   \n",
       "2                      0.921337    0.105911                   0.303728   \n",
       "3                      0.948892    0.246944                   0.711710   \n",
       "4                      0.955750    0.134533                   0.263218   \n",
       "\n",
       "   Ladder score in Dystopia  Explained by: Log GDP per capita  \\\n",
       "0                  1.972317                          1.285190   \n",
       "1                  1.972317                          1.326949   \n",
       "2                  1.972317                          1.390774   \n",
       "3                  1.972317                          1.326502   \n",
       "4                  1.972317                          1.424207   \n",
       "\n",
       "   Explained by: Social support  Explained by: Healthy life expectancy  \\\n",
       "0                      1.499526                               0.961271   \n",
       "1                      1.503449                               0.979333   \n",
       "2                      1.472403                               1.040533   \n",
       "3                      1.547567                               1.000843   \n",
       "4                      1.495173                               1.008072   \n",
       "\n",
       "   Explained by: Freedom to make life choices  Explained by: Generosity  \\\n",
       "0                                    0.662317                  0.159670   \n",
       "1                                    0.665040                  0.242793   \n",
       "2                                    0.628954                  0.269056   \n",
       "3                                    0.661981                  0.362330   \n",
       "4                                    0.670201                  0.287985   \n",
       "\n",
       "   Explained by: Perceptions of corruption  Dystopia + residual  \n",
       "0                                 0.477857             2.762835  \n",
       "1                                 0.495260             2.432741  \n",
       "2                                 0.407946             2.350267  \n",
       "3                                 0.144541             2.460688  \n",
       "4                                 0.434101             2.168266  "
      ]
     },
     "execution_count": 40,
     "metadata": {},
     "output_type": "execute_result"
    }
   ],
   "source": [
    "df = pd.read_excel(\"data/WHR20_DataForFigure2.1.xls\")\n",
    "df.head()"
   ]
  },
  {
   "cell_type": "code",
   "execution_count": 42,
   "id": "e574d38c-97f7-46ef-b63e-63a25bb76bd7",
   "metadata": {},
   "outputs": [],
   "source": [
    "score = df['Ladder score']"
   ]
  },
  {
   "cell_type": "markdown",
   "id": "f99f4e5c-2c99-4fc3-a6f2-41c077925c96",
   "metadata": {},
   "source": [
    "## Simple Regression\n",
    "\n",
    "Let's look at the relationship between happiness and income as represented by GDP per person.\n",
    "\n",
    "The column named 'Logged GDP per capita' represents the natural log of the GDP of the country divided by the number of people therein, corrected for the purchasing power parity (PPP). "
   ]
  },
  {
   "cell_type": "code",
   "execution_count": 45,
   "id": "e86e4d51-5a4e-44f3-8b64-7cd25ef143f7",
   "metadata": {},
   "outputs": [
    {
     "data": {
      "text/plain": [
       "Text(0, 0.5, 'Happiness ladder score')"
      ]
     },
     "execution_count": 45,
     "metadata": {},
     "output_type": "execute_result"
    },
    {
     "data": {
      "image/png": "[encoded data removed]",
      "text/plain": [
       "<Figure size 432x288 with 1 Axes>"
      ]
     },
     "metadata": {
      "needs_background": "light"
     },
     "output_type": "display_data"
    }
   ],
   "source": [
    "log_gdp = df['Logged GDP per capita']\n",
    "\n",
    "# now let's take a look at the plot\n",
    "fig, ax = plt.subplots()\n",
    "ax.scatter(log_gdp, score)\n",
    "ax.set_xlabel(\"Logged GDP per capita at PPP\")\n",
    "ax.set_ylabel(\"Happiness ladder score\")"
   ]
  },
  {
   "cell_type": "code",
   "execution_count": 46,
   "id": "7bc96865-3972-42a7-acc7-51cd91f29d34",
   "metadata": {},
   "outputs": [
    {
     "data": {
      "text/plain": [
       "LinregressResult(slope=0.717738495630452, intercept=-1.1986460618088843, rvalue=0.7753744007429199, pvalue=5.983050807797873e-32, stderr=0.047570849726545426, intercept_stderr=0.44585973641760784)"
      ]
     },
     "execution_count": 46,
     "metadata": {},
     "output_type": "execute_result"
    }
   ],
   "source": [
    "# It's clear that there is a relationship between these variables; let's make it more specific\n",
    "from scipy.stats import linregress\n",
    "result = linregress(log_gdp, score)\n",
    "result"
   ]
  },
  {
   "cell_type": "code",
   "execution_count": 48,
   "id": "1eeffebf-0ee7-46fb-85a8-fa224f6cd9b7",
   "metadata": {},
   "outputs": [
    {
     "data": {
      "text/plain": [
       "(0.717738495630452, -1.1986460618088843)"
      ]
     },
     "execution_count": 48,
     "metadata": {},
     "output_type": "execute_result"
    }
   ],
   "source": [
    "result.slope, result.intercept"
   ]
  },
  {
   "cell_type": "code",
   "execution_count": 50,
   "id": "4f6b4a29-89d9-42ad-93fa-69419b53ea5f",
   "metadata": {},
   "outputs": [],
   "source": [
    "# Do some Bayesian regression using the model of y = ax + b + epsilon\n",
    "# epsilon is a random variable ~Normal(0, sigma)\n",
    "\n",
    "x_data = log_gdp\n",
    "y_data = score\n",
    "with pm.Model() as model3:\n",
    "    a = pm.Uniform('a', 0, 4)\n",
    "    b = pm.Uniform('b', -4, 4)\n",
    "    sigma = pm.Uniform('sigma', 0, 2)\n",
    "    \n",
    "    y_est = a * x_data + b\n",
    "    y = pm.Normal('y', mu=y_est, sd=sigma, observed=y_data)"
   ]
  },
  {
   "cell_type": "markdown",
   "id": "53d5707d-fcee-4f13-a704-dc9274bc1d23",
   "metadata": {},
   "source": [
    "The prior distributions for `a`, `b`, and `sigma` are uniform with ranges wide enough to cover the posterior distribution.\n",
    "\n",
    "`y_est` is the estimated value of the dependent variable based on the regression equation. `y` is a normal distribution with mean `y_est` and standard deviation `sigma`.\n",
    "\n",
    "Notice how the data are included in the model:\n",
    "- The values of teh predictive variable, `x_data`, are used to compute `y_est`.\n",
    "- The values of the dependent variable, `y_data`, are provied as the observed values of `y`.\n",
    "\n",
    "Now we can use the model to generate a sample from the posterior distribution:"
   ]
  },
  {
   "cell_type": "code",
   "execution_count": 51,
   "id": "a4dce0ea-4aae-4b29-bb14-0d600376d759",
   "metadata": {},
   "outputs": [
    {
     "name": "stderr",
     "output_type": "stream",
     "text": [
      "Auto-assigning NUTS sampler...\n",
      "Initializing NUTS using jitter+adapt_diag...\n",
      "Multiprocess sampling (4 chains in 4 jobs)\n",
      "NUTS: [sigma, b, a]\n"
     ]
    },
    {
     "data": {
      "text/html": [
       "\n",
       "<style>\n",
       "    /* Turns off some styling */\n",
       "    progress {\n",
       "        /* gets rid of default border in Firefox and Opera. */\n",
       "        border: none;\n",
       "        /* Needs to be in here for Safari polyfill so background images work as expected. */\n",
       "        background-size: auto;\n",
       "    }\n",
       "    .progress-bar-interrupted, .progress-bar-interrupted::-webkit-progress-bar {\n",
       "        background: #F44336;\n",
       "    }\n",
       "</style>\n"
      ],
      "text/plain": [
       "<IPython.core.display.HTML object>"
      ]
     },
     "metadata": {},
     "output_type": "display_data"
    },
    {
     "data": {
      "text/html": [
       "\n",
       "    <div>\n",
       "      <progress value='6000' class='' max='6000' style='width:300px; height:20px; vertical-align: middle;'></progress>\n",
       "      100.00% [6000/6000 00:04<00:00 Sampling 4 chains, 0 divergences]\n",
       "    </div>\n",
       "    "
      ],
      "text/plain": [
       "<IPython.core.display.HTML object>"
      ]
     },
     "metadata": {},
     "output_type": "display_data"
    },
    {
     "name": "stderr",
     "output_type": "stream",
     "text": [
      "Sampling 4 chains for 1_000 tune and 500 draw iterations (4_000 + 2_000 draws total) took 5 seconds.\n",
      "The acceptance probability does not match the target. It is 0.9124468074661536, but should be close to 0.8. Try to increase the number of tuning steps.\n",
      "The number of effective samples is smaller than 25% for some parameters.\n"
     ]
    }
   ],
   "source": [
    "with model3:\n",
    "    trace3 = pm.sample(500, **options)"
   ]
  },
  {
   "cell_type": "markdown",
   "id": "209137d3-c935-4077-9b70-efbfff282c26",
   "metadata": {},
   "source": [
    "The result is an object that contains samples from the joint posterior distribution of `a`, `b`, and `sigma`."
   ]
  },
  {
   "cell_type": "code",
   "execution_count": 53,
   "id": "6d86dc54-0599-4957-8d1b-3216a19d70ac",
   "metadata": {},
   "outputs": [
    {
     "data": {
      "text/plain": [
       "['__class__',\n",
       " '__delattr__',\n",
       " '__dict__',\n",
       " '__dir__',\n",
       " '__doc__',\n",
       " '__eq__',\n",
       " '__format__',\n",
       " '__ge__',\n",
       " '__getattr__',\n",
       " '__getattribute__',\n",
       " '__getitem__',\n",
       " '__gt__',\n",
       " '__hash__',\n",
       " '__init__',\n",
       " '__init_subclass__',\n",
       " '__le__',\n",
       " '__len__',\n",
       " '__lt__',\n",
       " '__module__',\n",
       " '__ne__',\n",
       " '__new__',\n",
       " '__reduce__',\n",
       " '__reduce_ex__',\n",
       " '__repr__',\n",
       " '__setattr__',\n",
       " '__sizeof__',\n",
       " '__str__',\n",
       " '__subclasshook__',\n",
       " '__weakref__',\n",
       " '_attrs',\n",
       " '_report',\n",
       " '_slice',\n",
       " '_straces',\n",
       " 'add_values',\n",
       " 'chains',\n",
       " 'get_sampler_stats',\n",
       " 'get_values',\n",
       " 'nchains',\n",
       " 'point',\n",
       " 'points',\n",
       " 'remove_values',\n",
       " 'report',\n",
       " 'stat_names',\n",
       " 'varnames']"
      ]
     },
     "execution_count": 53,
     "metadata": {},
     "output_type": "execute_result"
    }
   ],
   "source": [
    "dir(trace3)"
   ]
  },
  {
   "cell_type": "code",
   "execution_count": 57,
   "id": "06404472-8f84-44a9-b2fe-e9d85277b2c4",
   "metadata": {},
   "outputs": [
    {
     "data": {
      "text/plain": [
       "['a_interval__', 'b_interval__', 'sigma_interval__', 'a', 'b', 'sigma']"
      ]
     },
     "execution_count": 57,
     "metadata": {},
     "output_type": "execute_result"
    }
   ],
   "source": [
    "trace3.varnames"
   ]
  },
  {
   "cell_type": "code",
   "execution_count": 58,
   "id": "98441844-ff91-4d03-bbc5-52f1b6e3ac8b",
   "metadata": {},
   "outputs": [
    {
     "data": {
      "text/plain": [
       "array([0.69702234, 0.75088787, 0.74170009, ..., 0.72837499, 0.73659509,\n",
       "       0.74271073])"
      ]
     },
     "execution_count": 58,
     "metadata": {},
     "output_type": "execute_result"
    }
   ],
   "source": [
    "trace3['a']"
   ]
  },
  {
   "cell_type": "code",
   "execution_count": 59,
   "id": "803cbdcb-6038-42d0-9487-8f2886ca1f90",
   "metadata": {},
   "outputs": [
    {
     "data": {
      "image/png": "[encoded data removed]",
      "text/plain": [
       "<Figure size 993.6x331.2 with 2 Axes>"
      ]
     },
     "metadata": {
      "needs_background": "light"
     },
     "output_type": "display_data"
    }
   ],
   "source": [
    "# ArviZ provides plot_posterior, which we can use to plot the posterior distributions.\n",
    "import arviz as az\n",
    "\n",
    "with model3:\n",
    "    az.plot_posterior(trace3, var_names=['a', 'b'])"
   ]
  },
  {
   "cell_type": "markdown",
   "id": "f8b34854-23b1-42bc-b8c4-656775a24e0c",
   "metadata": {},
   "source": [
    "The graphs show the distributions of the samples, estimated by KDE, and 94% credible intervals. In the figures, HDI stands for \"highest-density intervals\". The means of these samples are consistent with the parameters we estimated with `linregress`.\n",
    "\n",
    "The simple regression model has only three parameters, so we could have used a grid method. But the regression model in the happiness report has six predictive variables, so it has eight parameters in total, including `intercept` and `sigma`.\n",
    "\n",
    "It is simply not practical to compute a grid approximation for a model with eight parameters. Even a coarse grid, with 20 points along each dimension, would have more than 25 billion points. And with 153 countries we would have to compute almost 4 trillion likelihoods.\n",
    "\n",
    "But PyMC3 can handle a model with eight parameters comfortably, as we'll see.\n",
    "\n",
    "## Multiple Regression\n",
    "\n",
    "Before we implement the multiple regression model, let's select the columns that we need:"
   ]
  },
  {
   "cell_type": "code",
   "execution_count": 60,
   "id": "bc63e8c9-34fa-4b85-a352-bae621ab1eab",
   "metadata": {},
   "outputs": [],
   "source": [
    "columns = [\n",
    "    'Ladder score',\n",
    "    'Logged GDP per capita',\n",
    "    'Social support',\n",
    "    'Healthy life expectancy',\n",
    "    'Freedom to make life choices',\n",
    "    'Generosity',\n",
    "    'Perceptions of corruption'\n",
    "]\n",
    "\n",
    "subset = df[columns]"
   ]
  },
  {
   "cell_type": "code",
   "execution_count": 61,
   "id": "2838d739-32f6-4317-91ba-48448b9199d6",
   "metadata": {},
   "outputs": [],
   "source": [
    "# The predictive variables all have different units, so let's first normalize (z score)\n",
    "standardized = (subset - subset.mean()) / subset.std()"
   ]
  },
  {
   "cell_type": "code",
   "execution_count": 62,
   "id": "11cd03ae-6ba1-4c17-bb19-8fa1d9de969e",
   "metadata": {},
   "outputs": [],
   "source": [
    "# Now let's build the model. First we extract the variables:\n",
    "y_data = standardized['Ladder score']\n",
    "\n",
    "x1 = standardized[columns[1]]\n",
    "x2 = standardized[columns[2]]\n",
    "x3 = standardized[columns[3]]\n",
    "x4 = standardized[columns[4]]\n",
    "x5 = standardized[columns[5]]\n",
    "x6 = standardized[columns[6]]\n",
    "\n",
    "# Here's the model. `b0` is the intercept - b1-b6 are the parameters associated with the predictive variables\n",
    "with pm.Model() as model4:\n",
    "    b0 = pm.Uniform('b0', -4, 4)\n",
    "    b1 = pm.Uniform('b1', -4, 4)\n",
    "    b2 = pm.Uniform('b2', -4, 4)\n",
    "    b3 = pm.Uniform('b3', -4, 4)\n",
    "    b4 = pm.Uniform('b4', -4, 4)\n",
    "    b5 = pm.Uniform('b5', -4, 4)\n",
    "    b6 = pm.Uniform('b6', -4, 4)\n",
    "    sigma = pm.Uniform('sigma', 0, 2)\n",
    "    \n",
    "    y_est = b0 + b1*x1 + b2*x2 + b3*x3 + b4*x4 + b5*x5 + b6*x6\n",
    "    y = pm.Normal('y', mu=y_est, sd=sigma, observed=y_data)"
   ]
  },
  {
   "cell_type": "code",
   "execution_count": 63,
   "id": "1aea6d5b-0595-4f8d-9a81-da8353ff55dc",
   "metadata": {},
   "outputs": [
    {
     "name": "stderr",
     "output_type": "stream",
     "text": [
      "Auto-assigning NUTS sampler...\n",
      "Initializing NUTS using jitter+adapt_diag...\n",
      "Multiprocess sampling (4 chains in 4 jobs)\n",
      "NUTS: [sigma, b6, b5, b4, b3, b2, b1, b0]\n"
     ]
    },
    {
     "data": {
      "text/html": [
       "\n",
       "<style>\n",
       "    /* Turns off some styling */\n",
       "    progress {\n",
       "        /* gets rid of default border in Firefox and Opera. */\n",
       "        border: none;\n",
       "        /* Needs to be in here for Safari polyfill so background images work as expected. */\n",
       "        background-size: auto;\n",
       "    }\n",
       "    .progress-bar-interrupted, .progress-bar-interrupted::-webkit-progress-bar {\n",
       "        background: #F44336;\n",
       "    }\n",
       "</style>\n"
      ],
      "text/plain": [
       "<IPython.core.display.HTML object>"
      ]
     },
     "metadata": {},
     "output_type": "display_data"
    },
    {
     "data": {
      "text/html": [
       "\n",
       "    <div>\n",
       "      <progress value='6000' class='' max='6000' style='width:300px; height:20px; vertical-align: middle;'></progress>\n",
       "      100.00% [6000/6000 00:03<00:00 Sampling 4 chains, 0 divergences]\n",
       "    </div>\n",
       "    "
      ],
      "text/plain": [
       "<IPython.core.display.HTML object>"
      ]
     },
     "metadata": {},
     "output_type": "display_data"
    },
    {
     "name": "stderr",
     "output_type": "stream",
     "text": [
      "Sampling 4 chains for 1_000 tune and 500 draw iterations (4_000 + 2_000 draws total) took 3 seconds.\n"
     ]
    }
   ],
   "source": [
    "# now sample from the joist posterior distributions:\n",
    "with model4:\n",
    "    trace4 = pm.sample(500, **options)"
   ]
  },
  {
   "cell_type": "code",
   "execution_count": 65,
   "id": "07d3bebd-3853-4341-9f1a-9cb29d12ad43",
   "metadata": {},
   "outputs": [],
   "source": [
    "param_names = ['b1', 'b2', 'b3', 'b4', 'b5', 'b6']\n",
    "means = [trace4[name].mean() for name in param_names]"
   ]
  },
  {
   "cell_type": "code",
   "execution_count": 67,
   "id": "03afa35d-676c-4e0f-8123-d1b3cdd34a03",
   "metadata": {},
   "outputs": [
    {
     "data": {
      "text/plain": [
       "[array([0.093, 0.411]),\n",
       " array([0.161, 0.428]),\n",
       " array([0.068, 0.358]),\n",
       " array([0.086, 0.291]),\n",
       " array([-0.033,  0.146]),\n",
       " array([-0.194, -0.007])]"
      ]
     },
     "execution_count": 67,
     "metadata": {},
     "output_type": "execute_result"
    }
   ],
   "source": [
    "# We can also compute 94% credible intervals:\n",
    "def credible_interval(sample):\n",
    "    ci = np.percentile(sample, [3, 97])\n",
    "    return np.round(ci, 3)\n",
    "\n",
    "cis = [credible_interval(trace4[name]) for name in param_names]\n",
    "cis"
   ]
  },
  {
   "cell_type": "code",
   "execution_count": 72,
   "id": "c29408ce-9b70-4e2e-a38c-90ba38ecd49f",
   "metadata": {},
   "outputs": [
    {
     "data": {
      "text/html": [
       "<div>\n",
       "<style scoped>\n",
       "    .dataframe tbody tr th:only-of-type {\n",
       "        vertical-align: middle;\n",
       "    }\n",
       "\n",
       "    .dataframe tbody tr th {\n",
       "        vertical-align: top;\n",
       "    }\n",
       "\n",
       "    .dataframe thead th {\n",
       "        text-align: right;\n",
       "    }\n",
       "</style>\n",
       "<table border=\"1\" class=\"dataframe\">\n",
       "  <thead>\n",
       "    <tr style=\"text-align: right;\">\n",
       "      <th></th>\n",
       "      <th>94% CI</th>\n",
       "      <th>Posterior Mean</th>\n",
       "    </tr>\n",
       "  </thead>\n",
       "  <tbody>\n",
       "    <tr>\n",
       "      <th>Logged GDP per capita</th>\n",
       "      <td>[0.093, 0.411]</td>\n",
       "      <td>0.253683</td>\n",
       "    </tr>\n",
       "    <tr>\n",
       "      <th>Social support</th>\n",
       "      <td>[0.161, 0.428]</td>\n",
       "      <td>0.296475</td>\n",
       "    </tr>\n",
       "    <tr>\n",
       "      <th>Healthy life expectancy</th>\n",
       "      <td>[0.068, 0.358]</td>\n",
       "      <td>0.218833</td>\n",
       "    </tr>\n",
       "    <tr>\n",
       "      <th>Freedom to make life choices</th>\n",
       "      <td>[0.086, 0.291]</td>\n",
       "      <td>0.187011</td>\n",
       "    </tr>\n",
       "    <tr>\n",
       "      <th>Generosity</th>\n",
       "      <td>[-0.033, 0.146]</td>\n",
       "      <td>0.057233</td>\n",
       "    </tr>\n",
       "    <tr>\n",
       "      <th>Perceptions of corruption</th>\n",
       "      <td>[-0.194, -0.007]</td>\n",
       "      <td>-0.100583</td>\n",
       "    </tr>\n",
       "  </tbody>\n",
       "</table>\n",
       "</div>"
      ],
      "text/plain": [
       "                                        94% CI  Posterior Mean\n",
       "Logged GDP per capita           [0.093, 0.411]        0.253683\n",
       "Social support                  [0.161, 0.428]        0.296475\n",
       "Healthy life expectancy         [0.068, 0.358]        0.218833\n",
       "Freedom to make life choices    [0.086, 0.291]        0.187011\n",
       "Generosity                     [-0.033, 0.146]        0.057233\n",
       "Perceptions of corruption     [-0.194, -0.007]       -0.100583"
      ]
     },
     "execution_count": 72,
     "metadata": {},
     "output_type": "execute_result"
    }
   ],
   "source": [
    "# Summary\n",
    "summary = pd.DataFrame(index=columns[1:])\n",
    "summary[\"94% CI\"] = cis\n",
    "summary[\"Posterior Mean\"] = means\n",
    "summary"
   ]
  },
  {
   "cell_type": "markdown",
   "id": "d2c2a7f7-0552-4808-89be-73a705bc4c39",
   "metadata": {},
   "source": [
    "While this is cool, Bayesian regression doesn't really offer too much extra over regular least-squares regression. The real advantages come in if / when you use these as part of a decision process.\n",
    "\n",
    "## Summary\n",
    "MCMC is more powerful than grid methods, but comes with some disadvantages:\n",
    "- The algorithms are fiddly. The process can converge with some priors but not others, and it can take quite a bit of expertise to diagnose the issues.\n",
    "- It is much easier to develop models incrementally using grid models.\n",
    "\n",
    "## Exercises"
   ]
  },
  {
   "cell_type": "markdown",
   "id": "1ad14620-81d2-48b4-9a96-ce5989c9b402",
   "metadata": {},
   "source": [
    "### Exercise 19-1\n",
    "\n",
    "As a warm up, let's use PyMC3 to solve the Euro problem. Suppose we flip a coin 250 times, and it comes up heads 140 times. What is the posterior distribution of $x$, the probability of heads?\n",
    "\n",
    "For the prior, use a beta distribution with parameters $\\alpha=1$ and $\\beta=1$. \n",
    "\n",
    "See the PyMC3 documentation for the list of continuous distributions"
   ]
  },
  {
   "cell_type": "markdown",
   "id": "cbfd24fb-bc2c-4be6-867e-98d15d5b58dc",
   "metadata": {},
   "source": [
    "### Exercise 19-1 Solution"
   ]
  },
  {
   "cell_type": "code",
   "execution_count": 77,
   "id": "087c9884-d9ca-4828-bb11-2fca0e9cc6de",
   "metadata": {},
   "outputs": [
    {
     "data": {
      "text/plain": [
       "[True, True, False, False, False]"
      ]
     },
     "execution_count": 77,
     "metadata": {},
     "output_type": "execute_result"
    }
   ],
   "source": [
    "[True] * 2 + [False] * 3"
   ]
  },
  {
   "cell_type": "code",
   "execution_count": 78,
   "id": "f146499d-1b67-4f65-8788-4f0cccdf84f3",
   "metadata": {},
   "outputs": [],
   "source": [
    "# We have a prior of alpha=1, beta=1\n",
    "# our data is 140 times of 250\n",
    "with pm.Model() as euro_model:\n",
    "    x = pm.Beta('x', alpha=1, beta=1)\n",
    "    p = pm.Binomial('p', n=250, p=x, observed=140)"
   ]
  },
  {
   "cell_type": "code",
   "execution_count": 79,
   "id": "9db5189a-c461-4dfb-82f5-094d4c3fdc81",
   "metadata": {},
   "outputs": [
    {
     "name": "stderr",
     "output_type": "stream",
     "text": [
      "Auto-assigning NUTS sampler...\n",
      "Initializing NUTS using jitter+adapt_diag...\n",
      "Multiprocess sampling (4 chains in 4 jobs)\n",
      "NUTS: [x]\n"
     ]
    },
    {
     "data": {
      "text/html": [
       "\n",
       "<style>\n",
       "    /* Turns off some styling */\n",
       "    progress {\n",
       "        /* gets rid of default border in Firefox and Opera. */\n",
       "        border: none;\n",
       "        /* Needs to be in here for Safari polyfill so background images work as expected. */\n",
       "        background-size: auto;\n",
       "    }\n",
       "    .progress-bar-interrupted, .progress-bar-interrupted::-webkit-progress-bar {\n",
       "        background: #F44336;\n",
       "    }\n",
       "</style>\n"
      ],
      "text/plain": [
       "<IPython.core.display.HTML object>"
      ]
     },
     "metadata": {},
     "output_type": "display_data"
    },
    {
     "data": {
      "text/html": [
       "\n",
       "    <div>\n",
       "      <progress value='6000' class='' max='6000' style='width:300px; height:20px; vertical-align: middle;'></progress>\n",
       "      100.00% [6000/6000 00:01<00:00 Sampling 4 chains, 0 divergences]\n",
       "    </div>\n",
       "    "
      ],
      "text/plain": [
       "<IPython.core.display.HTML object>"
      ]
     },
     "metadata": {},
     "output_type": "display_data"
    },
    {
     "name": "stderr",
     "output_type": "stream",
     "text": [
      "Sampling 4 chains for 1_000 tune and 500 draw iterations (4_000 + 2_000 draws total) took 1 seconds.\n"
     ]
    }
   ],
   "source": [
    "with euro_model:\n",
    "    euro_trace = pm.sample(500, **options)"
   ]
  },
  {
   "cell_type": "code",
   "execution_count": 84,
   "id": "7a2ef14d-78bf-4961-9aa4-02a36612934f",
   "metadata": {},
   "outputs": [
    {
     "data": {
      "text/plain": [
       "['x_logodds__', 'x']"
      ]
     },
     "execution_count": 84,
     "metadata": {},
     "output_type": "execute_result"
    }
   ],
   "source": [
    "euro_trace.varnames"
   ]
  },
  {
   "cell_type": "code",
   "execution_count": 91,
   "id": "3b22a4b2-92a6-405a-a018-d67f2c916272",
   "metadata": {},
   "outputs": [
    {
     "data": {
      "text/plain": [
       "array([0.55637936, 0.55072742, 0.54738196, ..., 0.58035375, 0.58035375,\n",
       "       0.54780969])"
      ]
     },
     "execution_count": 91,
     "metadata": {},
     "output_type": "execute_result"
    }
   ],
   "source": [
    "xs = euro_trace['x']\n",
    "xs"
   ]
  },
  {
   "cell_type": "code",
   "execution_count": 92,
   "id": "09cb0002-286b-48c9-8dba-f022c48476ce",
   "metadata": {},
   "outputs": [
    {
     "data": {
      "text/plain": [
       "<AxesSubplot:title={'center':'x'}>"
      ]
     },
     "execution_count": 92,
     "metadata": {},
     "output_type": "execute_result"
    },
    {
     "data": {
      "image/png": "[encoded data removed]",
      "text/plain": [
       "<Figure size 432x288 with 1 Axes>"
      ]
     },
     "metadata": {
      "needs_background": "light"
     },
     "output_type": "display_data"
    }
   ],
   "source": [
    "az.plot_posterior(xs)"
   ]
  },
  {
   "cell_type": "markdown",
   "id": "939717d6-d293-4b46-b48f-fb51c1a216a1",
   "metadata": {},
   "source": [
    "### Exercise 19-2\n",
    "\n",
    "Now let's use PyMC3 to replicate the solution the solution to the Grizzly Bear problem, which was based on the hypergeometric distribution.\n",
    "\n",
    "Here's the problem, presented with slightly different variables to make it consistent with PyMC3.\n",
    "\n",
    "Suppose that during the first session, `k=23` bears are tagged. During the second session, `n=19` are identified, of which `x=4` have been tagged.\n",
    "\n",
    "Estimate the distribution of `N`, the number of bears in the environment.\n",
    "\n",
    "For the prior, use the discrete uniform distribution from 50 -- 500.\n",
    "\n",
    "See the PyMC3 documentation for the list of discrete distributions.\n",
    "\n",
    "Note: the `HyperGeometric` distribution was added in version 3.8, so you might need to update."
   ]
  },
  {
   "cell_type": "markdown",
   "id": "83f879b8-5bc8-440c-985a-e5f2cc24f096",
   "metadata": {},
   "source": [
    "### Exercise 19-2 Solution"
   ]
  },
  {
   "cell_type": "code",
   "execution_count": 103,
   "id": "177593e1-b3e1-4209-b4c2-ed46eb91286b",
   "metadata": {},
   "outputs": [],
   "source": [
    "# First, we have the number of bears, N - the prior will be discrete uniform from 50 - 500\n",
    "# K is the number of bears observed in the first session: 23 - these are the \"Success\" type bears\n",
    "# n is the number of \"draws\" - bears observed in the second session: 19 - this is the \"number of draws\"\n",
    "# from that, x = 4 have already been observed - this is what actually happened\n",
    "\n",
    "with pm.Model() as bear_model:\n",
    "    N = pm.DiscreteUniform('N', lower=50, upper=500)\n",
    "    x = pm.HyperGeometric('x', N=N, k=23, n=19, observed=4)"
   ]
  },
  {
   "cell_type": "code",
   "execution_count": 107,
   "id": "a3379c09-7d67-4556-bdc8-e93dc4da3887",
   "metadata": {},
   "outputs": [
    {
     "name": "stderr",
     "output_type": "stream",
     "text": [
      "Multiprocess sampling (4 chains in 4 jobs)\n",
      "Metropolis: [N]\n"
     ]
    },
    {
     "data": {
      "text/html": [
       "\n",
       "<style>\n",
       "    /* Turns off some styling */\n",
       "    progress {\n",
       "        /* gets rid of default border in Firefox and Opera. */\n",
       "        border: none;\n",
       "        /* Needs to be in here for Safari polyfill so background images work as expected. */\n",
       "        background-size: auto;\n",
       "    }\n",
       "    .progress-bar-interrupted, .progress-bar-interrupted::-webkit-progress-bar {\n",
       "        background: #F44336;\n",
       "    }\n",
       "</style>\n"
      ],
      "text/plain": [
       "<IPython.core.display.HTML object>"
      ]
     },
     "metadata": {},
     "output_type": "display_data"
    },
    {
     "data": {
      "text/html": [
       "\n",
       "    <div>\n",
       "      <progress value='44000' class='' max='44000' style='width:300px; height:20px; vertical-align: middle;'></progress>\n",
       "      100.00% [44000/44000 00:04<00:00 Sampling 4 chains, 0 divergences]\n",
       "    </div>\n",
       "    "
      ],
      "text/plain": [
       "<IPython.core.display.HTML object>"
      ]
     },
     "metadata": {},
     "output_type": "display_data"
    },
    {
     "name": "stderr",
     "output_type": "stream",
     "text": [
      "Sampling 4 chains for 1_000 tune and 10_000 draw iterations (4_000 + 40_000 draws total) took 5 seconds.\n",
      "The number of effective samples is smaller than 25% for some parameters.\n"
     ]
    }
   ],
   "source": [
    "with bear_model:\n",
    "    bear_sample = pm.sample(10000, **options)"
   ]
  },
  {
   "cell_type": "code",
   "execution_count": 105,
   "id": "0bdb8e0d-2f36-466f-b9bb-9c6514bbf55b",
   "metadata": {},
   "outputs": [
    {
     "data": {
      "text/plain": [
       "['N']"
      ]
     },
     "execution_count": 105,
     "metadata": {},
     "output_type": "execute_result"
    }
   ],
   "source": [
    "bear_sample.varnames"
   ]
  },
  {
   "cell_type": "code",
   "execution_count": 108,
   "id": "877c4d7d-0423-4cc6-b5f7-7fa7528b0b9d",
   "metadata": {},
   "outputs": [
    {
     "data": {
      "image/png": "[encoded data removed]",
      "text/plain": [
       "<Figure size 432x288 with 1 Axes>"
      ]
     },
     "metadata": {
      "needs_background": "light"
     },
     "output_type": "display_data"
    }
   ],
   "source": [
    "with bear_model:\n",
    "    az.plot_posterior(bear_sample)"
   ]
  },
  {
   "cell_type": "markdown",
   "id": "10a52e11-aa08-4eb1-acff-303e6406b86e",
   "metadata": {},
   "source": [
    "### Exercise 19-3\n",
    "\n",
    "In \"The Weibull Distribution\", we generated a sample from a Weibull distribution with $\\lambda=3$ and $k=0.8$. Then we used the data to compute a grid approximation of the posterior distribution of the parameters.\n",
    "\n",
    "Let's do the same with PyMC3.\n",
    "\n",
    "For the priors, you can use uniform distributions as we did in Chapter 14, or you could use `HalfNormal` distributions provided by PyMC3.\n",
    "\n",
    "Note: The `Weibull` class in PyMC3 uses different parameters thant SCiPy. The parameter `alpha` in PyMC3 corresponds to `k`, and `beta` corresponds to $\\lambda$.\n",
    "\n",
    "`data = [0.80497283, 2.11577082, 0.43308797, 0.10862644, 5.17334866,\n",
    "       3.25745053, 3.05555883, 2.47401062, 0.05340806, 1.08386395]`"
   ]
  },
  {
   "cell_type": "markdown",
   "id": "2a1dcbe9-6f63-4b6b-98b2-de7aabded294",
   "metadata": {},
   "source": [
    "### Exercise 19-3 Solution"
   ]
  },
  {
   "cell_type": "code",
   "execution_count": 110,
   "id": "c3a7ee51-cafd-4e71-aeac-674e8ce62a34",
   "metadata": {},
   "outputs": [],
   "source": [
    "# We start with uniform priors for lambda and k\n",
    "with pm.Model() as weibull_model:\n",
    "    lam = pm.Uniform('lam', lower=0.1, upper=10.1)\n",
    "    k = pm.Uniform('k', 0.1, 5.1)\n",
    "    lifetime = pm.Weibull('lifetime', alpha=k, beta=lam, observed=data)"
   ]
  },
  {
   "cell_type": "code",
   "execution_count": 115,
   "id": "98dbd0f4-032a-463f-81de-d50ca1263080",
   "metadata": {},
   "outputs": [
    {
     "name": "stderr",
     "output_type": "stream",
     "text": [
      "Auto-assigning NUTS sampler...\n",
      "Initializing NUTS using jitter+adapt_diag...\n",
      "Multiprocess sampling (4 chains in 4 jobs)\n",
      "NUTS: [k, lam]\n"
     ]
    },
    {
     "data": {
      "text/html": [
       "\n",
       "<style>\n",
       "    /* Turns off some styling */\n",
       "    progress {\n",
       "        /* gets rid of default border in Firefox and Opera. */\n",
       "        border: none;\n",
       "        /* Needs to be in here for Safari polyfill so background images work as expected. */\n",
       "        background-size: auto;\n",
       "    }\n",
       "    .progress-bar-interrupted, .progress-bar-interrupted::-webkit-progress-bar {\n",
       "        background: #F44336;\n",
       "    }\n",
       "</style>\n"
      ],
      "text/plain": [
       "<IPython.core.display.HTML object>"
      ]
     },
     "metadata": {},
     "output_type": "display_data"
    },
    {
     "data": {
      "text/html": [
       "\n",
       "    <div>\n",
       "      <progress value='44000' class='' max='44000' style='width:300px; height:20px; vertical-align: middle;'></progress>\n",
       "      100.00% [44000/44000 00:08<00:00 Sampling 4 chains, 2,382 divergences]\n",
       "    </div>\n",
       "    "
      ],
      "text/plain": [
       "<IPython.core.display.HTML object>"
      ]
     },
     "metadata": {},
     "output_type": "display_data"
    },
    {
     "name": "stderr",
     "output_type": "stream",
     "text": [
      "Sampling 4 chains for 1_000 tune and 10_000 draw iterations (4_000 + 40_000 draws total) took 8 seconds.\n",
      "There were 346 divergences after tuning. Increase `target_accept` or reparameterize.\n",
      "There were 243 divergences after tuning. Increase `target_accept` or reparameterize.\n",
      "There were 850 divergences after tuning. Increase `target_accept` or reparameterize.\n",
      "There were 943 divergences after tuning. Increase `target_accept` or reparameterize.\n",
      "The number of effective samples is smaller than 25% for some parameters.\n"
     ]
    },
    {
     "data": {
      "image/png": "[encoded data removed]",
      "text/plain": [
       "<Figure size 993.6x331.2 with 2 Axes>"
      ]
     },
     "metadata": {
      "needs_background": "light"
     },
     "output_type": "display_data"
    }
   ],
   "source": [
    "with weibull_model:\n",
    "    weibull_sample = pm.sample(10000, **options)\n",
    "    az.plot_posterior(weibull_sample)"
   ]
  },
  {
   "cell_type": "markdown",
   "id": "32b7d56b-6093-4c6d-87c9-eb14601f4bd4",
   "metadata": {},
   "source": [
    "### Exercise 19-4\n",
    "\n",
    "In \"Improving Reading Ability\", we used data from a reading test to estimate the parameters of a normal distribution. Make a model that defines uniform prior distributions for `mu` and `sigma` and uses the data to estimate their posterior distributions."
   ]
  },
  {
   "cell_type": "markdown",
   "id": "2cec9ad8-d39f-4266-8018-70ca138d898e",
   "metadata": {},
   "source": [
    "### Exercise 19-4 Solution"
   ]
  },
  {
   "cell_type": "code",
   "execution_count": 117,
   "id": "dc486290-dda4-45d1-b268-92ad5f5eb055",
   "metadata": {},
   "outputs": [
    {
     "data": {
      "text/html": [
       "<div>\n",
       "<style scoped>\n",
       "    .dataframe tbody tr th:only-of-type {\n",
       "        vertical-align: middle;\n",
       "    }\n",
       "\n",
       "    .dataframe tbody tr th {\n",
       "        vertical-align: top;\n",
       "    }\n",
       "\n",
       "    .dataframe thead th {\n",
       "        text-align: right;\n",
       "    }\n",
       "</style>\n",
       "<table border=\"1\" class=\"dataframe\">\n",
       "  <thead>\n",
       "    <tr style=\"text-align: right;\">\n",
       "      <th></th>\n",
       "      <th>Treatment</th>\n",
       "      <th>Response</th>\n",
       "    </tr>\n",
       "  </thead>\n",
       "  <tbody>\n",
       "    <tr>\n",
       "      <th>0</th>\n",
       "      <td>Treated</td>\n",
       "      <td>24</td>\n",
       "    </tr>\n",
       "    <tr>\n",
       "      <th>1</th>\n",
       "      <td>Treated</td>\n",
       "      <td>43</td>\n",
       "    </tr>\n",
       "    <tr>\n",
       "      <th>2</th>\n",
       "      <td>Treated</td>\n",
       "      <td>58</td>\n",
       "    </tr>\n",
       "    <tr>\n",
       "      <th>3</th>\n",
       "      <td>Treated</td>\n",
       "      <td>71</td>\n",
       "    </tr>\n",
       "    <tr>\n",
       "      <th>4</th>\n",
       "      <td>Treated</td>\n",
       "      <td>43</td>\n",
       "    </tr>\n",
       "  </tbody>\n",
       "</table>\n",
       "</div>"
      ],
      "text/plain": [
       "  Treatment  Response\n",
       "0   Treated        24\n",
       "1   Treated        43\n",
       "2   Treated        58\n",
       "3   Treated        71\n",
       "4   Treated        43"
      ]
     },
     "execution_count": 117,
     "metadata": {},
     "output_type": "execute_result"
    }
   ],
   "source": [
    "# get the data\n",
    "df = pd.read_csv(\"data/drp_scores.csv\", skiprows=21, delimiter=\"\\t\")\n",
    "df.head()"
   ]
  },
  {
   "cell_type": "code",
   "execution_count": 119,
   "id": "ea7c41c5-0de2-45d8-9082-ccaaaf9c96ff",
   "metadata": {},
   "outputs": [
    {
     "data": {
      "text/plain": [
       "{'Control': 21    42\n",
       " 22    43\n",
       " 23    55\n",
       " 24    26\n",
       " 25    62\n",
       " 26    37\n",
       " 27    33\n",
       " 28    41\n",
       " 29    19\n",
       " 30    54\n",
       " 31    20\n",
       " 32    85\n",
       " 33    46\n",
       " 34    10\n",
       " 35    17\n",
       " 36    60\n",
       " 37    53\n",
       " 38    42\n",
       " 39    37\n",
       " 40    42\n",
       " 41    55\n",
       " 42    28\n",
       " 43    48\n",
       " Name: Response, dtype: int64,\n",
       " 'Treated': 0     24\n",
       " 1     43\n",
       " 2     58\n",
       " 3     71\n",
       " 4     43\n",
       " 5     49\n",
       " 6     61\n",
       " 7     44\n",
       " 8     67\n",
       " 9     49\n",
       " 10    53\n",
       " 11    56\n",
       " 12    59\n",
       " 13    52\n",
       " 14    62\n",
       " 15    54\n",
       " 16    57\n",
       " 17    33\n",
       " 18    46\n",
       " 19    43\n",
       " 20    57\n",
       " Name: Response, dtype: int64}"
      ]
     },
     "execution_count": 119,
     "metadata": {},
     "output_type": "execute_result"
    }
   ],
   "source": [
    "grouped = df.groupby(\"Treatment\")\n",
    "\n",
    "responses = {name: group['Response'] for name, group in grouped}\n",
    "responses"
   ]
  },
  {
   "cell_type": "code",
   "execution_count": 123,
   "id": "a1bf864e-7d22-4e86-93aa-30b9dbfb03e0",
   "metadata": {},
   "outputs": [
    {
     "name": "stderr",
     "output_type": "stream",
     "text": [
      "Auto-assigning NUTS sampler...\n",
      "Initializing NUTS using jitter+adapt_diag...\n",
      "Multiprocess sampling (4 chains in 4 jobs)\n",
      "NUTS: [treated_sigma, treated_mu, control_sigma, control_mu]\n"
     ]
    },
    {
     "data": {
      "text/html": [
       "\n",
       "<style>\n",
       "    /* Turns off some styling */\n",
       "    progress {\n",
       "        /* gets rid of default border in Firefox and Opera. */\n",
       "        border: none;\n",
       "        /* Needs to be in here for Safari polyfill so background images work as expected. */\n",
       "        background-size: auto;\n",
       "    }\n",
       "    .progress-bar-interrupted, .progress-bar-interrupted::-webkit-progress-bar {\n",
       "        background: #F44336;\n",
       "    }\n",
       "</style>\n"
      ],
      "text/plain": [
       "<IPython.core.display.HTML object>"
      ]
     },
     "metadata": {},
     "output_type": "display_data"
    },
    {
     "data": {
      "text/html": [
       "\n",
       "    <div>\n",
       "      <progress value='8000' class='' max='8000' style='width:300px; height:20px; vertical-align: middle;'></progress>\n",
       "      100.00% [8000/8000 00:01<00:00 Sampling 4 chains, 0 divergences]\n",
       "    </div>\n",
       "    "
      ],
      "text/plain": [
       "<IPython.core.display.HTML object>"
      ]
     },
     "metadata": {},
     "output_type": "display_data"
    },
    {
     "name": "stderr",
     "output_type": "stream",
     "text": [
      "Sampling 4 chains for 1_000 tune and 1_000 draw iterations (4_000 + 4_000 draws total) took 2 seconds.\n",
      "The acceptance probability does not match the target. It is 0.6368452912236953, but should be close to 0.8. Try to increase the number of tuning steps.\n"
     ]
    },
    {
     "data": {
      "image/png": "[encoded data removed]",
      "text/plain": [
       "<Figure size 1987.2x331.2 with 4 Axes>"
      ]
     },
     "metadata": {
      "needs_background": "light"
     },
     "output_type": "display_data"
    }
   ],
   "source": [
    "with pm.Model() as reading_model:\n",
    "    control_mu = pm.Uniform('control_mu', lower=20, upper=80)\n",
    "    control_sigma = pm.Uniform('control_sigma', lower=5, upper=30)\n",
    "    control_response = pm.Normal('control_response', mu=control_mu, sigma=control_sigma, observed=responses['Control'])\n",
    "    \n",
    "    treated_mu = pm.Uniform('treated_mu', lower=20, upper=80)\n",
    "    treated_sigma = pm.Uniform('treated_sigma', lower=5, upper=30)\n",
    "    treated_response = pm.Normal('treated_response', mu=treated_mu, sigma=treated_sigma, observed=responses['Treated'])\n",
    "    \n",
    "    sample = pm.sample(1000, **options)\n",
    "    az.plot_posterior(sample)"
   ]
  },
  {
   "cell_type": "markdown",
   "id": "c208cb45-ed43-4c68-9019-d4eb270aa8e7",
   "metadata": {},
   "source": [
    "### Exercise 19-5\n",
    "\n",
    "In \"The Lincoln Index Problem\" we used a grid algorithm to solve the Lincoln Index Problem as presented by John D. Cook:\n",
    "\n",
    "> [...]\n",
    "\n",
    "(Bug testing)\n",
    "\n",
    "Suppose the first tester finds 20 bugs and the second tester find 15, of which there are 3 in common. Use PyMC3 to estimate the number of bugs.\n",
    "\n",
    "Note: This exercise is more difficult than some of the previous ones. One of the challenges is that the data includes `k00`, which is dependent on `N`:\n",
    "\n",
    "`k00 = N - num_seen`.\n",
    "\n",
    "So we have to construct the data as part of the model. To do that, we can use `pm.math.stack`, which makes an array:\n",
    "\n",
    "`data = pm.math.stack((k00, k01, k10, k11))`\n",
    "\n",
    "Finally, you might find it helpful to use `pm.Multinomial`."
   ]
  },
  {
   "cell_type": "code",
   "execution_count": 137,
   "id": "830fda1e-9a06-4d7e-b3b9-97bc888100c0",
   "metadata": {},
   "outputs": [],
   "source": [
    "# Basic idea: assign a probability of finding a bug to each of the testers. Then for each categoty:\n",
    "# k11 - both find them = p0 * p1\n",
    "# k10 - first one finds it, second doesn't = p0 * (1 - p1)\n",
    "# k01 - first one misses it, second one finds it = (1 - p0) * p1\n",
    "# k00 - both miss it = (1 - p0) * (1 - p1)\n",
    "# Then we can model this as a multinomial distribution where each of those is the probability of one of the categories appearing\n",
    "# We know the values for the first three, and then if N is the total number of bugs, k00 = N - k01 - k10 - k11\n",
    "\n",
    "k11 = 3\n",
    "k10 = 20 - k11\n",
    "k01 = 15 - k11\n",
    "total_observed = 20 + 15 - 3\n",
    "with pm.Model() as bug_model:\n",
    "    N = pm.DiscreteUniform('N', 32, 350)\n",
    "    p0 = pm.Uniform('p0', 0, 1)\n",
    "    p1 = pm.Uniform('p1', 0, 1)\n",
    "    y = pm.Multinomial('y', n=N, p=[p0 * p1, p0 * (1 - p1), (1-p0) * p1, (1-p0) * (1-p1)], observed=pm.math.stack(k11, k10, k01, N - total_observed))"
   ]
  },
  {
   "cell_type": "code",
   "execution_count": 142,
   "id": "0ece3f6d-4c05-4581-989d-a1b0bb0598bc",
   "metadata": {},
   "outputs": [
    {
     "name": "stderr",
     "output_type": "stream",
     "text": [
      "Multiprocess sampling (4 chains in 4 jobs)\n",
      "CompoundStep\n",
      ">Metropolis: [N]\n",
      ">NUTS: [p1, p0]\n"
     ]
    },
    {
     "data": {
      "text/html": [
       "\n",
       "<style>\n",
       "    /* Turns off some styling */\n",
       "    progress {\n",
       "        /* gets rid of default border in Firefox and Opera. */\n",
       "        border: none;\n",
       "        /* Needs to be in here for Safari polyfill so background images work as expected. */\n",
       "        background-size: auto;\n",
       "    }\n",
       "    .progress-bar-interrupted, .progress-bar-interrupted::-webkit-progress-bar {\n",
       "        background: #F44336;\n",
       "    }\n",
       "</style>\n"
      ],
      "text/plain": [
       "<IPython.core.display.HTML object>"
      ]
     },
     "metadata": {},
     "output_type": "display_data"
    },
    {
     "data": {
      "text/html": [
       "\n",
       "    <div>\n",
       "      <progress value='6000' class='' max='6000' style='width:300px; height:20px; vertical-align: middle;'></progress>\n",
       "      100.00% [6000/6000 00:01<00:00 Sampling 4 chains, 0 divergences]\n",
       "    </div>\n",
       "    "
      ],
      "text/plain": [
       "<IPython.core.display.HTML object>"
      ]
     },
     "metadata": {},
     "output_type": "display_data"
    },
    {
     "name": "stderr",
     "output_type": "stream",
     "text": [
      "Sampling 4 chains for 1_000 tune and 500 draw iterations (4_000 + 2_000 draws total) took 2 seconds.\n",
      "The acceptance probability does not match the target. It is 0.5979197868517859, but should be close to 0.8. Try to increase the number of tuning steps.\n",
      "The rhat statistic is larger than 1.05 for some parameters. This indicates slight problems during sampling.\n",
      "The estimated number of effective samples is smaller than 200 for some parameters.\n"
     ]
    }
   ],
   "source": [
    "with bug_model:\n",
    "    bug_sample = pm.sample(500, **options)"
   ]
  },
  {
   "cell_type": "code",
   "execution_count": 143,
   "id": "3858bd19-525a-49cc-8204-cad6a9e679fa",
   "metadata": {},
   "outputs": [
    {
     "data": {
      "image/png": "[encoded data removed]",
      "text/plain": [
       "<Figure size 1490.4x331.2 with 3 Axes>"
      ]
     },
     "metadata": {
      "needs_background": "light"
     },
     "output_type": "display_data"
    }
   ],
   "source": [
    "with bug_model:\n",
    "    az.plot_posterior(bug_sample)"
   ]
  },
  {
   "cell_type": "code",
   "execution_count": null,
   "id": "9511e50b-7b95-4d7f-91c8-8299f1d07e1e",
   "metadata": {},
   "outputs": [],
   "source": []
  }
 ],
 "metadata": {
  "kernelspec": {
   "display_name": "Python 3 (ipykernel)",
   "language": "python",
   "name": "python3"
  },
  "language_info": {
   "codemirror_mode": {
    "name": "ipython",
    "version": 3
   },
   "file_extension": ".py",
   "mimetype": "text/x-python",
   "name": "python",
   "nbconvert_exporter": "python",
   "pygments_lexer": "ipython3",
   "version": "3.8.10"
  }
 },
 "nbformat": 4,
 "nbformat_minor": 5
}
