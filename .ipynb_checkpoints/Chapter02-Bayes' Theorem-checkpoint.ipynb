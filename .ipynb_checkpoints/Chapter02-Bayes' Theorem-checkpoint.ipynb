{
 "cells": [
  {
   "cell_type": "markdown",
   "id": "66d95240-6e8d-4c22-84ec-2d6b7bb6ceca",
   "metadata": {},
   "source": [
    "# Chapter 2 - Bayes' Theorem\n",
    "\n",
    "$$ \n",
    "P(A|B) = \\frac{P(A)P(B|A)}{P(B)}\n",
    "$$\n",
    "\n",
    "Essentially, this allows us to transform on conditional probability into its \"converse\".\n",
    "## The Cookie Problem\n",
    "\n",
    "Suppose that there are two bowls of cookies:\n",
    "- Bowl 1 contains 30 vanilla and 10 chocolate cookies\n",
    "- Bowl 2 contains 20 vanilla and 20 chocolate cookies\n",
    "\n",
    "Suppose a bowl is chosen at random and a random cookie is selected. If the cookie was vanilla, what is the probability that it came from Bowl 1?"
   ]
  },
  {
   "cell_type": "markdown",
   "id": "bdfa1da9-9443-4e58-9174-17bd9af6134e",
   "metadata": {},
   "source": [
    "We want $P(B_1 | V)$, but we only have a bunch of other stuff! Luckily, we have Bayes' Theorem to the rescue\n",
    "$$\n",
    "P(B_1 | V) = \\frac{P(B_1) \\ast P(V | B_1)}{P(V)} \\\\\n",
    "$$\n",
    "- We assume that $P(B_1) = \\frac{1}{2}$\n",
    "- $P(V|B_1) = \\frac{3}{4}$\n",
    "- To calculate $P(V)$, we need to recognize that there are two ways to get the cookie: if it was from $B_1$ or $B_2$:\n",
    "    $$\n",
    "    \\begin{aligned}\n",
    "        P(V) &= P(B_1)P(V|B_1) + P(B_2)P(V|B_2) \\\\\n",
    "        &= (1/2) \\ast (3/4) + (1/2)(1/2) \\\\\n",
    "        &= \\frac{5}{8}\n",
    "    \\end{aligned}\n",
    "    $$\n",
    "- We now have everything that we need:\n",
    "$$\n",
    "    \\begin{aligned}\n",
    "        P(B_1 | V) &= (1/2) \\ast (3/4) / (5/8) \\\\\n",
    "        &= 3/5\n",
    "    \\end{aligned}\n",
    "$$\n",
    "\n",
    "## Diachronic Bayes\n",
    "\n",
    "- *Diachronic*: changing over time\n",
    "- We can also think of Bayes' Theorem as a way to update our beliefs given new data\n",
    "$$\n",
    "P(H|D) = \\frac{P(H)P(D|H)}{P(D)}\n",
    "$$\n",
    "- $P(H)$ is the probability before we see the data: *prior probability* or *prior*\n",
    "- $P(H|D)$ is the probability of the hypothesis after the data: *posterior*\n",
    "- $P(D|H)$ is the probability of the data given the hypothesis: *likelihood*\n",
    "- $P(D)$ is the probability of seeing the data under any hypothesis\n",
    "\n",
    "It is often tricky to calculate $P(D)$, so we can compromise by using a collection of potential hypotheses that are \n",
    "1. Mutually exclusive\n",
    "1. Collectively exhaustive\n",
    "$$\n",
    "P(D) = \\sum_i H_i \\ast P(D|H_i)\n",
    "$$\n",
    "\n",
    "The process of using data and a prior probability to calculate a posterior is called a *Bayesian update*.\n",
    "\n",
    "## Bayes Tables\n",
    "\n",
    "- Convenient tool for Bayesian update"
   ]
  },
  {
   "cell_type": "code",
   "execution_count": 3,
   "id": "947dda99-d6e4-4c5a-b0ea-a5bcb7a39ba4",
   "metadata": {},
   "outputs": [],
   "source": [
    "import pandas as pd\n",
    "table = pd.DataFrame(index=['Bowl 1', 'Bowl 2'])"
   ]
  },
  {
   "cell_type": "markdown",
   "id": "e410c439-eb89-45c1-98ba-1e3f1d2a6ecb",
   "metadata": {},
   "source": [
    "Now the priors and the likelihood:"
   ]
  },
  {
   "cell_type": "code",
   "execution_count": 5,
   "id": "6ce3e84c-654d-4cda-b020-6bec58e7f453",
   "metadata": {},
   "outputs": [
    {
     "data": {
      "text/html": [
       "<div>\n",
       "<style scoped>\n",
       "    .dataframe tbody tr th:only-of-type {\n",
       "        vertical-align: middle;\n",
       "    }\n",
       "\n",
       "    .dataframe tbody tr th {\n",
       "        vertical-align: top;\n",
       "    }\n",
       "\n",
       "    .dataframe thead th {\n",
       "        text-align: right;\n",
       "    }\n",
       "</style>\n",
       "<table border=\"1\" class=\"dataframe\">\n",
       "  <thead>\n",
       "    <tr style=\"text-align: right;\">\n",
       "      <th></th>\n",
       "      <th>prior</th>\n",
       "      <th>likelihood</th>\n",
       "    </tr>\n",
       "  </thead>\n",
       "  <tbody>\n",
       "    <tr>\n",
       "      <th>Bowl 1</th>\n",
       "      <td>0.5</td>\n",
       "      <td>0.75</td>\n",
       "    </tr>\n",
       "    <tr>\n",
       "      <th>Bowl 2</th>\n",
       "      <td>0.5</td>\n",
       "      <td>0.50</td>\n",
       "    </tr>\n",
       "  </tbody>\n",
       "</table>\n",
       "</div>"
      ],
      "text/plain": [
       "        prior  likelihood\n",
       "Bowl 1    0.5        0.75\n",
       "Bowl 2    0.5        0.50"
      ]
     },
     "execution_count": 5,
     "metadata": {},
     "output_type": "execute_result"
    }
   ],
   "source": [
    "table['prior'] = (1/2, 1/2)\n",
    "table['likelihood'] = (3/4, 1/2)\n",
    "table"
   ]
  },
  {
   "cell_type": "markdown",
   "id": "d8ee1ced-2286-4b88-ac0c-09be9b7469db",
   "metadata": {},
   "source": [
    "Now we multiply the `prior`s by the `likelihood`"
   ]
  },
  {
   "cell_type": "code",
   "execution_count": 6,
   "id": "260087ec-bdbd-46e6-867b-147022c0ea96",
   "metadata": {},
   "outputs": [
    {
     "data": {
      "text/html": [
       "<div>\n",
       "<style scoped>\n",
       "    .dataframe tbody tr th:only-of-type {\n",
       "        vertical-align: middle;\n",
       "    }\n",
       "\n",
       "    .dataframe tbody tr th {\n",
       "        vertical-align: top;\n",
       "    }\n",
       "\n",
       "    .dataframe thead th {\n",
       "        text-align: right;\n",
       "    }\n",
       "</style>\n",
       "<table border=\"1\" class=\"dataframe\">\n",
       "  <thead>\n",
       "    <tr style=\"text-align: right;\">\n",
       "      <th></th>\n",
       "      <th>prior</th>\n",
       "      <th>likelihood</th>\n",
       "      <th>unnorm</th>\n",
       "    </tr>\n",
       "  </thead>\n",
       "  <tbody>\n",
       "    <tr>\n",
       "      <th>Bowl 1</th>\n",
       "      <td>0.5</td>\n",
       "      <td>0.75</td>\n",
       "      <td>0.375</td>\n",
       "    </tr>\n",
       "    <tr>\n",
       "      <th>Bowl 2</th>\n",
       "      <td>0.5</td>\n",
       "      <td>0.50</td>\n",
       "      <td>0.250</td>\n",
       "    </tr>\n",
       "  </tbody>\n",
       "</table>\n",
       "</div>"
      ],
      "text/plain": [
       "        prior  likelihood  unnorm\n",
       "Bowl 1    0.5        0.75   0.375\n",
       "Bowl 2    0.5        0.50   0.250"
      ]
     },
     "execution_count": 6,
     "metadata": {},
     "output_type": "execute_result"
    }
   ],
   "source": [
    "table['unnorm'] = table['prior'] * table['likelihood']\n",
    "table"
   ]
  },
  {
   "cell_type": "markdown",
   "id": "e06d573f-af2d-4d82-b82d-445dcc937168",
   "metadata": {},
   "source": [
    "These are the unnormalized posteriors. For us, their sum is $P(D)$ (since we have only the two hypotheses)."
   ]
  },
  {
   "cell_type": "code",
   "execution_count": 7,
   "id": "992f4e8f-71a1-403a-924c-557d3f05d1e4",
   "metadata": {},
   "outputs": [
    {
     "name": "stdout",
     "output_type": "stream",
     "text": [
      "P(D): 0.625\n"
     ]
    },
    {
     "data": {
      "text/html": [
       "<div>\n",
       "<style scoped>\n",
       "    .dataframe tbody tr th:only-of-type {\n",
       "        vertical-align: middle;\n",
       "    }\n",
       "\n",
       "    .dataframe tbody tr th {\n",
       "        vertical-align: top;\n",
       "    }\n",
       "\n",
       "    .dataframe thead th {\n",
       "        text-align: right;\n",
       "    }\n",
       "</style>\n",
       "<table border=\"1\" class=\"dataframe\">\n",
       "  <thead>\n",
       "    <tr style=\"text-align: right;\">\n",
       "      <th></th>\n",
       "      <th>prior</th>\n",
       "      <th>likelihood</th>\n",
       "      <th>unnorm</th>\n",
       "      <th>posterior</th>\n",
       "    </tr>\n",
       "  </thead>\n",
       "  <tbody>\n",
       "    <tr>\n",
       "      <th>Bowl 1</th>\n",
       "      <td>0.5</td>\n",
       "      <td>0.75</td>\n",
       "      <td>0.375</td>\n",
       "      <td>0.6</td>\n",
       "    </tr>\n",
       "    <tr>\n",
       "      <th>Bowl 2</th>\n",
       "      <td>0.5</td>\n",
       "      <td>0.50</td>\n",
       "      <td>0.250</td>\n",
       "      <td>0.4</td>\n",
       "    </tr>\n",
       "  </tbody>\n",
       "</table>\n",
       "</div>"
      ],
      "text/plain": [
       "        prior  likelihood  unnorm  posterior\n",
       "Bowl 1    0.5        0.75   0.375        0.6\n",
       "Bowl 2    0.5        0.50   0.250        0.4"
      ]
     },
     "execution_count": 7,
     "metadata": {},
     "output_type": "execute_result"
    }
   ],
   "source": [
    "prob_data = table['unnorm'].sum()\n",
    "print(f\"P(D): {prob_data}\")\n",
    "\n",
    "table['posterior'] = table['unnorm'] / prob_data\n",
    "table"
   ]
  },
  {
   "cell_type": "markdown",
   "id": "6c2379cd-7f09-4004-a468-9ca17a608316",
   "metadata": {},
   "source": [
    "So this actually gives us the answer to both questions (probability it is from $B_1$ or $B_2$).\n",
    "\n",
    "Note that the sum of posteriors is 1, as it should be. By dividing through by the sum of the unnormalized posteriors, we normalized them!\n",
    "\n",
    "## Dice Problem\n",
    "\n",
    "> Say I have a box with a D6, D8, D12. I choose one at random, roll it, and say that the value is 1. What is the probability that I chose the D6?"
   ]
  },
  {
   "cell_type": "code",
   "execution_count": 9,
   "id": "2f2b55c7-4b08-40f5-921f-f18b73b79ba3",
   "metadata": {},
   "outputs": [
    {
     "data": {
      "text/html": [
       "<div>\n",
       "<style scoped>\n",
       "    .dataframe tbody tr th:only-of-type {\n",
       "        vertical-align: middle;\n",
       "    }\n",
       "\n",
       "    .dataframe tbody tr th {\n",
       "        vertical-align: top;\n",
       "    }\n",
       "\n",
       "    .dataframe thead th {\n",
       "        text-align: right;\n",
       "    }\n",
       "</style>\n",
       "<table border=\"1\" class=\"dataframe\">\n",
       "  <thead>\n",
       "    <tr style=\"text-align: right;\">\n",
       "      <th></th>\n",
       "      <th>prior</th>\n",
       "      <th>likelihood</th>\n",
       "      <th>unnorm</th>\n",
       "      <th>posterior</th>\n",
       "    </tr>\n",
       "  </thead>\n",
       "  <tbody>\n",
       "    <tr>\n",
       "      <th>6</th>\n",
       "      <td>1/3</td>\n",
       "      <td>1/6</td>\n",
       "      <td>1/18</td>\n",
       "      <td>4/9</td>\n",
       "    </tr>\n",
       "    <tr>\n",
       "      <th>8</th>\n",
       "      <td>1/3</td>\n",
       "      <td>1/8</td>\n",
       "      <td>1/24</td>\n",
       "      <td>1/3</td>\n",
       "    </tr>\n",
       "    <tr>\n",
       "      <th>12</th>\n",
       "      <td>1/3</td>\n",
       "      <td>1/12</td>\n",
       "      <td>1/36</td>\n",
       "      <td>2/9</td>\n",
       "    </tr>\n",
       "  </tbody>\n",
       "</table>\n",
       "</div>"
      ],
      "text/plain": [
       "   prior likelihood unnorm posterior\n",
       "6    1/3        1/6   1/18       4/9\n",
       "8    1/3        1/8   1/24       1/3\n",
       "12   1/3       1/12   1/36       2/9"
      ]
     },
     "execution_count": 9,
     "metadata": {},
     "output_type": "execute_result"
    }
   ],
   "source": [
    "from fractions import Fraction\n",
    "\n",
    "table2 = pd.DataFrame(index=[6, 8, 12])\n",
    "table2['prior'] = Fraction(1,3)\n",
    "table2['likelihood'] = (Fraction(1,6), Fraction(1,8), Fraction(1,12))\n",
    "table2['unnorm'] = table2['prior'] * table2['likelihood']\n",
    "table2['posterior'] = table2['unnorm'] / table2['unnorm'].sum()\n",
    "table2"
   ]
  },
  {
   "cell_type": "markdown",
   "id": "cedf187b-a178-4364-bef3-1616c65951d6",
   "metadata": {},
   "source": [
    "In fact, the process of updating the table will always be the same. Let's wrap it in a function!"
   ]
  },
  {
   "cell_type": "code",
   "execution_count": 10,
   "id": "79bc71b9-1aeb-4993-b4c9-db38bead868e",
   "metadata": {},
   "outputs": [],
   "source": [
    "def update(table):\n",
    "    \"\"\" Compute the posterior probabilities given the priors and likelihoods \"\"\"\n",
    "    table['unnorm'] = table['prior'] * table['likelihood']\n",
    "    prob_data = table['unnorm'].sum()\n",
    "    table['posterior'] = table['unnorm'] / prob_data\n",
    "    return prob_data"
   ]
  },
  {
   "cell_type": "markdown",
   "id": "e210f1b9-9242-4788-98c7-4fe8ad9ea5ea",
   "metadata": {},
   "source": [
    "## Monty Hall Problem\n",
    "\n",
    "> _Let's Make a Deal_: \n",
    ">\n",
    "> The host, Monty Hall, shows you three closed doors (1, 2, and 3), and tells you that there is a car behind one door and goats behind the other two.\n",
    ">\n",
    "> Say you choose Door 1. Before you decide, Monty Hall opens up Door 3 to show you a Goat. Then Monty offers you the choice of sticking with your original choice or switching. What should you do?"
   ]
  },
  {
   "cell_type": "code",
   "execution_count": 12,
   "id": "8c1cc403-1e08-445f-b879-454bd7ec45dc",
   "metadata": {},
   "outputs": [
    {
     "data": {
      "text/html": [
       "<div>\n",
       "<style scoped>\n",
       "    .dataframe tbody tr th:only-of-type {\n",
       "        vertical-align: middle;\n",
       "    }\n",
       "\n",
       "    .dataframe tbody tr th {\n",
       "        vertical-align: top;\n",
       "    }\n",
       "\n",
       "    .dataframe thead th {\n",
       "        text-align: right;\n",
       "    }\n",
       "</style>\n",
       "<table border=\"1\" class=\"dataframe\">\n",
       "  <thead>\n",
       "    <tr style=\"text-align: right;\">\n",
       "      <th></th>\n",
       "      <th>prior</th>\n",
       "      <th>likelihood</th>\n",
       "      <th>unnorm</th>\n",
       "      <th>posterior</th>\n",
       "    </tr>\n",
       "  </thead>\n",
       "  <tbody>\n",
       "    <tr>\n",
       "      <th>Bowl 1</th>\n",
       "      <td>0.5</td>\n",
       "      <td>0.75</td>\n",
       "      <td>0.375</td>\n",
       "      <td>0.6</td>\n",
       "    </tr>\n",
       "    <tr>\n",
       "      <th>Bowl 2</th>\n",
       "      <td>0.5</td>\n",
       "      <td>0.50</td>\n",
       "      <td>0.250</td>\n",
       "      <td>0.4</td>\n",
       "    </tr>\n",
       "  </tbody>\n",
       "</table>\n",
       "</div>"
      ],
      "text/plain": [
       "        prior  likelihood  unnorm  posterior\n",
       "Bowl 1    0.5        0.75   0.375        0.6\n",
       "Bowl 2    0.5        0.50   0.250        0.4"
      ]
     },
     "execution_count": 12,
     "metadata": {},
     "output_type": "execute_result"
    }
   ],
   "source": [
    "table3 = pd.DataFrame(index=['Door 1', 'Door 2', 'Door 3'])\n",
    "table3['prior'] = Fraction(1,3)\n",
    "table"
   ]
  },
  {
   "cell_type": "markdown",
   "id": "348d6ef5-e478-4c9d-a4b5-ca113cab39cb",
   "metadata": {},
   "source": [
    "The data that we have is that Monty opened Door 3 and revealed a goat. So let's consider the probability of that happening under each hypothesis:\n",
    "1. Car behind Door 1: Monty chooses Door 2 or Door 3 at random, so the probability is 1/2\n",
    "1. Car behind Door 2: Monty must choose Door 3, so probability is 1\n",
    "1. Car behind Door 3: Monty will not open it, so probability is 0"
   ]
  },
  {
   "cell_type": "code",
   "execution_count": 13,
   "id": "8e0a5344-3883-4b5c-9fb2-5868aa7f13df",
   "metadata": {},
   "outputs": [
    {
     "data": {
      "text/html": [
       "<div>\n",
       "<style scoped>\n",
       "    .dataframe tbody tr th:only-of-type {\n",
       "        vertical-align: middle;\n",
       "    }\n",
       "\n",
       "    .dataframe tbody tr th {\n",
       "        vertical-align: top;\n",
       "    }\n",
       "\n",
       "    .dataframe thead th {\n",
       "        text-align: right;\n",
       "    }\n",
       "</style>\n",
       "<table border=\"1\" class=\"dataframe\">\n",
       "  <thead>\n",
       "    <tr style=\"text-align: right;\">\n",
       "      <th></th>\n",
       "      <th>prior</th>\n",
       "      <th>likelihood</th>\n",
       "      <th>unnorm</th>\n",
       "      <th>posterior</th>\n",
       "    </tr>\n",
       "  </thead>\n",
       "  <tbody>\n",
       "    <tr>\n",
       "      <th>Door 1</th>\n",
       "      <td>1/3</td>\n",
       "      <td>1/2</td>\n",
       "      <td>1/6</td>\n",
       "      <td>1/3</td>\n",
       "    </tr>\n",
       "    <tr>\n",
       "      <th>Door 2</th>\n",
       "      <td>1/3</td>\n",
       "      <td>1</td>\n",
       "      <td>1/3</td>\n",
       "      <td>2/3</td>\n",
       "    </tr>\n",
       "    <tr>\n",
       "      <th>Door 3</th>\n",
       "      <td>1/3</td>\n",
       "      <td>0</td>\n",
       "      <td>0</td>\n",
       "      <td>0</td>\n",
       "    </tr>\n",
       "  </tbody>\n",
       "</table>\n",
       "</div>"
      ],
      "text/plain": [
       "       prior likelihood unnorm posterior\n",
       "Door 1   1/3        1/2    1/6       1/3\n",
       "Door 2   1/3          1    1/3       2/3\n",
       "Door 3   1/3          0      0         0"
      ]
     },
     "execution_count": 13,
     "metadata": {},
     "output_type": "execute_result"
    }
   ],
   "source": [
    "table3['likelihood'] = (Fraction(1,2), 1, 0)\n",
    "update(table3)\n",
    "table3"
   ]
  },
  {
   "cell_type": "markdown",
   "id": "f8717d02-2103-4645-9fe4-2347200c0a70",
   "metadata": {},
   "source": [
    "This tells us that given the data, there is 1/3 chance of the car being behind Door 1 (the one we selected) and a 2/3 chance of being behind Door 2: it is fairly clear that we should switch!\n",
    "\n",
    "## Exercises"
   ]
  },
  {
   "cell_type": "markdown",
   "id": "c6730173-4c03-47e8-a7a3-69e7d38becdf",
   "metadata": {},
   "source": [
    "### Exercise 2-1\n",
    "> Suppose you have two coins in a box. One is a normal coin, and the other is a trick coin with two heads. You pick a coin at random and flip it. The result is a Heads. That is the probability that you chose the trick coin?"
   ]
  },
  {
   "cell_type": "code",
   "execution_count": 14,
   "id": "503b9ff3-cefd-4116-af34-fb5e086e6b78",
   "metadata": {},
   "outputs": [
    {
     "data": {
      "text/html": [
       "<div>\n",
       "<style scoped>\n",
       "    .dataframe tbody tr th:only-of-type {\n",
       "        vertical-align: middle;\n",
       "    }\n",
       "\n",
       "    .dataframe tbody tr th {\n",
       "        vertical-align: top;\n",
       "    }\n",
       "\n",
       "    .dataframe thead th {\n",
       "        text-align: right;\n",
       "    }\n",
       "</style>\n",
       "<table border=\"1\" class=\"dataframe\">\n",
       "  <thead>\n",
       "    <tr style=\"text-align: right;\">\n",
       "      <th></th>\n",
       "      <th>prior</th>\n",
       "      <th>likelihood</th>\n",
       "      <th>unnorm</th>\n",
       "      <th>posterior</th>\n",
       "    </tr>\n",
       "  </thead>\n",
       "  <tbody>\n",
       "    <tr>\n",
       "      <th>Normal</th>\n",
       "      <td>1/2</td>\n",
       "      <td>1/2</td>\n",
       "      <td>1/4</td>\n",
       "      <td>1/3</td>\n",
       "    </tr>\n",
       "    <tr>\n",
       "      <th>Trick</th>\n",
       "      <td>1/2</td>\n",
       "      <td>1</td>\n",
       "      <td>1/2</td>\n",
       "      <td>2/3</td>\n",
       "    </tr>\n",
       "  </tbody>\n",
       "</table>\n",
       "</div>"
      ],
      "text/plain": [
       "       prior likelihood unnorm posterior\n",
       "Normal   1/2        1/2    1/4       1/3\n",
       "Trick    1/2          1    1/2       2/3"
      ]
     },
     "execution_count": 14,
     "metadata": {},
     "output_type": "execute_result"
    }
   ],
   "source": [
    "table2_1 = pd.DataFrame(index=[\"Normal\", \"Trick\"])\n",
    "table2_1['prior'] = Fraction(1,2)\n",
    "table2_1['likelihood'] = (Fraction(1,2), 1)\n",
    "update(table2_1)\n",
    "table2_1"
   ]
  },
  {
   "cell_type": "markdown",
   "id": "fdff1128-2b14-4a81-8d61-dea677cb2ed0",
   "metadata": {},
   "source": [
    "So the likelihood is 2/3 that it was the trick coin."
   ]
  },
  {
   "cell_type": "markdown",
   "id": "5f05c57d-3a2f-43a6-a8a3-2dca382e1de2",
   "metadata": {},
   "source": [
    "### Exercise 2-2\n",
    "> Suppose you meet someone and learn that they have two children. You ask if either child is a girl and they say yes. What is the probability that both are girls?"
   ]
  },
  {
   "cell_type": "code",
   "execution_count": 15,
   "id": "330be524-1eff-459b-b47a-b974c79d6c32",
   "metadata": {},
   "outputs": [
    {
     "data": {
      "text/html": [
       "<div>\n",
       "<style scoped>\n",
       "    .dataframe tbody tr th:only-of-type {\n",
       "        vertical-align: middle;\n",
       "    }\n",
       "\n",
       "    .dataframe tbody tr th {\n",
       "        vertical-align: top;\n",
       "    }\n",
       "\n",
       "    .dataframe thead th {\n",
       "        text-align: right;\n",
       "    }\n",
       "</style>\n",
       "<table border=\"1\" class=\"dataframe\">\n",
       "  <thead>\n",
       "    <tr style=\"text-align: right;\">\n",
       "      <th></th>\n",
       "      <th>prior</th>\n",
       "      <th>likelihood</th>\n",
       "      <th>unnorm</th>\n",
       "      <th>posterior</th>\n",
       "    </tr>\n",
       "  </thead>\n",
       "  <tbody>\n",
       "    <tr>\n",
       "      <th>GG</th>\n",
       "      <td>1/4</td>\n",
       "      <td>1</td>\n",
       "      <td>1/4</td>\n",
       "      <td>1/3</td>\n",
       "    </tr>\n",
       "    <tr>\n",
       "      <th>GB</th>\n",
       "      <td>1/4</td>\n",
       "      <td>1</td>\n",
       "      <td>1/4</td>\n",
       "      <td>1/3</td>\n",
       "    </tr>\n",
       "    <tr>\n",
       "      <th>BG</th>\n",
       "      <td>1/4</td>\n",
       "      <td>1</td>\n",
       "      <td>1/4</td>\n",
       "      <td>1/3</td>\n",
       "    </tr>\n",
       "    <tr>\n",
       "      <th>BB</th>\n",
       "      <td>1/4</td>\n",
       "      <td>0</td>\n",
       "      <td>0</td>\n",
       "      <td>0</td>\n",
       "    </tr>\n",
       "  </tbody>\n",
       "</table>\n",
       "</div>"
      ],
      "text/plain": [
       "   prior  likelihood unnorm posterior\n",
       "GG   1/4           1    1/4       1/3\n",
       "GB   1/4           1    1/4       1/3\n",
       "BG   1/4           1    1/4       1/3\n",
       "BB   1/4           0      0         0"
      ]
     },
     "execution_count": 15,
     "metadata": {},
     "output_type": "execute_result"
    }
   ],
   "source": [
    "table2_2 = pd.DataFrame(index=['GG', 'GB', 'BG', 'BB'])\n",
    "table2_2['prior'] = Fraction(1,4)\n",
    "table2_2['likelihood'] = (1, 1, 1, 0)\n",
    "update(table2_2)\n",
    "table2_2"
   ]
  },
  {
   "cell_type": "markdown",
   "id": "2d4b6346-e108-4164-9f58-359125b9197c",
   "metadata": {},
   "source": [
    "So the probability that they have two girls is 1/3."
   ]
  },
  {
   "cell_type": "markdown",
   "id": "80763696-8bc2-4cfb-a101-c168e06f8be8",
   "metadata": {},
   "source": [
    "### Exercise 2-3\n",
    "> There are many variations on the Monty Hall problem. For example, say Monty always chooses Door 2 unless he can't (the car is behind Door 2), and only chooses Door 3 if he has to.\n",
    "1. If you choose Door 1 and Monty opens Door 2, what is the probability that the car is behind Door 3?\n",
    "1. If you choose Door 1 and Monty opens Door 3, what is the probability that the car is behind Door 2?"
   ]
  },
  {
   "cell_type": "code",
   "execution_count": 16,
   "id": "a6c98a86-edce-44a5-ad6f-1dc4cb00f21d",
   "metadata": {},
   "outputs": [],
   "source": [
    "table2_3_1 = pd.DataFrame(index=['Door 1', 'Door 2', 'Door 3'])\n",
    "table2_3_1['prior'] = Fraction(1,3)"
   ]
  },
  {
   "cell_type": "markdown",
   "id": "b3db9848-13fd-4d1d-9c16-0579ecd0f62c",
   "metadata": {},
   "source": [
    "- Car behind door 1: probability is 1\n",
    "- Car behind door 2: p -> 0\n",
    "- Car behind door 3: Probability is 1"
   ]
  },
  {
   "cell_type": "code",
   "execution_count": 17,
   "id": "c14da197-687c-412c-a194-3993abcb980b",
   "metadata": {},
   "outputs": [
    {
     "data": {
      "text/html": [
       "<div>\n",
       "<style scoped>\n",
       "    .dataframe tbody tr th:only-of-type {\n",
       "        vertical-align: middle;\n",
       "    }\n",
       "\n",
       "    .dataframe tbody tr th {\n",
       "        vertical-align: top;\n",
       "    }\n",
       "\n",
       "    .dataframe thead th {\n",
       "        text-align: right;\n",
       "    }\n",
       "</style>\n",
       "<table border=\"1\" class=\"dataframe\">\n",
       "  <thead>\n",
       "    <tr style=\"text-align: right;\">\n",
       "      <th></th>\n",
       "      <th>prior</th>\n",
       "      <th>likelihood</th>\n",
       "      <th>unnorm</th>\n",
       "      <th>posterior</th>\n",
       "    </tr>\n",
       "  </thead>\n",
       "  <tbody>\n",
       "    <tr>\n",
       "      <th>Door 1</th>\n",
       "      <td>1/3</td>\n",
       "      <td>1</td>\n",
       "      <td>1/3</td>\n",
       "      <td>1/2</td>\n",
       "    </tr>\n",
       "    <tr>\n",
       "      <th>Door 2</th>\n",
       "      <td>1/3</td>\n",
       "      <td>0</td>\n",
       "      <td>0</td>\n",
       "      <td>0</td>\n",
       "    </tr>\n",
       "    <tr>\n",
       "      <th>Door 3</th>\n",
       "      <td>1/3</td>\n",
       "      <td>1</td>\n",
       "      <td>1/3</td>\n",
       "      <td>1/2</td>\n",
       "    </tr>\n",
       "  </tbody>\n",
       "</table>\n",
       "</div>"
      ],
      "text/plain": [
       "       prior  likelihood unnorm posterior\n",
       "Door 1   1/3           1    1/3       1/2\n",
       "Door 2   1/3           0      0         0\n",
       "Door 3   1/3           1    1/3       1/2"
      ]
     },
     "execution_count": 17,
     "metadata": {},
     "output_type": "execute_result"
    }
   ],
   "source": [
    "table2_3_1['likelihood'] = (1, 0, 1)\n",
    "update(table2_3_1)\n",
    "table2_3_1"
   ]
  },
  {
   "cell_type": "markdown",
   "id": "e4233880-5f74-4756-81b5-9843447940fb",
   "metadata": {},
   "source": [
    "So now the probability is 1/2!"
   ]
  },
  {
   "cell_type": "code",
   "execution_count": 18,
   "id": "8be6eb9d-5193-43be-b5d5-2a93923f00d4",
   "metadata": {},
   "outputs": [],
   "source": [
    "table2_3_2 = pd.DataFrame(index=['Door 1', 'Door 2', 'Door 3'])\n",
    "table2_3_2['prior'] = Fraction(1,3)"
   ]
  },
  {
   "cell_type": "markdown",
   "id": "5c1d3ae2-730f-4884-9120-b9a7588b357f",
   "metadata": {},
   "source": [
    "- Car behind door 1: p <- 0\n",
    "- Car behind door 2: p <- 1 \n",
    "- Car behind door 3: p <- 0"
   ]
  },
  {
   "cell_type": "code",
   "execution_count": 19,
   "id": "1e67ef52-bb0d-4c75-9e56-6fc2c485e407",
   "metadata": {},
   "outputs": [
    {
     "data": {
      "text/html": [
       "<div>\n",
       "<style scoped>\n",
       "    .dataframe tbody tr th:only-of-type {\n",
       "        vertical-align: middle;\n",
       "    }\n",
       "\n",
       "    .dataframe tbody tr th {\n",
       "        vertical-align: top;\n",
       "    }\n",
       "\n",
       "    .dataframe thead th {\n",
       "        text-align: right;\n",
       "    }\n",
       "</style>\n",
       "<table border=\"1\" class=\"dataframe\">\n",
       "  <thead>\n",
       "    <tr style=\"text-align: right;\">\n",
       "      <th></th>\n",
       "      <th>prior</th>\n",
       "      <th>likelihood</th>\n",
       "      <th>unnorm</th>\n",
       "      <th>posterior</th>\n",
       "    </tr>\n",
       "  </thead>\n",
       "  <tbody>\n",
       "    <tr>\n",
       "      <th>Door 1</th>\n",
       "      <td>1/3</td>\n",
       "      <td>0</td>\n",
       "      <td>0</td>\n",
       "      <td>0</td>\n",
       "    </tr>\n",
       "    <tr>\n",
       "      <th>Door 2</th>\n",
       "      <td>1/3</td>\n",
       "      <td>1</td>\n",
       "      <td>1/3</td>\n",
       "      <td>1</td>\n",
       "    </tr>\n",
       "    <tr>\n",
       "      <th>Door 3</th>\n",
       "      <td>1/3</td>\n",
       "      <td>0</td>\n",
       "      <td>0</td>\n",
       "      <td>0</td>\n",
       "    </tr>\n",
       "  </tbody>\n",
       "</table>\n",
       "</div>"
      ],
      "text/plain": [
       "       prior  likelihood unnorm posterior\n",
       "Door 1   1/3           0      0         0\n",
       "Door 2   1/3           1    1/3         1\n",
       "Door 3   1/3           0      0         0"
      ]
     },
     "execution_count": 19,
     "metadata": {},
     "output_type": "execute_result"
    }
   ],
   "source": [
    "table2_3_2['likelihood'] = (0, 1, 0)\n",
    "update(table2_3_2)\n",
    "table2_3_2"
   ]
  },
  {
   "cell_type": "markdown",
   "id": "57082ef9-3f08-4ccb-bab6-6ad06e86670c",
   "metadata": {},
   "source": [
    "So now we know for certain that the car is behind Door 2!"
   ]
  },
  {
   "cell_type": "markdown",
   "id": "ebf64e6e-fbb0-4b61-b4ed-6d0a4b6ae0f5",
   "metadata": {},
   "source": [
    "### Exercise 2-4\n",
    "\n",
    "> M&Ms are coloured candies! However, they change the mixture of candies over time\n",
    "> - 1994: Brown 30%, Yellow 20%, Red 20%, Green 10%, Tan 10%\n",
    "> - 1996: Blue 24%, Green 20%, Orange 16%, Yellow 14%, Red 13%, Brown 13%\n",
    "> Suppose a friend has two bags: one from 1994 and on from 1996. He gives me one from each bag. One is yellow and one is green. What is the probability that the yellow one came from the 1994 bag?\n",
    "\n",
    "Data: one yellow, one green\n",
    "Hypotheses:\n",
    "1. 1994 Y, 1996 G\n",
    "2. 1994 G, 1996 Y"
   ]
  },
  {
   "cell_type": "code",
   "execution_count": 20,
   "id": "188c4ca9-b477-4202-bd6b-1676979b5f14",
   "metadata": {},
   "outputs": [
    {
     "data": {
      "text/html": [
       "<div>\n",
       "<style scoped>\n",
       "    .dataframe tbody tr th:only-of-type {\n",
       "        vertical-align: middle;\n",
       "    }\n",
       "\n",
       "    .dataframe tbody tr th {\n",
       "        vertical-align: top;\n",
       "    }\n",
       "\n",
       "    .dataframe thead th {\n",
       "        text-align: right;\n",
       "    }\n",
       "</style>\n",
       "<table border=\"1\" class=\"dataframe\">\n",
       "  <thead>\n",
       "    <tr style=\"text-align: right;\">\n",
       "      <th></th>\n",
       "      <th>prior</th>\n",
       "      <th>likelihood</th>\n",
       "      <th>unnorm</th>\n",
       "      <th>posterior</th>\n",
       "    </tr>\n",
       "  </thead>\n",
       "  <tbody>\n",
       "    <tr>\n",
       "      <th>YG</th>\n",
       "      <td>1/2</td>\n",
       "      <td>1</td>\n",
       "      <td>1/2</td>\n",
       "      <td>1/2</td>\n",
       "    </tr>\n",
       "    <tr>\n",
       "      <th>GY</th>\n",
       "      <td>1/2</td>\n",
       "      <td>1</td>\n",
       "      <td>1/2</td>\n",
       "      <td>1/2</td>\n",
       "    </tr>\n",
       "  </tbody>\n",
       "</table>\n",
       "</div>"
      ],
      "text/plain": [
       "   prior  likelihood unnorm posterior\n",
       "YG   1/2           1    1/2       1/2\n",
       "GY   1/2           1    1/2       1/2"
      ]
     },
     "execution_count": 20,
     "metadata": {},
     "output_type": "execute_result"
    }
   ],
   "source": [
    "table2_4 = pd.DataFrame(index=[\"YG\", \"GY\"])\n",
    "table2_4['prior'] = Fraction(1, 2)\n",
    "table2_4['likelihood'] = 1\n",
    "update(table2_4)\n",
    "table2_4"
   ]
  },
  {
   "cell_type": "markdown",
   "id": "8479aa25-823e-4127-8124-d0a25b96ba1a",
   "metadata": {},
   "source": [
    "So this would indicate that the probability that the yellow one is from 1994 is 1/2. But this seems wrong... This is basically the probability that, given there is one yellow and one green, that they yellow is from 1994. But that is AFTER seeing the data - that is where I went wrong!\n",
    "\n",
    "Means that that prior is wrong. Prior: What is the probability of picking a yellow from the 1994 bag and a green from the 1996 bag?\n",
    "\n",
    "---\n",
    "\n",
    "New attempt\n",
    "\n",
    "Data: there is one yellow and one green M&M\n",
    "\n",
    "Hypotheses:\n",
    "1. 1994: Y, 1996: G -> this is *the* hypothesis\n",
    "1. 1994: G, 1996: Y"
   ]
  },
  {
   "cell_type": "code",
   "execution_count": 21,
   "id": "78622be9-325c-4716-b95c-8f9b933fe537",
   "metadata": {},
   "outputs": [
    {
     "data": {
      "text/html": [
       "<div>\n",
       "<style scoped>\n",
       "    .dataframe tbody tr th:only-of-type {\n",
       "        vertical-align: middle;\n",
       "    }\n",
       "\n",
       "    .dataframe tbody tr th {\n",
       "        vertical-align: top;\n",
       "    }\n",
       "\n",
       "    .dataframe thead th {\n",
       "        text-align: right;\n",
       "    }\n",
       "</style>\n",
       "<table border=\"1\" class=\"dataframe\">\n",
       "  <thead>\n",
       "    <tr style=\"text-align: right;\">\n",
       "      <th></th>\n",
       "      <th>prior</th>\n",
       "      <th>likelihood</th>\n",
       "      <th>unnorm</th>\n",
       "      <th>posterior</th>\n",
       "    </tr>\n",
       "  </thead>\n",
       "  <tbody>\n",
       "    <tr>\n",
       "      <th>YG</th>\n",
       "      <td>0.040</td>\n",
       "      <td>1</td>\n",
       "      <td>0.040</td>\n",
       "      <td>0.740741</td>\n",
       "    </tr>\n",
       "    <tr>\n",
       "      <th>GY</th>\n",
       "      <td>0.014</td>\n",
       "      <td>1</td>\n",
       "      <td>0.014</td>\n",
       "      <td>0.259259</td>\n",
       "    </tr>\n",
       "  </tbody>\n",
       "</table>\n",
       "</div>"
      ],
      "text/plain": [
       "    prior  likelihood  unnorm  posterior\n",
       "YG  0.040           1   0.040   0.740741\n",
       "GY  0.014           1   0.014   0.259259"
      ]
     },
     "execution_count": 21,
     "metadata": {},
     "output_type": "execute_result"
    }
   ],
   "source": [
    "table2_4 = pd.DataFrame(index=[\"YG\", \"GY\"])\n",
    "table2_4['prior'] = (0.2 * 0.2, 0.1 * 0.14)\n",
    "table2_4['likelihood'] = 1\n",
    "update(table2_4)\n",
    "table2_4"
   ]
  },
  {
   "cell_type": "markdown",
   "id": "93301484-9665-438e-a10d-934a0703abf8",
   "metadata": {},
   "source": [
    "So the probability is 0.74 that the yellow one came from the 1994 bag. This still seems wrong..."
   ]
  }
 ],
 "metadata": {
  "kernelspec": {
   "display_name": "Python 3 (ipykernel)",
   "language": "python",
   "name": "python3"
  },
  "language_info": {
   "codemirror_mode": {
    "name": "ipython",
    "version": 3
   },
   "file_extension": ".py",
   "mimetype": "text/x-python",
   "name": "python",
   "nbconvert_exporter": "python",
   "pygments_lexer": "ipython3",
   "version": "3.8.5"
  }
 },
 "nbformat": 4,
 "nbformat_minor": 5
}
