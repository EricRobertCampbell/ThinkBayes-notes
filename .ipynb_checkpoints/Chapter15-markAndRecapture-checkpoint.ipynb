{
 "cells": [
  {
   "cell_type": "markdown",
   "id": "0b78169b-1984-4a9a-95a0-30fa613424e3",
   "metadata": {},
   "source": [
    "# Chapter 15 - Mark and Recapture\n",
    "\n",
    "- Sample some things from a population, mark them, and then take another sample to see how many of those are ones that we previously captured.\n",
    "- Originally used in ecology, but have applications in lots of other fields\n",
    "- Also we'll use a distribution with three paramters\n",
    "\n",
    "## The Grizzly Bear Problem\n",
    "\n",
    "- Researchers deployed \"traps\" to capture the hair of grizzly bears\n",
    "- First session: identified 23 different bears\n",
    "- Second session: 19 different bears, of which 4 had previously been captured\n",
    "\n",
    "To estimate the population, let's start with the assumption that each bear has roughly the same probability of being captured.\n",
    "\n",
    "To start, let's assume that the actual population is 100.\n",
    "\n",
    "After the first session, 23 of the 100 bears have been identified. During the second session, if we choose 19 bears at random, what is the probability that 4 of them were previously defined?\n",
    "\n",
    "Define:\n",
    "- $N$, the actual population: 100\n",
    "- $K$, the number of bears identified in the first session: 23\n",
    "- $n$, the number of bears identified in the second session: 19\n",
    "- $k$, the number of bears in the second session that were previously identified: 4\n",
    "\n",
    "For given values of $N$, $K$, and $n$, the probability of finding $k$ previously-identified bears if given by the hypergeometric distribution:\n",
    "\n",
    "$$\n",
    "\\frac{\\binom{K}{k} \\binom{N-K}{n-k}}{\\binom{N}{n}}\n",
    "$$\n",
    "\n",
    "`scipy.stats` contains the `hypergeom` to compute this:"
   ]
  },
  {
   "cell_type": "code",
   "execution_count": 1,
   "id": "9d6a6f49-41af-4d03-9abc-bd2de4496445",
   "metadata": {},
   "outputs": [
    {
     "data": {
      "text/plain": [
       "<AxesSubplot:>"
      ]
     },
     "execution_count": 1,
     "metadata": {},
     "output_type": "execute_result"
    },
    {
     "data": {
      "image/png": "[encoded data removed]",
      "text/plain": [
       "<Figure size 432x288 with 1 Axes>"
      ]
     },
     "metadata": {
      "needs_background": "light"
     },
     "output_type": "display_data"
    }
   ],
   "source": [
    "import numpy as np\n",
    "from empiricaldist import Pmf\n",
    "from scipy.stats import hypergeom\n",
    "\n",
    "N = 100\n",
    "K = 23\n",
    "n = 19\n",
    "\n",
    "ks = np.arange(12)\n",
    "ps = hypergeom(N, K, n).pmf(ks)\n",
    "pmf = Pmf(ps, ks)\n",
    "pmf.plot(kind=\"bar\")"
   ]
  },
  {
   "cell_type": "markdown",
   "id": "eb383ea9-0f89-4dd3-bb27-4557c040f7f1",
   "metadata": {},
   "source": [
    "## The Update\n",
    "\n",
    "Let's say that an expert estimates that the true population is between 50 and 500, and is equally likely to be any value in that range."
   ]
  },
  {
   "cell_type": "code",
   "execution_count": 2,
   "id": "63422bf6-419e-4015-a26f-cc42ad4195be",
   "metadata": {},
   "outputs": [
    {
     "data": {
      "text/plain": [
       "(451,)"
      ]
     },
     "execution_count": 2,
     "metadata": {},
     "output_type": "execute_result"
    }
   ],
   "source": [
    "from utils import make_uniform\n",
    "\n",
    "qs = np.arange(50, 501)\n",
    "prior_N = make_uniform(qs)\n",
    "prior_N.shape"
   ]
  },
  {
   "cell_type": "code",
   "execution_count": 3,
   "id": "38bbbd95-b5d2-444b-a4a3-255101af0675",
   "metadata": {},
   "outputs": [
    {
     "data": {
      "text/plain": [
       "<AxesSubplot:>"
      ]
     },
     "execution_count": 3,
     "metadata": {},
     "output_type": "execute_result"
    },
    {
     "data": {
      "image/png": "[encoded data removed]",
      "text/plain": [
       "<Figure size 432x288 with 1 Axes>"
      ]
     },
     "metadata": {
      "needs_background": "light"
     },
     "output_type": "display_data"
    }
   ],
   "source": [
    "# to compute the likelihood:\n",
    "Ns = prior_N.qs\n",
    "K = 23\n",
    "n = 19\n",
    "k = 4\n",
    "\n",
    "likelihood = hypergeom(Ns, K, n).pmf(k)\n",
    "\n",
    "posterior_N = prior_N * likelihood\n",
    "posterior_N.normalize()\n",
    "posterior_N.plot()"
   ]
  },
  {
   "cell_type": "code",
   "execution_count": 4,
   "id": "7ffb55ee-d037-4501-ad53-dd6df0465d06",
   "metadata": {},
   "outputs": [
    {
     "data": {
      "text/plain": [
       "109"
      ]
     },
     "execution_count": 4,
     "metadata": {},
     "output_type": "execute_result"
    }
   ],
   "source": [
    "posterior_N.max_prob()"
   ]
  },
  {
   "cell_type": "code",
   "execution_count": 5,
   "id": "df1a76de-8986-4a7c-b7fe-adc466353fcf",
   "metadata": {},
   "outputs": [
    {
     "data": {
      "text/plain": [
       "173.79880627085637"
      ]
     },
     "execution_count": 5,
     "metadata": {},
     "output_type": "execute_result"
    }
   ],
   "source": [
    "posterior_N.mean()"
   ]
  },
  {
   "cell_type": "code",
   "execution_count": 6,
   "id": "cfe4acb8-8a1e-4fa4-abd3-dce1fc979083",
   "metadata": {},
   "outputs": [
    {
     "data": {
      "text/plain": [
       "array([ 77., 363.])"
      ]
     },
     "execution_count": 6,
     "metadata": {},
     "output_type": "execute_result"
    }
   ],
   "source": [
    "posterior_N.credible_interval(0.9)"
   ]
  },
  {
   "cell_type": "markdown",
   "id": "f2f5d77e-5fcc-4e21-806f-fb07adb65eba",
   "metadata": {},
   "source": [
    "This solution is pretty simple, but it turns out that we can do better if we model the unknown probability of observing a bear explicitly.\n",
    "\n",
    "## Two-Parameter Model\n",
    "Let's try a model with two parameters:\n",
    "- $N$, the population\n",
    "- $p$, the probability of observing a bear\n",
    "\n",
    "We'll assume that $p$ is the same for both rounds, which seems reasonable since the traps were in the same location, &c.\n",
    "\n",
    "We'll also assume that the $p$s are independent (that is, the probability of a bear being seen in round 2 is the same regardless of whether it was seen in round 1. A little suspect, but we'll go with it."
   ]
  },
  {
   "cell_type": "code",
   "execution_count": 7,
   "id": "6c81e326-073e-4570-8150-5c802163a2b1",
   "metadata": {},
   "outputs": [
    {
     "data": {
      "text/plain": [
       "62"
      ]
     },
     "execution_count": 7,
     "metadata": {},
     "output_type": "execute_result"
    }
   ],
   "source": [
    "# k10 - number of bears observed in round 1 but not round 2\n",
    "# k01 - number observed in the second round but not the first\n",
    "# k11 - number observed in both\n",
    "\n",
    "k10 = 23 - 4\n",
    "k01 = 19 - 4\n",
    "k11 = 4\n",
    "\n",
    "# If we knew the actual values of N and p. Then we could calculate the likelihood:\n",
    "N = 100\n",
    "observed = k01 + k10 + k11\n",
    "k00 = N - observed\n",
    "k00"
   ]
  },
  {
   "cell_type": "code",
   "execution_count": 8,
   "id": "bc5019eb-a678-46aa-bfdc-22c978dc8006",
   "metadata": {},
   "outputs": [
    {
     "data": {
      "text/plain": [
       "[62, 15, 19, 4]"
      ]
     },
     "execution_count": 8,
     "metadata": {},
     "output_type": "execute_result"
    }
   ],
   "source": [
    "# store the results in a list representing the number of bears in each category\n",
    "x = [k00, k01, k10,  k11]\n",
    "x"
   ]
  },
  {
   "cell_type": "code",
   "execution_count": 9,
   "id": "95026828-8c7d-4e5e-938f-5bf9aa1856cb",
   "metadata": {},
   "outputs": [
    {
     "data": {
      "text/plain": [
       "[0.6400000000000001,\n",
       " 0.16000000000000003,\n",
       " 0.16000000000000003,\n",
       " 0.04000000000000001]"
      ]
     },
     "execution_count": 9,
     "metadata": {},
     "output_type": "execute_result"
    }
   ],
   "source": [
    "# now let's pretend that we know the p = 0.2, and calculate the probability of a bear being in each category:\n",
    "p = 0.2\n",
    "q = 1 - p\n",
    "y = [q*q, p*q, q*p, p*p] # probabilities of being in each category\n",
    "y"
   ]
  },
  {
   "cell_type": "markdown",
   "id": "1e93000b-4965-46ff-a59a-b785948f93dd",
   "metadata": {},
   "source": [
    "Now, the probability of the data is given by the multinomial distribution:\n",
    "\n",
    "$$\n",
    "\\frac{N!}{\\Pi x_i!} \\Pi y_i^{x_i}\n",
    "$$"
   ]
  },
  {
   "cell_type": "code",
   "execution_count": 10,
   "id": "30d0d25c-4dd7-4f88-a624-b7add849d06c",
   "metadata": {},
   "outputs": [
    {
     "data": {
      "text/plain": [
       "0.0016664011988507257"
      ]
     },
     "execution_count": 10,
     "metadata": {},
     "output_type": "execute_result"
    }
   ],
   "source": [
    "from scipy.stats import multinomial\n",
    "\n",
    "likelihood = multinomial.pmf(x, N, y)\n",
    "likelihood"
   ]
  },
  {
   "cell_type": "markdown",
   "id": "f17587f1-e270-41e4-8cc5-14012c559606",
   "metadata": {},
   "source": [
    "of course, we don't know N or p, so we'll choose prior distributions for N and p and go from there\n",
    "\n",
    "## The Prior\n",
    "\n",
    "We'll use `prior_N` again from before, and a uniform prior for $p$"
   ]
  },
  {
   "cell_type": "code",
   "execution_count": 11,
   "id": "7560ddc9-b4cd-4481-a2cf-8b155f083348",
   "metadata": {},
   "outputs": [
    {
     "data": {
      "text/plain": [
       "(451, 100)"
      ]
     },
     "execution_count": 11,
     "metadata": {},
     "output_type": "execute_result"
    }
   ],
   "source": [
    "qs = np.linspace(0, 0.99, num=100)\n",
    "prior_p = make_uniform(qs)\n",
    "\n",
    "# and now the joint\n",
    "from utils import make_joint\n",
    "joint_prior = make_joint(prior_p, prior_N)\n",
    "joint_prior.shape"
   ]
  },
  {
   "cell_type": "markdown",
   "id": "95b614b4-234e-4552-a42f-45b0e7c568b5",
   "metadata": {},
   "source": [
    "This is a `DataFrame` - apparently it is easier if we treat it as a 1D array with a `MultiIndex`"
   ]
  },
  {
   "cell_type": "code",
   "execution_count": 12,
   "id": "53fd50e8-6df7-4936-8534-f0f6a6f94a7f",
   "metadata": {},
   "outputs": [
    {
     "data": {
      "text/html": [
       "<div>\n",
       "<style scoped>\n",
       "    .dataframe tbody tr th:only-of-type {\n",
       "        vertical-align: middle;\n",
       "    }\n",
       "\n",
       "    .dataframe tbody tr th {\n",
       "        vertical-align: top;\n",
       "    }\n",
       "\n",
       "    .dataframe thead th {\n",
       "        text-align: right;\n",
       "    }\n",
       "</style>\n",
       "<table border=\"1\" class=\"dataframe\">\n",
       "  <thead>\n",
       "    <tr style=\"text-align: right;\">\n",
       "      <th></th>\n",
       "      <th></th>\n",
       "      <th>probs</th>\n",
       "    </tr>\n",
       "  </thead>\n",
       "  <tbody>\n",
       "    <tr>\n",
       "      <th rowspan=\"3\" valign=\"top\">50</th>\n",
       "      <th>0.00</th>\n",
       "      <td>0.000022</td>\n",
       "    </tr>\n",
       "    <tr>\n",
       "      <th>0.01</th>\n",
       "      <td>0.000022</td>\n",
       "    </tr>\n",
       "    <tr>\n",
       "      <th>0.02</th>\n",
       "      <td>0.000022</td>\n",
       "    </tr>\n",
       "  </tbody>\n",
       "</table>\n",
       "</div>"
      ],
      "text/plain": [
       "50  0.00    0.000022\n",
       "    0.01    0.000022\n",
       "    0.02    0.000022\n",
       "Name: , dtype: float64"
      ]
     },
     "execution_count": 12,
     "metadata": {},
     "output_type": "execute_result"
    }
   ],
   "source": [
    "joint_pmf = Pmf(joint_prior.stack())\n",
    "joint_pmf.head()"
   ]
  },
  {
   "cell_type": "markdown",
   "id": "a6fad7ff-05e5-45e7-a68b-a857a00f0b18",
   "metadata": {},
   "source": [
    "(The MultiIndex has values of `N` in the first place and values of `p` in the second)\n",
    "\n",
    "Now we have to compute the likelihood of the data for each pair of parameters.\n",
    "\n",
    "## The Update"
   ]
  },
  {
   "cell_type": "code",
   "execution_count": 13,
   "id": "994cfdf7-6896-48a7-aa05-d022fdc94123",
   "metadata": {},
   "outputs": [
    {
     "data": {
      "image/png": "[encoded data removed]",
      "text/plain": [
       "<Figure size 432x288 with 1 Axes>"
      ]
     },
     "metadata": {
      "needs_background": "light"
     },
     "output_type": "display_data"
    }
   ],
   "source": [
    "likelihood = joint_pmf.copy()\n",
    "\n",
    "# As we loop through the pairs of parameters, we compute the likelihood of the data as a in the previous section, \n",
    "# and then store the result as an element of likelihood\n",
    "\n",
    "observed = k01 + k10 + k11\n",
    "for N, p in joint_pmf.index:\n",
    "    k00 = N - observed\n",
    "    x = [k00, k01, k10, k11]\n",
    "    q = 1-p\n",
    "    y = [q*q, q*p, p*q, p*p]\n",
    "    likelihood[N, p] = multinomial.pmf(x, N, y)\n",
    "    \n",
    "# Now compute the posterior:\n",
    "posterior_pmf = joint_pmf * likelihood\n",
    "posterior_pmf.normalize()\n",
    "\n",
    "# now plot - we need to `unstack` first to convert from a Series to a DataFrame\n",
    "from  utils import plot_contour\n",
    "\n",
    "joint_posterior = posterior_pmf.unstack()\n",
    "plot_contour(joint_posterior)"
   ]
  },
  {
   "cell_type": "markdown",
   "id": "7b53a8f9-a2a3-45de-8de5-9c84058d4321",
   "metadata": {},
   "source": [
    "This is the joint probability distribution of `N` and `p`. As in the previous model, the most likely values for `N` are around 100, and `p` are around 0.2.\n",
    "\n",
    "We can also grab the marginals in the usual way:"
   ]
  },
  {
   "cell_type": "code",
   "execution_count": 14,
   "id": "11164f68-2c44-4095-a53e-69f09898132d",
   "metadata": {},
   "outputs": [
    {
     "data": {
      "text/plain": [
       "<AxesSubplot:>"
      ]
     },
     "execution_count": 14,
     "metadata": {},
     "output_type": "execute_result"
    },
    {
     "data": {
      "image/png": "[encoded data removed]",
      "text/plain": [
       "<Figure size 432x288 with 1 Axes>"
      ]
     },
     "metadata": {
      "needs_background": "light"
     },
     "output_type": "display_data"
    }
   ],
   "source": [
    "from utils import marginal\n",
    "\n",
    "posterior2_p = marginal(joint_posterior, 0)\n",
    "posterior2_N = marginal(joint_posterior, 1)\n",
    "\n",
    "posterior_N.plot()\n",
    "posterior2_N.plot()"
   ]
  },
  {
   "cell_type": "code",
   "execution_count": 15,
   "id": "3d69876c-0574-45f3-93bc-08e164192cc4",
   "metadata": {},
   "outputs": [
    {
     "name": "stdout",
     "output_type": "stream",
     "text": [
      "[ 77. 363.] -> [ 68. 277.]\n",
      "286.0 -> 209.0\n"
     ]
    }
   ],
   "source": [
    "one_parameter_interval = posterior_N.credible_interval(0.9)\n",
    "one_parameter_range = one_parameter_interval[1] - one_parameter_interval[0]\n",
    "two_parameter_interval = posterior2_N.credible_interval(0.9)\n",
    "two_parameter_range = two_parameter_interval[1] - two_parameter_interval[0]\n",
    "\n",
    "print(f\"{one_parameter_interval} -> {two_parameter_interval}\")\n",
    "print(f\"{one_parameter_range} -> {two_parameter_range}\")"
   ]
  },
  {
   "cell_type": "markdown",
   "id": "4e19e63e-3d6f-4da1-bd13-c44a66553977",
   "metadata": {},
   "source": [
    "From the graph (\\&c.) you can see that the 2-parameter model results in a slightly narrower range."
   ]
  },
  {
   "cell_type": "markdown",
   "id": "590cb48b-eb94-4804-889f-5acc6b0ee8ec",
   "metadata": {},
   "source": [
    "## The Lincoln Index Problem\n",
    "\n",
    "John D. Cook writes about the Lincoln Index Problem:\n",
    "\n",
    "> Suppose that you have a tester who finds 20 bugs in the program. If you have supreme confidence in the tester, you might use this to say that there are about 20 bugs in the program. But what if the tester is not very good? You can cross-check them with another tester. Imagine that you give the same program to another tester, who finds 15 bugs, of which 3 are the same as for the first one. How many bugs do you expect are actually in the program?\n",
    "\n",
    "The problem is very similar to the Grizzly Bear Problem, so we can represent the data in the same way:"
   ]
  },
  {
   "cell_type": "code",
   "execution_count": 16,
   "id": "0712b4ac-57ba-480f-8833-3a4f3346f35f",
   "metadata": {},
   "outputs": [],
   "source": [
    "k10 = 20 - 3\n",
    "k01 = 15 - 3\n",
    "k11 = 3"
   ]
  },
  {
   "cell_type": "markdown",
   "id": "9b65e734-9578-4092-ac4e-6962dbe32a8d",
   "metadata": {},
   "source": [
    "In this case, it is almost certainly not the case that we can reasonably assume that the testers have the same probability to find a bug. We'll define two parameters, `p0` and `p1`, to represent the probability that the first and second testers find a bug. We'll also assume that the probabilities are the same for every bug, which is becoming an increasingly untenable position. We'll just go with it though..."
   ]
  },
  {
   "cell_type": "code",
   "execution_count": 17,
   "id": "1ab923ed-c2e3-4211-9d72-26f8e9e0de77",
   "metadata": {},
   "outputs": [
    {
     "data": {
      "text/plain": [
       "[0.68, 0.12, 0.17, 0.03]"
      ]
     },
     "execution_count": 17,
     "metadata": {},
     "output_type": "execute_result"
    }
   ],
   "source": [
    "# Say we know that the probabilities are 0.2 and 0.15\n",
    "p0, p1 = 0.2, 0.15\n",
    "\n",
    "def compute_probs(p0, p1):\n",
    "    \"\"\" Computes the probabilities for each of the four categories \"\"\"\n",
    "    q0 = 1 - p0\n",
    "    q1 = 1 - p1\n",
    "    return [q0 * q1, q0 * p1, p0 * q1, p0 * p1]\n",
    "\n",
    "y = compute_probs(p0, p1)\n",
    "y"
   ]
  },
  {
   "cell_type": "markdown",
   "id": "c73c1963-28a1-48fa-b48d-bb3a62b5e424",
   "metadata": {},
   "source": [
    "So we see that there is a 68\\% chance that neither tester finds a bug and a 3\\% chance that both do.\n",
    "\n",
    "When we pretend that we know the probabilities, we can compute the posterior distribution for N:"
   ]
  },
  {
   "cell_type": "code",
   "execution_count": 18,
   "id": "ba4d82b9-c5db-43c2-91c1-4904a00ea9e1",
   "metadata": {},
   "outputs": [
    {
     "data": {
      "text/html": [
       "<div>\n",
       "<style scoped>\n",
       "    .dataframe tbody tr th:only-of-type {\n",
       "        vertical-align: middle;\n",
       "    }\n",
       "\n",
       "    .dataframe tbody tr th {\n",
       "        vertical-align: top;\n",
       "    }\n",
       "\n",
       "    .dataframe thead th {\n",
       "        text-align: right;\n",
       "    }\n",
       "</style>\n",
       "<table border=\"1\" class=\"dataframe\">\n",
       "  <thead>\n",
       "    <tr style=\"text-align: right;\">\n",
       "      <th></th>\n",
       "      <th>probs</th>\n",
       "    </tr>\n",
       "  </thead>\n",
       "  <tbody>\n",
       "    <tr>\n",
       "      <th>32</th>\n",
       "      <td>0.015625</td>\n",
       "    </tr>\n",
       "    <tr>\n",
       "      <th>37</th>\n",
       "      <td>0.015625</td>\n",
       "    </tr>\n",
       "    <tr>\n",
       "      <th>42</th>\n",
       "      <td>0.015625</td>\n",
       "    </tr>\n",
       "  </tbody>\n",
       "</table>\n",
       "</div>"
      ],
      "text/plain": [
       "32    0.015625\n",
       "37    0.015625\n",
       "42    0.015625\n",
       "Name: , dtype: float64"
      ]
     },
     "execution_count": 18,
     "metadata": {},
     "output_type": "execute_result"
    }
   ],
   "source": [
    "qs = np.arange(32, 350, step=5)\n",
    "prior_N = make_uniform(qs)\n",
    "prior_N.head()"
   ]
  },
  {
   "cell_type": "code",
   "execution_count": 19,
   "id": "be97394c-3c60-4226-8c9f-a63d6b93cc5b",
   "metadata": {},
   "outputs": [
    {
     "data": {
      "text/plain": [
       "array([ 77., 127.])"
      ]
     },
     "execution_count": 19,
     "metadata": {},
     "output_type": "execute_result"
    },
    {
     "data": {
      "image/png": "[encoded data removed]",
      "text/plain": [
       "<Figure size 432x288 with 1 Axes>"
      ]
     },
     "metadata": {
      "needs_background": "light"
     },
     "output_type": "display_data"
    }
   ],
   "source": [
    "# Put the data in an array with a placeholder value of 0 for the unknown value k00:\n",
    "data = np.array([0, k10, k01, k11])\n",
    "\n",
    "# likelihoods\n",
    "likelihood = prior_N.copy()\n",
    "observed = data.sum()\n",
    "x = data.copy()\n",
    "\n",
    "for N in prior_N.qs:\n",
    "    x[0] = N - observed\n",
    "    likelihood[N] = multinomial.pmf(x, N, y)\n",
    "    \n",
    "posterior_N = prior_N * likelihood\n",
    "posterior_N.normalize()\n",
    "posterior_N.plot()\n",
    "posterior_N.credible_interval(0.9)"
   ]
  },
  {
   "cell_type": "markdown",
   "id": "fe613ec8-15ce-433c-baa9-69766a914d1a",
   "metadata": {},
   "source": [
    "Of course, this is based on the assumption that we know the probabilities!\n",
    "\n",
    "## Three-Parameter Model\n",
    "\n",
    "We now need three parameters: `N`, `p0`, and `p1`."
   ]
  },
  {
   "cell_type": "code",
   "execution_count": 20,
   "id": "3ccd9443-b01b-4511-9c88-e5f83a6ec2f3",
   "metadata": {},
   "outputs": [
    {
     "data": {
      "text/plain": [
       "(64, 51)"
      ]
     },
     "execution_count": 20,
     "metadata": {},
     "output_type": "execute_result"
    }
   ],
   "source": [
    "qs = np.linspace(0, 1, num=51)\n",
    "prior_p0 = make_uniform(qs)\n",
    "prior_p1 = make_uniform(qs)\n",
    "\n",
    "# Now we need to assemble them into a joint prior w/ 3 dimensions\n",
    "joint2 = make_joint(prior_p0, prior_N)\n",
    "joint2.shape"
   ]
  },
  {
   "cell_type": "code",
   "execution_count": 21,
   "id": "1dd60496-a2cd-4f91-af33-285b4d83d21a",
   "metadata": {},
   "outputs": [
    {
     "data": {
      "text/html": [
       "<div>\n",
       "<style scoped>\n",
       "    .dataframe tbody tr th:only-of-type {\n",
       "        vertical-align: middle;\n",
       "    }\n",
       "\n",
       "    .dataframe tbody tr th {\n",
       "        vertical-align: top;\n",
       "    }\n",
       "\n",
       "    .dataframe thead th {\n",
       "        text-align: right;\n",
       "    }\n",
       "</style>\n",
       "<table border=\"1\" class=\"dataframe\">\n",
       "  <thead>\n",
       "    <tr style=\"text-align: right;\">\n",
       "      <th></th>\n",
       "      <th></th>\n",
       "      <th>probs</th>\n",
       "    </tr>\n",
       "  </thead>\n",
       "  <tbody>\n",
       "    <tr>\n",
       "      <th rowspan=\"3\" valign=\"top\">32</th>\n",
       "      <th>0.00</th>\n",
       "      <td>0.000306</td>\n",
       "    </tr>\n",
       "    <tr>\n",
       "      <th>0.02</th>\n",
       "      <td>0.000306</td>\n",
       "    </tr>\n",
       "    <tr>\n",
       "      <th>0.04</th>\n",
       "      <td>0.000306</td>\n",
       "    </tr>\n",
       "  </tbody>\n",
       "</table>\n",
       "</div>"
      ],
      "text/plain": [
       "32  0.00    0.000306\n",
       "    0.02    0.000306\n",
       "    0.04    0.000306\n",
       "Name: , dtype: float64"
      ]
     },
     "execution_count": 21,
     "metadata": {},
     "output_type": "execute_result"
    }
   ],
   "source": [
    "# Now stack as in the previous example and put the result in a Pmf:\n",
    "joint2_pmf = Pmf(joint2.stack())\n",
    "joint2_pmf.head()"
   ]
  },
  {
   "cell_type": "code",
   "execution_count": 22,
   "id": "2ab2384f-a0de-4b2b-90f1-2f62459e2d8b",
   "metadata": {},
   "outputs": [
    {
     "data": {
      "text/plain": [
       "(3264, 51)"
      ]
     },
     "execution_count": 22,
     "metadata": {},
     "output_type": "execute_result"
    }
   ],
   "source": [
    "# Now let's do the same thing for the third parameter\n",
    "joint3 = make_joint(prior_p1, joint2_pmf)\n",
    "joint3.shape"
   ]
  },
  {
   "cell_type": "code",
   "execution_count": 23,
   "id": "9c7ffdb9-ec14-4098-b219-e8c81350e262",
   "metadata": {},
   "outputs": [
    {
     "data": {
      "text/html": [
       "<div>\n",
       "<style scoped>\n",
       "    .dataframe tbody tr th:only-of-type {\n",
       "        vertical-align: middle;\n",
       "    }\n",
       "\n",
       "    .dataframe tbody tr th {\n",
       "        vertical-align: top;\n",
       "    }\n",
       "\n",
       "    .dataframe thead th {\n",
       "        text-align: right;\n",
       "    }\n",
       "</style>\n",
       "<table border=\"1\" class=\"dataframe\">\n",
       "  <thead>\n",
       "    <tr style=\"text-align: right;\">\n",
       "      <th></th>\n",
       "      <th></th>\n",
       "      <th></th>\n",
       "      <th>probs</th>\n",
       "    </tr>\n",
       "  </thead>\n",
       "  <tbody>\n",
       "    <tr>\n",
       "      <th rowspan=\"3\" valign=\"top\">32</th>\n",
       "      <th rowspan=\"3\" valign=\"top\">0.0</th>\n",
       "      <th>0.00</th>\n",
       "      <td>0.000006</td>\n",
       "    </tr>\n",
       "    <tr>\n",
       "      <th>0.02</th>\n",
       "      <td>0.000006</td>\n",
       "    </tr>\n",
       "    <tr>\n",
       "      <th>0.04</th>\n",
       "      <td>0.000006</td>\n",
       "    </tr>\n",
       "  </tbody>\n",
       "</table>\n",
       "</div>"
      ],
      "text/plain": [
       "32  0.0  0.00    0.000006\n",
       "         0.02    0.000006\n",
       "         0.04    0.000006\n",
       "Name: , dtype: float64"
      ]
     },
     "execution_count": 23,
     "metadata": {},
     "output_type": "execute_result"
    }
   ],
   "source": [
    "joint3_pmf = Pmf(joint3.stack())\n",
    "joint3_pmf.head()"
   ]
  },
  {
   "cell_type": "markdown",
   "id": "476af9ce-4e28-4d44-aa4f-ff8ea4a020b2",
   "metadata": {},
   "source": [
    "(N, p0, p1)"
   ]
  },
  {
   "cell_type": "code",
   "execution_count": 24,
   "id": "44122e4a-2f69-42a8-83c4-0f4bcec2e6da",
   "metadata": {},
   "outputs": [
    {
     "data": {
      "text/plain": [
       "(166464,)"
      ]
     },
     "execution_count": 24,
     "metadata": {},
     "output_type": "execute_result"
    }
   ],
   "source": [
    "joint3_pmf.shape"
   ]
  },
  {
   "cell_type": "markdown",
   "id": "684fe043-7044-4949-9aed-cea9af176096",
   "metadata": {},
   "source": [
    "This is still a reasonable number to compute, but it is definitely getting slower..."
   ]
  },
  {
   "cell_type": "code",
   "execution_count": 25,
   "id": "cea27fbc-ee71-4092-823e-57e243dd1cc2",
   "metadata": {},
   "outputs": [
    {
     "data": {
      "text/plain": [
       "8.941088283758225e-06"
      ]
     },
     "execution_count": 25,
     "metadata": {},
     "output_type": "execute_result"
    }
   ],
   "source": [
    "# Again, we loop through to compute the likelihood of each combination of paramters:\n",
    "likelihood = joint3_pmf.copy()\n",
    "observed = data.sum()\n",
    "x = data.copy()\n",
    "\n",
    "for N, p0, p1 in joint3_pmf.index:\n",
    "    x[0] = N - observed\n",
    "    y = compute_probs(p0, p1)\n",
    "    likelihood[N, p0, p1] = multinomial.pmf(x, N, y)\n",
    "\n",
    "posterior_pmf = joint3_pmf * likelihood\n",
    "posterior_pmf.normalize()"
   ]
  },
  {
   "cell_type": "code",
   "execution_count": 26,
   "id": "ae62133c-5261-4ed8-993f-64fc96a2663c",
   "metadata": {},
   "outputs": [
    {
     "name": "stderr",
     "output_type": "stream",
     "text": [
      "/home/eric/documents/tutorials/ThinkBayes/venv/lib/python3.8/site-packages/empiricaldist/empiricaldist.py:673: FutureWarning: Using the level keyword in DataFrame and Series aggregations is deprecated and will be removed in a future version. Use groupby instead. df.sum(level=1) should use df.groupby(level=1).sum().\n",
      "  return Pmf(self.sum(level=i))\n"
     ]
    }
   ],
   "source": [
    "# While we could unstack this to get the marginal, there is already a method built in to Pmf that works on Pmfs rather than DataFrames:\n",
    "posterior_N = posterior_pmf.marginal(0)"
   ]
  },
  {
   "cell_type": "code",
   "execution_count": 27,
   "id": "f2beb2ef-4f4d-47b9-b5e9-79ec5222154e",
   "metadata": {},
   "outputs": [
    {
     "data": {
      "text/plain": [
       "<AxesSubplot:>"
      ]
     },
     "execution_count": 27,
     "metadata": {},
     "output_type": "execute_result"
    },
    {
     "data": {
      "image/png": "[encoded data removed]",
      "text/plain": [
       "<Figure size 432x288 with 1 Axes>"
      ]
     },
     "metadata": {
      "needs_background": "light"
     },
     "output_type": "display_data"
    }
   ],
   "source": [
    "posterior_N.plot()"
   ]
  },
  {
   "cell_type": "code",
   "execution_count": 28,
   "id": "8b5303ef-630d-4051-9a00-bedd1b56cebc",
   "metadata": {},
   "outputs": [
    {
     "data": {
      "text/plain": [
       "(105.76561732196248, array([ 52., 207.]))"
      ]
     },
     "execution_count": 28,
     "metadata": {},
     "output_type": "execute_result"
    }
   ],
   "source": [
    "posterior_N.mean(), posterior_N.credible_interval(0.9)"
   ]
  },
  {
   "cell_type": "markdown",
   "id": "790645b7-22ce-4af8-a8f1-ceb2f6b5005d",
   "metadata": {},
   "source": [
    "The posterior mean is 105, which suggests that there are many bugs the testers have not found!"
   ]
  },
  {
   "cell_type": "markdown",
   "id": "d918fcab-07a3-4703-b7d9-61846f715ffd",
   "metadata": {},
   "source": [
    "## Exercises"
   ]
  },
  {
   "cell_type": "markdown",
   "id": "2b0de4de-ff26-4cdd-8a46-34ae96e35037",
   "metadata": {},
   "source": [
    "### Exercise 15-1\n",
    "In an excellent paper, Anne Chao explins how mark and recapture experimens are used in epidemiology to estimate the prevaluece of a disease in a human population based on multiple incomplete lists of cases\n",
    "\n",
    "One of the examples from the paper is a study \"to estimate the number of peope who were infected by hepatitis in an outbreak that occureed in and arounf a collelge in nrther Taiwan from April to July 1995\".\n",
    "\n",
    "Three lists of cases were available\n",
    "1. 135 cases identified using a serum test\n",
    "2. 122 cases reported by a local hospital\n",
    "3. 126 cases reported on questionnaires collected by epidemiologists\n",
    "\n",
    "In  this exercise, we'll just use the first two lists; in the next we'll bring in the third.\n",
    "\n",
    "Make a joint prior and update it using this data, then compute the posterior mean of `N` and a 90\\% credible interval."
   ]
  },
  {
   "cell_type": "markdown",
   "id": "e3ad8f67-1c1f-4926-b7b6-5a5ddf74b39a",
   "metadata": {},
   "source": [
    "### Solution 15-1"
   ]
  },
  {
   "cell_type": "code",
   "execution_count": 29,
   "id": "d872b3de-4c5b-4600-8b2c-650582f6a617",
   "metadata": {},
   "outputs": [
    {
     "name": "stdout",
     "output_type": "stream",
     "text": [
      "(600, 101)\n"
     ]
    },
    {
     "data": {
      "text/html": [
       "<div>\n",
       "<style scoped>\n",
       "    .dataframe tbody tr th:only-of-type {\n",
       "        vertical-align: middle;\n",
       "    }\n",
       "\n",
       "    .dataframe tbody tr th {\n",
       "        vertical-align: top;\n",
       "    }\n",
       "\n",
       "    .dataframe thead th {\n",
       "        text-align: right;\n",
       "    }\n",
       "</style>\n",
       "<table border=\"1\" class=\"dataframe\">\n",
       "  <thead>\n",
       "    <tr style=\"text-align: right;\">\n",
       "      <th></th>\n",
       "      <th></th>\n",
       "      <th>probs</th>\n",
       "    </tr>\n",
       "  </thead>\n",
       "  <tbody>\n",
       "    <tr>\n",
       "      <th rowspan=\"3\" valign=\"top\">1</th>\n",
       "      <th>0.00</th>\n",
       "      <td>0.000017</td>\n",
       "    </tr>\n",
       "    <tr>\n",
       "      <th>0.01</th>\n",
       "      <td>0.000017</td>\n",
       "    </tr>\n",
       "    <tr>\n",
       "      <th>0.02</th>\n",
       "      <td>0.000017</td>\n",
       "    </tr>\n",
       "  </tbody>\n",
       "</table>\n",
       "</div>"
      ],
      "text/plain": [
       "1  0.00    0.000017\n",
       "   0.01    0.000017\n",
       "   0.02    0.000017\n",
       "Name: , dtype: float64"
      ]
     },
     "execution_count": 29,
     "metadata": {},
     "output_type": "execute_result"
    }
   ],
   "source": [
    "# Start with the data. I probably could have calculated this from the actual data in the paper, but instead I'll just copy it from the solution:\n",
    "data = np.array([0, 73, 86, 49]) # neither list, only second, only first, both: k00, k01, k10, k11\n",
    "\n",
    "# We'll do this with two parameters: `N` and `p`. Again, we'll assume that `p` is the same for both lists\n",
    "Ns = np.arange(1, 601) # this can probably be reformed...\n",
    "prior_N_pmf = make_uniform(Ns)\n",
    "ps = np.linspace(0, 1, num=101)\n",
    "prior_p_pmf = make_uniform(ps)\n",
    "\n",
    "joint_prior = make_joint(prior_p_pmf,prior_N_pmf)\n",
    "print(joint_prior.shape)\n",
    "joint_prior = Pmf(joint_prior.stack())\n",
    "joint_prior.head()"
   ]
  },
  {
   "cell_type": "code",
   "execution_count": 30,
   "id": "f500c42e-3006-4ac1-9af3-fcbf7508c196",
   "metadata": {},
   "outputs": [
    {
     "name": "stderr",
     "output_type": "stream",
     "text": [
      "/home/eric/documents/tutorials/ThinkBayes/venv/lib/python3.8/site-packages/scipy/stats/_multivariate.py:3053: RuntimeWarning: invalid value encountered in subtract\n",
      "  return gammaln(n+1) + np.sum(xlogy(x, p) - gammaln(x+1), axis=-1)\n"
     ]
    },
    {
     "data": {
      "image/png": "[encoded data removed]",
      "text/plain": [
       "<Figure size 432x288 with 1 Axes>"
      ]
     },
     "metadata": {
      "needs_background": "light"
     },
     "output_type": "display_data"
    }
   ],
   "source": [
    "# computing the likelihood:\n",
    "likelihood = joint_prior.copy()\n",
    "for N, p in joint_prior.index:\n",
    "    new_data = data.copy()\n",
    "    new_data[0] = N - data.sum()\n",
    "    q = 1 - p\n",
    "    probs = [p*p, p*q, q*p, q*q]\n",
    "    likelihood[N, p] = multinomial.pmf(new_data, N, probs)\n",
    "\n",
    "posterior = joint_prior * likelihood\n",
    "posterior.normalize()\n",
    "plot_contour(posterior.unstack())"
   ]
  },
  {
   "cell_type": "code",
   "execution_count": 31,
   "id": "534a663d-56f5-441f-b5c1-60616ea56534",
   "metadata": {},
   "outputs": [
    {
     "name": "stderr",
     "output_type": "stream",
     "text": [
      "/home/eric/documents/tutorials/ThinkBayes/venv/lib/python3.8/site-packages/empiricaldist/empiricaldist.py:673: FutureWarning: Using the level keyword in DataFrame and Series aggregations is deprecated and will be removed in a future version. Use groupby instead. df.sum(level=1) should use df.groupby(level=1).sum().\n",
      "  return Pmf(self.sum(level=i))\n"
     ]
    },
    {
     "data": {
      "text/plain": [
       "<AxesSubplot:>"
      ]
     },
     "execution_count": 31,
     "metadata": {},
     "output_type": "execute_result"
    },
    {
     "data": {
      "image/png": "[encoded data removed]",
      "text/plain": [
       "<Figure size 432x288 with 1 Axes>"
      ]
     },
     "metadata": {
      "needs_background": "light"
     },
     "output_type": "display_data"
    }
   ],
   "source": [
    "# let's plot the marginals:\n",
    "marginal_N = posterior.marginal(0)\n",
    "marginal_N.plot()"
   ]
  },
  {
   "cell_type": "code",
   "execution_count": 32,
   "id": "17ff93c6-c03c-4520-a096-6d919a07341b",
   "metadata": {},
   "outputs": [
    {
     "data": {
      "text/plain": [
       "(342.1665340528433, array([297., 398.]))"
      ]
     },
     "execution_count": 32,
     "metadata": {},
     "output_type": "execute_result"
    }
   ],
   "source": [
    "marginal_N.mean(), marginal_N.credible_interval(0.9)"
   ]
  },
  {
   "cell_type": "markdown",
   "id": "dcda87de-5a3e-4a74-a887-27991bc29a9a",
   "metadata": {},
   "source": [
    "### Exercise 15-2\n",
    "\n",
    "> Now let's do the same thing, but with all three lists. Here's the data from Chao's paper:\n",
    "\n",
    "data = 28, 21, 17, 69, 18, 55, 63, 0\n",
    "(data is serum test, national quarantine service, epidemiologists' questionnaires\n",
    "k111, k110, k101, k100, k011, k010, k001, k000 = data\n",
    "\n",
    "> Write a loop that computes the likelihood of the data for each pair of parameters, then update the prior and compute the posterior mean of `N`. How does it compare to the results using only the first two lists?"
   ]
  },
  {
   "cell_type": "markdown",
   "id": "59ac8d19-5bc9-4c32-a374-504ca5e94c92",
   "metadata": {},
   "source": [
    "### Solution 15-2"
   ]
  },
  {
   "cell_type": "code",
   "execution_count": 33,
   "id": "a0f9fc20-33c6-415a-bd72-79f6efad7385",
   "metadata": {},
   "outputs": [
    {
     "name": "stdout",
     "output_type": "stream",
     "text": [
      "(60600,)\n"
     ]
    },
    {
     "data": {
      "text/html": [
       "<div>\n",
       "<style scoped>\n",
       "    .dataframe tbody tr th:only-of-type {\n",
       "        vertical-align: middle;\n",
       "    }\n",
       "\n",
       "    .dataframe tbody tr th {\n",
       "        vertical-align: top;\n",
       "    }\n",
       "\n",
       "    .dataframe thead th {\n",
       "        text-align: right;\n",
       "    }\n",
       "</style>\n",
       "<table border=\"1\" class=\"dataframe\">\n",
       "  <thead>\n",
       "    <tr style=\"text-align: right;\">\n",
       "      <th></th>\n",
       "      <th></th>\n",
       "      <th>probs</th>\n",
       "    </tr>\n",
       "  </thead>\n",
       "  <tbody>\n",
       "    <tr>\n",
       "      <th rowspan=\"3\" valign=\"top\">1</th>\n",
       "      <th>0.00</th>\n",
       "      <td>0.000017</td>\n",
       "    </tr>\n",
       "    <tr>\n",
       "      <th>0.01</th>\n",
       "      <td>0.000017</td>\n",
       "    </tr>\n",
       "    <tr>\n",
       "      <th>0.02</th>\n",
       "      <td>0.000017</td>\n",
       "    </tr>\n",
       "  </tbody>\n",
       "</table>\n",
       "</div>"
      ],
      "text/plain": [
       "1  0.00    0.000017\n",
       "   0.01    0.000017\n",
       "   0.02    0.000017\n",
       "Name: , dtype: float64"
      ]
     },
     "execution_count": 33,
     "metadata": {},
     "output_type": "execute_result"
    }
   ],
   "source": [
    "# (Apparently the solution is still working off of the two-parameter model, just slightly different)\n",
    "base_data = np.array([28, 21, 17, 69, 18, 55, 63, 0])\n",
    "Ns = np.arange(1, 601)\n",
    "ps = np.linspace(0, 1, num=101)\n",
    "prior_Ns = make_uniform(Ns)\n",
    "prior_ps = make_uniform(ps)\n",
    "\n",
    "joint_prior = make_joint(prior_ps, prior_Ns)\n",
    "joint_prior = Pmf(joint_prior.stack())\n",
    "print(joint_prior.shape)\n",
    "joint_prior.head()"
   ]
  },
  {
   "cell_type": "code",
   "execution_count": 34,
   "id": "1a579b10-419a-4184-8454-fcd3f658073b",
   "metadata": {},
   "outputs": [
    {
     "name": "stderr",
     "output_type": "stream",
     "text": [
      "/home/eric/documents/tutorials/ThinkBayes/venv/lib/python3.8/site-packages/scipy/stats/_multivariate.py:3053: RuntimeWarning: invalid value encountered in subtract\n",
      "  return gammaln(n+1) + np.sum(xlogy(x, p) - gammaln(x+1), axis=-1)\n"
     ]
    },
    {
     "data": {
      "image/png": "[encoded data removed]",
      "text/plain": [
       "<Figure size 432x288 with 1 Axes>"
      ]
     },
     "metadata": {
      "needs_background": "light"
     },
     "output_type": "display_data"
    }
   ],
   "source": [
    "# compute the likelihood\n",
    "likelihood = joint_prior.copy()\n",
    "for N, p in joint_prior.index:\n",
    "    data = base_data.copy()\n",
    "    data[-1] = N - base_data.sum()\n",
    "    \n",
    "    # calculate the probabilities - there is definitely an easier way to do this, but OK\n",
    "    q = 1 - p\n",
    "    probs = [p ** 3, p**2 * q, p ** 2 * q, p * q ** 2, p ** 2 * q, p * q ** 2, p * q ** 2, q ** 3]\n",
    "    likelihood[N, p] = multinomial.pmf(data, N, probs)\n",
    "    \n",
    "posterior = joint_prior * likelihood\n",
    "posterior.normalize()\n",
    "posterior.head()\n",
    "plot_contour(posterior.unstack())"
   ]
  },
  {
   "cell_type": "code",
   "execution_count": 35,
   "id": "5a68ffd6-5bec-4544-8b8a-a8f8c0b9addb",
   "metadata": {},
   "outputs": [
    {
     "name": "stdout",
     "output_type": "stream",
     "text": [
      "391.0143304098154 [358. 430.]\n"
     ]
    },
    {
     "name": "stderr",
     "output_type": "stream",
     "text": [
      "/home/eric/documents/tutorials/ThinkBayes/venv/lib/python3.8/site-packages/empiricaldist/empiricaldist.py:673: FutureWarning: Using the level keyword in DataFrame and Series aggregations is deprecated and will be removed in a future version. Use groupby instead. df.sum(level=1) should use df.groupby(level=1).sum().\n",
      "  return Pmf(self.sum(level=i))\n"
     ]
    },
    {
     "data": {
      "image/png": "[encoded data removed]",
      "text/plain": [
       "<Figure size 432x288 with 1 Axes>"
      ]
     },
     "metadata": {
      "needs_background": "light"
     },
     "output_type": "display_data"
    }
   ],
   "source": [
    "posterior_N = posterior.marginal(0)\n",
    "posterior_N.plot()\n",
    "print(posterior_N.mean(), posterior_N.credible_interval(0.9))"
   ]
  },
  {
   "cell_type": "code",
   "execution_count": 36,
   "id": "e893e6a2-79bd-45c1-8a42-c17f1f0ebe99",
   "metadata": {},
   "outputs": [
    {
     "data": {
      "text/plain": [
       "(<AxesSubplot:>, <AxesSubplot:>)"
      ]
     },
     "execution_count": 36,
     "metadata": {},
     "output_type": "execute_result"
    },
    {
     "data": {
      "image/png": "[encoded data removed]",
      "text/plain": [
       "<Figure size 432x288 with 1 Axes>"
      ]
     },
     "metadata": {
      "needs_background": "light"
     },
     "output_type": "display_data"
    }
   ],
   "source": [
    "marginal_N.plot(), posterior_N.plot()"
   ]
  },
  {
   "cell_type": "code",
   "execution_count": 37,
   "id": "cb2cce13-0374-478e-9162-2179009ac5d6",
   "metadata": {},
   "outputs": [
    {
     "name": "stdout",
     "output_type": "stream",
     "text": [
      "Two lists: 342.1665340528433; three lists: 391.0143304098154\n",
      "Two lists: [297. 398.]; three lists: [358. 430.]\n"
     ]
    }
   ],
   "source": [
    "print(f\"Two lists: {marginal_N.mean()}; three lists: {posterior_N.mean()}\")\n",
    "print(f\"Two lists: {marginal_N.credible_interval(0.9)}; three lists: {posterior_N.credible_interval(0.9)}\")"
   ]
  },
  {
   "cell_type": "markdown",
   "id": "8077c2a2-9203-4d4f-a3c1-677d80275b3f",
   "metadata": {},
   "source": [
    "So with the three lists, out mean is a bit higher and a bit tighter."
   ]
  },
  {
   "cell_type": "code",
   "execution_count": null,
   "id": "8241e13d-7fa3-4cd1-83b7-c3ac29294b2f",
   "metadata": {},
   "outputs": [],
   "source": []
  }
 ],
 "metadata": {
  "kernelspec": {
   "display_name": "Python 3 (ipykernel)",
   "language": "python",
   "name": "python3"
  },
  "language_info": {
   "codemirror_mode": {
    "name": "ipython",
    "version": 3
   },
   "file_extension": ".py",
   "mimetype": "text/x-python",
   "name": "python",
   "nbconvert_exporter": "python",
   "pygments_lexer": "ipython3",
   "version": "3.8.10"
  }
 },
 "nbformat": 4,
 "nbformat_minor": 5
}
