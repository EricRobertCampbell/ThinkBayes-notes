{
 "cells": [
  {
   "cell_type": "markdown",
   "id": "25d1182f-78bd-4a49-bc65-de9f4ecfb05f",
   "metadata": {},
   "source": [
    "# Chapter 1 - Probability"
   ]
  },
  {
   "cell_type": "code",
   "execution_count": 1,
   "id": "fbf0d62b-6dbe-48e7-a6f8-1cdbfffec70e",
   "metadata": {},
   "outputs": [
    {
     "data": {
      "text/html": [
       "<div>\n",
       "<style scoped>\n",
       "    .dataframe tbody tr th:only-of-type {\n",
       "        vertical-align: middle;\n",
       "    }\n",
       "\n",
       "    .dataframe tbody tr th {\n",
       "        vertical-align: top;\n",
       "    }\n",
       "\n",
       "    .dataframe thead th {\n",
       "        text-align: right;\n",
       "    }\n",
       "</style>\n",
       "<table border=\"1\" class=\"dataframe\">\n",
       "  <thead>\n",
       "    <tr style=\"text-align: right;\">\n",
       "      <th></th>\n",
       "      <th>year</th>\n",
       "      <th>age</th>\n",
       "      <th>sex</th>\n",
       "      <th>polviews</th>\n",
       "      <th>partyid</th>\n",
       "      <th>indus10</th>\n",
       "    </tr>\n",
       "    <tr>\n",
       "      <th>caseid</th>\n",
       "      <th></th>\n",
       "      <th></th>\n",
       "      <th></th>\n",
       "      <th></th>\n",
       "      <th></th>\n",
       "      <th></th>\n",
       "    </tr>\n",
       "  </thead>\n",
       "  <tbody>\n",
       "    <tr>\n",
       "      <th>1</th>\n",
       "      <td>1974</td>\n",
       "      <td>21.0</td>\n",
       "      <td>1</td>\n",
       "      <td>4.0</td>\n",
       "      <td>2.0</td>\n",
       "      <td>4970.0</td>\n",
       "    </tr>\n",
       "    <tr>\n",
       "      <th>2</th>\n",
       "      <td>1974</td>\n",
       "      <td>41.0</td>\n",
       "      <td>1</td>\n",
       "      <td>5.0</td>\n",
       "      <td>0.0</td>\n",
       "      <td>9160.0</td>\n",
       "    </tr>\n",
       "    <tr>\n",
       "      <th>5</th>\n",
       "      <td>1974</td>\n",
       "      <td>58.0</td>\n",
       "      <td>2</td>\n",
       "      <td>6.0</td>\n",
       "      <td>1.0</td>\n",
       "      <td>2670.0</td>\n",
       "    </tr>\n",
       "    <tr>\n",
       "      <th>6</th>\n",
       "      <td>1974</td>\n",
       "      <td>30.0</td>\n",
       "      <td>1</td>\n",
       "      <td>5.0</td>\n",
       "      <td>4.0</td>\n",
       "      <td>6870.0</td>\n",
       "    </tr>\n",
       "    <tr>\n",
       "      <th>7</th>\n",
       "      <td>1974</td>\n",
       "      <td>48.0</td>\n",
       "      <td>1</td>\n",
       "      <td>5.0</td>\n",
       "      <td>4.0</td>\n",
       "      <td>7860.0</td>\n",
       "    </tr>\n",
       "  </tbody>\n",
       "</table>\n",
       "</div>"
      ],
      "text/plain": [
       "        year   age  sex  polviews  partyid  indus10\n",
       "caseid                                             \n",
       "1       1974  21.0    1       4.0      2.0   4970.0\n",
       "2       1974  41.0    1       5.0      0.0   9160.0\n",
       "5       1974  58.0    2       6.0      1.0   2670.0\n",
       "6       1974  30.0    1       5.0      4.0   6870.0\n",
       "7       1974  48.0    1       5.0      4.0   7860.0"
      ]
     },
     "execution_count": 1,
     "metadata": {},
     "output_type": "execute_result"
    }
   ],
   "source": [
    "import pandas as pd\n",
    "\n",
    "gss = pd.read_csv('gss_bayes.csv', index_col=0)\n",
    "gss.head()"
   ]
  },
  {
   "cell_type": "code",
   "execution_count": 7,
   "id": "46dd9d14-61a7-4108-9f7f-929a17fc84b0",
   "metadata": {},
   "outputs": [
    {
     "data": {
      "text/plain": [
       "caseid\n",
       "1    False\n",
       "2    False\n",
       "5    False\n",
       "6     True\n",
       "7    False\n",
       "Name: indus10, dtype: bool"
      ]
     },
     "execution_count": 7,
     "metadata": {},
     "output_type": "execute_result"
    }
   ],
   "source": [
    "banker = gss['indus10'] == 6870\n",
    "banker.head()"
   ]
  },
  {
   "cell_type": "code",
   "execution_count": 3,
   "id": "829d9d3f-5ece-4aad-a9fb-62177bf09699",
   "metadata": {},
   "outputs": [
    {
     "data": {
      "text/plain": [
       "728"
      ]
     },
     "execution_count": 3,
     "metadata": {},
     "output_type": "execute_result"
    }
   ],
   "source": [
    "banker.sum()"
   ]
  },
  {
   "cell_type": "code",
   "execution_count": 4,
   "id": "edeeb749-8fa3-4cb6-b6e9-76409c9a0458",
   "metadata": {},
   "outputs": [
    {
     "data": {
      "text/plain": [
       "0.014769730168391155"
      ]
     },
     "execution_count": 4,
     "metadata": {},
     "output_type": "execute_result"
    }
   ],
   "source": [
    "banker.mean()"
   ]
  },
  {
   "cell_type": "code",
   "execution_count": 5,
   "id": "f9a3b0a8-d1d7-426a-98de-1c325a34bafa",
   "metadata": {},
   "outputs": [],
   "source": [
    "def prob(A):\n",
    "    \"\"\" Determine the probability of the proposition A \"\"\"\n",
    "    return A.mean()"
   ]
  },
  {
   "cell_type": "markdown",
   "id": "e05cc0de-2d36-4775-9dd7-ff0df50217fa",
   "metadata": {},
   "source": [
    "This lets us compute the probability of someone being a banker using the following"
   ]
  },
  {
   "cell_type": "code",
   "execution_count": 8,
   "id": "36e2946c-f656-4ab7-bc6a-e17be64c39c1",
   "metadata": {},
   "outputs": [
    {
     "data": {
      "text/plain": [
       "0.014769730168391155"
      ]
     },
     "execution_count": 8,
     "metadata": {},
     "output_type": "execute_result"
    }
   ],
   "source": [
    "prob(banker)"
   ]
  },
  {
   "cell_type": "code",
   "execution_count": 10,
   "id": "ad5c0a2f-1330-4d37-8fc0-68f706218508",
   "metadata": {},
   "outputs": [
    {
     "data": {
      "text/plain": [
       "0.5378575776019476"
      ]
     },
     "execution_count": 10,
     "metadata": {},
     "output_type": "execute_result"
    }
   ],
   "source": [
    "female = gss['sex'] == 2\n",
    "prob(female)"
   ]
  },
  {
   "cell_type": "markdown",
   "id": "01a66a5a-d2b1-4d2f-91db-9af8946239fb",
   "metadata": {},
   "source": [
    "We can also look at the `polviews` column:\n",
    "\n",
    "Value | View\n",
    "------|------\n",
    "1 | extremely liberal\n",
    "2 | Liberal\n",
    "3 | Slightly liberal\n",
    "4 | Moderate\n",
    "5 | slightly conservative\n",
    "6 | Conservative\n",
    "6 | Extremely conservative"
   ]
  },
  {
   "cell_type": "code",
   "execution_count": 15,
   "id": "d03d25ed-c8c0-459e-84a8-e7dd9264475b",
   "metadata": {},
   "outputs": [
    {
     "data": {
      "text/plain": [
       "0.27374721038750255"
      ]
     },
     "execution_count": 15,
     "metadata": {},
     "output_type": "execute_result"
    }
   ],
   "source": [
    "liberal = gss['polviews'] <= 3\n",
    "prob(liberal)"
   ]
  },
  {
   "cell_type": "markdown",
   "id": "1e4c6d83-1b6d-46c4-99ed-028c1214b7c9",
   "metadata": {},
   "source": [
    "We can also look at party affiliation via the `partyid` column:\n",
    "\n",
    "Value | Coding\n",
    "----|----\n",
    "0|Strong Democrat\n",
    "1 | Not strong democrat\n",
    "2 | Independent, near democrat\n",
    "3 | Independent\n",
    "4 | Independent, near republican\n",
    "5 | Not strong republican\n",
    "6 | strong Republican\n",
    "7 | Other party"
   ]
  },
  {
   "cell_type": "code",
   "execution_count": 17,
   "id": "2e6d1162-48b1-4dc5-980f-dad82ea4826a",
   "metadata": {},
   "outputs": [
    {
     "data": {
      "text/plain": [
       "0.3662609048488537"
      ]
     },
     "execution_count": 17,
     "metadata": {},
     "output_type": "execute_result"
    }
   ],
   "source": [
    "democrat = gss['partyid'] <= 1\n",
    "prob(democrat)"
   ]
  },
  {
   "cell_type": "markdown",
   "id": "c9af834f-64db-4fff-a6d8-062f7c95e5a6",
   "metadata": {},
   "source": [
    "## Conjunction\n",
    "\n",
    "- $P(A \\& B)$\n",
    "- If we have two boolean Series, use `&` to compute their conjunction:q\n"
   ]
  },
  {
   "cell_type": "code",
   "execution_count": 19,
   "id": "b372e1fc-78c7-4d9a-95fe-1e4d8fa8797a",
   "metadata": {},
   "outputs": [
    {
     "data": {
      "text/plain": [
       "0.004686548995739501"
      ]
     },
     "execution_count": 19,
     "metadata": {},
     "output_type": "execute_result"
    }
   ],
   "source": [
    "prob(banker)\n",
    "prob(democrat)\n",
    "prob(banker & democrat)"
   ]
  },
  {
   "cell_type": "code",
   "execution_count": 20,
   "id": "8c0c874b-088d-46f9-a15e-8010fa1cc9a5",
   "metadata": {},
   "outputs": [
    {
     "data": {
      "text/plain": [
       "0.004686548995739501"
      ]
     },
     "execution_count": 20,
     "metadata": {},
     "output_type": "execute_result"
    }
   ],
   "source": [
    "prob(democrat & banker )"
   ]
  },
  {
   "cell_type": "markdown",
   "id": "8947f5c4-c70f-49e5-9e35-0082af74818f",
   "metadata": {},
   "source": [
    "## Conditional Probability\n",
    "\n",
    "- $P(A | B)\n",
    "- \"Of all the people who are B, what is the fracction that are A?\"\n",
    "- Calculate using a `[]` notation"
   ]
  },
  {
   "cell_type": "markdown",
   "id": "f5a1ef0b-9e55-4109-9554-7732e812a583",
   "metadata": {},
   "source": [
    "To calculate $P(Democrat | liberal)$:q\n"
   ]
  },
  {
   "cell_type": "code",
   "execution_count": 22,
   "id": "45fb33e1-fddf-4d58-bb87-2997576c275b",
   "metadata": {},
   "outputs": [
    {
     "data": {
      "text/plain": [
       "0.5206403320240125"
      ]
     },
     "execution_count": 22,
     "metadata": {},
     "output_type": "execute_result"
    }
   ],
   "source": [
    "selected = democrat[liberal]\n",
    "prob(selected)"
   ]
  },
  {
   "cell_type": "code",
   "execution_count": 24,
   "id": "eeffa505-3ea3-4b02-874e-e82e52f6057b",
   "metadata": {},
   "outputs": [
    {
     "data": {
      "text/plain": [
       "0.7706043956043956"
      ]
     },
     "execution_count": 24,
     "metadata": {},
     "output_type": "execute_result"
    }
   ],
   "source": [
    "selected = female[banker]\n",
    "prob(selected)"
   ]
  },
  {
   "cell_type": "code",
   "execution_count": 30,
   "id": "3fd8ee7c-3840-4464-a847-324ef5baedd9",
   "metadata": {},
   "outputs": [],
   "source": [
    "def conditional(proposition, given):\n",
    "    return prob(proposition[given])"
   ]
  },
  {
   "cell_type": "code",
   "execution_count": 31,
   "id": "d1d63feb-6353-464f-acf6-a5caff450626",
   "metadata": {},
   "outputs": [
    {
     "data": {
      "text/plain": [
       "0.27581004111500884"
      ]
     },
     "execution_count": 31,
     "metadata": {},
     "output_type": "execute_result"
    }
   ],
   "source": [
    "conditional(liberal, given=female)"
   ]
  },
  {
   "cell_type": "markdown",
   "id": "3b337f4e-ac5d-4bc9-bf38-cf2bfc3c774c",
   "metadata": {},
   "source": [
    "## Laws of Probability"
   ]
  },
  {
   "cell_type": "markdown",
   "id": "61313f9c-c692-49b9-bdf0-a2ac07f0279b",
   "metadata": {},
   "source": [
    "1. $P(A|B) = \\frac{P(A \\& B)}{P(B)} \\iff P(A \\& B) = P(A)P(B|A)$\n",
    "\n",
    "Bayes Theorem:\n",
    "$$\n",
    "P(A \\& B) = P(B \\& A) \\\\\n",
    "P(A)P(B|A) = P(B)P(A|B) \\\\\n",
    "P(A|B) = \\frac{P(A)P(B|A)}{P(B)}\n",
    "$$"
   ]
  },
  {
   "cell_type": "code",
   "execution_count": 32,
   "id": "018fe88c-3a8c-4cd9-89b6-b7ab8010eae6",
   "metadata": {},
   "outputs": [
    {
     "data": {
      "text/plain": [
       "0.7706043956043956"
      ]
     },
     "execution_count": 32,
     "metadata": {},
     "output_type": "execute_result"
    }
   ],
   "source": [
    "prob(female & banker) / prob(banker)"
   ]
  },
  {
   "cell_type": "code",
   "execution_count": 33,
   "id": "c88dc553-5913-48bd-bef9-f4ed73fa7d54",
   "metadata": {},
   "outputs": [
    {
     "data": {
      "text/plain": [
       "0.7706043956043956"
      ]
     },
     "execution_count": 33,
     "metadata": {},
     "output_type": "execute_result"
    }
   ],
   "source": [
    "conditional(female, given=banker)"
   ]
  },
  {
   "cell_type": "markdown",
   "id": "35b66b1b-743c-41fe-beff-4cc6fbea33d0",
   "metadata": {},
   "source": [
    "## Exercises"
   ]
  },
  {
   "cell_type": "markdown",
   "id": "f12a1588-2a17-4854-b650-370a7366fe48",
   "metadata": {},
   "source": [
    "### 1-1 Use the tools of the chapter to solve the following:\n",
    "Compute\n",
    "1. The probability that Linda is a female banker\n",
    "2. The probability that she is a liberal female banker\n",
    "3. The probability that she is a liberal female banker and a Democrat"
   ]
  },
  {
   "cell_type": "code",
   "execution_count": 34,
   "id": "adff8be1-235b-48b8-9cc7-d22c1041b6c2",
   "metadata": {},
   "outputs": [
    {
     "name": "stdout",
     "output_type": "stream",
     "text": [
      "0.011381618989653074\n",
      "0.002556299452221546\n",
      "0.0012375735443294787\n"
     ]
    }
   ],
   "source": [
    "# Solution\n",
    "print(prob(female & banker))\n",
    "print(prob(liberal & female & banker))\n",
    "print(prob(liberal & female & banker & democrat))"
   ]
  },
  {
   "cell_type": "markdown",
   "id": "498911da-66a6-4fba-bf7a-c6352dac8ac6",
   "metadata": {},
   "source": [
    "### 1-2 Use `conditional` to compute the following:\n",
    "- What is the probability that a respondent is liberal, given that they are a Democrat?\n",
    "- What is the probability that a respondent is a Democrat, given that they are liberal?"
   ]
  },
  {
   "cell_type": "code",
   "execution_count": 35,
   "id": "6fda2e27-fda5-4962-8b6f-5e799e7dc3a1",
   "metadata": {},
   "outputs": [
    {
     "name": "stdout",
     "output_type": "stream",
     "text": [
      "0.3891320002215698\n",
      "0.5206403320240125\n"
     ]
    }
   ],
   "source": [
    "# Solution\n",
    "print(conditional(liberal, given=democrat))\n",
    "print(conditional(democrat, given=liberal))"
   ]
  },
  {
   "cell_type": "markdown",
   "id": "886593cc-0f41-490e-9349-68fb3ac86695",
   "metadata": {},
   "source": [
    "### 1-3 Famous quote:\n",
    "> If you are not a liberal at 25, you have no heart. If you are not a conservative at age 35, you have no brain\n",
    "\n",
    "Let's test this proposition (kind of).\n",
    "- young: under 30\n",
    "- old: over 65\n",
    "- conservative: conservative, slightly conservative, extremely conservative\n",
    "\n",
    "Use `prob` and `conditional` to calculate the following:\n",
    "- P(young and liberal)\n",
    "- P(liberal | young)\n",
    "- P(old & conservative)\n",
    "- P(old | conservative)"
   ]
  },
  {
   "cell_type": "code",
   "execution_count": 36,
   "id": "626503f0-348e-4e8c-b2ac-d3cf7baf6f70",
   "metadata": {},
   "outputs": [
    {
     "name": "stdout",
     "output_type": "stream",
     "text": [
      "Young liberal: 0.06579427875836884\n",
      "Young person is liberal: 0.338517745302714\n",
      "Old conservative: 0.062264150943396226\n",
      "Old given conservative 0.1820932716269135\n"
     ]
    }
   ],
   "source": [
    "young = gss['age'] < 30\n",
    "old = gss['age'] > 65\n",
    "conservative = gss['polviews'] >= 5\n",
    "\n",
    "print(\"Young liberal:\", prob(young & liberal))\n",
    "print(\"Young person is liberal:\", conditional(liberal, given=young))\n",
    "print(\"Old conservative:\", prob(old & conservative))\n",
    "print(\"Old given conservative\", conditional(old, given=conservative))"
   ]
  }
 ],
 "metadata": {
  "kernelspec": {
   "display_name": "Python 3 (ipykernel)",
   "language": "python",
   "name": "python3"
  },
  "language_info": {
   "codemirror_mode": {
    "name": "ipython",
    "version": 3
   },
   "file_extension": ".py",
   "mimetype": "text/x-python",
   "name": "python",
   "nbconvert_exporter": "python",
   "pygments_lexer": "ipython3",
   "version": "3.8.5"
  }
 },
 "nbformat": 4,
 "nbformat_minor": 5
}
