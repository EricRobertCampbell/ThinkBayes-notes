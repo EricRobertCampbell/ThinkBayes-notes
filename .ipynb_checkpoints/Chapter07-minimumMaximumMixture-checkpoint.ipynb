{
 "cells": [
  {
   "cell_type": "markdown",
   "id": "b3d712e4-14a9-446c-b7f6-3c49f2c0d55e",
   "metadata": {},
   "source": [
    "# Chapter 7 - Minimum, Maximum, and Mixture\n",
    "\n",
    "Let's look at the distribution of minima, maxima, and also looking at distributions that are mixtures of other distrubutions.\n",
    "\n",
    "## Cumulative Distribution Functions\n",
    "- So far: Pmf (probability mass distribution)\n",
    "- CDF (Cumulative distribution function)\n",
    "\n",
    "Here's the Euro problem again:"
   ]
  },
  {
   "cell_type": "code",
   "execution_count": 1,
   "id": "3d8312d6-d8a9-46fa-9bfc-0d4239a77d18",
   "metadata": {},
   "outputs": [
    {
     "data": {
      "text/plain": [
       "<AxesSubplot:>"
      ]
     },
     "execution_count": 1,
     "metadata": {},
     "output_type": "execute_result"
    },
    {
     "data": {
      "image/png": "[encoded data removed]",
      "text/plain": [
       "<Figure size 432x288 with 1 Axes>"
      ]
     },
     "metadata": {
      "needs_background": "light"
     },
     "output_type": "display_data"
    }
   ],
   "source": [
    "import numpy as np\n",
    "from empiricaldist import Pmf\n",
    "from scipy.stats import binom\n",
    "\n",
    "hypos = np.linspace(0, 1, 101)\n",
    "pmf = Pmf(1, hypos)\n",
    "data = 140, 250\n",
    "\n",
    "# now the update\n",
    "def update_binomial(pmf, data):\n",
    "    \"\"\" Update the PMF using the binomial distribution \"\"\"\n",
    "    k, n = data\n",
    "    xs = pmf.qs\n",
    "    likelihood = binom.pmf(k, n, xs)\n",
    "    pmf *= likelihood\n",
    "    pmf.normalize()\n",
    "    \n",
    "update_binomial(pmf, data)\n",
    "\n",
    "# The CDF is the cumulative sum of the PMF, so...\n",
    "cumulative = pmf.cumsum()\n",
    "pmf.plot()\n",
    "cumulative.plot()"
   ]
  },
  {
   "cell_type": "code",
   "execution_count": 2,
   "id": "4fcd802d-0adc-49ac-85fc-7dd14aba6b62",
   "metadata": {},
   "outputs": [
    {
     "data": {
      "text/plain": [
       "0.9638303193984255"
      ]
     },
     "execution_count": 2,
     "metadata": {},
     "output_type": "execute_result"
    }
   ],
   "source": [
    "cumulative[0.61]"
   ]
  },
  {
   "cell_type": "markdown",
   "id": "20834236-d9df-4556-a806-82a3218898ef",
   "metadata": {},
   "source": [
    "So there is about a 96% chance that the value is <= 0.61\n",
    "\n",
    "To go the other way, we can use interpolation."
   ]
  },
  {
   "cell_type": "code",
   "execution_count": 3,
   "id": "f4712671-c1c6-46ed-8784-d48b5c9c9076",
   "metadata": {},
   "outputs": [
    {
     "data": {
      "text/plain": [
       "array(0.60890171)"
      ]
     },
     "execution_count": 3,
     "metadata": {},
     "output_type": "execute_result"
    }
   ],
   "source": [
    "from scipy.interpolate import interp1d\n",
    "\n",
    "ps = cumulative.values\n",
    "qs = cumulative.index\n",
    "\n",
    "interp = interp1d(ps, qs)\n",
    "interp(0.96)"
   ]
  },
  {
   "cell_type": "markdown",
   "id": "376b2b94-1e1e-4bf9-be86-958c67ddbca0",
   "metadata": {},
   "source": [
    "`empiricaldist` includes a `Cdf` class to represent this. Given a `Pmf`, you can calulate it as follows:"
   ]
  },
  {
   "cell_type": "code",
   "execution_count": 4,
   "id": "e48f46f6-33e1-477c-baf0-0b7d7e181d75",
   "metadata": {},
   "outputs": [
    {
     "data": {
      "text/plain": [
       "0.9638303193984255"
      ]
     },
     "execution_count": 4,
     "metadata": {},
     "output_type": "execute_result"
    }
   ],
   "source": [
    "cdf = pmf.make_cdf()\n",
    "\n",
    "# select an element using square brackets:\n",
    "cdf[0.61]"
   ]
  },
  {
   "cell_type": "code",
   "execution_count": 5,
   "id": "10c59e65-8870-4afe-9c59-f2f2f1e863f5",
   "metadata": {},
   "outputs": [
    {
     "data": {
      "text/plain": [
       "array(0.96383032)"
      ]
     },
     "execution_count": 5,
     "metadata": {},
     "output_type": "execute_result"
    }
   ],
   "source": [
    "# But that will throw a KeyError if not in the CDF - use () to use interpolation\n",
    "cdf(0.615)"
   ]
  },
  {
   "cell_type": "code",
   "execution_count": 6,
   "id": "8e93bc47-f700-4130-8c99-27c6f1aaaa36",
   "metadata": {},
   "outputs": [
    {
     "data": {
      "text/plain": [
       "array(0.61)"
      ]
     },
     "execution_count": 6,
     "metadata": {},
     "output_type": "execute_result"
    }
   ],
   "source": [
    "# use quantile to calculate the probability:\n",
    "cdf.quantile(0.96)"
   ]
  },
  {
   "cell_type": "code",
   "execution_count": 7,
   "id": "cebdc03c-632f-4521-970b-4887f4986a3c",
   "metadata": {},
   "outputs": [
    {
     "data": {
      "text/plain": [
       "array([0.51, 0.61])"
      ]
     },
     "execution_count": 7,
     "metadata": {},
     "output_type": "execute_result"
    }
   ],
   "source": [
    "# and use credible_interval to calculate... the credible interval\n",
    "cdf.credible_interval(0.9)"
   ]
  },
  {
   "cell_type": "code",
   "execution_count": 8,
   "id": "a763b6ec-692a-439c-8209-bf0b75c2caa8",
   "metadata": {},
   "outputs": [
    {
     "data": {
      "text/html": [
       "<div>\n",
       "<style scoped>\n",
       "    .dataframe tbody tr th:only-of-type {\n",
       "        vertical-align: middle;\n",
       "    }\n",
       "\n",
       "    .dataframe tbody tr th {\n",
       "        vertical-align: top;\n",
       "    }\n",
       "\n",
       "    .dataframe thead th {\n",
       "        text-align: right;\n",
       "    }\n",
       "</style>\n",
       "<table border=\"1\" class=\"dataframe\">\n",
       "  <thead>\n",
       "    <tr style=\"text-align: right;\">\n",
       "      <th></th>\n",
       "      <th>probs</th>\n",
       "    </tr>\n",
       "  </thead>\n",
       "  <tbody>\n",
       "    <tr>\n",
       "      <th>0.00</th>\n",
       "      <td>0.000000e+00</td>\n",
       "    </tr>\n",
       "    <tr>\n",
       "      <th>0.01</th>\n",
       "      <td>1.256330e-207</td>\n",
       "    </tr>\n",
       "    <tr>\n",
       "      <th>0.02</th>\n",
       "      <td>5.731921e-166</td>\n",
       "    </tr>\n",
       "    <tr>\n",
       "      <th>0.03</th>\n",
       "      <td>8.338711e-142</td>\n",
       "    </tr>\n",
       "    <tr>\n",
       "      <th>0.04</th>\n",
       "      <td>8.269265e-125</td>\n",
       "    </tr>\n",
       "    <tr>\n",
       "      <th>...</th>\n",
       "      <td>...</td>\n",
       "    </tr>\n",
       "    <tr>\n",
       "      <th>0.96</th>\n",
       "      <td>0.000000e+00</td>\n",
       "    </tr>\n",
       "    <tr>\n",
       "      <th>0.97</th>\n",
       "      <td>0.000000e+00</td>\n",
       "    </tr>\n",
       "    <tr>\n",
       "      <th>0.98</th>\n",
       "      <td>0.000000e+00</td>\n",
       "    </tr>\n",
       "    <tr>\n",
       "      <th>0.99</th>\n",
       "      <td>0.000000e+00</td>\n",
       "    </tr>\n",
       "    <tr>\n",
       "      <th>1.00</th>\n",
       "      <td>0.000000e+00</td>\n",
       "    </tr>\n",
       "  </tbody>\n",
       "</table>\n",
       "<p>101 rows × 1 columns</p>\n",
       "</div>"
      ],
      "text/plain": [
       "0.00     0.000000e+00\n",
       "0.01    1.256330e-207\n",
       "0.02    5.731921e-166\n",
       "0.03    8.338711e-142\n",
       "0.04    8.269265e-125\n",
       "            ...      \n",
       "0.96     0.000000e+00\n",
       "0.97     0.000000e+00\n",
       "0.98     0.000000e+00\n",
       "0.99     0.000000e+00\n",
       "1.00     0.000000e+00\n",
       "Name: , Length: 101, dtype: float64"
      ]
     },
     "execution_count": 8,
     "metadata": {},
     "output_type": "execute_result"
    }
   ],
   "source": [
    "# You can also create a Pmf from a Cdf:\n",
    "cdf.make_pmf()"
   ]
  },
  {
   "cell_type": "markdown",
   "id": "958a5092-dc88-4028-927d-f4f77f423d16",
   "metadata": {},
   "source": [
    "## Best Three of Four\n",
    "\n",
    "In DnD, each character has six attributes. To general a new character, roll 4 D6 and add up the best three."
   ]
  },
  {
   "cell_type": "code",
   "execution_count": 9,
   "id": "739cf891-a532-4c19-b437-511478a091e0",
   "metadata": {},
   "outputs": [],
   "source": [
    "def make_dice(num_sides):\n",
    "    pmf = Pmf(1, range(1, num_sides + 1))\n",
    "    pmf.normalize()\n",
    "    return pmf\n",
    "\n",
    "def add_dist_seq(*pmfs):\n",
    "    pmf = pmfs[0]\n",
    "    for other_pmf in pmfs[1:]:\n",
    "        pmf = Pmf.add_dist(pmf, other_pmf)\n",
    "    pmf.normalize()\n",
    "    return pmf"
   ]
  },
  {
   "cell_type": "markdown",
   "id": "c68bb2ad-2978-4041-94d8-6169ffd22723",
   "metadata": {},
   "source": [
    "If we were just rolling three dice, then computing the distribution of their sum would be trivial. *But* doing it for the case for rolling four and taking the best three is more complicated. Let's do a quick simulation:"
   ]
  },
  {
   "cell_type": "code",
   "execution_count": 10,
   "id": "78b74c09-368d-4736-89ed-e869b219dd7b",
   "metadata": {},
   "outputs": [
    {
     "data": {
      "text/plain": [
       "<AxesSubplot:>"
      ]
     },
     "execution_count": 10,
     "metadata": {},
     "output_type": "execute_result"
    },
    {
     "data": {
      "image/png": "[encoded data removed]",
      "text/plain": [
       "<Figure size 432x288 with 1 Axes>"
      ]
     },
     "metadata": {
      "needs_background": "light"
     },
     "output_type": "display_data"
    }
   ],
   "source": [
    "n = 100000\n",
    "a = np.random.randint(1, 7, size=(n, 4))\n",
    "a.sort(axis=1) # sort in ascending order\n",
    "t = a[:, 1:].sum(axis=1) # select the last three columns and add them up\n",
    "pmf_best_3 = pmf.from_seq(t) # calculates the PMF\n",
    "pmf_best_3.plot()\n",
    "\n",
    "# also, let's compare this just the sum of three\n",
    "d6 = make_dice(6)\n",
    "sum_3 = add_dist_seq(d6, d6, d6)\n",
    "sum_3.plot()\n",
    "add_dist_seq(d6).plot()"
   ]
  },
  {
   "cell_type": "markdown",
   "id": "335573e9-cb1b-4530-9615-399728da1795",
   "metadata": {},
   "source": [
    "Unsuprisingly, taking the best 3 of 4 results in roughly the same shape, but skewed right.\n",
    "\n",
    "## Maximum\n",
    "\n",
    "To calculate the distribution of the maximum of the best 3 of 4, we can use the Cdf:"
   ]
  },
  {
   "cell_type": "code",
   "execution_count": 11,
   "id": "00dbfa67-3e44-4cea-9f9e-36b6ec761180",
   "metadata": {},
   "outputs": [],
   "source": [
    "cdf_best_3 = pmf_best_3.make_cdf()"
   ]
  },
  {
   "cell_type": "markdown",
   "id": "b6e72d87-bfdf-4bb7-a88f-c3755503b000",
   "metadata": {},
   "source": [
    "Recall that the CDF captures the probability that a randomly chosen value is <= x. If we are drawing 6 values, the probability that they are all <= x is CDF(x) ** 6. If all 6 are <= x, then their maximum is also <= x."
   ]
  },
  {
   "cell_type": "code",
   "execution_count": 12,
   "id": "7504929a-49f4-4354-b8c3-afb6331a7561",
   "metadata": {},
   "outputs": [
    {
     "data": {
      "text/plain": [
       "<AxesSubplot:>"
      ]
     },
     "execution_count": 12,
     "metadata": {},
     "output_type": "execute_result"
    },
    {
     "data": {
      "image/png": "[encoded data removed]",
      "text/plain": [
       "<Figure size 432x288 with 1 Axes>"
      ]
     },
     "metadata": {
      "needs_background": "light"
     },
     "output_type": "display_data"
    }
   ],
   "source": [
    "from empiricaldist import Cdf\n",
    "\n",
    "cdf_max_6 = Cdf(cdf_best_3 ** 6)\n",
    "sum_3.make_cdf().plot()\n",
    "cdf_max_6.plot()\n",
    "cdf_best_3.plot()"
   ]
  },
  {
   "cell_type": "code",
   "execution_count": 13,
   "id": "f3dd9900-ae01-41f7-84a8-a09089bb5ca4",
   "metadata": {},
   "outputs": [
    {
     "data": {
      "text/plain": [
       "<AxesSubplot:>"
      ]
     },
     "execution_count": 13,
     "metadata": {},
     "output_type": "execute_result"
    },
    {
     "data": {
      "image/png": "[encoded data removed]",
      "text/plain": [
       "<Figure size 432x288 with 1 Axes>"
      ]
     },
     "metadata": {
      "needs_background": "light"
     },
     "output_type": "display_data"
    }
   ],
   "source": [
    "# Cdf also has this build in as max_dist(n):\n",
    "cdf_max_dist_6 = cdf_best_3.max_dist(6)\n",
    "cdf_max_dist_6.plot()"
   ]
  },
  {
   "cell_type": "markdown",
   "id": "06a56acc-7e4a-459b-b7b0-34fbcb90b31e",
   "metadata": {},
   "source": [
    "## Minimum\n",
    "\n",
    "How can we figure out the minimum?"
   ]
  },
  {
   "cell_type": "code",
   "execution_count": 14,
   "id": "c22b39ac-afbf-4304-a596-28b8c9d5db46",
   "metadata": {},
   "outputs": [
    {
     "data": {
      "text/plain": [
       "<AxesSubplot:>"
      ]
     },
     "execution_count": 14,
     "metadata": {},
     "output_type": "execute_result"
    },
    {
     "data": {
      "image/png": "[encoded data removed]",
      "text/plain": [
       "<Figure size 432x288 with 1 Axes>"
      ]
     },
     "metadata": {
      "needs_background": "light"
     },
     "output_type": "display_data"
    }
   ],
   "source": [
    "prob_gt = 1 - cdf_best_3\n",
    "\n",
    "prob_gt_6 = prob_gt ** 6\n",
    "prob_le_6 = 1 - prob_gt_6\n",
    "cdf_min_6 = Cdf(prob_le_6)\n",
    "cdf_min_6.plot()"
   ]
  },
  {
   "cell_type": "code",
   "execution_count": 15,
   "id": "f117166e-60d4-4f03-aa37-c5a533547548",
   "metadata": {},
   "outputs": [],
   "source": [
    "# Also a method to calculate it directly\n",
    "cdf_min_dist_6 = cdf_best_3.min_dist(6)"
   ]
  },
  {
   "cell_type": "markdown",
   "id": "4667b5e3-e109-4842-8557-13795c0e94db",
   "metadata": {},
   "source": [
    "## Mixture\n",
    "\n",
    "Let's calculate a distribution that is a mixture of other distributions!\n",
    "\n",
    "- Character is armed with a dagger in one hand and a short sword in the other\n",
    "- Randomly choose one each round to attack with\n",
    "- dagger causes D4 of damage; short sword D6\n",
    "\n",
    "What is the distribution of damage each round?"
   ]
  },
  {
   "cell_type": "code",
   "execution_count": 16,
   "id": "25366db6-d652-46db-9ce1-876339dec6f4",
   "metadata": {},
   "outputs": [],
   "source": [
    "def make_die(num_sides):\n",
    "    pmf = Pmf(1, range(1, num_sides + 1))\n",
    "    pmf.normalize()\n",
    "    return pmf\n",
    "    \n",
    "d4 = make_die(4)\n",
    "d6 = make_die(6)"
   ]
  },
  {
   "cell_type": "markdown",
   "id": "505de13d-9657-44c0-a04d-4db54f8730ca",
   "metadata": {},
   "source": [
    "We could loop through each possibility and calculate `(d4(n) + d6(2)) / 2`, or just use the + operator on the Pmfs:"
   ]
  },
  {
   "cell_type": "code",
   "execution_count": 17,
   "id": "21abbddc-aa26-4cfb-bb8e-73f4f985af37",
   "metadata": {},
   "outputs": [
    {
     "data": {
      "text/plain": [
       "<AxesSubplot:>"
      ]
     },
     "execution_count": 17,
     "metadata": {},
     "output_type": "execute_result"
    },
    {
     "data": {
      "image/png": "[encoded data removed]",
      "text/plain": [
       "<Figure size 432x288 with 1 Axes>"
      ]
     },
     "metadata": {
      "needs_background": "light"
     },
     "output_type": "display_data"
    }
   ],
   "source": [
    "mix1 = (d4 + d6) / 2\n",
    "mix1.plot(kind=\"bar\")"
   ]
  },
  {
   "cell_type": "markdown",
   "id": "98aa4a3b-7621-4b95-a680-1b37f04fea2c",
   "metadata": {},
   "source": [
    "Now suppose you are being attacked by three monsters:\n",
    "- One has a club: D4\n",
    "- One has a mace: D6\n",
    "- One has a quarterstaff: D6\n",
    "\n",
    "Only one attacks per round. What is the distribution of damage?"
   ]
  },
  {
   "cell_type": "code",
   "execution_count": 18,
   "id": "c6ef7a0d-dbea-41e6-a2fb-7e96e7721ba2",
   "metadata": {},
   "outputs": [
    {
     "data": {
      "text/plain": [
       "<AxesSubplot:>"
      ]
     },
     "execution_count": 18,
     "metadata": {},
     "output_type": "execute_result"
    },
    {
     "data": {
      "image/png": "[encoded data removed]",
      "text/plain": [
       "<Figure size 432x288 with 1 Axes>"
      ]
     },
     "metadata": {
      "needs_background": "light"
     },
     "output_type": "display_data"
    }
   ],
   "source": [
    "mix2 = (d4 + 2 * d6) / 3\n",
    "mix2.plot(kind=\"bar\")"
   ]
  },
  {
   "cell_type": "markdown",
   "id": "abe9ea6c-0c68-4723-a2a5-48d4f669d322",
   "metadata": {},
   "source": [
    "## General Mixtures\n",
    "\n",
    "Previously we mixed distributions in an ad-hoc way. Let's continue with our example to develop a general solution:\n",
    "\n",
    "Three more monsters join the fight, each with a battle axe (D8):\n",
    "\n",
    "- 1 D4\n",
    "- 2 D6\n",
    "- 3 D8\n",
    "\n",
    "PMF to represent a randomly chosen monster:"
   ]
  },
  {
   "cell_type": "code",
   "execution_count": 19,
   "id": "50f216f8-36bd-4786-a69d-e9b14edbf0dc",
   "metadata": {},
   "outputs": [
    {
     "data": {
      "text/html": [
       "<div>\n",
       "<style scoped>\n",
       "    .dataframe tbody tr th:only-of-type {\n",
       "        vertical-align: middle;\n",
       "    }\n",
       "\n",
       "    .dataframe tbody tr th {\n",
       "        vertical-align: top;\n",
       "    }\n",
       "\n",
       "    .dataframe thead th {\n",
       "        text-align: right;\n",
       "    }\n",
       "</style>\n",
       "<table border=\"1\" class=\"dataframe\">\n",
       "  <thead>\n",
       "    <tr style=\"text-align: right;\">\n",
       "      <th></th>\n",
       "      <th>probs</th>\n",
       "    </tr>\n",
       "  </thead>\n",
       "  <tbody>\n",
       "    <tr>\n",
       "      <th>4</th>\n",
       "      <td>0.166667</td>\n",
       "    </tr>\n",
       "    <tr>\n",
       "      <th>6</th>\n",
       "      <td>0.333333</td>\n",
       "    </tr>\n",
       "    <tr>\n",
       "      <th>8</th>\n",
       "      <td>0.500000</td>\n",
       "    </tr>\n",
       "  </tbody>\n",
       "</table>\n",
       "</div>"
      ],
      "text/plain": [
       "4    0.166667\n",
       "6    0.333333\n",
       "8    0.500000\n",
       "Name: , dtype: float64"
      ]
     },
     "execution_count": 19,
     "metadata": {},
     "output_type": "execute_result"
    }
   ],
   "source": [
    "hypos = [4, 6, 8]\n",
    "counts = [1, 2, 3]\n",
    "pmf_dice = Pmf(counts, hypos)\n",
    "pmf_dice.normalize()\n",
    "pmf_dice"
   ]
  },
  {
   "cell_type": "markdown",
   "id": "6c7a6ad5-bd21-4e03-bf01-eecfb96efaef",
   "metadata": {},
   "source": [
    "Above represents the probability of choosing a dice with that many sides. \n",
    "\n",
    "Now let's make a sequence of Pmf objects representing the dice:"
   ]
  },
  {
   "cell_type": "code",
   "execution_count": 20,
   "id": "d878994a-72f9-4a87-b193-9bde383c604b",
   "metadata": {},
   "outputs": [],
   "source": [
    "dice = [ make_dice(sides) for sides in hypos]"
   ]
  },
  {
   "cell_type": "markdown",
   "id": "f088807b-fc3f-4d60-91ba-76ed4e9f820f",
   "metadata": {},
   "source": [
    "Now let's compute the weighted average of the dice, using the probabilities in pmf_dice as the weights:"
   ]
  },
  {
   "cell_type": "code",
   "execution_count": 21,
   "id": "9bbcfd15-5947-4520-9632-d0605f431dc8",
   "metadata": {},
   "outputs": [
    {
     "data": {
      "text/html": [
       "<div>\n",
       "<style scoped>\n",
       "    .dataframe tbody tr th:only-of-type {\n",
       "        vertical-align: middle;\n",
       "    }\n",
       "\n",
       "    .dataframe tbody tr th {\n",
       "        vertical-align: top;\n",
       "    }\n",
       "\n",
       "    .dataframe thead th {\n",
       "        text-align: right;\n",
       "    }\n",
       "</style>\n",
       "<table border=\"1\" class=\"dataframe\">\n",
       "  <thead>\n",
       "    <tr style=\"text-align: right;\">\n",
       "      <th></th>\n",
       "      <th>1</th>\n",
       "      <th>2</th>\n",
       "      <th>3</th>\n",
       "      <th>4</th>\n",
       "      <th>5</th>\n",
       "      <th>6</th>\n",
       "      <th>7</th>\n",
       "      <th>8</th>\n",
       "    </tr>\n",
       "  </thead>\n",
       "  <tbody>\n",
       "    <tr>\n",
       "      <th></th>\n",
       "      <td>0.250000</td>\n",
       "      <td>0.250000</td>\n",
       "      <td>0.250000</td>\n",
       "      <td>0.250000</td>\n",
       "      <td>NaN</td>\n",
       "      <td>NaN</td>\n",
       "      <td>NaN</td>\n",
       "      <td>NaN</td>\n",
       "    </tr>\n",
       "    <tr>\n",
       "      <th></th>\n",
       "      <td>0.166667</td>\n",
       "      <td>0.166667</td>\n",
       "      <td>0.166667</td>\n",
       "      <td>0.166667</td>\n",
       "      <td>0.166667</td>\n",
       "      <td>0.166667</td>\n",
       "      <td>NaN</td>\n",
       "      <td>NaN</td>\n",
       "    </tr>\n",
       "    <tr>\n",
       "      <th></th>\n",
       "      <td>0.125000</td>\n",
       "      <td>0.125000</td>\n",
       "      <td>0.125000</td>\n",
       "      <td>0.125000</td>\n",
       "      <td>0.125000</td>\n",
       "      <td>0.125000</td>\n",
       "      <td>0.125</td>\n",
       "      <td>0.125</td>\n",
       "    </tr>\n",
       "  </tbody>\n",
       "</table>\n",
       "</div>"
      ],
      "text/plain": [
       "         1         2         3         4         5         6      7      8\n",
       "  0.250000  0.250000  0.250000  0.250000       NaN       NaN    NaN    NaN\n",
       "  0.166667  0.166667  0.166667  0.166667  0.166667  0.166667    NaN    NaN\n",
       "  0.125000  0.125000  0.125000  0.125000  0.125000  0.125000  0.125  0.125"
      ]
     },
     "execution_count": 21,
     "metadata": {},
     "output_type": "execute_result"
    }
   ],
   "source": [
    "import pandas as pd\n",
    "table = pd.DataFrame(dice)\n",
    "table"
   ]
  },
  {
   "cell_type": "code",
   "execution_count": 22,
   "id": "600647a2-50e6-4730-b4b2-ee3070b99d76",
   "metadata": {},
   "outputs": [
    {
     "data": {
      "text/html": [
       "<div>\n",
       "<style scoped>\n",
       "    .dataframe tbody tr th:only-of-type {\n",
       "        vertical-align: middle;\n",
       "    }\n",
       "\n",
       "    .dataframe tbody tr th {\n",
       "        vertical-align: top;\n",
       "    }\n",
       "\n",
       "    .dataframe thead th {\n",
       "        text-align: right;\n",
       "    }\n",
       "</style>\n",
       "<table border=\"1\" class=\"dataframe\">\n",
       "  <thead>\n",
       "    <tr style=\"text-align: right;\">\n",
       "      <th></th>\n",
       "      <th>1</th>\n",
       "      <th>2</th>\n",
       "      <th>3</th>\n",
       "      <th>4</th>\n",
       "      <th>5</th>\n",
       "      <th>6</th>\n",
       "      <th>7</th>\n",
       "      <th>8</th>\n",
       "    </tr>\n",
       "  </thead>\n",
       "  <tbody>\n",
       "    <tr>\n",
       "      <th></th>\n",
       "      <td>0.250000</td>\n",
       "      <td>0.250000</td>\n",
       "      <td>0.250000</td>\n",
       "      <td>0.250000</td>\n",
       "      <td>0.000000</td>\n",
       "      <td>0.000000</td>\n",
       "      <td>0.000</td>\n",
       "      <td>0.000</td>\n",
       "    </tr>\n",
       "    <tr>\n",
       "      <th></th>\n",
       "      <td>0.166667</td>\n",
       "      <td>0.166667</td>\n",
       "      <td>0.166667</td>\n",
       "      <td>0.166667</td>\n",
       "      <td>0.166667</td>\n",
       "      <td>0.166667</td>\n",
       "      <td>0.000</td>\n",
       "      <td>0.000</td>\n",
       "    </tr>\n",
       "    <tr>\n",
       "      <th></th>\n",
       "      <td>0.125000</td>\n",
       "      <td>0.125000</td>\n",
       "      <td>0.125000</td>\n",
       "      <td>0.125000</td>\n",
       "      <td>0.125000</td>\n",
       "      <td>0.125000</td>\n",
       "      <td>0.125</td>\n",
       "      <td>0.125</td>\n",
       "    </tr>\n",
       "  </tbody>\n",
       "</table>\n",
       "</div>"
      ],
      "text/plain": [
       "         1         2         3         4         5         6      7      8\n",
       "  0.250000  0.250000  0.250000  0.250000  0.000000  0.000000  0.000  0.000\n",
       "  0.166667  0.166667  0.166667  0.166667  0.166667  0.166667  0.000  0.000\n",
       "  0.125000  0.125000  0.125000  0.125000  0.125000  0.125000  0.125  0.125"
      ]
     },
     "execution_count": 22,
     "metadata": {},
     "output_type": "execute_result"
    }
   ],
   "source": [
    "pd.DataFrame(dice).fillna(0)"
   ]
  },
  {
   "cell_type": "markdown",
   "id": "ee555706-d296-41d9-8feb-08b836795337",
   "metadata": {},
   "source": [
    "The next step is to multiply each row (representing a single dice type) by the probabilities in pmf_dice; this is easier if we take the transpose:"
   ]
  },
  {
   "cell_type": "code",
   "execution_count": 23,
   "id": "422a2c83-93e2-4a97-a9e2-91d73125e515",
   "metadata": {},
   "outputs": [
    {
     "data": {
      "text/html": [
       "<div>\n",
       "<style scoped>\n",
       "    .dataframe tbody tr th:only-of-type {\n",
       "        vertical-align: middle;\n",
       "    }\n",
       "\n",
       "    .dataframe tbody tr th {\n",
       "        vertical-align: top;\n",
       "    }\n",
       "\n",
       "    .dataframe thead th {\n",
       "        text-align: right;\n",
       "    }\n",
       "</style>\n",
       "<table border=\"1\" class=\"dataframe\">\n",
       "  <thead>\n",
       "    <tr style=\"text-align: right;\">\n",
       "      <th></th>\n",
       "      <th></th>\n",
       "      <th></th>\n",
       "      <th></th>\n",
       "    </tr>\n",
       "  </thead>\n",
       "  <tbody>\n",
       "    <tr>\n",
       "      <th>1</th>\n",
       "      <td>0.041667</td>\n",
       "      <td>0.055556</td>\n",
       "      <td>0.0625</td>\n",
       "    </tr>\n",
       "    <tr>\n",
       "      <th>2</th>\n",
       "      <td>0.041667</td>\n",
       "      <td>0.055556</td>\n",
       "      <td>0.0625</td>\n",
       "    </tr>\n",
       "    <tr>\n",
       "      <th>3</th>\n",
       "      <td>0.041667</td>\n",
       "      <td>0.055556</td>\n",
       "      <td>0.0625</td>\n",
       "    </tr>\n",
       "    <tr>\n",
       "      <th>4</th>\n",
       "      <td>0.041667</td>\n",
       "      <td>0.055556</td>\n",
       "      <td>0.0625</td>\n",
       "    </tr>\n",
       "    <tr>\n",
       "      <th>5</th>\n",
       "      <td>0.000000</td>\n",
       "      <td>0.055556</td>\n",
       "      <td>0.0625</td>\n",
       "    </tr>\n",
       "    <tr>\n",
       "      <th>6</th>\n",
       "      <td>0.000000</td>\n",
       "      <td>0.055556</td>\n",
       "      <td>0.0625</td>\n",
       "    </tr>\n",
       "    <tr>\n",
       "      <th>7</th>\n",
       "      <td>0.000000</td>\n",
       "      <td>0.000000</td>\n",
       "      <td>0.0625</td>\n",
       "    </tr>\n",
       "    <tr>\n",
       "      <th>8</th>\n",
       "      <td>0.000000</td>\n",
       "      <td>0.000000</td>\n",
       "      <td>0.0625</td>\n",
       "    </tr>\n",
       "  </tbody>\n",
       "</table>\n",
       "</div>"
      ],
      "text/plain": [
       "                             \n",
       "1  0.041667  0.055556  0.0625\n",
       "2  0.041667  0.055556  0.0625\n",
       "3  0.041667  0.055556  0.0625\n",
       "4  0.041667  0.055556  0.0625\n",
       "5  0.000000  0.055556  0.0625\n",
       "6  0.000000  0.055556  0.0625\n",
       "7  0.000000  0.000000  0.0625\n",
       "8  0.000000  0.000000  0.0625"
      ]
     },
     "execution_count": 23,
     "metadata": {},
     "output_type": "execute_result"
    }
   ],
   "source": [
    "df = pd.DataFrame(dice).fillna(0).transpose()\n",
    "df *= pmf_dice.ps\n",
    "df"
   ]
  },
  {
   "cell_type": "code",
   "execution_count": 24,
   "id": "10f983f6-9a4e-4bca-bee0-796ab4c50504",
   "metadata": {},
   "outputs": [
    {
     "data": {
      "text/plain": [
       "1    0.159722\n",
       "2    0.159722\n",
       "3    0.159722\n",
       "4    0.159722\n",
       "5    0.118056\n",
       "6    0.118056\n",
       "7    0.062500\n",
       "8    0.062500\n",
       "dtype: float64"
      ]
     },
     "execution_count": 24,
     "metadata": {},
     "output_type": "execute_result"
    }
   ],
   "source": [
    "# add up the weighted distributions\n",
    "df.sum(axis=1)"
   ]
  },
  {
   "cell_type": "code",
   "execution_count": 25,
   "id": "ff7d804a-15b5-42fc-b3ad-d15efc670203",
   "metadata": {},
   "outputs": [
    {
     "data": {
      "text/plain": [
       "<AxesSubplot:>"
      ]
     },
     "execution_count": 25,
     "metadata": {},
     "output_type": "execute_result"
    },
    {
     "data": {
      "image/png": "[encoded data removed]",
      "text/plain": [
       "<Figure size 432x288 with 1 Axes>"
      ]
     },
     "metadata": {
      "needs_background": "light"
     },
     "output_type": "display_data"
    }
   ],
   "source": [
    "df.sum(axis=1).plot(kind=\"bar\")"
   ]
  },
  {
   "cell_type": "code",
   "execution_count": 26,
   "id": "e86d5d36-cb17-40ca-ab37-8ab8873b779c",
   "metadata": {},
   "outputs": [],
   "source": [
    "# putting it all together\n",
    "def make_mixture(pmf, pmf_seq):\n",
    "    \"\"\"\n",
    "    Make a mixture of distributions\n",
    "    \n",
    "    Arguments:\n",
    "        pmf: The Pmf that maps from each hypothesis to a probability\n",
    "        pmf_seq: A sequence of Pmf objects, one for each hypothesis\n",
    "    \"\"\"\n",
    "    df = pd.DataFrame(pmf_seq).fillna(0).transpose()\n",
    "    df *= np.array(pmf)\n",
    "    total = df.sum(axis=1)\n",
    "    return Pmf(total)"
   ]
  },
  {
   "cell_type": "markdown",
   "id": "c9f59fd3-2b3d-4b8c-bbac-0d8b29de6734",
   "metadata": {},
   "source": [
    "## Exercises"
   ]
  },
  {
   "cell_type": "markdown",
   "id": "efa2c98c-68f5-4efd-980f-626dd7a17a4e",
   "metadata": {},
   "source": [
    "### Excercise 7-1\n",
    "\n",
    "> When you generate a character, instead of rolling, you can choose a 'standard array' of attributes: 15, 14, 13, 12, 10, 8. Do you think you are better off rolling or using the standard?\n",
    ">\n",
    "> Compare the distribution of the values in the standard array to the distribution that computed for the best three of four:\n",
    "> - Which distribution has the higher mean? Use the `mean` method\n",
    "> - Which distribution has the higher standard deviation? Use the `std` method\n",
    "> - The lowest value in the standard array is 8. For each attribute, what is the probability of getting a value less than 8? If you roll a dice six times, what's the probability that at least one of your attributes is less than 8?\n",
    "> - The highest value in the standard array is 15. For each attribute, what is the probability of getting a value greater than 15? If you roll a dice 6 times, what's the probability that at least one of your attributes is greater than 15?"
   ]
  },
  {
   "cell_type": "markdown",
   "id": "81fb8003-54d6-4d31-b091-30cf39ab9b9f",
   "metadata": {},
   "source": [
    "### Solution"
   ]
  },
  {
   "cell_type": "code",
   "execution_count": 27,
   "id": "d4d0e3a3-15cd-472d-89ba-740b0d1ebf66",
   "metadata": {},
   "outputs": [
    {
     "name": "stdout",
     "output_type": "stream",
     "text": [
      "Mean of standard array: 12.0\n"
     ]
    }
   ],
   "source": [
    "standard_array = [15, 14, 13, 12, 10, 8]\n",
    "standard_array_mean = sum(standard_array) / len(standard_array)\n",
    "print(f\"Mean of standard array: {standard_array_mean}\")"
   ]
  },
  {
   "cell_type": "code",
   "execution_count": 28,
   "id": "7823de83-efc1-4064-8cd6-f5bf0725dc19",
   "metadata": {},
   "outputs": [
    {
     "name": "stdout",
     "output_type": "stream",
     "text": [
      "Mean of best 3: 12.2497\n"
     ]
    }
   ],
   "source": [
    "# generate the data\n",
    "num_experiments = 10000\n",
    "data = np.random.randint(1, 7, size=(num_experiments, 4))\n",
    "data.sort(axis=1)\n",
    "t = data[:, 1:].sum(axis=1)\n",
    "pmf_best_3 = Pmf.from_seq(t)\n",
    "print(f\"Mean of best 3: {pmf_best_3.mean()}\")"
   ]
  },
  {
   "cell_type": "code",
   "execution_count": 29,
   "id": "a3434067-8551-466b-9473-44319a7aae81",
   "metadata": {},
   "outputs": [
    {
     "name": "stdout",
     "output_type": "stream",
     "text": [
      "Standard deviation of the standard array: 2.3804761428476167\n"
     ]
    }
   ],
   "source": [
    "# standard deviation of the standard array\n",
    "standard_std = np.std(standard_array)\n",
    "print(f\"Standard deviation of the standard array: {standard_std}\")"
   ]
  },
  {
   "cell_type": "code",
   "execution_count": 30,
   "id": "74eec5f2-a2ec-486e-9faf-146fce262b99",
   "metadata": {},
   "outputs": [
    {
     "name": "stdout",
     "output_type": "stream",
     "text": [
      "Standard deviation of the best 3 of 4: 2.864602923617862\n"
     ]
    }
   ],
   "source": [
    "# standard deviation\n",
    "print(f\"Standard deviation of the best 3 of 4: {pmf_best_3.std()}\")"
   ]
  },
  {
   "cell_type": "code",
   "execution_count": 31,
   "id": "0bcc0fcb-4745-407e-95c9-473e312ba805",
   "metadata": {},
   "outputs": [
    {
     "name": "stdout",
     "output_type": "stream",
     "text": [
      "Probability of any one of the attributes being less than 8 is 0.0552\n"
     ]
    }
   ],
   "source": [
    "cdf_best_3 = pmf_best_3.make_cdf()\n",
    "prob_less_8 = cdf_best_3[7]\n",
    "print(f\"Probability of any one of the attributes being less than 8 is {prob_less_8}\")"
   ]
  },
  {
   "cell_type": "code",
   "execution_count": 32,
   "id": "7ff55038-f881-4c5d-99e6-3b526f15d61f",
   "metadata": {},
   "outputs": [
    {
     "name": "stdout",
     "output_type": "stream",
     "text": [
      "Probability that at least one will be less than 8: 0.2887221120892318\n"
     ]
    }
   ],
   "source": [
    "# Probability that at least one is less than 8:\n",
    "# 1 - P(All >= 8)\n",
    "# 1 - P(any particular > 8) ** 6\n",
    "# 1 - (1 - Cdf(7)) ** 6\n",
    "p = 1 - (1 - prob_less_8) ** 6\n",
    "print(f\"Probability that at least one will be less than 8: {p}\")"
   ]
  },
  {
   "cell_type": "code",
   "execution_count": 33,
   "id": "83950bda-f3b9-41f3-baf2-4cd974643e73",
   "metadata": {},
   "outputs": [
    {
     "name": "stdout",
     "output_type": "stream",
     "text": [
      "Probability of any attribute being greater than 15: 0.13529999999999998\n",
      "Probability that at least one is greater than 15: 0.5819841456436591\n"
     ]
    }
   ],
   "source": [
    "# Probability of getting a value > 15?\n",
    "prob_gt_15 = 1 - cdf_best_3[15]\n",
    "print(f\"Probability of any attribute being greater than 15: {prob_gt_15}\")\n",
    "\n",
    "# Prob that at least one is > 15?\n",
    "# P(all <= 15)\n",
    "# P(one <= 15) ** 6\n",
    "# Cdf(15) ** 6\n",
    "prob_at_least_one_gt_15 =  1 - (cdf_best_3[15]) ** 6\n",
    "print(f\"Probability that at least one is greater than 15: {prob_at_least_one_gt_15}\")"
   ]
  },
  {
   "cell_type": "markdown",
   "id": "9f9206cf-0b77-49ef-a22e-2971239f7412",
   "metadata": {},
   "source": [
    "### Exercise 7-2\n",
    "\n",
    "> Suppose that you are fighting three monsters:\n",
    "> - Short sword: 1D6\n",
    "> - Battle axe: 1D8\n",
    "> - Bastard sword: 1D10\n",
    "> 1. One of the monsters attacks you and does 1 damage. Which one do you think it was? Compute the posterior probability that each monster was the attacker\n",
    "> 2. If the same monster attacks you again, what is the probability that you suffer 6 points of damage?\n",
    "> Hint: compute a posterior distribution as we have done before and pass it as one of the arguments to `make_mixture`"
   ]
  },
  {
   "cell_type": "code",
   "execution_count": 36,
   "id": "6b70828a-6a0f-4996-9adf-03754034cac5",
   "metadata": {},
   "outputs": [
    {
     "data": {
      "text/plain": [
       "<AxesSubplot:>"
      ]
     },
     "execution_count": 36,
     "metadata": {},
     "output_type": "execute_result"
    },
    {
     "data": {
      "image/png": "[encoded data removed]",
      "text/plain": [
       "<Figure size 432x288 with 1 Axes>"
      ]
     },
     "metadata": {
      "needs_background": "light"
     },
     "output_type": "display_data"
    }
   ],
   "source": [
    "hypos = [6, 8, 10]\n",
    "prior = Pmf(1, hypos)\n",
    "prior.normalize()\n",
    "likelihood = 1 / prior.qs\n",
    "posterior = prior * likelihood\n",
    "posterior.normalize()\n",
    "posterior.plot(kind=\"bar\")"
   ]
  },
  {
   "cell_type": "code",
   "execution_count": 38,
   "id": "13efb545-9dce-4f7c-86ae-3b2dfa672318",
   "metadata": {},
   "outputs": [
    {
     "name": "stdout",
     "output_type": "stream",
     "text": [
      "Chance of rolling a 6: 0.13634751773049644\n"
     ]
    },
    {
     "data": {
      "image/png": "[encoded data removed]",
      "text/plain": [
       "<Figure size 432x288 with 1 Axes>"
      ]
     },
     "metadata": {
      "needs_background": "light"
     },
     "output_type": "display_data"
    }
   ],
   "source": [
    "d6 = make_dice(6)\n",
    "d8 = make_dice(8)\n",
    "d10 = make_dice(10)\n",
    "\n",
    "mix = make_mixture(posterior, (d6, d8, d10))\n",
    "mix.normalize()\n",
    "mix.plot(kind=\"bar\")\n",
    "print(f\"Chance of rolling a 6: {mix[6]}\")"
   ]
  },
  {
   "cell_type": "markdown",
   "id": "eedad86e-f6cf-4e89-8381-5bd01714437d",
   "metadata": {},
   "source": [
    "### Exercise 7-3\n",
    "\n",
    "> Henri Poincare suspected that a local bakery was selling loaves that were lighter than the advertised 1kg. Collected data: normally distributed, mean 950g, sd 50g. The police gave the baker a warning.\n",
    ">\n",
    "> He continues to collect data. Now the mean was 1kg, but the distribution is skewed, consistent with light bread but giving Henri the heavier ones.\n",
    ">\n",
    "> Let's test out the plausibility of this. Say the baker hefts `n` loaves and gives the heaviest to Henri. How many would he have to heft to have the mean work out to 1kg?"
   ]
  },
  {
   "cell_type": "code",
   "execution_count": 52,
   "id": "0818d8a7-9b6b-4379-aa85-39ed7dfd6419",
   "metadata": {},
   "outputs": [
    {
     "name": "stdout",
     "output_type": "stream",
     "text": [
      "Heft 1: Mean 949.5589915143263\n",
      "Heft 2: Mean 976.3584804141357\n",
      "Heft 3: Mean 991.7904970387601\n",
      "Heft 4: Mean 1002.3345312198034\n",
      "Heft 5: Mean 1008.8192749289586\n"
     ]
    },
    {
     "data": {
      "image/png": "[encoded data removed]",
      "text/plain": [
       "<Figure size 432x288 with 1 Axes>"
      ]
     },
     "metadata": {
      "needs_background": "light"
     },
     "output_type": "display_data"
    }
   ],
   "source": [
    "pmfs = {}\n",
    "num_samples = 1000\n",
    "max_hefts = 5\n",
    "for num_heft in range(1, max_hefts + 1):\n",
    "    samples = np.random.normal(950, 50, size=(num_samples, num_heft))\n",
    "    samples.sort(axis=1)\n",
    "    highests = samples.max(axis=1)\n",
    "    Cdf.from_seq(highests).plot()\n",
    "    print(f\"Heft {num_heft}: Mean {highests.mean()}\")\n",
    "    "
   ]
  },
  {
   "cell_type": "code",
   "execution_count": null,
   "id": "c3e54501-ad02-4e68-8d66-8d18b631c5de",
   "metadata": {},
   "outputs": [],
   "source": []
  }
 ],
 "metadata": {
  "kernelspec": {
   "display_name": "Python 3 (ipykernel)",
   "language": "python",
   "name": "python3"
  },
  "language_info": {
   "codemirror_mode": {
    "name": "ipython",
    "version": 3
   },
   "file_extension": ".py",
   "mimetype": "text/x-python",
   "name": "python",
   "nbconvert_exporter": "python",
   "pygments_lexer": "ipython3",
   "version": "3.8.5"
  }
 },
 "nbformat": 4,
 "nbformat_minor": 5
}
