{
 "cells": [
  {
   "cell_type": "markdown",
   "id": "d09d5d85-fe11-42ed-b93d-3b871517209e",
   "metadata": {},
   "source": [
    "# Chapter 20 - Approximate Bayesian Computation\n",
    "\n",
    "ABC is a method of last resort when the other methods don't work - it often requires more computation than the other methods.\n",
    "\n",
    "## The Kidney Tumour Problem\n",
    "\n",
    "The problem came from Reddit, and has to do with a tumour - is it more likely than not that the tumour formed while the patient was in the military? If so he would get different benefits.\n",
    "\n",
    "Growth rate of the tumour is measured in two ways:\n",
    "- Volumetric doubling time - how long it would take for the tumour to double in volume\n",
    "- Reciprocal doubling time (RDT) - the number of doublings per year\n",
    "\n",
    "## A Simple Growth Model\n",
    "\n",
    "We'll start with a simple model of tumour growth based on two assumptions:\n",
    "1. Tumours grow with a constant doubling time\n",
    "1. They are roughly spherical in shape\n",
    "\n",
    "Let's define two points in time:\n",
    "- `t1` is when the correspondent retired\n",
    "- `t2` is when the tumour was detected\n",
    "\n",
    "The time between `t1` and `t2` was about 9.0 years. As an example, let's assume that the diameter of the tumour was 1cm at `t1`, and estimate its size at `t2`."
   ]
  },
  {
   "cell_type": "code",
   "execution_count": 5,
   "id": "007f2abe-662a-4946-9563-385b2ad1b881",
   "metadata": {},
   "outputs": [
    {
     "data": {
      "text/plain": [
       "0.5235987755982988"
      ]
     },
     "execution_count": 5,
     "metadata": {},
     "output_type": "execute_result"
    }
   ],
   "source": [
    "import numpy as np\n",
    "import pandas as pd\n",
    "import matplotlib.pyplot as plt\n",
    "\n",
    "def calc_volume(diameter):\n",
    "    factor = 4 * np.pi / 3\n",
    "    return factor * (diameter / 2) ** 3\n",
    "\n",
    "d1 = 1\n",
    "v1 = calc_volume(d1)\n",
    "v1"
   ]
  },
  {
   "cell_type": "code",
   "execution_count": 6,
   "id": "91010dc2-f51b-4c24-9fad-352d9ebbb0c5",
   "metadata": {},
   "outputs": [
    {
     "data": {
      "text/plain": [
       "0.45006165228113443"
      ]
     },
     "execution_count": 6,
     "metadata": {},
     "output_type": "execute_result"
    }
   ],
   "source": [
    "# The median reported doubling time was 811 days, which corresponds to an RDT of 0.45 doublings / year\n",
    "median_doubling_time = 811\n",
    "rdt = 365 / median_doubling_time\n",
    "rdt"
   ]
  },
  {
   "cell_type": "code",
   "execution_count": 7,
   "id": "5403d57f-1c46-432d-a4da-b7a1c8fd974e",
   "metadata": {},
   "outputs": [
    {
     "data": {
      "text/plain": [
       "4.05055487053021"
      ]
     },
     "execution_count": 7,
     "metadata": {},
     "output_type": "execute_result"
    }
   ],
   "source": [
    "# The number of doublings that would have occurred between t1 and t2\n",
    "interval = 9.0\n",
    "doublings = interval * rdt\n",
    "doublings"
   ]
  },
  {
   "cell_type": "code",
   "execution_count": 8,
   "id": "de874e58-9d7d-47bf-8f86-6b3c3b069433",
   "metadata": {},
   "outputs": [
    {
     "data": {
      "text/plain": [
       "8.676351488087187"
      ]
     },
     "execution_count": 8,
     "metadata": {},
     "output_type": "execute_result"
    }
   ],
   "source": [
    "# this allows us to compute the volume at t2:\n",
    "v2 = v1 * 2 ** doublings\n",
    "v2"
   ]
  },
  {
   "cell_type": "code",
   "execution_count": 9,
   "id": "47e293dd-d779-4604-8c40-789f765cf8e8",
   "metadata": {},
   "outputs": [
    {
     "data": {
      "text/plain": [
       "2.5494480788327483"
      ]
     },
     "execution_count": 9,
     "metadata": {},
     "output_type": "execute_result"
    }
   ],
   "source": [
    "# We can go back from there to the diameter:\n",
    "def calc_diameter(volume):\n",
    "    return 2 * (3 / (4 * np.pi) * volume) ** (1/3)\n",
    "\n",
    "d2 = calc_diameter(v2)\n",
    "d2"
   ]
  },
  {
   "cell_type": "markdown",
   "id": "411554ac-b982-4fd3-b18f-c4d2b4d9df17",
   "metadata": {},
   "source": [
    "So if the tumour started out with a diameter of 1cm, then 9 years later it would be about 2.5cm.\n",
    "\n",
    "## A More General Model\n",
    "\n",
    "Given the size of a tumour at the time of diagnosis, we would like to know the distribution of its age. To find it, we'll run simulations of tumour growth to get the distribution of size conditioned on age. Then we'll compute the distribution of age conditioned on size.\n",
    "\n",
    "The simulation starts with a small tumour and runs these steps:\n",
    "1. Choose a value from the distribution of growth rates\n",
    "1. Compute the size of the tumour at the end of the interval\n",
    "1. Repeat until the tumour exceeds the maximum relevant size\n",
    "\n",
    "Using the figures in the Zhange et. al. paper we can create an array of the estimated values of the RDT for the patients in the study."
   ]
  },
  {
   "cell_type": "code",
   "execution_count": 10,
   "id": "a300e9a6-8605-4d37-9f3d-13cd68fdb657",
   "metadata": {},
   "outputs": [
    {
     "data": {
      "text/plain": [
       "53"
      ]
     },
     "execution_count": 10,
     "metadata": {},
     "output_type": "execute_result"
    }
   ],
   "source": [
    "# This is directly copied from the soln notebook - what is going on here?\n",
    "from empiricaldist import Pmf\n",
    "from utils import kde_from_sample\n",
    "\n",
    "counts = [2, 29, 11, 6, 3, 1, 1]\n",
    "rdts = np.arange(-1, 6) + 0.01\n",
    "pmf_rdt = Pmf(counts, rdts)\n",
    "pmf_rdt.normalize()\n",
    "\n",
    "rdts = [5.089,  3.572,  3.242,  2.642,  1.982,  1.847,  1.908,  1.798,\n",
    "        1.798,  1.761,  2.703, -0.416,  0.024,  0.869,  0.746,  0.257,\n",
    "        0.269,  0.086,  0.086,  1.321,  1.052,  1.076,  0.758,  0.587,\n",
    "        0.367,  0.416,  0.073,  0.538,  0.281,  0.122, -0.869, -1.431,\n",
    "        0.012,  0.037, -0.135,  0.122,  0.208,  0.245,  0.404,  0.648,\n",
    "        0.673,  0.673,  0.563,  0.391,  0.049,  0.538,  0.514,  0.404,\n",
    "        0.404,  0.33,  -0.061,  0.538,  0.306]\n",
    "\n",
    "rdt_sample = np.array(rdts)\n",
    "len(rdt_sample)"
   ]
  },
  {
   "cell_type": "code",
   "execution_count": 11,
   "id": "09fdf2f6-b31c-4fa5-9f5a-51aa19444f93",
   "metadata": {},
   "outputs": [
    {
     "data": {
      "text/plain": [
       "<AxesSubplot:>"
      ]
     },
     "execution_count": 11,
     "metadata": {},
     "output_type": "execute_result"
    },
    {
     "data": {
      "image/png": "[encoded data removed]",
      "text/plain": [
       "<Figure size 432x288 with 1 Axes>"
      ]
     },
     "metadata": {
      "needs_background": "light"
     },
     "output_type": "display_data"
    }
   ],
   "source": [
    "qs = np.linspace(-2, 6, num=201)\n",
    "pmf_rdt = kde_from_sample(rdt_sample, qs)\n",
    "pmf_rdt.plot()"
   ]
  },
  {
   "cell_type": "markdown",
   "id": "a27384b3-014a-4a83-89bc-fc102b196c30",
   "metadata": {},
   "source": [
    "## Simulation\n",
    "\n",
    "Now we're ready to run the simulations. Starting with a small tumour, we'll simulate a series of intervals until the tumour reaches a maximum size.\n",
    "\n",
    "At the beginning of each simulated interval, we'll choose a value from the distribution and compute the size of the tumour at the end.\n",
    "\n",
    "I chose an interval of 245 days (about 8 months) because that was the median time between measurements in the data.\n",
    "\n",
    "For the initial diameter, I chose 0.3cm because carcinomas smaller than that are less likely to be invasive and less likely to have the blood sypply needed for rapid growth. For the maximum diameter I chose 20cm."
   ]
  },
  {
   "cell_type": "code",
   "execution_count": 12,
   "id": "bddf9aed-3b96-4a4e-b4e9-7655fc417835",
   "metadata": {},
   "outputs": [
    {
     "data": {
      "text/plain": [
       "(0.014137166941154066, 4188.790204786391)"
      ]
     },
     "execution_count": 12,
     "metadata": {},
     "output_type": "execute_result"
    }
   ],
   "source": [
    "interval = 245 / 365\n",
    "min_diameter = 0.3\n",
    "max_diameter = 20\n",
    "\n",
    "v0 = calc_volume(min_diameter)\n",
    "vmax = calc_volume(max_diameter)\n",
    "v0, vmax"
   ]
  },
  {
   "cell_type": "code",
   "execution_count": 13,
   "id": "3b7909f2-5a2a-44b5-a616-51ca48d8879b",
   "metadata": {},
   "outputs": [
    {
     "data": {
      "text/html": [
       "<div>\n",
       "<style scoped>\n",
       "    .dataframe tbody tr th:only-of-type {\n",
       "        vertical-align: middle;\n",
       "    }\n",
       "\n",
       "    .dataframe tbody tr th {\n",
       "        vertical-align: top;\n",
       "    }\n",
       "\n",
       "    .dataframe thead th {\n",
       "        text-align: right;\n",
       "    }\n",
       "</style>\n",
       "<table border=\"1\" class=\"dataframe\">\n",
       "  <thead>\n",
       "    <tr style=\"text-align: right;\">\n",
       "      <th></th>\n",
       "      <th>age</th>\n",
       "      <th>volume</th>\n",
       "      <th>diameter</th>\n",
       "    </tr>\n",
       "  </thead>\n",
       "  <tbody>\n",
       "    <tr>\n",
       "      <th>0</th>\n",
       "      <td>0.000000</td>\n",
       "      <td>0.014137</td>\n",
       "      <td>0.300000</td>\n",
       "    </tr>\n",
       "    <tr>\n",
       "      <th>1</th>\n",
       "      <td>0.671233</td>\n",
       "      <td>0.023805</td>\n",
       "      <td>0.356909</td>\n",
       "    </tr>\n",
       "    <tr>\n",
       "      <th>2</th>\n",
       "      <td>1.342466</td>\n",
       "      <td>0.019398</td>\n",
       "      <td>0.333366</td>\n",
       "    </tr>\n",
       "    <tr>\n",
       "      <th>3</th>\n",
       "      <td>2.013699</td>\n",
       "      <td>0.018690</td>\n",
       "      <td>0.329256</td>\n",
       "    </tr>\n",
       "    <tr>\n",
       "      <th>4</th>\n",
       "      <td>2.684932</td>\n",
       "      <td>0.018690</td>\n",
       "      <td>0.329256</td>\n",
       "    </tr>\n",
       "  </tbody>\n",
       "</table>\n",
       "</div>"
      ],
      "text/plain": [
       "        age    volume  diameter\n",
       "0  0.000000  0.014137  0.300000\n",
       "1  0.671233  0.023805  0.356909\n",
       "2  1.342466  0.019398  0.333366\n",
       "3  2.013699  0.018690  0.329256\n",
       "4  2.684932  0.018690  0.329256"
      ]
     },
     "execution_count": 13,
     "metadata": {},
     "output_type": "execute_result"
    }
   ],
   "source": [
    "def simulate_growth(pmf_rdt):\n",
    "    \"\"\" Simulates the growth of one tumour \"\"\"\n",
    "    age = 0\n",
    "    volume = v0\n",
    "    res = []\n",
    "    \n",
    "    while True:\n",
    "        res.append((age, volume))\n",
    "        if volume > vmax:\n",
    "            break\n",
    "        \n",
    "        rdt = pmf_rdt.choice()\n",
    "        age += interval\n",
    "        doublings = rdt * interval\n",
    "        volume *= 2 ** doublings\n",
    "    \n",
    "    columns = ['age', 'volume']\n",
    "    sim = pd.DataFrame(res, columns=columns)\n",
    "    sim['diameter'] = calc_diameter(sim['volume'])\n",
    "    return sim\n",
    "\n",
    "sim = simulate_growth(pmf_rdt)\n",
    "sim.head()"
   ]
  },
  {
   "cell_type": "code",
   "execution_count": 14,
   "id": "bb7551f7-d685-4dab-9d38-c4cee71ab903",
   "metadata": {},
   "outputs": [
    {
     "data": {
      "text/html": [
       "<div>\n",
       "<style scoped>\n",
       "    .dataframe tbody tr th:only-of-type {\n",
       "        vertical-align: middle;\n",
       "    }\n",
       "\n",
       "    .dataframe tbody tr th {\n",
       "        vertical-align: top;\n",
       "    }\n",
       "\n",
       "    .dataframe thead th {\n",
       "        text-align: right;\n",
       "    }\n",
       "</style>\n",
       "<table border=\"1\" class=\"dataframe\">\n",
       "  <thead>\n",
       "    <tr style=\"text-align: right;\">\n",
       "      <th></th>\n",
       "      <th>age</th>\n",
       "      <th>volume</th>\n",
       "      <th>diameter</th>\n",
       "    </tr>\n",
       "  </thead>\n",
       "  <tbody>\n",
       "    <tr>\n",
       "      <th>31</th>\n",
       "      <td>20.808219</td>\n",
       "      <td>1652.182562</td>\n",
       "      <td>14.667400</td>\n",
       "    </tr>\n",
       "    <tr>\n",
       "      <th>32</th>\n",
       "      <td>21.479452</td>\n",
       "      <td>2997.066700</td>\n",
       "      <td>17.888171</td>\n",
       "    </tr>\n",
       "    <tr>\n",
       "      <th>33</th>\n",
       "      <td>22.150685</td>\n",
       "      <td>3228.688934</td>\n",
       "      <td>18.337601</td>\n",
       "    </tr>\n",
       "    <tr>\n",
       "      <th>34</th>\n",
       "      <td>22.821918</td>\n",
       "      <td>2104.407658</td>\n",
       "      <td>15.899266</td>\n",
       "    </tr>\n",
       "    <tr>\n",
       "      <th>35</th>\n",
       "      <td>23.493151</td>\n",
       "      <td>5436.692660</td>\n",
       "      <td>21.816181</td>\n",
       "    </tr>\n",
       "  </tbody>\n",
       "</table>\n",
       "</div>"
      ],
      "text/plain": [
       "          age       volume   diameter\n",
       "31  20.808219  1652.182562  14.667400\n",
       "32  21.479452  2997.066700  17.888171\n",
       "33  22.150685  3228.688934  18.337601\n",
       "34  22.821918  2104.407658  15.899266\n",
       "35  23.493151  5436.692660  21.816181"
      ]
     },
     "execution_count": 14,
     "metadata": {},
     "output_type": "execute_result"
    }
   ],
   "source": [
    "sim.tail()"
   ]
  },
  {
   "cell_type": "code",
   "execution_count": 15,
   "id": "2cf5fb0f-c522-4290-a48b-d8c13dde7305",
   "metadata": {},
   "outputs": [
    {
     "data": {
      "image/png": "[encoded data removed]",
      "text/plain": [
       "<Figure size 432x288 with 1 Axes>"
      ]
     },
     "metadata": {
      "needs_background": "light"
     },
     "output_type": "display_data"
    }
   ],
   "source": [
    "# To show the results graphically, let's run this a bunch of times and see what happens:\n",
    "sims = [simulate_growth(pmf_rdt) for _ in range(101)]\n",
    "\n",
    "# Now let's plot it!\n",
    "fig, ax = plt.subplots()\n",
    "ax.set_xlabel(\"Tumour Age (years)\")\n",
    "ax.set_ylabel(\"Diameter (cm)\")\n",
    "ax.set_yscale('log')\n",
    "ax.set_ylim(top=20)\n",
    "ax.hlines(y=4, xmin=0, xmax=40, linestyle='dotted')\n",
    "ax.hlines(y=8, xmin=0, xmax=40, linestyle='dotted')\n",
    "ax.hlines(y=16, xmin=0, xmax=40, linestyle='dotted')\n",
    "for sim in sims:\n",
    "    ax.plot(sim['age'], sim['diameter'], linewidth=0.5)"
   ]
  },
  {
   "cell_type": "markdown",
   "id": "5d61b5e0-257a-4991-9391-146b00827f83",
   "metadata": {},
   "source": [
    "To compute the distribution more precisely, we can interpolate the growth curve to see when each one passes through a given size."
   ]
  },
  {
   "cell_type": "code",
   "execution_count": 16,
   "id": "57eef4c3-d2aa-41e9-b661-e0b0e945bf13",
   "metadata": {},
   "outputs": [
    {
     "name": "stdout",
     "output_type": "stream",
     "text": [
      "22.34978139908607 [15.29029497 31.3646146 ]\n"
     ]
    }
   ],
   "source": [
    "from empiricaldist import Cdf\n",
    "from scipy.interpolate import interp1d\n",
    "\n",
    "def interpolate_ages(sim, diameter):\n",
    "    ages = []\n",
    "    for sim in sims:\n",
    "        interp = interp1d(sim['diameter'], sim['age'])\n",
    "        age = interp(diameter)\n",
    "        ages.append(float(age))\n",
    "    return ages\n",
    "\n",
    "ages = interpolate_ages(sims, 15)\n",
    "cdf = Cdf.from_seq(ages)\n",
    "print(cdf.median(), cdf.credible_interval(0.9))"
   ]
  },
  {
   "cell_type": "markdown",
   "id": "132cc7c8-470a-455c-8290-193919c3ce30",
   "metadata": {},
   "source": [
    "So for a tumour 15 cm in diameter, the median age is about 22 years and the 90% credible interval is between 13 and 34 years. The probability that it formed less than 9 years ago is less than 1%:"
   ]
  },
  {
   "cell_type": "code",
   "execution_count": 17,
   "id": "682bdce5-d607-4042-b093-fe0cad516820",
   "metadata": {},
   "outputs": [
    {
     "data": {
      "text/plain": [
       "1.0"
      ]
     },
     "execution_count": 17,
     "metadata": {},
     "output_type": "execute_result"
    }
   ],
   "source": [
    "1 - cdf(9)"
   ]
  },
  {
   "cell_type": "markdown",
   "id": "d6f97a66-4c1d-4a1e-a559-9fb3ed07980e",
   "metadata": {},
   "source": [
    "However, this result is based on two modelling assumptions that could be problematic:\n",
    "1. In the simulation, growth rate during each interval is independent of the previous one. However, it seems likely that in the real world there would be some sort of serial correlation - tumours that grew quickly in one interval would probably continue to grow quickly in the next interval\n",
    "1. We assumed that the tumours are approximately spherical\n",
    "\n",
    "The author ran some different sumulations that addressed these, and still found it unlikely that a tumour this large was less than 9 years old.\n",
    "\n",
    "## Approximate Bayesian Computation\n",
    "\n",
    "Big question: why was that relevant? There was nothing Bayesian about what we did - we just ran a bunch of simulations. Implicitly, we created a joint distribution of tumour size against age. By selecting a column we get a distribution of size conditioned on age, and by selecting a column we get a distribution of age conditioned on size.\n",
    "\n",
    "The example is a first step toward Approximate Bayesian Computation.\n",
    "\n",
    "## Counting Cells\n",
    "\n",
    "This example comes from a blog post by Cameron Davidson-Pilon about the process that biologists use to estimate the concentration of cells in a sample of liquid. The example he presents is counting cells in a yeast slurry, which is a mixture of yeast and water used in brewing beer.\n",
    "\n",
    "There are two steps to the process:\n",
    "1. First, the slurry is diluted until the concentration is low enough that it is practical to count cells\n",
    "1. Then a small sample is put on a hemocytometer, which is a specialized microscope slide that holds a fixed amount of liquid on a rectangular grid\n",
    "\n",
    "The cells and the grid are visible in a microscope, making it possible to count the cells acurately.\n",
    "\n",
    "As an example, say that we start with a yeast slurry with an unknown concentration of cells. Starting with a 1ml sample, we dilute it by adding it to a shaker w/ 9ml of water (concentration -> 1/10 of what it was). Then we dilute it again, and then a third time. By the end, we have diluted it by a factor of $10 ^ 3 = 1000$ times.\n",
    "\n",
    "Then we add the diluted sample to the hemocytometer, which has a capacity of 0.0001ml spread over a 5 x 5 grid. Although the grid has 25 squares, it is standard practice to inspect only some of them (say, 5) and return the total number of cells in the inspected squares.\n",
    "\n",
    "The process is simple enough, but at each step there are sources of error:\n",
    "\n",
    "1. During the dilution process, liquids are measured using pipettes that introduce measurement error\n",
    "1. The amount of liquid in the hemocytometer might vary from the specification\n",
    "1. During each step of the sampling process, we might select more or less than the average number of cells, due to random variation\n",
    "\n",
    "Davidson-Pilon presents a PyMC model that describes these errors. We'll start by replicating his model, then we'll adapy it for ABC.\n",
    "\n",
    "Suppose that there are 25 squares in a grid. We count 5 of them and find a total of 49 cells."
   ]
  },
  {
   "cell_type": "code",
   "execution_count": 18,
   "id": "6849d9e1-d3f5-4391-bf04-cea71d62da87",
   "metadata": {},
   "outputs": [],
   "source": [
    "total_squares = 25\n",
    "squares_counted = 5\n",
    "yeast_counted = 49\n",
    "\n",
    "import pymc3 as pm\n",
    "billion = 1e9\n",
    "\n",
    "with pm.Model() as model:\n",
    "    yeast_conc = pm.Normal('yeast conc', mu=2*billion, sd=0.4*billion)\n",
    "    # this is the volume of the first shaker - supposed to be 9ml, but could be different!\n",
    "    shaker1_vol = pm.Normal(\"shaker1 vol\", mu=9.0, sd=0.05)\n",
    "    shaker2_vol = pm.Normal(\"shaker2 vol\", mu=9.0, sd=0.05)\n",
    "    shaker3_vol = pm.Normal(\"shaker3 vol\", mu=9.0, sd=0.05)\n",
    "    \n",
    "    # The initial sample from the slurry is supposed to be 1ml, but could be more or less. Same with all of the samples carried from each beaker to the next!\n",
    "    yeast_slurry_vol = pm.Normal(\"yeast slurry volume\", mu=1, sd=0.01)\n",
    "    shaker1_to_shaker2_vol = pm.Normal(\"shaker1 to shaker2\", mu=1.0, sd=0.01)\n",
    "    shaker2_to_shaker3_vol = pm.Normal(\"shaker2 to shaker3\", mu=1.0, sd=0.01)\n",
    "    \n",
    "    # Given the actual volumes in the samples and in the shakers, we can compute the effective dilution, which should be 1000 but might be higher or lower:\n",
    "    dilution_shaker1 = yeast_slurry_vol / (yeast_slurry_vol + shaker1_vol)\n",
    "    dilution_shaker2 = shaker1_to_shaker2_vol / (shaker1_to_shaker2_vol + shaker2_vol)\n",
    "    dilution_shaker3 = shaker2_to_shaker3_vol / (shaker2_to_shaker3_vol + shaker3_vol)\n",
    "    \n",
    "    final_dilution = dilution_shaker1 * dilution_shaker2 * dilution_shaker3\n",
    "    \n",
    "    # The next step is to put it in the hemocytometer. The capacity should be 0.0001ml, but could be different\n",
    "    # Here we use the Gamma distribution to model it so that we don't get negative values\n",
    "    chamber_vol = pm.Gamma(\"chamber vol\", mu=0.0001, sd=0.0001 / 20)\n",
    "    \n",
    "    # On average, the number of cells in the chamber is the product of the actual concentration, final dilution, and chamber volume\n",
    "    # However, the actual number might vary; we'll use a Poisson distribution to model this\n",
    "    yeast_in_chamber = pm.Poisson(\"yeast in chamber\", mu=yeast_conc * final_dilution * chamber_vol)\n",
    "    \n",
    "    # Finally, each cell in the chamber will be in one of the squares we count with probability p = squares_counted / total_squares.\n",
    "    # So the actual count follows a binomial distribution\n",
    "    count = pm.Binomial(\"count\", n=yeast_in_chamber, p=squares_counted/total_squares, observed=yeast_counted)\n",
    "    "
   ]
  },
  {
   "cell_type": "code",
   "execution_count": 19,
   "id": "b7b52301-cf8f-48b0-b066-97e91f54e723",
   "metadata": {},
   "outputs": [
    {
     "name": "stderr",
     "output_type": "stream",
     "text": [
      "Multiprocess sampling (4 chains in 4 jobs)\n",
      "CompoundStep\n",
      ">NUTS: [chamber vol, shaker2 to shaker3, shaker1 to shaker2, yeast slurry volume, shaker3 vol, shaker2 vol, shaker1 vol, yeast conc]\n",
      ">Metropolis: [yeast in chamber]\n"
     ]
    },
    {
     "data": {
      "text/html": [
       "\n",
       "<style>\n",
       "    /* Turns off some styling */\n",
       "    progress {\n",
       "        /* gets rid of default border in Firefox and Opera. */\n",
       "        border: none;\n",
       "        /* Needs to be in here for Safari polyfill so background images work as expected. */\n",
       "        background-size: auto;\n",
       "    }\n",
       "    .progress-bar-interrupted, .progress-bar-interrupted::-webkit-progress-bar {\n",
       "        background: #F44336;\n",
       "    }\n",
       "</style>\n"
      ],
      "text/plain": [
       "<IPython.core.display.HTML object>"
      ]
     },
     "metadata": {},
     "output_type": "display_data"
    },
    {
     "data": {
      "text/html": [
       "\n",
       "    <div>\n",
       "      <progress value='8000' class='' max='8000' style='width:300px; height:20px; vertical-align: middle;'></progress>\n",
       "      100.00% [8000/8000 00:04<00:00 Sampling 4 chains, 0 divergences]\n",
       "    </div>\n",
       "    "
      ],
      "text/plain": [
       "<IPython.core.display.HTML object>"
      ]
     },
     "metadata": {},
     "output_type": "display_data"
    },
    {
     "name": "stderr",
     "output_type": "stream",
     "text": [
      "Sampling 4 chains for 1_000 tune and 1_000 draw iterations (4_000 + 4_000 draws total) took 5 seconds.\n",
      "The number of effective samples is smaller than 10% for some parameters.\n"
     ]
    }
   ],
   "source": [
    "options = dict(return_inferencedata=False)\n",
    "\n",
    "with model:\n",
    "    trace = pm.sample(1000, **options)"
   ]
  },
  {
   "cell_type": "code",
   "execution_count": 20,
   "id": "416d2985-7907-4303-9f56-6c37647ac54e",
   "metadata": {},
   "outputs": [
    {
     "data": {
      "text/plain": [
       "(2.261375694283407, array([1.84300637, 2.69452748]))"
      ]
     },
     "execution_count": 20,
     "metadata": {},
     "output_type": "execute_result"
    }
   ],
   "source": [
    "# Now we can use the sample to estimate the posterior distribution of yeast_conc and compute summary statistics\n",
    "posterior_sample = trace['yeast conc'] / billion\n",
    "cdf_pymc = Cdf.from_seq(posterior_sample)\n",
    "cdf_pymc.mean(), cdf_pymc.credible_interval(0.9)"
   ]
  },
  {
   "cell_type": "markdown",
   "id": "3cac9c9b-6930-463d-89bf-ddb98d46abd7",
   "metadata": {},
   "source": [
    "So the concentration is probably around 2.3 billion cells / mL, with a 90% credible interval from 1.8 - 2.7.\n",
    "\n",
    "So far we've just been doing regular MCMC stuff. For this problem, it works! But now let's try it with ABC.\n",
    "\n",
    "## Cell Counting with ABC\n",
    "\n",
    "The fundamental idea of ABC is that we use the prior distribution to generate a sample of the parameters, and then simulate the sustem for each set of parameters in the sample.\n",
    "\n",
    "In this case, since we already have the PyMC model, we can use `sample_prior_predictive` to do the sampling and simulation."
   ]
  },
  {
   "cell_type": "code",
   "execution_count": 25,
   "id": "bdb3d6d8-fe3d-43ad-b950-6fa09f28e671",
   "metadata": {},
   "outputs": [],
   "source": [
    "with model:\n",
    "    prior_sample = pm.sample_prior_predictive(10000)"
   ]
  },
  {
   "cell_type": "code",
   "execution_count": 26,
   "id": "9445df48-1591-4baf-85e8-fbda4eb3f163",
   "metadata": {},
   "outputs": [
    {
     "data": {
      "text/plain": [
       "39.989"
      ]
     },
     "execution_count": 26,
     "metadata": {},
     "output_type": "execute_result"
    }
   ],
   "source": [
    "# The result is a dictionary containing samples from the prior distribution of the parameters, and the prior predictive distribution of count:\n",
    "count = prior_sample['count']\n",
    "count.mean()"
   ]
  },
  {
   "cell_type": "code",
   "execution_count": 27,
   "id": "a4fed89a-4879-4ec7-aa15-c13349e3a181",
   "metadata": {},
   "outputs": [
    {
     "data": {
      "text/plain": [
       "286"
      ]
     },
     "execution_count": 27,
     "metadata": {},
     "output_type": "execute_result"
    }
   ],
   "source": [
    "# Now, to generate a sample from the posterior distribution, we'll select one the elements in the prior sample where the output\n",
    "# of the simulation, `count`, matches the observed data, 49\n",
    "mask = count == 49\n",
    "mask.sum()"
   ]
  },
  {
   "cell_type": "markdown",
   "id": "a32da972-6fc9-4e3f-bc0f-6f26f1f457b0",
   "metadata": {},
   "source": [
    "We can use `mask` to select the values of `yeast_conc` for the simulations that yield the observed data"
   ]
  },
  {
   "cell_type": "code",
   "execution_count": 32,
   "id": "316f938b-a09f-48e2-ac85-3b921e6eedde",
   "metadata": {},
   "outputs": [
    {
     "data": {
      "text/plain": [
       "(2.2502721224343096, array([1.83992566, 2.69189445]))"
      ]
     },
     "execution_count": 32,
     "metadata": {},
     "output_type": "execute_result"
    }
   ],
   "source": [
    "posterior_sample2 = prior_sample['yeast conc'][mask] / billion\n",
    "\n",
    "# Now estimate the CDF\n",
    "cdf_abc = Cdf.from_seq(posterior_sample2)\n",
    "cdf_abc.mean(), cdf_abc.credible_interval(0.9)"
   ]
  },
  {
   "cell_type": "markdown",
   "id": "0f8df53c-441a-4a67-af77-b813ce137795",
   "metadata": {},
   "source": [
    "(If you plot this against the MCMC results, you see that they are almost identical - the ABC ones are just noisier because the sample is smaller).\n",
    "\n",
    "## When Do We Get To The Approximate Part?\n",
    "\n",
    "The examples so are are similar to ABC, but neither of them demonstrates all of the elements of ABC. More generally, ABC is characterized by:\n",
    "1. A prior distribution of parameters\n",
    "1. A simulation of the system that generates the data\n",
    "1. A criterion for when we should accept that the output of the simulation matches the data.\n",
    "\n",
    "The kidney tumour example was missing the prior distribution, which was kind of OK because we could just simulate a lot of data.\n",
    "\n",
    "The yeast example was more typical, but slightly off because we only accepted ones when the output matched our observed values exactly.\n",
    "\n",
    "The result is approximate in the sense that we have a sample from the posterior distribution rather than the posterior distribution itself. But it is not approximate in the sense of ABC, which typically accepts simulations where the output matches the data only approximately.\n",
    "\n",
    "To show how that works, let's extend the yeast example with an approximate matchin criterion.\n",
    "\n",
    "In the previous section, we acepted a simulation if the output is exactly 49 and rejected it otherwise. As a result, we got only a few hundred samples out of the 10 000 that we simulated, which is not great.\n",
    "\n",
    "We can make better use of the simulation if we give 'partial credit' when the output is close to 49. But how close? And how much credit?\n",
    "\n",
    "One way to answer that is to back up to the second-last step of the simulation, where we know the number of cells in the chamber, and we use the binomial distribution to generate the final count.\n",
    "\n",
    "If there are $n$ cells in the chamber, each has a probability $p$ of being counted, depending on whether it falls in one of the squares in the grid that get counted.\n",
    "\n",
    "We can extract $n$ from the prior sample, like this:"
   ]
  },
  {
   "cell_type": "code",
   "execution_count": 33,
   "id": "2e3ae425-9693-47ef-b362-9f5c9b78efb0",
   "metadata": {},
   "outputs": [
    {
     "data": {
      "text/plain": [
       "(10000,)"
      ]
     },
     "execution_count": 33,
     "metadata": {},
     "output_type": "execute_result"
    }
   ],
   "source": [
    "n = prior_sample['yeast in chamber']\n",
    "n.shape"
   ]
  },
  {
   "cell_type": "code",
   "execution_count": 34,
   "id": "703e2e74-480a-47e2-8adf-dd41356551e4",
   "metadata": {},
   "outputs": [
    {
     "data": {
      "text/plain": [
       "0.2"
      ]
     },
     "execution_count": 34,
     "metadata": {},
     "output_type": "execute_result"
    }
   ],
   "source": [
    "p = squares_counted / total_squares\n",
    "p"
   ]
  },
  {
   "cell_type": "code",
   "execution_count": 36,
   "id": "c2bd18d2-7934-407e-b5ac-f1d50dc5dd1e",
   "metadata": {},
   "outputs": [],
   "source": [
    "# use the binomial distribution to compute the likelihood of the data, yeast_counted, for each value of n and fixed value of p:\n",
    "from scipy.stats import binom\n",
    "\n",
    "likelihood = binom(n, p).pmf(yeast_counted).flatten()"
   ]
  },
  {
   "cell_type": "markdown",
   "id": "340c63b3-7b2d-4e8b-b780-ff1f6b9c35de",
   "metadata": {},
   "source": [
    "When the expected count, `n * p`, is close to the actual count, `likelihood` is relatively high; when it is further away, likelihood is lower."
   ]
  },
  {
   "cell_type": "code",
   "execution_count": 37,
   "id": "fabd879c-db0d-43cf-8c65-f4b03e73ceee",
   "metadata": {},
   "outputs": [
    {
     "data": {
      "text/plain": [
       "[<matplotlib.lines.Line2D at 0x7f4be2a154f0>]"
      ]
     },
     "execution_count": 37,
     "metadata": {},
     "output_type": "execute_result"
    },
    {
     "data": {
      "image/png": "[encoded data removed]",
      "text/plain": [
       "<Figure size 432x288 with 1 Axes>"
      ]
     },
     "metadata": {
      "needs_background": "light"
     },
     "output_type": "display_data"
    }
   ],
   "source": [
    "plt.plot(n * p, likelihood, '.', alpha=0.03, color=\"C2\")"
   ]
  },
  {
   "cell_type": "markdown",
   "id": "ada414ae-4402-46e7-b397-7046697a7551",
   "metadata": {},
   "source": [
    "We can't use these likelihoods to do a Bayesian update, because they are incomplete: each likelihood is the probability of the data given `n`, which is the result of a single simulation.\n",
    "\n",
    "However, we can use them to *weight* the results of the simulations. Instead of requiring the output of the simulation to match the data exactly, we'll use the likelihood to give partial credit when the result is close.\n",
    "\n",
    "Here's how: we'll contstruct a Pmf that contains yeast concentractions as quantiles and the likelihoods as unnormalized probabilities:"
   ]
  },
  {
   "cell_type": "code",
   "execution_count": 38,
   "id": "8c642cd1-d23d-493a-822f-6a98e33688d1",
   "metadata": {},
   "outputs": [
    {
     "data": {
      "text/plain": [
       "(2.2735253481424134, array([1.85924371, 2.69879243]))"
      ]
     },
     "execution_count": 38,
     "metadata": {},
     "output_type": "execute_result"
    }
   ],
   "source": [
    "qs = prior_sample['yeast conc'] / billion\n",
    "ps = likelihood\n",
    "posterior_pmf = Pmf(ps, qs)\n",
    "\n",
    "# In the Pmf, values of yeast_conc that yield outputs close to the data map to higher probabilities.\n",
    "# If we sort the quantities and normalize the probabilities, the result is an estimate of the posterior distribution\n",
    "posterior_pmf.sort_index(inplace=True)\n",
    "posterior_pmf.normalize()\n",
    "\n",
    "posterior_pmf.mean(), posterior_pmf.credible_interval(0.9)"
   ]
  },
  {
   "cell_type": "markdown",
   "id": "68294dd9-3163-45c8-b4aa-fccce6d51386",
   "metadata": {},
   "source": [
    "The results are very similar to the values we got from MCMC."
   ]
  },
  {
   "cell_type": "markdown",
   "id": "9afc9a7c-408e-48bc-a7cf-6e930e8deacf",
   "metadata": {},
   "source": [
    "## Exercises\n",
    "### Exercise 20-1\n",
    "The exercise is based on a blog post by Blaath, which is motivated by a tweet from Karl Broman, who wrote:\n",
    "\n",
    "> That the first 11 socks in the laundry are distrinct suggests that there are a lot of socks.\n",
    "\n",
    "Suppose that you pull 11 socks out of the laundry, and find that no two of them make a pair. Estimate the number of socks in the laundry.\n",
    "\n",
    "To solve this problem, we'll use a model which Blaath suggests, which is based on these assumptions:\n",
    "1. The laundry contains some number of pairs of socks, `n_pairs`, plus some number of odd (unpaired) socks, `n_odds`.\n",
    "1. The pairs of socks are different from each other and different from the unpaired socks; in other words, the number of socks of each type is either 1 or 2, never more.\n",
    "\n",
    "We'll use the prior distribution that Blaath suggests, which is:\n",
    "- The number of socks follows a negative binomial distribution with a mean of 30 and standard deviation 15.\n",
    "- The proportion of socks which are paired follows a beta distribution with parameters `alpha=15` and `beta=2`."
   ]
  },
  {
   "cell_type": "markdown",
   "id": "f882a2db-0ac2-404a-a415-df7382217e61",
   "metadata": {},
   "source": [
    "### Solution 20-1"
   ]
  },
  {
   "cell_type": "code",
   "execution_count": 39,
   "id": "1883e27f-b1d3-45f6-af56-096ec3fd86ac",
   "metadata": {},
   "outputs": [
    {
     "data": {
      "text/plain": [
       "(30.0, 14.999999625000015)"
      ]
     },
     "execution_count": 39,
     "metadata": {},
     "output_type": "execute_result"
    }
   ],
   "source": [
    "from scipy.stats import nbinom, beta\n",
    "\n",
    "mu = 30\n",
    "p = 0.86666666\n",
    "r = mu * (1 - p) / p\n",
    "\n",
    "prior_n_socks = nbinom(r, 1-p)\n",
    "prior_n_socks.mean(), prior_n_socks.std()"
   ]
  },
  {
   "cell_type": "code",
   "execution_count": 40,
   "id": "a2880521-dc89-4027-b64f-3954c48f8ab0",
   "metadata": {},
   "outputs": [
    {
     "data": {
      "text/plain": [
       "0.8823529411764706"
      ]
     },
     "execution_count": 40,
     "metadata": {},
     "output_type": "execute_result"
    }
   ],
   "source": [
    "prior_prop_pairs = beta(15,2)\n",
    "prior_prop_pairs.mean()"
   ]
  },
  {
   "cell_type": "code",
   "execution_count": 42,
   "id": "3d8683ec-a99b-456f-ae7f-bf12e756841a",
   "metadata": {},
   "outputs": [
    {
     "data": {
      "text/plain": [
       "<AxesSubplot:>"
      ]
     },
     "execution_count": 42,
     "metadata": {},
     "output_type": "execute_result"
    },
    {
     "data": {
      "image/png": "[encoded data removed]",
      "text/plain": [
       "<Figure size 432x288 with 1 Axes>"
      ]
     },
     "metadata": {
      "needs_background": "light"
     },
     "output_type": "display_data"
    }
   ],
   "source": [
    "qs = np.arange(90)\n",
    "ps = prior_n_socks.pmf(qs)\n",
    "pmf = Pmf(ps, qs)\n",
    "pmf.normalize()\n",
    "pmf.plot()"
   ]
  },
  {
   "cell_type": "code",
   "execution_count": 44,
   "id": "bf8069c6-d79f-473a-bb90-214f772a0a80",
   "metadata": {},
   "outputs": [
    {
     "data": {
      "text/plain": [
       "<AxesSubplot:>"
      ]
     },
     "execution_count": 44,
     "metadata": {},
     "output_type": "execute_result"
    },
    {
     "data": {
      "image/png": "[encoded data removed]",
      "text/plain": [
       "<Figure size 432x288 with 1 Axes>"
      ]
     },
     "metadata": {
      "needs_background": "light"
     },
     "output_type": "display_data"
    }
   ],
   "source": [
    "from utils import pmf_from_dist\n",
    "\n",
    "qs = np.linspace(0, 1, 101)\n",
    "pmf = pmf_from_dist(prior_prop_pairs, qs)\n",
    "pmf.plot()"
   ]
  },
  {
   "cell_type": "code",
   "execution_count": 49,
   "id": "de35530a-6f85-4535-9732-62523c47fd57",
   "metadata": {},
   "outputs": [
    {
     "data": {
      "text/plain": [
       "(24, 0.9009161021058195)"
      ]
     },
     "execution_count": 49,
     "metadata": {},
     "output_type": "execute_result"
    }
   ],
   "source": [
    "# Sample from the distribution\n",
    "n_socks = prior_n_socks.rvs()\n",
    "prop_pairs = prior_prop_pairs.rvs()\n",
    "\n",
    "n_socks, prop_pairs"
   ]
  },
  {
   "cell_type": "code",
   "execution_count": 50,
   "id": "0007d62a-b487-45e5-a01b-fc7784a9e072",
   "metadata": {},
   "outputs": [
    {
     "data": {
      "text/plain": [
       "(11.0, 2.0)"
      ]
     },
     "execution_count": 50,
     "metadata": {},
     "output_type": "execute_result"
    }
   ],
   "source": [
    "# Now we can calculate the number of paired and unpaired socks\n",
    "n_pairs = np.round(n_socks // 2 * prop_pairs)\n",
    "n_odds = n_socks - n_pairs * 2\n",
    "\n",
    "n_pairs, n_odds"
   ]
  },
  {
   "cell_type": "code",
   "execution_count": null,
   "id": "06df3f9d-5c60-4d20-968e-183cb859da71",
   "metadata": {},
   "outputs": [],
   "source": []
  }
 ],
 "metadata": {
  "kernelspec": {
   "display_name": "Python 3 (ipykernel)",
   "language": "python",
   "name": "python3"
  },
  "language_info": {
   "codemirror_mode": {
    "name": "ipython",
    "version": 3
   },
   "file_extension": ".py",
   "mimetype": "text/x-python",
   "name": "python",
   "nbconvert_exporter": "python",
   "pygments_lexer": "ipython3",
   "version": "3.8.10"
  }
 },
 "nbformat": 4,
 "nbformat_minor": 5
}
