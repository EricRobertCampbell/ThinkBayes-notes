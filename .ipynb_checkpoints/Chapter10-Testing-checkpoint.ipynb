{
 "cells": [
  {
   "cell_type": "markdown",
   "id": "df2be288-51ff-421b-9346-c0ba4f2cccd1",
   "metadata": {},
   "source": [
    "# Chapter 10 - Testing\n",
    "\n",
    "Recall the \"Euro Problem\": A Euro coin was spun, and 140 times it came up Heads to 110 Tails. Earlier we tried to solve the problem of whether it was biased by creating a posterior distribution for the probability of getting Heads and constructing a credible interval. \n",
    "\n",
    "## Estimation\n",
    "\n",
    "Solution from last time"
   ]
  },
  {
   "cell_type": "code",
   "execution_count": 1,
   "id": "2a19c854-119f-4b0b-bfcf-36ac4372b5cc",
   "metadata": {},
   "outputs": [
    {
     "data": {
      "text/plain": [
       "<AxesSubplot:>"
      ]
     },
     "execution_count": 1,
     "metadata": {},
     "output_type": "execute_result"
    },
    {
     "data": {
      "image/png": "[encoded data removed]",
      "text/plain": [
       "<Figure size 432x288 with 1 Axes>"
      ]
     },
     "metadata": {
      "needs_background": "light"
     },
     "output_type": "display_data"
    }
   ],
   "source": [
    "import numpy as np\n",
    "from empiricaldist import Pmf\n",
    "from scipy.stats import binom\n",
    "\n",
    "xs = np.linspace(0, 1, 101)\n",
    "uniform = Pmf(1, xs)\n",
    "k, n = 140, 250 # k = number of heads; n is the total number\n",
    "likelihood = binom.pmf(k, n, xs)\n",
    "\n",
    "posterior = uniform * likelihood\n",
    "posterior.normalize()\n",
    "posterior.plot()"
   ]
  },
  {
   "cell_type": "code",
   "execution_count": 2,
   "id": "5f7ca974-3dbf-4bcd-b5a6-57a1e9bfe6fc",
   "metadata": {},
   "outputs": [
    {
     "data": {
      "text/plain": [
       "(0.5595238095238094, array([0.51, 0.61]))"
      ]
     },
     "execution_count": 2,
     "metadata": {},
     "output_type": "execute_result"
    }
   ],
   "source": [
    "posterior.mean(), posterior.credible_interval(0.9)"
   ]
  },
  {
   "cell_type": "markdown",
   "id": "21ec565d-054f-418b-badb-dd4c65c798b5",
   "metadata": {},
   "source": [
    "So the mean increased (from 50% to 56%), and the credible interval excludes 50%, so...\n",
    "\n",
    "## Evidence\n",
    "\n",
    "Recall from \"Oliver's Blood\" that data is considered evidence for a hypothesis A if the data is more likely to happen given A than given the alternative, B.\n",
    "\n",
    "$$\n",
    "P(D|A) > P(D|B)\n",
    "$$\n",
    "\n",
    "We can quantify this by using the ratio, also called the Bayes' Factor:\n",
    "\n",
    "$$\n",
    "K = \\frac{P(D|A)}{P(D|B)}\n",
    "$$\n",
    "\n",
    "Let's take a look at this using two hypotheses: `fair` and `biased`."
   ]
  },
  {
   "cell_type": "code",
   "execution_count": 3,
   "id": "04b477ab-4f99-4c94-accf-5ad1ba6e6f0c",
   "metadata": {},
   "outputs": [
    {
     "data": {
      "text/plain": [
       "6.075990838368465"
      ]
     },
     "execution_count": 3,
     "metadata": {},
     "output_type": "execute_result"
    }
   ],
   "source": [
    "k = 140\n",
    "n = 250\n",
    "\n",
    "like_fair = binom.pmf(k, n, p=0.5)\n",
    "like_biased = binom.pmf(k, n, p=0.56) # Why was this chosen as the probability for `biased`? Arbitrary!\n",
    "K = like_biased / like_fair\n",
    "K"
   ]
  },
  {
   "cell_type": "markdown",
   "id": "99cbe4dd-e612-41ee-863d-db356e2d7f81",
   "metadata": {},
   "source": [
    "So the data are about 6 times as likely if the coin is biased (in that way) than if it were unbiased.\n",
    "\n",
    "## Uniformly Distributed Bias\n",
    "\n",
    "Let's say that biased means \"Anything other than 50%, with all other values equally likely\""
   ]
  },
  {
   "cell_type": "code",
   "execution_count": 4,
   "id": "f4eca203-6d4a-4172-8985-c6a238338763",
   "metadata": {},
   "outputs": [
    {
     "data": {
      "text/plain": [
       "100"
      ]
     },
     "execution_count": 4,
     "metadata": {},
     "output_type": "execute_result"
    }
   ],
   "source": [
    "biased_uniform = uniform.copy()\n",
    "biased_uniform[0.5] = 0\n",
    "biased_uniform.normalize()"
   ]
  },
  {
   "cell_type": "markdown",
   "id": "fbf03406-87f4-4bae-8c0e-0b486e67cb08",
   "metadata": {},
   "source": [
    "To compute the total probability of the data under this hypothesis, we compute the conditional probability of the data for each value of $x$ (the probability of flipping Heads)."
   ]
  },
  {
   "cell_type": "code",
   "execution_count": 5,
   "id": "17129257-583d-4548-a376-d8c8a2a04fd1",
   "metadata": {},
   "outputs": [
    {
     "data": {
      "text/plain": [
       "0.003900491927770735"
      ]
     },
     "execution_count": 5,
     "metadata": {},
     "output_type": "execute_result"
    }
   ],
   "source": [
    "xs = biased_uniform.qs\n",
    "likelihood = binom.pmf(k, n, xs)\n",
    "biased_posterior = biased_uniform * likelihood\n",
    "like_uniform = np.sum(biased_posterior)\n",
    "like_uniform"
   ]
  },
  {
   "cell_type": "code",
   "execution_count": 6,
   "id": "db3b92f6-c9fc-47dd-8746-2a3cdd082a28",
   "metadata": {},
   "outputs": [
    {
     "data": {
      "text/plain": [
       "2.1425968518013625"
      ]
     },
     "execution_count": 6,
     "metadata": {},
     "output_type": "execute_result"
    }
   ],
   "source": [
    "K = like_fair / like_uniform\n",
    "K"
   ]
  },
  {
   "cell_type": "markdown",
   "id": "82dd30ed-ffb6-41bd-9eaf-70c1c7f670b7",
   "metadata": {},
   "source": [
    "We can use Bayes' Rule to see how strong the evidence is. Let's assume that a priori, there is a 50% chance that the coin is biased:"
   ]
  },
  {
   "cell_type": "code",
   "execution_count": 7,
   "id": "a45e1696-259d-4ea5-ab48-eb78707a111b",
   "metadata": {},
   "outputs": [
    {
     "data": {
      "text/plain": [
       "2.1425968518013625"
      ]
     },
     "execution_count": 7,
     "metadata": {},
     "output_type": "execute_result"
    }
   ],
   "source": [
    "prior_odds = 1\n",
    "posterior_odds = prior_odds * K\n",
    "posterior_odds"
   ]
  },
  {
   "cell_type": "code",
   "execution_count": 8,
   "id": "adc8a292-3461-418d-8002-3bb66bf2c5d2",
   "metadata": {},
   "outputs": [
    {
     "data": {
      "text/plain": [
       "0.6817918278551092"
      ]
     },
     "execution_count": 8,
     "metadata": {},
     "output_type": "execute_result"
    }
   ],
   "source": [
    "def prob(o):\n",
    "    return o / (o + 1)\n",
    "prob(posterior_odds)"
   ]
  },
  {
   "cell_type": "markdown",
   "id": "c21f6bfe-4901-4f95-bd60-492c139c1ba9",
   "metadata": {},
   "source": [
    "Evidence that 'moves the needle' from 50% to 68% is not very strong (supposedly).\n",
    "\n",
    "Now suppose that biased means that values are near 50% are more likely, but that 50% exactly is impossible."
   ]
  },
  {
   "cell_type": "code",
   "execution_count": 9,
   "id": "1619e967-abba-4892-8da0-631d016e56ee",
   "metadata": {},
   "outputs": [
    {
     "data": {
      "text/plain": [
       "<AxesSubplot:>"
      ]
     },
     "execution_count": 9,
     "metadata": {},
     "output_type": "execute_result"
    },
    {
     "data": {
      "image/png": "[encoded data removed]",
      "text/plain": [
       "<Figure size 432x288 with 1 Axes>"
      ]
     },
     "metadata": {
      "needs_background": "light"
     },
     "output_type": "display_data"
    }
   ],
   "source": [
    "ramp_up = np.arange(50)\n",
    "ramp_down = np.arange(50, -1, -1)\n",
    "a = np.append(ramp_up, ramp_down)\n",
    "triangle = Pmf(a, xs, name=\"triangle\")\n",
    "triangle.normalize()\n",
    "biased_triangle = triangle.copy()\n",
    "biased_triangle[0.5] = 0\n",
    "biased_triangle.normalize()\n",
    "biased_uniform.plot()\n",
    "biased_triangle.plot()"
   ]
  },
  {
   "cell_type": "markdown",
   "id": "211b0db4-ddb8-49ac-9c33-6e0619099aa1",
   "metadata": {},
   "source": [
    "### Exercise 10-1\n",
    "> Now compute the total probability of the data under this definition of biased compute the Bayes factor, compared with the fair hypothesis. The the data evidence that the coin is biased?"
   ]
  },
  {
   "cell_type": "code",
   "execution_count": 10,
   "id": "5562c5c1-c154-4750-a626-c55a47b59f20",
   "metadata": {},
   "outputs": [],
   "source": [
    "### Solution\n",
    "\n",
    "posterior_triangle = biased_triangle * binom.pmf(k, n, biased_triangle.qs)\n",
    "like_triangle = np.sum(posterior_triangle)"
   ]
  },
  {
   "cell_type": "code",
   "execution_count": 11,
   "id": "5ddff0f1-b8bb-4008-9808-3c613d128ea1",
   "metadata": {},
   "outputs": [
    {
     "data": {
      "text/plain": [
       "0.8353683926774023"
      ]
     },
     "execution_count": 11,
     "metadata": {},
     "output_type": "execute_result"
    }
   ],
   "source": [
    "K = like_triangle / like_fair\n",
    "K"
   ]
  },
  {
   "cell_type": "markdown",
   "id": "97eae13c-dc4d-49fe-b4df-8e7fbcc0b2c2",
   "metadata": {},
   "source": [
    "So this data is very weak evidence in favour of the idea that it is fair.\n",
    "\n",
    "### Bayesian Hypothesis Testing\n",
    "\n",
    "This is Bayesian Hypothesis testing! Some people think that it is better to report $K$ than the posterior distribution, since it doesn't rely on the priors. However, as you can see, it does depend very strongly on the choice of hypotheses, so...\n",
    "\n",
    "## Bayesian Bandits\n",
    "\n",
    "Slot machine: one-armed bandit\n",
    "\n",
    "Say there are some slot machines in front of you, and each has some probability of paying out each time that you pull the arm. Initially you have no reason to prefer one over the other, but as you begin to play you gain information about which one is the better bet...\n",
    "\n",
    "## Prior Beliefs\n",
    "\n",
    "Initially we know nothing: prior beliefs about the probability -> uniform. Say that there are four machines."
   ]
  },
  {
   "cell_type": "code",
   "execution_count": 12,
   "id": "625ef211-de6c-4dfc-8433-e1b4e3c99304",
   "metadata": {},
   "outputs": [
    {
     "data": {
      "image/png": "[encoded data removed]",
      "text/plain": [
       "<Figure size 432x288 with 4 Axes>"
      ]
     },
     "metadata": {
      "needs_background": "light"
     },
     "output_type": "display_data"
    }
   ],
   "source": [
    "import matplotlib.pyplot as plt\n",
    "\n",
    "fig, axes = plt.subplots(2, 2)\n",
    "\n",
    "possible_ps = np.linspace(0, 1, 101)\n",
    "prior = Pmf(1, possible_ps)\n",
    "prior.normalize()\n",
    "\n",
    "beliefs = [prior.copy() for _ in range(4)]\n",
    "for i in range(2):\n",
    "    for j in range(2):\n",
    "        axes[i, j].plot(beliefs[2*i + j])\n",
    "        axes[i, j].set_title( f\"Machine {2*i + j}\")\n",
    "        \n",
    "def plot_distros(beliefs):\n",
    "    fig, axes = plt.subplots(2, 2, sharex=True, sharey=True)\n",
    "    for i in range(2):\n",
    "        for j in range(2):\n",
    "            axes[i, j].plot(beliefs[2*i + j])\n",
    "            axes[i, j].set_title( f\"Machine {2*i + j}\")\n",
    "            axes[i, j].label_outer()\n",
    "    "
   ]
  },
  {
   "cell_type": "markdown",
   "id": "a577059d-49a7-40e7-a147-966ac9318392",
   "metadata": {},
   "source": [
    "## The Update\n",
    "\n",
    "Every time that we update a machine, we use the outcome to update our beliefs:"
   ]
  },
  {
   "cell_type": "code",
   "execution_count": 13,
   "id": "cf37f4ad-1683-4d82-a04e-5fda3ab5a2a3",
   "metadata": {},
   "outputs": [
    {
     "data": {
      "text/plain": [
       "<AxesSubplot:>"
      ]
     },
     "execution_count": 13,
     "metadata": {},
     "output_type": "execute_result"
    },
    {
     "data": {
      "image/png": "[encoded data removed]",
      "text/plain": [
       "<Figure size 432x288 with 1 Axes>"
      ]
     },
     "metadata": {
      "needs_background": "light"
     },
     "output_type": "display_data"
    }
   ],
   "source": [
    "likelihood = {\n",
    "    'W': possible_ps,\n",
    "    'L': 1 - possible_ps\n",
    "}\n",
    "\n",
    "def update(pmf, data):\n",
    "    pmf *= likelihood[data]\n",
    "    pmf.normalize()\n",
    "\n",
    "bandit = prior.copy()\n",
    "for outcome in \"W\" + 9 * \"L\":\n",
    "    update(bandit, outcome)\n",
    "bandit.plot()"
   ]
  },
  {
   "cell_type": "markdown",
   "id": "f7f8d114-4f7d-4dcc-b00a-a32c7a16f4de",
   "metadata": {},
   "source": [
    "## Multiple Bandits\n",
    "\n",
    "Now suppose that we have four machines with these probabilities:"
   ]
  },
  {
   "cell_type": "code",
   "execution_count": 14,
   "id": "9d028dd5-8f70-4427-9508-8fd06d81a03f",
   "metadata": {},
   "outputs": [],
   "source": [
    "actual_probs = [0.1, 0.2, 0.3, 0.4]"
   ]
  },
  {
   "cell_type": "markdown",
   "id": "183947fc-b714-4438-b3d5-2bb9b34c252c",
   "metadata": {},
   "source": [
    "The following takes the index of a machine, simulates playing the machine once, and returns the outcome, W or L."
   ]
  },
  {
   "cell_type": "code",
   "execution_count": 15,
   "id": "cde00401-a4c9-4e11-b56d-05a715c9bef9",
   "metadata": {},
   "outputs": [],
   "source": [
    "from collections import Counter\n",
    "\n",
    "# count how many times we've played each machine\n",
    "counter = Counter()\n",
    "\n",
    "def play(i):\n",
    "    counter[i] += 1\n",
    "    p = actual_probs[i]\n",
    "    if np.random.random() < p:\n",
    "        return 'W'\n",
    "    else:\n",
    "        return 'L'"
   ]
  },
  {
   "cell_type": "markdown",
   "id": "157a7990-11d1-430c-99ac-4fefd3d0d6d8",
   "metadata": {},
   "source": [
    "(`Counter()` is a kind of dictionary)\n",
    "\n",
    "here is a test run of playing each machine ten times"
   ]
  },
  {
   "cell_type": "code",
   "execution_count": 16,
   "id": "bf484902-96ab-40ac-9f05-59e88bd9c735",
   "metadata": {},
   "outputs": [
    {
     "data": {
      "image/png": "[encoded data removed]",
      "text/plain": [
       "<Figure size 432x288 with 4 Axes>"
      ]
     },
     "metadata": {
      "needs_background": "light"
     },
     "output_type": "display_data"
    }
   ],
   "source": [
    "for i in range(4):\n",
    "    for _ in range(10):\n",
    "        outcome = play(i)\n",
    "        update(beliefs[i], outcome)\n",
    "plot_distros(beliefs)"
   ]
  },
  {
   "cell_type": "markdown",
   "id": "6dd7206d-5cbf-4b52-b33b-158b265c99c7",
   "metadata": {},
   "source": [
    "Here are the actual probabilities, posterior means, and 90% credible intervals:"
   ]
  },
  {
   "cell_type": "code",
   "execution_count": 17,
   "id": "8a987213-36ff-48d4-a251-6e6e11a17116",
   "metadata": {},
   "outputs": [
    {
     "data": {
      "text/html": [
       "<div>\n",
       "<style scoped>\n",
       "    .dataframe tbody tr th:only-of-type {\n",
       "        vertical-align: middle;\n",
       "    }\n",
       "\n",
       "    .dataframe tbody tr th {\n",
       "        vertical-align: top;\n",
       "    }\n",
       "\n",
       "    .dataframe thead th {\n",
       "        text-align: right;\n",
       "    }\n",
       "</style>\n",
       "<table border=\"1\" class=\"dataframe\">\n",
       "  <thead>\n",
       "    <tr style=\"text-align: right;\">\n",
       "      <th></th>\n",
       "      <th>Actual</th>\n",
       "      <th>Posterior Mean</th>\n",
       "      <th>90% CI</th>\n",
       "    </tr>\n",
       "  </thead>\n",
       "  <tbody>\n",
       "    <tr>\n",
       "      <th>0</th>\n",
       "      <td>0.1</td>\n",
       "      <td>0.250000</td>\n",
       "      <td>[0.08, 0.47000000000000003]</td>\n",
       "    </tr>\n",
       "    <tr>\n",
       "      <th>1</th>\n",
       "      <td>0.2</td>\n",
       "      <td>0.250000</td>\n",
       "      <td>[0.08, 0.47000000000000003]</td>\n",
       "    </tr>\n",
       "    <tr>\n",
       "      <th>2</th>\n",
       "      <td>0.3</td>\n",
       "      <td>0.416667</td>\n",
       "      <td>[0.2, 0.65]</td>\n",
       "    </tr>\n",
       "    <tr>\n",
       "      <th>3</th>\n",
       "      <td>0.4</td>\n",
       "      <td>0.416667</td>\n",
       "      <td>[0.2, 0.65]</td>\n",
       "    </tr>\n",
       "  </tbody>\n",
       "</table>\n",
       "</div>"
      ],
      "text/plain": [
       "   Actual  Posterior Mean                       90% CI\n",
       "0     0.1        0.250000  [0.08, 0.47000000000000003]\n",
       "1     0.2        0.250000  [0.08, 0.47000000000000003]\n",
       "2     0.3        0.416667                  [0.2, 0.65]\n",
       "3     0.4        0.416667                  [0.2, 0.65]"
      ]
     },
     "execution_count": 17,
     "metadata": {},
     "output_type": "execute_result"
    }
   ],
   "source": [
    "import pandas as pd\n",
    "\n",
    "df = pd.DataFrame()\n",
    "df['Actual'] = actual_probs\n",
    "df['Posterior Mean'] = [ dist.mean() for dist in beliefs ]\n",
    "df['90% CI'] = [ dist.credible_interval(0.9) for dist in beliefs ]\n",
    "df"
   ]
  },
  {
   "cell_type": "markdown",
   "id": "a7c3df90-be33-4628-b6c3-da8ea9fa5afc",
   "metadata": {},
   "source": [
    "## Explore and Exploit\n",
    "\n",
    "Based on this (data only), which one would you want to play? A reasonable approach would be the one with the highest mean; however, this runs the risk of choosing one (with little initial data) and playing that one exclusively, missing out on one with a higher $p$ that got unlucky.\n",
    "\n",
    "Another approach: play all of them until we have some pre-determined level of confidence that we know the best one. However, that approach means that we will end up playing some machines that we are pretty confident are low-$p$.\n",
    "\n",
    "The Bayesian Bandits strategy avoids both of these by using *Thompson sampling* to both explore (gather data) and exploit (get the best payoff) at the same time. The idea is that we choose a random machine so that the probability of choosing each machine is proportional to the probability that it is the best.\n",
    "\n",
    "Given the posterior distributions, we can compute the \"probability of superiority\" as follows:"
   ]
  },
  {
   "cell_type": "code",
   "execution_count": 18,
   "id": "c3612401-dd66-4fa4-aa4b-8a33f12807e2",
   "metadata": {},
   "outputs": [
    {
     "data": {
      "text/plain": [
       "(4, 1000)"
      ]
     },
     "execution_count": 18,
     "metadata": {},
     "output_type": "execute_result"
    }
   ],
   "source": [
    "samples = np.array([b.choice(1000) for b in beliefs])\n",
    "samples.shape"
   ]
  },
  {
   "cell_type": "markdown",
   "id": "16f6e63f-30aa-443c-80b6-3f330e56850a",
   "metadata": {},
   "source": [
    "So here are 1000 cases of drawing one sample from each machine. Now we'll see in every draw, which machine yielded the highest value (remember: of $p$)"
   ]
  },
  {
   "cell_type": "code",
   "execution_count": 19,
   "id": "7aba096d-6484-46f1-9466-c0781d06e8fa",
   "metadata": {},
   "outputs": [
    {
     "data": {
      "text/plain": [
       "(1000,)"
      ]
     },
     "execution_count": 19,
     "metadata": {},
     "output_type": "execute_result"
    }
   ],
   "source": [
    "indices = np.argmax(samples, axis=0)\n",
    "indices.shape"
   ]
  },
  {
   "cell_type": "code",
   "execution_count": 20,
   "id": "1c83fcf2-0630-4992-bdd6-4387eecba811",
   "metadata": {},
   "outputs": [
    {
     "data": {
      "text/html": [
       "<div>\n",
       "<style scoped>\n",
       "    .dataframe tbody tr th:only-of-type {\n",
       "        vertical-align: middle;\n",
       "    }\n",
       "\n",
       "    .dataframe tbody tr th {\n",
       "        vertical-align: top;\n",
       "    }\n",
       "\n",
       "    .dataframe thead th {\n",
       "        text-align: right;\n",
       "    }\n",
       "</style>\n",
       "<table border=\"1\" class=\"dataframe\">\n",
       "  <thead>\n",
       "    <tr style=\"text-align: right;\">\n",
       "      <th></th>\n",
       "      <th>probs</th>\n",
       "    </tr>\n",
       "  </thead>\n",
       "  <tbody>\n",
       "    <tr>\n",
       "      <th>0</th>\n",
       "      <td>0.080</td>\n",
       "    </tr>\n",
       "    <tr>\n",
       "      <th>1</th>\n",
       "      <td>0.080</td>\n",
       "    </tr>\n",
       "    <tr>\n",
       "      <th>2</th>\n",
       "      <td>0.447</td>\n",
       "    </tr>\n",
       "    <tr>\n",
       "      <th>3</th>\n",
       "      <td>0.393</td>\n",
       "    </tr>\n",
       "  </tbody>\n",
       "</table>\n",
       "</div>"
      ],
      "text/plain": [
       "0    0.080\n",
       "1    0.080\n",
       "2    0.447\n",
       "3    0.393\n",
       "Name: , dtype: float64"
      ]
     },
     "execution_count": 20,
     "metadata": {},
     "output_type": "execute_result"
    }
   ],
   "source": [
    "pmf = Pmf.from_seq(indices)\n",
    "pmf"
   ]
  },
  {
   "cell_type": "markdown",
   "id": "b5ecb586-f54c-4bae-9b01-7dcc9a70c97d",
   "metadata": {},
   "source": [
    "These fractions approximate the probability that the machine is superior!"
   ]
  },
  {
   "cell_type": "code",
   "execution_count": 24,
   "id": "59da7bec-26ae-4349-873f-f48e160bc4e1",
   "metadata": {},
   "outputs": [],
   "source": [
    "def choose(beliefs):\n",
    "    \"\"\" \n",
    "    Use Thompson sampling to choose a machine\n",
    "    \n",
    "    Draws a single sample from each distribution\n",
    "    \n",
    "    Returns:\n",
    "        Index of the machine that yielded the highest value\n",
    "    \"\"\"\n",
    "    ps = [b.choice() for b in beliefs]\n",
    "    return np.argmax(ps)"
   ]
  },
  {
   "cell_type": "markdown",
   "id": "a6e93b44-99b7-4a3a-aae1-bfebe317911e",
   "metadata": {},
   "source": [
    "## The Strategy\n",
    "\n",
    "The following function chooses a machine, plays once, and updates `beliefs`."
   ]
  },
  {
   "cell_type": "code",
   "execution_count": 25,
   "id": "7c1c7bcd-8bdd-41f0-b840-3c770cdb265e",
   "metadata": {},
   "outputs": [],
   "source": [
    "def choose_play_update(beliefs):\n",
    "    \"\"\" Choose a machine, play it, and update out beliefs \"\"\"\n",
    "    \n",
    "    machine = choose(beliefs)\n",
    "    \n",
    "    outcome = play(machine)\n",
    "    \n",
    "    update(beliefs[machine], outcome)"
   ]
  },
  {
   "cell_type": "code",
   "execution_count": 26,
   "id": "44657a57-c8ce-46fa-9845-f1312cf8a508",
   "metadata": {},
   "outputs": [
    {
     "data": {
      "image/png": "[encoded data removed]",
      "text/plain": [
       "<Figure size 432x288 with 4 Axes>"
      ]
     },
     "metadata": {
      "needs_background": "light"
     },
     "output_type": "display_data"
    }
   ],
   "source": [
    "# Fresh game\n",
    "\n",
    "beliefs = [prior.copy() for i in range(4)]\n",
    "counter = Counter()\n",
    "\n",
    "# Let's run it 100 times\n",
    "num_plays = 100\n",
    "for i in range(num_plays):\n",
    "    choose_play_update(beliefs)\n",
    "\n",
    "plot_distros(beliefs)"
   ]
  },
  {
   "cell_type": "markdown",
   "id": "54c00370-f967-4223-b398-6da94323339d",
   "metadata": {},
   "source": [
    "This tends to play the higher-percentage machines more and the lower-$p$ machines less, which is basically exactly what we want."
   ]
  },
  {
   "cell_type": "markdown",
   "id": "ca44d389-6ea2-41cb-ac2f-c3b0842f69a6",
   "metadata": {},
   "source": [
    "## Exercises\n",
    "\n",
    "### Exercise 10-2\n",
    "> Adaptive tests - as the students get questions right (or wrong), give them harder or easier questions depending on how they did on previous ones. This has the potential to make more \"efficient\" tests, in that we have a more accurate estimate of their ability using the same number of questions.\n",
    ">\n",
    "> We'll use [Item response theory](https://en.wikipedia.org/wiki/Item_response_theory), which states that test-takers have some level of skill and the questions have some level of difficulty, and that the probability of a student getting an answer correct is a function of their skill and the question's difficulty.\n",
    "> \n",
    "> A common assumption is that the function is a 3-parameter logistic function:\n",
    "> \n",
    ">$$\n",
    " P = c + \\frac{1-c}{1+e^{-a(\\theta - b)}}\n",
    ">$$\n",
    "> - $\\theta$: skill of the test-taker\n",
    "> - $b$: difficulty of the question\n",
    "> - $c$: probability of the least skilled test-taker answering the most difficult question (e.g. for a multiple choice test it might be 0.25 - the probability of getting it right based on guesswork)"
   ]
  },
  {
   "cell_type": "code",
   "execution_count": null,
   "id": "c2becab3-7df4-4c2c-9123-7e587664eda3",
   "metadata": {},
   "outputs": [],
   "source": [
    "### Solution"
   ]
  },
  {
   "cell_type": "code",
   "execution_count": 31,
   "id": "c90a1931-214e-45f2-8b49-1f9c424f6b76",
   "metadata": {},
   "outputs": [],
   "source": [
    "def prob_correct(ability, difficulty):\n",
    "    \"\"\" Given the ability and difficulty, calculate the probability of getting the question correct \"\"\"\n",
    "    a = 100\n",
    "    c = 0.25\n",
    "    x = (ability - difficulty) / a\n",
    "    p = c + (1 - c) / (1 + np.exp(-x))\n",
    "    return p\n",
    "\n",
    "# (value of a chosen so that it mirrors the SAT)"
   ]
  },
  {
   "cell_type": "code",
   "execution_count": 32,
   "id": "6d662964-6660-4383-928f-ac625ad0bafa",
   "metadata": {},
   "outputs": [
    {
     "data": {
      "text/plain": [
       "[<matplotlib.lines.Line2D at 0x7f0c380b7190>]"
      ]
     },
     "execution_count": 32,
     "metadata": {},
     "output_type": "execute_result"
    },
    {
     "data": {
      "image/png": "[encoded data removed]",
      "text/plain": [
       "<Figure size 432x288 with 1 Axes>"
      ]
     },
     "metadata": {
      "needs_background": "light"
     },
     "output_type": "display_data"
    }
   ],
   "source": [
    "# Here's what the probabilities look like\n",
    "diff = 500\n",
    "abilities = np.linspace(100, 900)\n",
    "ps = prob_correct(abilities, diff)\n",
    "plt.plot(abilities, ps)"
   ]
  },
  {
   "cell_type": "markdown",
   "id": "5fde2c81-6eed-49b6-b595-116ea1b63176",
   "metadata": {},
   "source": [
    "## Simulating the Test\n",
    "We'll use the same strategy as for the Bayesian Bandit:\n",
    "- A function `play` that simulates a test-taker answering one question\n",
    "- A function `choose` that chooses the next question to pose\n",
    "- A function `update` that uses the outcome (a correct response, or not) to update the estimate of the test-taker's ability"
   ]
  },
  {
   "cell_type": "code",
   "execution_count": 33,
   "id": "c34d0e5e-5a38-4cd0-b9b8-515fabaa989e",
   "metadata": {},
   "outputs": [
    {
     "data": {
      "text/plain": [
       "0.7982939339725037"
      ]
     },
     "execution_count": 33,
     "metadata": {},
     "output_type": "execute_result"
    }
   ],
   "source": [
    "def play(ability, difficulty):\n",
    "    \"\"\" Simulates one test-taker answering one question \"\"\"\n",
    "    p = prob_correct(ability, difficulty)\n",
    "    return np.random.random() < p\n",
    "\n",
    "prob_correct(600, 500)"
   ]
  },
  {
   "cell_type": "code",
   "execution_count": 34,
   "id": "be056f09-0d02-4368-8bf5-e5f794ebd8aa",
   "metadata": {},
   "outputs": [
    {
     "data": {
      "text/plain": [
       "0.7647058823529411"
      ]
     },
     "execution_count": 34,
     "metadata": {},
     "output_type": "execute_result"
    }
   ],
   "source": [
    "# result of one simulation of this student taking a 51-question test, all of difficulty 500\n",
    "num_questions = 51\n",
    "results = [ play(600, 500) for _ in range(num_questions) ]\n",
    "np.mean(results)"
   ]
  },
  {
   "cell_type": "markdown",
   "id": "bd8e2ec3-bcd7-4489-9670-9243f068f98b",
   "metadata": {},
   "source": [
    "## The Prior\n",
    "SAT is designed so that the distribution of scores is roughly distributed as a normal distribution with mean 500 and sd 100. However, we are going to artificially inflate the sd -> 300 so that we avoid cutting off the tails."
   ]
  },
  {
   "cell_type": "code",
   "execution_count": 35,
   "id": "e5d7f885-aa1b-436d-b39a-5bc8dc2ec16f",
   "metadata": {},
   "outputs": [
    {
     "data": {
      "text/plain": [
       "0.04464186995102338"
      ]
     },
     "execution_count": 35,
     "metadata": {},
     "output_type": "execute_result"
    }
   ],
   "source": [
    "from scipy.stats import norm\n",
    "\n",
    "mean = 500\n",
    "std = 300\n",
    "qs = np.linspace(0, 1000)\n",
    "ps = norm(mean, std).pdf(qs)\n",
    "prior = Pmf(ps, qs)\n",
    "prior.normalize()"
   ]
  },
  {
   "cell_type": "code",
   "execution_count": 36,
   "id": "c5be402b-1b37-4376-9d8c-356ba945d02e",
   "metadata": {},
   "outputs": [
    {
     "data": {
      "text/plain": [
       "<AxesSubplot:>"
      ]
     },
     "execution_count": 36,
     "metadata": {},
     "output_type": "execute_result"
    },
    {
     "data": {
      "image/png": "[encoded data removed]",
      "text/plain": [
       "<Figure size 432x288 with 1 Axes>"
      ]
     },
     "metadata": {
      "needs_background": "light"
     },
     "output_type": "display_data"
    }
   ],
   "source": [
    "prior.plot()"
   ]
  },
  {
   "cell_type": "code",
   "execution_count": 40,
   "id": "983846e5-1726-4b4a-9f46-d22b6db1621f",
   "metadata": {},
   "outputs": [
    {
     "name": "stdout",
     "output_type": "stream",
     "text": [
      "578.0970403043534\n"
     ]
    },
    {
     "data": {
      "image/png": "[encoded data removed]",
      "text/plain": [
       "<Figure size 432x288 with 1 Axes>"
      ]
     },
     "metadata": {
      "needs_background": "light"
     },
     "output_type": "display_data"
    }
   ],
   "source": [
    "def update_ability(pmf, data):\n",
    "    \"\"\" Update the distribution of the ability \"\"\"\n",
    "    difficulty, outcome = data\n",
    "    \n",
    "    abilities = pmf.qs\n",
    "    ps = prob_correct(abilities, difficulty)\n",
    "    \n",
    "    if outcome:\n",
    "        pmf *= ps\n",
    "    else:\n",
    "        pmf *= 1 - ps\n",
    "    \n",
    "    pmf.normalize()\n",
    "    \n",
    "actual_600 = prior.copy()\n",
    "for outcome in results:\n",
    "    data = 500, outcome\n",
    "    update_ability(actual_600, data)\n",
    "    \n",
    "prior.plot()\n",
    "actual_600.plot()\n",
    "print(actual_600.mean())"
   ]
  },
  {
   "cell_type": "code",
   "execution_count": null,
   "id": "770a73ce-c23a-4a93-96ba-b7bc5588a23c",
   "metadata": {},
   "outputs": [],
   "source": [
    "## Adaptation"
   ]
  },
  {
   "cell_type": "code",
   "execution_count": 41,
   "id": "7f32b759-f2a4-4c20-bc29-037afa690ca0",
   "metadata": {},
   "outputs": [],
   "source": [
    "# Simplest one: always return the same difficulty\n",
    "def choose(i, belief):\n",
    "    \"\"\" choose the difficulty of the next question\n",
    "    i is the index of the question, belief is the PMF based on their responses to other questions.\"\"\"\n",
    "    return 500"
   ]
  },
  {
   "cell_type": "code",
   "execution_count": 43,
   "id": "429d6f92-5629-42db-96e4-1f1a819e49fd",
   "metadata": {},
   "outputs": [
    {
     "data": {
      "text/plain": [
       "41"
      ]
     },
     "execution_count": 43,
     "metadata": {},
     "output_type": "execute_result"
    }
   ],
   "source": [
    "def simulate_test(actual_ability):\n",
    "    \"\"\" Simulates a person taking the test \"\"\"\n",
    "    belief = prior.copy()\n",
    "    trace = pd.DataFrame(columns=[\"difficulty\", \"outcome\"])\n",
    "    \n",
    "    for i in range(num_questions):\n",
    "        difficulty = choose(i, belief)\n",
    "        outcome = play(actual_ability, difficulty)\n",
    "        data = (difficulty, outcome)\n",
    "        update_ability(belief, data)\n",
    "        trace.loc[i] = difficulty, outcome\n",
    "        \n",
    "    return belief, trace\n",
    "\n",
    "belief, trace = simulate_test(600)\n",
    "trace['outcome'].sum()"
   ]
  },
  {
   "cell_type": "code",
   "execution_count": 44,
   "id": "dbe8859b-a873-437f-a87d-ea20cd1aba9a",
   "metadata": {},
   "outputs": [
    {
     "data": {
      "text/plain": [
       "<AxesSubplot:>"
      ]
     },
     "execution_count": 44,
     "metadata": {},
     "output_type": "execute_result"
    },
    {
     "data": {
      "image/png": "[encoded data removed]",
      "text/plain": [
       "<Figure size 432x288 with 1 Axes>"
      ]
     },
     "metadata": {
      "needs_background": "light"
     },
     "output_type": "display_data"
    }
   ],
   "source": [
    "belief.plot()"
   ]
  },
  {
   "cell_type": "markdown",
   "id": "7b647608-4e42-404e-851b-b24cba3aee29",
   "metadata": {},
   "source": [
    "## Quantifying Precision\n",
    "\n",
    "We'll use the standard deviation as a measure of our precision."
   ]
  },
  {
   "cell_type": "code",
   "execution_count": 45,
   "id": "edb06ab4-4fac-46c7-80cf-a6bfd083e3a7",
   "metadata": {},
   "outputs": [
    {
     "data": {
      "text/plain": [
       "(604.3325737356818, 38.9272675655382)"
      ]
     },
     "execution_count": 45,
     "metadata": {},
     "output_type": "execute_result"
    }
   ],
   "source": [
    "(belief.mean(), belief.std())"
   ]
  },
  {
   "cell_type": "markdown",
   "id": "78c5152a-e1fb-49e7-a678-4ef3589af971",
   "metadata": {},
   "source": [
    "For a test with all questions having the same difficulty, precision depends strongly on the level of the test-taker."
   ]
  },
  {
   "cell_type": "code",
   "execution_count": 47,
   "id": "2054d744-f957-4fb2-bd1b-920111147ed6",
   "metadata": {},
   "outputs": [],
   "source": [
    "actual_abilities = np.linspace(200, 800)\n",
    "results = pd.DataFrame(columns = [\"ability\", \"poserior_std\"])\n",
    "series = pd.Series(index =actual_abilities, dtype=\"float\", name=\"std\")\n",
    "\n",
    "for actual_ability in actual_abilities:\n",
    "    belief, trace = simulate_test(actual_ability)\n",
    "    series[actual_ability] = belief.std()"
   ]
  },
  {
   "cell_type": "code",
   "execution_count": 52,
   "id": "f2ded872-2366-47dd-b270-8213dc410937",
   "metadata": {},
   "outputs": [
    {
     "data": {
      "text/plain": [
       "[<matplotlib.lines.Line2D at 0x7f0c37b49eb0>]"
      ]
     },
     "execution_count": 52,
     "metadata": {},
     "output_type": "execute_result"
    },
    {
     "data": {
      "image/png": "[encoded data removed]",
      "text/plain": [
       "<Figure size 432x288 with 1 Axes>"
      ]
     },
     "metadata": {
      "needs_background": "light"
     },
     "output_type": "display_data"
    }
   ],
   "source": [
    "plt.plot(series)"
   ]
  },
  {
   "cell_type": "markdown",
   "id": "da0238b2-f1c3-4d60-ac55-fa7852dada62",
   "metadata": {},
   "source": [
    "The data are noisy, but you can see that it is lowest around 600 and higher otherwise.\n",
    "\n",
    "## Discriminatory Power\n",
    "\n",
    "Another way to describe the performance of a test (rather than the test-taker) is to measure \"discriminatory power\"; which is the ability of test-takers to distinguish correctly between test-takers with different ability.\n",
    "\n",
    "To measure discriminatory power, let's simulate the same person taking the test 100 times, and use the mean of the posterior distribution as their 'score'."
   ]
  },
  {
   "cell_type": "code",
   "execution_count": 53,
   "id": "c868de45-2ebc-427e-bd89-d459ef04bd1d",
   "metadata": {},
   "outputs": [
    {
     "data": {
      "image/png": "[encoded data removed]",
      "text/plain": [
       "<Figure size 432x288 with 1 Axes>"
      ]
     },
     "metadata": {
      "needs_background": "light"
     },
     "output_type": "display_data"
    }
   ],
   "source": [
    "def sample_posterior(actual_ability, iters):\n",
    "    \"\"\" \n",
    "    Simulate multiple tests and compute posterior means \n",
    "    \n",
    "    actual_ability: number\n",
    "    iters: number of tests to simulate\n",
    "    \"\"\"\n",
    "    scores = []\n",
    "    \n",
    "    for i in range(iters):\n",
    "        belief, trace = simulate_test(actual_ability)\n",
    "        score = belief.mean()\n",
    "        scores.append(score)\n",
    "        \n",
    "    return np.array(scores)\n",
    "\n",
    "sample_500 = sample_posterior(500, iters=100)\n",
    "sample_600 = sample_posterior(600, iters=100)\n",
    "sample_700 = sample_posterior(700, iters=100)\n",
    "sample_800 = sample_posterior(800, iters=100)\n",
    "\n",
    "from empiricaldist import Cdf\n",
    "\n",
    "cdf_500 = Cdf.from_seq(sample_500)\n",
    "cdf_600 = Cdf.from_seq(sample_600)\n",
    "cdf_700 = Cdf.from_seq(sample_700)\n",
    "cdf_800 = Cdf.from_seq(sample_800)\n",
    "\n",
    "for cdf in [cdf_500, cdf_600, cdf_700, cdf_800]:\n",
    "    cdf.plot()"
   ]
  },
  {
   "cell_type": "markdown",
   "id": "3487004d-1724-4008-bac0-d7347cfa4741",
   "metadata": {},
   "source": [
    "Although there is some overlap, in general the discriminatory power is good."
   ]
  },
  {
   "cell_type": "code",
   "execution_count": 55,
   "id": "030ed885-7e04-4adf-acef-e558581edbfd",
   "metadata": {},
   "outputs": [
    {
     "data": {
      "text/plain": [
       "0.97"
      ]
     },
     "execution_count": 55,
     "metadata": {},
     "output_type": "execute_result"
    }
   ],
   "source": [
    "np.mean(sample_600 > sample_500)"
   ]
  },
  {
   "cell_type": "code",
   "execution_count": 56,
   "id": "92406355-3da0-4468-9a90-c21c22b32ef7",
   "metadata": {},
   "outputs": [
    {
     "data": {
      "text/plain": [
       "0.94"
      ]
     },
     "execution_count": 56,
     "metadata": {},
     "output_type": "execute_result"
    }
   ],
   "source": [
    "np.mean(sample_700 > sample_600)"
   ]
  },
  {
   "cell_type": "code",
   "execution_count": 57,
   "id": "8c8d23ee-d534-4b43-a16a-4a4145848631",
   "metadata": {},
   "outputs": [
    {
     "data": {
      "text/plain": [
       "0.89"
      ]
     },
     "execution_count": 57,
     "metadata": {},
     "output_type": "execute_result"
    }
   ],
   "source": [
    "np.mean(sample_800 > sample_700)"
   ]
  },
  {
   "cell_type": "markdown",
   "id": "2550aeaa-c900-436b-ba86-8393c382c006",
   "metadata": {},
   "source": [
    "## Actual Exercises"
   ]
  },
  {
   "cell_type": "markdown",
   "id": "154e82a0-82de-41ba-bd13-ffeca0eaffa6",
   "metadata": {},
   "source": [
    "1. Modify `choose` so that it selects the difficulty based on $i$, the index of the question\n",
    "2. Modify `choose` so that it selects the difficulty based on based on `belief`, which is the posterior distribution of the test-taker's ability\n",
    "\n",
    "For both versions, run the simulation again to quantify the precision of the test and its discriminatory power\n",
    "\n",
    "For the first version of `choose`, what is the ideal distribution of difficulties?\n",
    "\n",
    "For the second version, what is the adaptive strategy that maximizes the precision of the test over the range of abilities?"
   ]
  },
  {
   "cell_type": "code",
   "execution_count": null,
   "id": "7384d710-2cbd-431c-afd4-c6b65873fb6c",
   "metadata": {},
   "outputs": [],
   "source": [
    "# choose\n",
    "def choose(i, belief):\n",
    "    num_questions = 51\n",
    "    difficulties = np.linspace(200, 800, num_questions)\n",
    "    return difficulties[i]\n",
    "\n",
    "def choose(i, belief):\n",
    "    return belief.mean()"
   ]
  }
 ],
 "metadata": {
  "kernelspec": {
   "display_name": "Python 3 (ipykernel)",
   "language": "python",
   "name": "python3"
  },
  "language_info": {
   "codemirror_mode": {
    "name": "ipython",
    "version": 3
   },
   "file_extension": ".py",
   "mimetype": "text/x-python",
   "name": "python",
   "nbconvert_exporter": "python",
   "pygments_lexer": "ipython3",
   "version": "3.8.5"
  }
 },
 "nbformat": 4,
 "nbformat_minor": 5
}
