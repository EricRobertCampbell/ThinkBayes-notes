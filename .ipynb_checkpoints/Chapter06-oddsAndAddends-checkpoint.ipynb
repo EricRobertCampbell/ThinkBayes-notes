{
 "cells": [
  {
   "cell_type": "markdown",
   "id": "fb45c3a1-5116-40a3-9011-3468bdbffe75",
   "metadata": {},
   "source": [
    "# Chapter 6 - Odds and Addends\n",
    "\n",
    "## Odds\n",
    "- Probabilities are usually expressed as a number in [0, 1]\n",
    "- Another way: *odds*\n",
    "    - _Odds in Favour_ of an event is probability of success : probability of failure"
   ]
  },
  {
   "cell_type": "code",
   "execution_count": 1,
   "id": "3453a168-37ec-4eb8-951e-69ef8e090cc6",
   "metadata": {},
   "outputs": [],
   "source": [
    "def odds(p):\n",
    "    return p / (1 - p)"
   ]
  },
  {
   "cell_type": "markdown",
   "id": "3f483068-b875-4878-bf79-159189b33814",
   "metadata": {},
   "source": [
    "So if the probability is 0.75 of winning, then the odds are 3 : 1\n",
    "\n",
    "If there is a large chance of failure, then we often use the _odds against_ instead: If a horse has a 10% chance of winning, we say it has odds in favour of 1 : 9, or adds against of 9 : 1."
   ]
  },
  {
   "cell_type": "code",
   "execution_count": 2,
   "id": "75973e84-e23e-4d04-951f-8933a7b6a712",
   "metadata": {},
   "outputs": [
    {
     "data": {
      "text/plain": [
       "0.1"
      ]
     },
     "execution_count": 2,
     "metadata": {},
     "output_type": "execute_result"
    }
   ],
   "source": [
    "def prob(o):\n",
    "    \"\"\" For the case that the odds are expressed in the usual format of a:1 \"\"\"\n",
    "    return o / (o + 1)\n",
    "\n",
    "def prob2(yes, no):\n",
    "    return yes / (yes + no)\n",
    "\n",
    "prob2(1, 9)"
   ]
  },
  {
   "cell_type": "markdown",
   "id": "d64c5c9b-0047-41a5-b561-aecbb73021ad",
   "metadata": {},
   "source": [
    "## Bayes' Rule \n",
    "So far we have used the 'probability' form of Bayes' Rule:\n",
    "$$\n",
    "P(H|D) = \\frac{P(H)P(D|H)}{P(D)}\n",
    "$$\n",
    "\n",
    "We can also express it in 'odds' form. If the odds in favour of A are $odds(A)$, then\n",
    "$$\n",
    "odds(A|D) = odds(A)\\frac{P(D|A)}{P(D|B}\n",
    "$$\n",
    "\n",
    "This can be convenient for calculating odds in your head. Cookie problem:\n",
    "\n",
    "50 / 50 which bowl, so the odds are 1\n",
    "\n",
    "Then the likelihood ratio is (3 / 4) / (1 / 2) = 3 / 2, which corresponds to a probability of 3/5\n",
    "\n",
    "## Oliver's Blood\n",
    "We can use Bayes' rule to solve the following problem from _Information Theore, Inference, and Learning Algorithms_:\n",
    "> Two people have left traces of their own blood at the scene of a crime. A suspect, Oliver, is tested, and found to have type O blood. The blood groups of the two traces are found to be of type O (having frequency 60%) and of type AB (with frequency 1%). Do these data give evidence in favvour of the proposition tha tOliver was one of the people who left blood at the scene?\n",
    "\n",
    "We say that it gives evidence in favour if the hypothesis is more likely after the data than before. Taking our earlier equation and dividing through by $odds(A)$:\n",
    "\n",
    "$$\n",
    "odds(A|D) = odds(A)\\frac{P(D|A)}{P(D|B} \\\\\n",
    "\\frac{odds(A|D)}{odds(A)} = \\frac{P(D|A)}{P(D|B}\n",
    "$$\n",
    "\n",
    "The term on the left is the ratio of the poterior and prior odds, and on the right is the likelihood ratio (or *Bayes factor*.\n",
    "\n",
    "- Bayes factor > 1: more likely with data than before -> evidence in favour\n",
    "- Bayes factor = 1: exactly as likely with or without the data\n",
    "- Bayes factor < 1: less likely after the data than before -> evidence against\n",
    "\n",
    "So let's analyze our problem. If Oliver left the blood (O) at the scene, he accounts for the O sample. In that case, the probability of the data is the probability that a random person left the other sample: 1%.\n",
    "\n",
    "If Oliver did not leave the blood at the scene, then we have two samples to account for. If we chose two random people in the population, what is the probability that one would have type O and the other AB?"
   ]
  },
  {
   "cell_type": "code",
   "execution_count": 3,
   "id": "0fc7d165-cc76-4d41-8663-0946eeae8102",
   "metadata": {},
   "outputs": [
    {
     "data": {
      "text/plain": [
       "0.012"
      ]
     },
     "execution_count": 3,
     "metadata": {},
     "output_type": "execute_result"
    }
   ],
   "source": [
    "like2 = 2 * 0.6 * 0.01 # * 2 since the first person could be O or AB, &c.\n",
    "like2"
   ]
  },
  {
   "cell_type": "markdown",
   "id": "4df73e66-8238-458b-8efd-0902a9ef5919",
   "metadata": {},
   "source": [
    "So the data are slightly more likely if Oliver is *not* the one that left the blood at the scene. We can use the probabilities to calculate the likelihood ratio:"
   ]
  },
  {
   "cell_type": "code",
   "execution_count": 4,
   "id": "5a7dbdee-e1b0-40ca-89f9-836122245032",
   "metadata": {},
   "outputs": [
    {
     "data": {
      "text/plain": [
       "0.8333333333333334"
      ]
     },
     "execution_count": 4,
     "metadata": {},
     "output_type": "execute_result"
    }
   ],
   "source": [
    "like1 = 0.01\n",
    "like2\n",
    "\n",
    "likelihood_ratio = like1 / like2\n",
    "likelihood_ratio"
   ]
  },
  {
   "cell_type": "markdown",
   "id": "1246c795-414e-4774-9389-205737ece27a",
   "metadata": {},
   "source": [
    "Since the likelihood ratio is less than one, this is evidence against Oliver being there. However, it is not very strong evidence. If the prior odds were 1 (50 / 50 chance it was him), then the probability corresponds to about 45%:"
   ]
  },
  {
   "cell_type": "code",
   "execution_count": 5,
   "id": "4ab0acd0-7d06-4b34-9286-591c995cf2eb",
   "metadata": {},
   "outputs": [
    {
     "data": {
      "text/plain": [
       "0.45454545454545453"
      ]
     },
     "execution_count": 5,
     "metadata": {},
     "output_type": "execute_result"
    }
   ],
   "source": [
    "prior_odds = 1\n",
    "post_odds = prior_odds * likelihood_ratio\n",
    "prob(post_odds)"
   ]
  },
  {
   "cell_type": "markdown",
   "id": "2b80c148-7b5b-4d00-8514-023153fbc608",
   "metadata": {},
   "source": [
    "So you can see that this dropped the probability it was Oliver from 50% -> 45% - hardly earth shattering!\n",
    "\n",
    "### Exercise 6.1\n",
    "> Suppose that, because of other evidence, your prior belief in Oliver's guilt is 90%. Then how much does this evidence shift your belief? What if you initially thought that there was only a 10% chance of his guilt?"
   ]
  },
  {
   "cell_type": "markdown",
   "id": "f91d25d1-2141-4478-9b75-ea49541d7037",
   "metadata": {},
   "source": [
    "### Solution"
   ]
  },
  {
   "cell_type": "code",
   "execution_count": 6,
   "id": "60034af0-bae6-473c-858b-ac1da75a5ac6",
   "metadata": {},
   "outputs": [
    {
     "name": "stdout",
     "output_type": "stream",
     "text": [
      "Belief change: 0.9 -> 0.8823529411764706\n",
      "Belief change: 0.1 -> 0.08474576271186442\n"
     ]
    }
   ],
   "source": [
    "for prior_prob in [0.9, 0.1]:\n",
    "    odds = (prior_prob / (1 - prior_prob))\n",
    "    new_belief = odds * likelihood_ratio\n",
    "    new_prob = prob(new_belief)\n",
    "    print(f\"Belief change: {prior_prob} -> {new_prob}\")"
   ]
  },
  {
   "cell_type": "markdown",
   "id": "3da489bd-7f56-4340-8058-6dd386331955",
   "metadata": {},
   "source": [
    "So in each case it reduces the probability that it was Oliver by about 2%"
   ]
  },
  {
   "cell_type": "markdown",
   "id": "ac2a8d41-6bf1-4de9-ad5a-c7c1e2430046",
   "metadata": {},
   "source": [
    "## Addends\n",
    "\n",
    "- Let's look at how to find the PMF of combinations (e.g. sums, &c.)\n",
    "\n",
    "Sum of two dice:"
   ]
  },
  {
   "cell_type": "code",
   "execution_count": 7,
   "id": "fef94fe7-ec1e-4db0-9273-87fa4eceab7b",
   "metadata": {},
   "outputs": [
    {
     "data": {
      "text/plain": [
       "<AxesSubplot:>"
      ]
     },
     "execution_count": 7,
     "metadata": {},
     "output_type": "execute_result"
    },
    {
     "data": {
      "image/png": "[encoded data removed]",
      "text/plain": [
       "<Figure size 432x288 with 1 Axes>"
      ]
     },
     "metadata": {
      "needs_background": "light"
     },
     "output_type": "display_data"
    }
   ],
   "source": [
    "import numpy as np\n",
    "from empiricaldist import Pmf\n",
    "\n",
    "def make_die(sides):\n",
    "    outcomes = np.arange(1, sides+1)\n",
    "    die = Pmf(1/sides, outcomes)\n",
    "    return die\n",
    "\n",
    "die = make_die(6)\n",
    "die.plot(kind=\"bar\")"
   ]
  },
  {
   "cell_type": "code",
   "execution_count": 8,
   "id": "4b42e51d-0d80-4d50-aea5-67cf09d0a7e3",
   "metadata": {},
   "outputs": [],
   "source": [
    "# Now for a sum:\n",
    "\n",
    "def add_dist(pmf1, pmf2):\n",
    "    result = Pmf()\n",
    "    for q1, p1 in pmf1.items():\n",
    "        for q2, p2 in pmf2.items():\n",
    "            q = q1 + q2\n",
    "            p = p1 * p2\n",
    "            result[q] = res(q) + p # notice: square vs. angle brackets\n",
    "    return result"
   ]
  },
  {
   "cell_type": "markdown",
   "id": "fe031b21-ece9-4f75-bfc2-abd42bde8f4e",
   "metadata": {},
   "source": [
    "`Pmf` actually has `add_dist`, which can be called as a function or a method:"
   ]
  },
  {
   "cell_type": "code",
   "execution_count": 9,
   "id": "c8807810-1087-4c55-90ab-758a2935d730",
   "metadata": {},
   "outputs": [
    {
     "data": {
      "text/plain": [
       "<AxesSubplot:>"
      ]
     },
     "execution_count": 9,
     "metadata": {},
     "output_type": "execute_result"
    },
    {
     "data": {
      "image/png": "[encoded data removed]",
      "text/plain": [
       "<Figure size 432x288 with 1 Axes>"
      ]
     },
     "metadata": {
      "needs_background": "light"
     },
     "output_type": "display_data"
    }
   ],
   "source": [
    "twice = die.add_dist(die)\n",
    "twice = Pmf.add_dist(die, die)\n",
    "\n",
    "twice.plot(kind=\"bar\")"
   ]
  },
  {
   "cell_type": "code",
   "execution_count": 10,
   "id": "c0921578-3bc8-41ce-9b34-a6fc40ca2839",
   "metadata": {},
   "outputs": [
    {
     "data": {
      "text/plain": [
       "<AxesSubplot:>"
      ]
     },
     "execution_count": 10,
     "metadata": {},
     "output_type": "execute_result"
    },
    {
     "data": {
      "image/png": "[encoded data removed]",
      "text/plain": [
       "<Figure size 432x288 with 1 Axes>"
      ]
     },
     "metadata": {
      "needs_background": "light"
     },
     "output_type": "display_data"
    }
   ],
   "source": [
    "# Adding a sequence\n",
    "def add_dist_seq(seq):\n",
    "    total = seq[0]\n",
    "    for other in seq[1:]:\n",
    "        total = total.add_dist(other)\n",
    "    return total\n",
    "\n",
    "# calculating the sum of three dice\n",
    "dice = [die] * 3\n",
    "thrice = add_dist_seq(dice)\n",
    "\n",
    "die.plot(label=\"once\")\n",
    "twice.plot(label=\"twice\")\n",
    "thrice.plot(label=\"thrice\")"
   ]
  },
  {
   "cell_type": "markdown",
   "id": "9a3782f4-241a-4729-9a95-e1fe57a0f676",
   "metadata": {},
   "source": [
    "This kind of looks like some sort of Central Limit Theorem...\n",
    "\n",
    "## Gluten Sensitivity\n",
    "- Paper testing gluten sensitivity (not celiac disease)\n",
    "- Subjects were fed flour either with or w/o gluten\n",
    "- 35 subjects:\n",
    "    - 12 correctly identified the gluten flour\n",
    "    - 17 wrongly identified the gluten-free flour\n",
    "    - 6 unable to distinguish\n",
    "- Based on this data, how many of the subjects were actually able to identify the gluten-free flour and how many were guessing?\n",
    "\n",
    "Let's make some modelling assumptions:\n",
    "- People who are sensitive have a 95% chance of correctly identifying gluten flour\n",
    "- People who are not sensitive have a 40% chance of identifying the gluten flour correctly (and a 60% chance of either identifying the wrong flour or not being able to distinguish)\n",
    "\n",
    "We'll solve the problem in two steps:\n",
    "- Start by assuming that we know the number of each, and calculate the distribution of the data\n",
    "- Using the likelihood, calculate compute the posterior distribution of the number of sensitive patients\n",
    "\n",
    "## Forward Problem\n",
    "Suppose that we know that 10 / 35 subjects are sensitive (so 25 are not). Then the results for the correct guesses in each group follow a binomial distribution:"
   ]
  },
  {
   "cell_type": "code",
   "execution_count": 11,
   "id": "cf4fd5b7-dae0-4785-830d-a276f89506d2",
   "metadata": {},
   "outputs": [
    {
     "data": {
      "text/plain": [
       "<AxesSubplot:>"
      ]
     },
     "execution_count": 11,
     "metadata": {},
     "output_type": "execute_result"
    },
    {
     "data": {
      "image/png": "[encoded data removed]",
      "text/plain": [
       "<Figure size 432x288 with 1 Axes>"
      ]
     },
     "metadata": {
      "needs_background": "light"
     },
     "output_type": "display_data"
    }
   ],
   "source": [
    "from empiricaldist import Pmf\n",
    "import numpy as np\n",
    "from scipy.stats import binom\n",
    "\n",
    "n = 35\n",
    "num_sensitive = 10\n",
    "num_insensitive = n - num_sensitive\n",
    "\n",
    "def make_binomial(n, p):\n",
    "    \"\"\" Makes the binomial PMF \"\"\"\n",
    "    ks = np.arange(n + 1)\n",
    "    ps = binom.pmf(ks, n, p)\n",
    "    return Pmf(ps, ks)\n",
    "\n",
    "dist_insensitive = make_binomial(num_sensitive, 0.95)\n",
    "dist_sensitive = make_binomial(num_insensitive, 0.4)\n",
    "\n",
    "# Now let's find the distribution of the distribution of the total number of correct identifications\n",
    "dist_total = Pmf.add_dist(dist_sensitive, dist_insensitive)\n",
    "\n",
    "dist_insensitive.plot(label=\"Insensitive\")\n",
    "dist_sensitive.plot(label=\"Insensitive\")\n",
    "dist_total.plot(label=\"Insensitive\")"
   ]
  },
  {
   "cell_type": "markdown",
   "id": "50056bbc-064f-4879-9e40-ffcf850fce01",
   "metadata": {},
   "source": [
    "So we expect most of the sensitives to get it (yielding about 10); we expect some of the insensitives to get it (again, yielding about 10), leading to about 20 correct identifications.\n",
    "\n",
    "This was the forward problem - given the actual numbers, we could compute the probabilities of seeing some data. Now let's go the other way - given the data that was the actual result of the experiment, let's try to throw a distribution around the number of people!"
   ]
  },
  {
   "cell_type": "code",
   "execution_count": 12,
   "id": "8b918349-d533-46fe-bebc-dabdaea03ef9",
   "metadata": {},
   "outputs": [],
   "source": [
    "import pandas as pd\n",
    "\n",
    "table = pd.DataFrame()\n",
    "for num_sensitive in range(0, n + 1):\n",
    "    num_insensitive = n - num_sensitive\n",
    "    dist_insensitive = make_binomial(num_insensitive, 0.4)\n",
    "    dist_sensitive = make_binomial(num_sensitive, 0.95)\n",
    "    dist_total = Pmf.add_dist(dist_sensitive, dist_insensitive)\n",
    "    table[num_sensitive] = dist_total"
   ]
  },
  {
   "cell_type": "markdown",
   "id": "0bbcefbc-29b0-4e3d-a444-ad2d374a9f38",
   "metadata": {},
   "source": [
    "This has now calculated the PMF for the empirical distributions of the number of correct identifications for each possible value of `num_sensitive`.\n",
    "\n",
    "Next we'll grab the distribution for our data (12 correct identifications) and whack that together with a uniform distribution (we have no idea about the actual number of sensitive people):"
   ]
  },
  {
   "cell_type": "code",
   "execution_count": 13,
   "id": "fba28b4a-9c9a-4914-90eb-b8d80f4eeb43",
   "metadata": {},
   "outputs": [
    {
     "data": {
      "text/plain": [
       "<AxesSubplot:>"
      ]
     },
     "execution_count": 13,
     "metadata": {},
     "output_type": "execute_result"
    },
    {
     "data": {
      "image/png": "[encoded data removed]",
      "text/plain": [
       "<Figure size 432x288 with 1 Axes>"
      ]
     },
     "metadata": {
      "needs_background": "light"
     },
     "output_type": "display_data"
    }
   ],
   "source": [
    "likelihood1 = table.loc[12] # this is our actual data\n",
    "\n",
    "# now the uniform prior\n",
    "hypos = np.arange(n + 1)\n",
    "prior = Pmf(1, hypos)\n",
    "\n",
    "posterior1 = prior * likelihood1\n",
    "posterior1.normalize()\n",
    "\n",
    "# For fun, let's do the same for the case where there were 20 correct identifications\n",
    "likelihood2 = table.loc[20]\n",
    "posterior2 = prior * likelihood2\n",
    "posterior2.normalize()\n",
    "\n",
    "posterior1.plot()\n",
    "posterior2.plot()"
   ]
  },
  {
   "cell_type": "markdown",
   "id": "b3387d49-daab-4a45-9624-9a7cd323cf44",
   "metadata": {},
   "source": [
    "From this, we can see that for the actual data in the study, the most likely numbers is that 0% of the participants were gluten sensitive; if there had been 20 correct identifications, the most likely would have been the 11 - 12 ish of the participants were sensitive.\n",
    "\n",
    "## Exercises"
   ]
  },
  {
   "cell_type": "markdown",
   "id": "6cd25d1a-288d-4a7f-9bba-d532d3474471",
   "metadata": {},
   "source": [
    "### Exercise 6-2 \n",
    "\n",
    "> Let's use Bayes' Rule to solve the Elvis problem from Chapter 3:\n",
    ">> Elvis Presley had a twin brother who died at birth. What is the probability that he was an identical twin?\n",
    "> In 1935, about 2/3 of twins were fraternal and 1/3 were identical. The question contains two pieces of information we can use to update the prior:\n",
    "> - Elvis' twin was male, which is more likely if they were identical, which a lieklihood ratio of 2\n",
    "> - Elvis' twin died at birth, which is more likely if they were identical, which a likelihood ratio of 1.25"
   ]
  },
  {
   "cell_type": "markdown",
   "id": "e3b97541-98cd-497d-9c49-8cfbaf8f353a",
   "metadata": {},
   "source": [
    "### Solution\n",
    "\n",
    "Bayes' Rule:\n",
    "$$\n",
    "odds(A|D) = odds(A) \\ast \\frac{P(D|A)}{P(D|B}\n",
    "$$\n",
    "\n",
    "$$\n",
    "\\begin{align}\n",
    "odds(I|\\text{twin brother}) &= odds(I) \\ast{(P(D|I)}{P(D|F)} \\\\\n",
    "                                    &= ((1/3) / 2/3) \\ast 2 \\\\\n",
    "                                    &= 1 \\\\\n",
    "odds(I|\\text{twin brother died}) &= 1 \\ast 1.25 \\\\\n",
    "                                &= 1.25 \\\\\n",
    "                                &= 5/4 \\\\\n",
    "P(I|\\text{twin brother who died}) &= (5/4) / (1 + 5/4) \\\\\n",
    "                                    &= 5/9\n",
    "\\end{align}\n",
    "$$"
   ]
  },
  {
   "cell_type": "markdown",
   "id": "5997f986-b320-4481-bfe2-2590b7dc7e2b",
   "metadata": {},
   "source": [
    "### Exercise 6-3\n",
    "\n",
    "> The following is an interview question attributed to Facebook:\n",
    ">> You're about to fly to Seattle. You want to know whether to bring an umbrella, so you phone three friends and ask them whether it is raining. Each friend has a 1/3 chance of lying and a 2/3 chance of telling the truth. All three say it is raining. What is the probability that it is actually raining? (Assume that it rains about 10% of the time in Seattle).\n",
    "> Solve using Bayes' Rule."
   ]
  },
  {
   "cell_type": "markdown",
   "id": "5b04e1d1-0458-4b78-b3dc-06bd13d01157",
   "metadata": {},
   "source": [
    "### Solution\n",
    "\n",
    "$$\n",
    "\\begin{align}\n",
    "odds(rain|people saying yes) &= odds(rain) \\ast (P(D | rain) / P(D | not rain) \\\\\n",
    "                             &= 1/9 * ((2/3) ^ 3 / (1/3) ^ 3) \\\\\n",
    "                             &= 1/9 * 8 \\\\\n",
    "                             &= 8/9 \\\\\n",
    "P(rain|people saying yes) &= 8 / 17 \\\\\n",
    "                          &\\approx 0.47\n",
    "\\end{align}\n",
    "$$"
   ]
  },
  {
   "cell_type": "markdown",
   "id": "ddb22a63-bd80-4171-9508-676afc846cd5",
   "metadata": {},
   "source": [
    "### Exercise 6-4\n",
    "\n",
    "> According to the CDC, people who smoke are about 25x as likely to develop lung cancer than non-smokeres. Also, according to the CDC, 14% of adults in the US are smokers. if you learn that someone has lung cancer, what is the probability that they are a smoker?"
   ]
  },
  {
   "cell_type": "markdown",
   "id": "fe722324-600a-46cb-850d-864fdd1c900b",
   "metadata": {},
   "source": [
    "### Solution\n",
    "\n",
    "$$\n",
    "\\begin{align}\n",
    "odds(smoker|cancer) &= odds(smoker) \\ast \\frac{P(cancer|smoker)}{P(cancer|non-smoker)} \\\\\n",
    "                    &= (0.14 / 0.86) \\ast (25) \\\\\n",
    "                    &= 4.07 \\\\\n",
    "P(smoker | cancer) &= 4.07 / 5.07 \\\\\n",
    "                   &\\approx 0.803\\dots\n",
    "\\end{align}\n",
    "$$"
   ]
  },
  {
   "cell_type": "markdown",
   "id": "5da33559-f70b-4c88-93b5-eb95cf853be2",
   "metadata": {},
   "source": [
    "### Exercise 6-5\n",
    "\n",
    "> In DnD, the amount of damage a goblin can withstand is the sum of 2D6. A shortsword deals 1D6 damage. You win if you can inflict more damage than the goblin has HP left. If it has already taken three points of damage, what is the probability that you defeat it on the next attack? Hint: use `Pmf.add_dist` or `Pmf.sub_dist` with constants."
   ]
  },
  {
   "cell_type": "code",
   "execution_count": 14,
   "id": "4ac0ee4e-519e-48d6-a75e-51ef65d157b0",
   "metadata": {},
   "outputs": [
    {
     "data": {
      "text/plain": [
       "<AxesSubplot:>"
      ]
     },
     "execution_count": 14,
     "metadata": {},
     "output_type": "execute_result"
    },
    {
     "data": {
      "image/png": "[encoded data removed]",
      "text/plain": [
       "<Figure size 432x288 with 1 Axes>"
      ]
     },
     "metadata": {
      "needs_background": "light"
     },
     "output_type": "display_data"
    }
   ],
   "source": [
    "from empiricaldist import Pmf\n",
    "\n",
    "d6 = Pmf(1, range(1, 6+1))\n",
    "d6.normalize()\n",
    "goblin = Pmf.add_dist(d6, d6)\n",
    "goblin.normalize()\n",
    "goblin.plot(kind=\"bar\")"
   ]
  },
  {
   "cell_type": "code",
   "execution_count": 15,
   "id": "1fc4e6d8-d0d0-444e-a25c-f0da53940715",
   "metadata": {},
   "outputs": [
    {
     "data": {
      "text/plain": [
       "<AxesSubplot:>"
      ]
     },
     "execution_count": 15,
     "metadata": {},
     "output_type": "execute_result"
    },
    {
     "data": {
      "image/png": "[encoded data removed]",
      "text/plain": [
       "<Figure size 432x288 with 1 Axes>"
      ]
     },
     "metadata": {
      "needs_background": "light"
     },
     "output_type": "display_data"
    }
   ],
   "source": [
    "ss = Pmf.add_dist(Pmf(1, range(1, 6 + 1)), 3)\n",
    "ss.plot(kind=\"bar\")"
   ]
  },
  {
   "cell_type": "code",
   "execution_count": 25,
   "id": "36452662-223d-4d89-960d-300e0d2fd9a0",
   "metadata": {},
   "outputs": [
    {
     "data": {
      "text/plain": [
       "0.5"
      ]
     },
     "execution_count": 25,
     "metadata": {},
     "output_type": "execute_result"
    },
    {
     "data": {
      "image/png": "[encoded data removed]",
      "text/plain": [
       "<Figure size 432x288 with 1 Axes>"
      ]
     },
     "metadata": {
      "needs_background": "light"
     },
     "output_type": "display_data"
    }
   ],
   "source": [
    "remaining = Pmf.sub_dist(goblin, ss)\n",
    "remaining.normalize()\n",
    "remaining.plot(kind=\"bar\")\n",
    "remaining.prob_le(0)"
   ]
  },
  {
   "cell_type": "markdown",
   "id": "6cc82931-b976-4850-9fb9-0b38fb0f76fd",
   "metadata": {},
   "source": [
    "### Exercise 6-6\n",
    "\n",
    "> Suppose I have a box with a D6, a D8, and a D12. I choose one of the dice at random, roll it twice, multiply the outcomes, and report that the product is 12. What is the probability that I chose the D8?\n",
    ">\n",
    "> Hint: `Pmf` provides a function called `mult_dist` that returns the distribution of the product of two `Pmf`s"
   ]
  },
  {
   "cell_type": "code",
   "execution_count": 17,
   "id": "e56f81a8-31eb-4274-a4cd-705dc791f5d9",
   "metadata": {},
   "outputs": [
    {
     "data": {
      "text/plain": [
       "0.2903225806451613"
      ]
     },
     "execution_count": 17,
     "metadata": {},
     "output_type": "execute_result"
    },
    {
     "data": {
      "image/png": "[encoded data removed]",
      "text/plain": [
       "<Figure size 432x288 with 1 Axes>"
      ]
     },
     "metadata": {
      "needs_background": "light"
     },
     "output_type": "display_data"
    }
   ],
   "source": [
    "import pandas as pd\n",
    "\n",
    "table = pd.DataFrame()\n",
    "num_sides = [6, 8, 12]\n",
    "for sides in num_sides:\n",
    "    one_roll = Pmf(1, range(1, sides + 1))\n",
    "    prod = Pmf.mul_dist(one_roll, one_roll)\n",
    "    prod.normalize()\n",
    "    table[sides] = prod\n",
    "\n",
    "uniform = Pmf(1, num_sides)\n",
    "posterior = uniform.copy()\n",
    "posterior *= (table.loc[12])\n",
    "posterior.normalize()\n",
    "posterior.plot(kind=\"bar\")\n",
    "posterior[8]"
   ]
  },
  {
   "cell_type": "markdown",
   "id": "7dfef0cb-abff-4bfe-8bcb-4421a298c6ca",
   "metadata": {},
   "source": [
    "### Exercise 6-7 \n",
    "\n",
    "> In *Betrayal at House on the Hill*, each character rolls a certain number of dice, depending on their individual skill at a task. Each dice yields a 0, 1, or 2 with equal probability. \n",
    ">\n",
    "> Say you are rolling based on Knowledge. Then Professor Longfellow rolls 5 dice, Madam Zostra rolls 4, and Ox Bellows rolls 3.\n",
    ">\n",
    "> A randomly chosen character attempts a task three times and rolls a sum of 3 on the first attempt, 4 on the second, and 5 on the third. Which character do you think it was?"
   ]
  },
  {
   "cell_type": "code",
   "execution_count": 18,
   "id": "f293a772-4d0e-48dc-b38b-00f935198edd",
   "metadata": {},
   "outputs": [
    {
     "name": "stdout",
     "output_type": "stream",
     "text": [
      "    Longfellow    Zostra        Ox\n",
      "0     0.004115  0.012346  0.037037\n",
      "1     0.020576  0.049383  0.111111\n",
      "2     0.061728  0.123457  0.222222\n",
      "3     0.123457  0.197531  0.259259\n",
      "4     0.185185  0.234568  0.222222\n",
      "5     0.209877  0.197531  0.111111\n",
      "6     0.185185  0.123457  0.037037\n",
      "7     0.123457  0.049383       NaN\n",
      "8     0.061728  0.012346       NaN\n",
      "9     0.020576       NaN       NaN\n",
      "10    0.004115       NaN       NaN\n"
     ]
    },
    {
     "data": {
      "text/plain": [
       "<AxesSubplot:>"
      ]
     },
     "execution_count": 18,
     "metadata": {},
     "output_type": "execute_result"
    },
    {
     "data": {
      "image/png": "[encoded data removed]",
      "text/plain": [
       "<Figure size 432x288 with 1 Axes>"
      ]
     },
     "metadata": {
      "needs_background": "light"
     },
     "output_type": "display_data"
    }
   ],
   "source": [
    "characters = [\n",
    "    dict(name=\"Longfellow\", dice=5),\n",
    "    dict(name=\"Zostra\", dice=4),\n",
    "    dict(name=\"Ox\", dice=3)\n",
    "]\n",
    "d3 = Pmf(1, range(3))\n",
    "\n",
    "table = pd.DataFrame()\n",
    "for character in characters:\n",
    "    final_sum_dist = d3.copy()\n",
    "    for _ in range(character['dice'] - 1):\n",
    "        final_sum_dist = final_sum_dist.add_dist(d3)\n",
    "    final_sum_dist.normalize()\n",
    "    table[character['name']] = final_sum_dist\n",
    "    \n",
    "unif = Pmf(1, [character['name'] for character in characters])\n",
    "posterior = unif.copy()\n",
    "\n",
    "print(table)\n",
    "for result in [3, 4, 5]:\n",
    "    posterior *= table.loc[result]\n",
    "    \n",
    "posterior.normalize()\n",
    "posterior.plot(kind=\"bar\")\n",
    "print(posterior[\"Zostra\"])"
   ]
  },
  {
   "cell_type": "markdown",
   "id": "72013ba6-d817-4808-9ca6-61d2cbc948c4",
   "metadata": {},
   "source": [
    "### Exercise 6-8\n",
    "\n",
    "> There are 538 members of the United States Congress. Suppose that we audit their investment portfolios and find that 312 of them outperform the market. Further, let's assume that an honest member of Congress has a 50% chance of outperforming the market, but that a dishonest one who is insider trading has a 90% chance. How many dishonest members of Congress are there?"
   ]
  },
  {
   "cell_type": "code",
   "execution_count": 24,
   "id": "6fbe4377-bc26-4c95-aaf3-52d8c6ef4f41",
   "metadata": {},
   "outputs": [
    {
     "name": "stderr",
     "output_type": "stream",
     "text": [
      "/tmp/ipykernel_1363/1312854788.py:7: PerformanceWarning: DataFrame is highly fragmented.  This is usually the result of calling `frame.insert` many times, which has poor performance.  Consider using pd.concat instead.  To get a de-fragmented frame, use `newframe = frame.copy()`\n",
      "  table[num_dishonest] = dist_combined\n"
     ]
    },
    {
     "name": "stdout",
     "output_type": "stream",
     "text": [
      "Maximum likelihood: 108\n"
     ]
    },
    {
     "data": {
      "image/png": "[encoded data removed]",
      "text/plain": [
       "<Figure size 432x288 with 1 Axes>"
      ]
     },
     "metadata": {
      "needs_background": "light"
     },
     "output_type": "display_data"
    }
   ],
   "source": [
    "n = 538\n",
    "table = pd.DataFrame()\n",
    "for num_dishonest in range(n + 1):\n",
    "    dist_honest = make_binomial(n - num_dishonest, 0.5)\n",
    "    dist_dishonest = make_binomial(num_dishonest, 0.9)\n",
    "    dist_combined = Pmf.add_dist(dist_honest, dist_dishonest)\n",
    "    table[num_dishonest] = dist_combined\n",
    "\n",
    "uniform = Pmf(1, range(0, n + 1))\n",
    "likelihood = table.loc[312]\n",
    "posterior = uniform * likelihood\n",
    "posterior.normalize()\n",
    "posterior.plot()\n",
    "print(f\"Maximum likelihood: {posterior.max_prob()}\")"
   ]
  },
  {
   "cell_type": "code",
   "execution_count": null,
   "id": "050cdc2e-95c4-4e33-afd1-daddef0746c0",
   "metadata": {},
   "outputs": [],
   "source": []
  }
 ],
 "metadata": {
  "kernelspec": {
   "display_name": "Python 3 (ipykernel)",
   "language": "python",
   "name": "python3"
  },
  "language_info": {
   "codemirror_mode": {
    "name": "ipython",
    "version": 3
   },
   "file_extension": ".py",
   "mimetype": "text/x-python",
   "name": "python",
   "nbconvert_exporter": "python",
   "pygments_lexer": "ipython3",
   "version": "3.8.5"
  }
 },
 "nbformat": 4,
 "nbformat_minor": 5
}
