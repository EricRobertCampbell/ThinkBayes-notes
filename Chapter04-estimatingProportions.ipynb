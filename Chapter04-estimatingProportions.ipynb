{
 "cells": [
  {
   "cell_type": "markdown",
   "id": "645eca96-d036-44aa-a59a-aaed9c3a9da1",
   "metadata": {},
   "source": [
    "# Chapter 4 - Estimating Proportions\n",
    "\n",
    "## The Euro Problem\n",
    "> (From *Information Theory, Inference, and Learning Algorithms - David MacKay)\n",
    ">\n",
    "> A statistical statement appeared in _The Guardian_:\n",
    ">> When spun on edge 250 times, a Belgian one-Euro coin came up heads 140 times and tails 110. \"It looks very syspicious to me,\" said Barry White, a statustucs lecturer at the London School of Economics. \"If the coin were unbiased, the chance of getting a result as extreme as that would be less than 7%.\"\n",
    "\n",
    "## The Binomial Distribution\n",
    "\n",
    "$$\n",
    "\\binom{n}{k} p^k (1-p)^{n-k}\n",
    "$$\n",
    "Where\n",
    "- There are $n$ trials, $k$ of which are successes\n",
    "- The probability of a success is $p$"
   ]
  },
  {
   "cell_type": "code",
   "execution_count": 1,
   "id": "c5d44d7b-b131-46aa-b57e-b1bea061f773",
   "metadata": {},
   "outputs": [
    {
     "data": {
      "text/plain": [
       "0.5000000000000002"
      ]
     },
     "execution_count": 1,
     "metadata": {},
     "output_type": "execute_result"
    }
   ],
   "source": [
    "from scipy.stats import binom\n",
    "\n",
    "n = 2\n",
    "k = 1\n",
    "p = 0.5\n",
    "\n",
    "binom.pmf(k, n, p)"
   ]
  },
  {
   "cell_type": "code",
   "execution_count": 2,
   "id": "6ef87291-1b21-4be3-a01c-70cfbba56170",
   "metadata": {},
   "outputs": [
    {
     "data": {
      "text/plain": [
       "array([0.25, 0.5 , 0.25])"
      ]
     },
     "execution_count": 2,
     "metadata": {},
     "output_type": "execute_result"
    }
   ],
   "source": [
    "# We can also provide more than one value\n",
    "import numpy as np\n",
    "\n",
    "ks = np.arange(n + 1)\n",
    "ps = binom.pmf(ks, n, p)\n",
    "ps"
   ]
  },
  {
   "cell_type": "markdown",
   "id": "465f298f-e173-44ae-9b04-ca5736ca30d3",
   "metadata": {},
   "source": [
    "This now gives us the probability of having 0, 1, or 2 heads.\n",
    "\n",
    "Here's what is looks like imported as a Pmf:"
   ]
  },
  {
   "cell_type": "code",
   "execution_count": 3,
   "id": "5b34282d-3813-4e87-994c-755fa481980e",
   "metadata": {},
   "outputs": [
    {
     "data": {
      "text/html": [
       "<div>\n",
       "<style scoped>\n",
       "    .dataframe tbody tr th:only-of-type {\n",
       "        vertical-align: middle;\n",
       "    }\n",
       "\n",
       "    .dataframe tbody tr th {\n",
       "        vertical-align: top;\n",
       "    }\n",
       "\n",
       "    .dataframe thead th {\n",
       "        text-align: right;\n",
       "    }\n",
       "</style>\n",
       "<table border=\"1\" class=\"dataframe\">\n",
       "  <thead>\n",
       "    <tr style=\"text-align: right;\">\n",
       "      <th></th>\n",
       "      <th>probs</th>\n",
       "    </tr>\n",
       "  </thead>\n",
       "  <tbody>\n",
       "    <tr>\n",
       "      <th>0</th>\n",
       "      <td>0.25</td>\n",
       "    </tr>\n",
       "    <tr>\n",
       "      <th>1</th>\n",
       "      <td>0.50</td>\n",
       "    </tr>\n",
       "    <tr>\n",
       "      <th>2</th>\n",
       "      <td>0.25</td>\n",
       "    </tr>\n",
       "  </tbody>\n",
       "</table>\n",
       "</div>"
      ],
      "text/plain": [
       "0    0.25\n",
       "1    0.50\n",
       "2    0.25\n",
       "Name: , dtype: float64"
      ]
     },
     "execution_count": 3,
     "metadata": {},
     "output_type": "execute_result"
    }
   ],
   "source": [
    "from empiricaldist import Pmf\n",
    "\n",
    "pmf_k = Pmf(ps, ks)\n",
    "pmf_k"
   ]
  },
  {
   "cell_type": "code",
   "execution_count": 4,
   "id": "65162d87-ce49-4ba7-9e90-bf99b9c8c3ff",
   "metadata": {},
   "outputs": [
    {
     "data": {
      "text/plain": [
       "<AxesSubplot:>"
      ]
     },
     "execution_count": 4,
     "metadata": {},
     "output_type": "execute_result"
    },
    {
     "data": {
      "image/png": "[encoded data removed]",
      "text/plain": [
       "<Figure size 432x288 with 1 Axes>"
      ]
     },
     "metadata": {
      "needs_background": "light"
     },
     "output_type": "display_data"
    }
   ],
   "source": [
    "def make_binomial(n, p):\n",
    "    \"\"\" Make a binomial pmf \"\"\"\n",
    "    ks = np.arange(n + 1)\n",
    "    ps = binom.pmf(ks, n, p)\n",
    "    return Pmf(ps, ks)\n",
    "\n",
    "pmf_k = make_binomial(n=250, p=0.5)\n",
    "pmf_k.plot()"
   ]
  },
  {
   "cell_type": "code",
   "execution_count": 5,
   "id": "8b3d6c6e-980c-464d-97c6-ab2a7ceac0bc",
   "metadata": {},
   "outputs": [
    {
     "data": {
      "text/plain": [
       "125"
      ]
     },
     "execution_count": 5,
     "metadata": {},
     "output_type": "execute_result"
    }
   ],
   "source": [
    "pmf_k.max_prob()"
   ]
  },
  {
   "cell_type": "markdown",
   "id": "64d34d1a-5c87-4fa3-86d8-934b45530582",
   "metadata": {},
   "source": [
    "But even though this is the _most_ probable quantity, it is not very probable:"
   ]
  },
  {
   "cell_type": "code",
   "execution_count": 6,
   "id": "4fe94b8b-1fd9-4d3d-83d0-15c84edc0115",
   "metadata": {},
   "outputs": [
    {
     "data": {
      "text/plain": [
       "0.050412213147309655"
      ]
     },
     "execution_count": 6,
     "metadata": {},
     "output_type": "execute_result"
    }
   ],
   "source": [
    "pmf_k(125)"
   ]
  },
  {
   "cell_type": "markdown",
   "id": "da0b24b3-4103-4285-8fe4-884fc0d2a198",
   "metadata": {},
   "source": [
    "In MacKay's example, our event is even less probable:"
   ]
  },
  {
   "cell_type": "code",
   "execution_count": 7,
   "id": "056e60bf-de24-44bc-b409-7c6096e0e70e",
   "metadata": {},
   "outputs": [
    {
     "data": {
      "text/plain": [
       "'0.8357181724918203%'"
      ]
     },
     "execution_count": 7,
     "metadata": {},
     "output_type": "execute_result"
    }
   ],
   "source": [
    "f\"{pmf_k[140] * 100}%\""
   ]
  },
  {
   "cell_type": "code",
   "execution_count": 8,
   "id": "d1a9a2ba-4376-43cb-b331-8082bbfcb8bb",
   "metadata": {},
   "outputs": [
    {
     "data": {
      "text/plain": [
       "0.03321057562002163"
      ]
     },
     "execution_count": 8,
     "metadata": {},
     "output_type": "execute_result"
    }
   ],
   "source": [
    "# To get the ones \"at least as extreme\":\n",
    "ge = pmf_k.qs >= 140\n",
    "total = pmf_k[ge].sum()\n",
    "total"
   ]
  },
  {
   "cell_type": "markdown",
   "id": "6459b27b-1b95-42ab-a624-18606ae33235",
   "metadata": {},
   "source": [
    "The reason for \"7%\" is that this is the one-sided probability. If we are really looking at all events as extreme as this, we would also include the probability of less than 110 (125 is the mean - 125 + 15 = 140, so the extreme events on the other side are <= 125 - 15).\n",
    "\n",
    "`Pmf` provides function (`prob_ge` and `prob_le`)"
   ]
  },
  {
   "cell_type": "code",
   "execution_count": 9,
   "id": "0c91b8ca-d21d-4447-9d18-8dd2fda76b23",
   "metadata": {},
   "outputs": [
    {
     "data": {
      "text/plain": [
       "0.06642115124004327"
      ]
     },
     "execution_count": 9,
     "metadata": {},
     "output_type": "execute_result"
    }
   ],
   "source": [
    "pmf_k.prob_le(110) + pmf_k.prob_ge(140)"
   ]
  },
  {
   "cell_type": "markdown",
   "id": "f8974c8a-318c-42ee-9886-0d55b18b6232",
   "metadata": {},
   "source": [
    "## Bayesian Estimation\n",
    "\n",
    "Any coin has some probability $x$ of landing on Heads when spun. For a fair coin it is 1/2; however, it could vary based on the mass distribution of the coin, &c.\n",
    "\n",
    "Let's use Bayes' Theorem to estimate $x$ for our coin. We will start with a uniform prior (assuming that all values of $x$ are equally likely); we can revisit this assumption later."
   ]
  },
  {
   "cell_type": "code",
   "execution_count": 10,
   "id": "2afb09f9-df95-40f0-9b12-bb5d8fda4773",
   "metadata": {},
   "outputs": [
    {
     "data": {
      "text/plain": [
       "<AxesSubplot:>"
      ]
     },
     "execution_count": 10,
     "metadata": {},
     "output_type": "execute_result"
    },
    {
     "data": {
      "image/png": "[encoded data removed]",
      "text/plain": [
       "<Figure size 432x288 with 1 Axes>"
      ]
     },
     "metadata": {
      "needs_background": "light"
     },
     "output_type": "display_data"
    }
   ],
   "source": [
    "hypos = np.linspace(0, 1, 101) # 101 uniformly distributed values between 0 and 1\n",
    "\n",
    "# Uniform prior\n",
    "prior = Pmf(1, hypos)\n",
    "\n",
    "likelihood_heads = hypos\n",
    "likelihood_tails = 1 - hypos\n",
    "likelihood = dict(H=likelihood_heads, T=likelihood_tails)\n",
    "dataset = 'H' * 140 + 'T' * 110\n",
    "\n",
    "def update_euro(pmf, dataset):\n",
    "    \"\"\" Update our PMF with the new outcome \"\"\"\n",
    "    for result in dataset:\n",
    "        pmf *= likelihood[result]\n",
    "    \n",
    "    pmf.normalize()\n",
    "    \n",
    "posterior = prior.copy()\n",
    "update_euro(posterior, dataset)\n",
    "posterior.plot()"
   ]
  },
  {
   "cell_type": "code",
   "execution_count": 11,
   "id": "81235658-1fce-4095-a214-335f353e8639",
   "metadata": {},
   "outputs": [
    {
     "data": {
      "text/plain": [
       "0.56"
      ]
     },
     "execution_count": 11,
     "metadata": {},
     "output_type": "execute_result"
    }
   ],
   "source": [
    "posterior.max_prob()"
   ]
  },
  {
   "cell_type": "markdown",
   "id": "0ee470b0-ad0e-4c74-ab26-e0a1d41b5dba",
   "metadata": {},
   "source": [
    "## Triangular Prior\n",
    "\n",
    "So far we've been using a uniform prior:"
   ]
  },
  {
   "cell_type": "code",
   "execution_count": 12,
   "id": "7f33dd75-c150-45d4-9a96-22c71f56a33c",
   "metadata": {},
   "outputs": [
    {
     "data": {
      "text/plain": [
       "101"
      ]
     },
     "execution_count": 12,
     "metadata": {},
     "output_type": "execute_result"
    }
   ],
   "source": [
    "uniform = Pmf(1, hypos, name=\"uniform\")\n",
    "uniform.normalize()"
   ]
  },
  {
   "cell_type": "markdown",
   "id": "5b660736-5778-449f-b854-d3d66d954150",
   "metadata": {},
   "source": [
    "But given what we know about coins, that might not be completely reasonable; when we see a coin, we like to think that we know something about the distribution already! Let's see what happens when we choose a prior that expresses a stronger belief in values around 0.5:"
   ]
  },
  {
   "cell_type": "code",
   "execution_count": 13,
   "id": "3af264df-c6f5-4f7b-ae98-9acf237a46c4",
   "metadata": {},
   "outputs": [
    {
     "data": {
      "text/plain": [
       "<AxesSubplot:>"
      ]
     },
     "execution_count": 13,
     "metadata": {},
     "output_type": "execute_result"
    },
    {
     "data": {
      "image/png": "[encoded data removed]",
      "text/plain": [
       "<Figure size 432x288 with 1 Axes>"
      ]
     },
     "metadata": {
      "needs_background": "light"
     },
     "output_type": "display_data"
    }
   ],
   "source": [
    "ramp_up = np.arange(50)\n",
    "ramp_down = np.arange(50, -1, -1)\n",
    "a = np.append(ramp_up, ramp_down)\n",
    "triangle = Pmf(a, hypos, name=\"triangle\")\n",
    "triangle.normalize()\n",
    "\n",
    "uniform.plot()\n",
    "triangle.plot()"
   ]
  },
  {
   "cell_type": "code",
   "execution_count": 14,
   "id": "bbb4c404-0d5b-414a-9ca5-7621dcd67044",
   "metadata": {},
   "outputs": [
    {
     "data": {
      "text/plain": [
       "<AxesSubplot:>"
      ]
     },
     "execution_count": 14,
     "metadata": {},
     "output_type": "execute_result"
    },
    {
     "data": {
      "image/png": "[encoded data removed]",
      "text/plain": [
       "<Figure size 432x288 with 1 Axes>"
      ]
     },
     "metadata": {
      "needs_background": "light"
     },
     "output_type": "display_data"
    }
   ],
   "source": [
    "# now let's update both with our information:\n",
    "\n",
    "update_euro(uniform, dataset)\n",
    "update_euro(triangle, dataset)\n",
    "uniform.plot()\n",
    "triangle.plot()"
   ]
  },
  {
   "cell_type": "markdown",
   "id": "0d2bcdc9-a6f5-4213-a655-a8b080318429",
   "metadata": {},
   "source": [
    "There is basically no difference! This is pretty good - imagine if our differing initial beliefs let to vastly different outcomes. This result basically tells us that we don't really care too much about our priors - there is so much data that it doesn't matter.\n",
    "\n",
    "This is called *swamping the priors* - with enough data, people with different priors tend to converge on the same posterior distribution.\n",
    "\n",
    "## The Binomial Likelihood Function\n",
    "\n",
    "There is a more efficient way of doing the updates!"
   ]
  },
  {
   "cell_type": "code",
   "execution_count": 15,
   "id": "f1837292-7000-4fbe-986e-60f50aa0345f",
   "metadata": {},
   "outputs": [
    {
     "data": {
      "text/plain": [
       "True"
      ]
     },
     "execution_count": 15,
     "metadata": {},
     "output_type": "execute_result"
    }
   ],
   "source": [
    "from scipy.stats import binom\n",
    "\n",
    "def update_binomial(pmf, data):\n",
    "    \"\"\" Update the pmf using the binomial distribution \"\"\"\n",
    "    k, n = data\n",
    "    xs = pmf.qs\n",
    "    likelihood = binom.pmf(k, n, xs)\n",
    "    pmf *= likelihood\n",
    "    pmf.normalize()\n",
    "    \n",
    "uniform2 = Pmf(1, hypos, name=\"uniform2\")\n",
    "data = 140, 250\n",
    "update_binomial(uniform2, data)\n",
    "\n",
    "np.allclose(uniform, uniform2)"
   ]
  },
  {
   "cell_type": "markdown",
   "id": "17fc9501-6caf-4b69-8b73-4cb41726749a",
   "metadata": {},
   "source": [
    "## Exercises"
   ]
  },
  {
   "cell_type": "markdown",
   "id": "76101a34-77bb-4f67-88de-8c3e93ad8c0b",
   "metadata": {},
   "source": [
    "### Exercise 4-1\n",
    "> In Major-League Baseball (MLB), most players have a batting average of between 0.2 and 0.330, which means that the probability of getting a hit is between 0.2 and 0.33. \n",
    ">\n",
    "> Suppose a player appearing in the first game gets 3 hits out of 3 attempts. What is the posterior distribution for their probability of getting a hit?"
   ]
  },
  {
   "cell_type": "code",
   "execution_count": 16,
   "id": "cf252ae4-8d19-48e5-9ce4-b78c18a24727",
   "metadata": {},
   "outputs": [
    {
     "data": {
      "text/plain": [
       "<AxesSubplot:>"
      ]
     },
     "execution_count": 16,
     "metadata": {},
     "output_type": "execute_result"
    },
    {
     "data": {
      "image/png": "[encoded data removed]",
      "text/plain": [
       "<Figure size 432x288 with 1 Axes>"
      ]
     },
     "metadata": {
      "needs_background": "light"
     },
     "output_type": "display_data"
    }
   ],
   "source": [
    "# Generating the priors\n",
    "hypos = np.linspace(0, 1, 101) # all probabilities between 0 and 1\n",
    "uniform_priors = Pmf(1, hypos) # uniform priors for now\n",
    "uniform_priors.normalize()\n",
    "stepped_probs = [(0.1 if hypo > 0.33 or hypo < 0.2 else 1) for hypo in hypos]\n",
    "stepped_priors = Pmf(stepped_probs, hypos)\n",
    "stepped_priors.normalize()\n",
    "\n",
    "uniform_priors.plot()\n",
    "stepped_priors.plot()"
   ]
  },
  {
   "cell_type": "code",
   "execution_count": 17,
   "id": "e1f65238-bd38-4e29-9ce0-9d86befa6a63",
   "metadata": {},
   "outputs": [
    {
     "data": {
      "text/plain": [
       "<AxesSubplot:>"
      ]
     },
     "execution_count": 17,
     "metadata": {},
     "output_type": "execute_result"
    },
    {
     "data": {
      "image/png": "[encoded data removed]",
      "text/plain": [
       "<Figure size 432x288 with 1 Axes>"
      ]
     },
     "metadata": {
      "needs_background": "light"
     },
     "output_type": "display_data"
    }
   ],
   "source": [
    "likelihood = hypos\n",
    "uniform_posterior = uniform_priors.copy()\n",
    "stepped_posterior = stepped_priors.copy()\n",
    "for _ in range(3):\n",
    "    uniform_posterior *= likelihood\n",
    "    stepped_posterior *= likelihood\n",
    "uniform_posterior.normalize()\n",
    "stepped_posterior.normalize()\n",
    "uniform_posterior.plot()\n",
    "stepped_posterior.plot()"
   ]
  },
  {
   "cell_type": "markdown",
   "id": "b0286e47-d928-4c47-90aa-27ad327f4d7b",
   "metadata": {},
   "source": [
    "### Exercise 4-2\n",
    "> Whenever you survey people about sensitive issues, you have to deal with social desirability bias (people don't want to answer in a way that makes them look bad). One way to improve it is to randomize some of the responses.\n",
    ">\n",
    "> Say you want to know how many people cheat on their taxes. You can get more accurate answers by asking each person to flip a coin:\n",
    "> - Heads: Answer YES\n",
    "> - Tails: Honestly answer whether they cheated on their taxes\n",
    ">\n",
    "> If you get a yes, you don't know whether it is an honest answer or the result of a coin flip. This fact can make people more willing to be honest.\n",
    ">\n",
    "> Say you survey 100 people and get 80 YESes and 20 NOs. Based on this data, what is the posterior distribution for the faction of people who cheat on their taxes? What is the most likely quantity in the posterior distribution?"
   ]
  },
  {
   "cell_type": "markdown",
   "id": "1c2ad05e-2425-4e89-b7f1-b6db6dbe1de5",
   "metadata": {},
   "source": [
    "Let's assume that the coin has probability 1/2 for each outcome and that each person has a probability $p$ of cheating on their taxes. Then\n",
    "$$\n",
    "\\begin{align}\n",
    "P(\\text{we see YES}) &= P(\\text{flipped heads or flipped tails and cheated})\\\\\n",
    "                    &= P(H) + P(T)P(\\text{cheated}) \\\\\n",
    "                    &= 1/2 + 1/2p \\\\\n",
    "P(\\text{we see NO}) &= P(\\text{flipped tails and didn't cheat}) \\\\\n",
    "                    &= P(\\text{flipped tails}) P(\\text{didn't cheat}) \\\\\n",
    "                    &= 1/2 (1-p) \\\\\n",
    "\\end{align}\n",
    "$$\n",
    "\n",
    "Let's say that we start with a uniform distribution of priors - I really have no idea how many people cheat on their taxes."
   ]
  },
  {
   "cell_type": "code",
   "execution_count": 18,
   "id": "f2da0354-3a33-455b-af19-4bfde09401fe",
   "metadata": {},
   "outputs": [
    {
     "name": "stdout",
     "output_type": "stream",
     "text": [
      "Maximum likelihood: 0.6\n"
     ]
    },
    {
     "data": {
      "text/plain": [
       "<AxesSubplot:>"
      ]
     },
     "execution_count": 18,
     "metadata": {},
     "output_type": "execute_result"
    },
    {
     "data": {
      "image/png": "[encoded data removed]",
      "text/plain": [
       "<Figure size 432x288 with 1 Axes>"
      ]
     },
     "metadata": {
      "needs_background": "light"
     },
     "output_type": "display_data"
    }
   ],
   "source": [
    "hypos = np.linspace(0, 1, 1001)\n",
    "priors = Pmf(1, hypos)\n",
    "priors.normalize()\n",
    "\n",
    "def likelihood(outcome, p):\n",
    "    \"\"\" For a seen outcome (\"Y\" or \"N\") and a probability of cheating on their taxes p, what is the likelihood ?\"\"\"\n",
    "    return 0.5 * (1 + p) if outcome == \"Y\" else 0.5 * (1 - p)\n",
    "\n",
    "outcomes = 20 * \"N\" + 80 * \"Y\"\n",
    "posterior = priors.copy()\n",
    "\n",
    "for outcome in outcomes:\n",
    "    likelihoods = [ likelihood(outcome, p) for p in hypos]\n",
    "    posterior *= likelihoods\n",
    "    \n",
    "posterior.normalize()\n",
    "print(\"Maximum likelihood:\", posterior.max_prob())\n",
    "posterior.plot()"
   ]
  },
  {
   "cell_type": "markdown",
   "id": "1c58f318-c94f-43f7-a32d-46e2d7f5f238",
   "metadata": {},
   "source": [
    "### Exercise 4-3\n",
    "> Suppose that you want to test whether a coin is fair, but you don't want to spin it hundreds of times. So you make a machine that spins the coin automatically and uses a computer vision to determine the outcome.\n",
    ">\n",
    "> However, you discover that the machine is not always accurate. Specifically, suppose the probability is $y=0.2$ that an actual heads is reported as tails, or actual tails as heads. If we spin a coin 250 times and the machine reports 140 heads, what is the posterior distribution of $x$? What happens as you vary the value of $y$?"
   ]
  },
  {
   "cell_type": "markdown",
   "id": "3dfd29ea-b9ad-4a62-ae4b-7c73f46bc6e9",
   "metadata": {},
   "source": [
    "Let's say that $P(H) = x$. Then\n",
    "$$\n",
    "\\begin{align}\n",
    "P(\\text{Reported T}) &= P(\\text{T & No mistake}) + P(\\text{H and mistake}) \\\\\n",
    "                    &= P(T)P(\\text{No mistake}) + P(H)P(\\text{mistake}) \\\\\n",
    "                    &= (1 - x) (1-y) + x * y \\\\\n",
    "                    &= 1 - x - y + xy + xy \\\\\n",
    "                    &= 1 - x - y + 2xy \\\\\n",
    "P(\\text{Reported H}) &= P(\\text{H & No mistake}) + P(\\text{T and mistake}) \\\\\n",
    "                      &= x (1 - y) + (1 - x) * y \\\\\n",
    "                      &= x - xy + y - xy \\\\\n",
    "                      &= x + y - 2xy \\\\\n",
    "\\end{align}\n",
    "$$"
   ]
  },
  {
   "cell_type": "code",
   "execution_count": 19,
   "id": "27d36819-1663-4927-8158-6701f4dad4ea",
   "metadata": {},
   "outputs": [
    {
     "name": "stdout",
     "output_type": "stream",
     "text": [
      "Maximum likelihood for y=0.1: 0.5700000000000001\n",
      "Maximum likelihood for y=0.2: 0.6\n",
      "Maximum likelihood for y=0.3: 0.65\n",
      "Maximum likelihood for y=0.4: 0.8\n"
     ]
    },
    {
     "data": {
      "image/png": "[encoded data removed]",
      "text/plain": [
       "<Figure size 432x288 with 1 Axes>"
      ]
     },
     "metadata": {
      "needs_background": "light"
     },
     "output_type": "display_data"
    }
   ],
   "source": [
    "def likelihood(outcome, x, y):\n",
    "    \"\"\" For a seen outcome (\"H\" or \"T\"), a probability of H (x), and probability of making a mistake (y) , what is the likelihood ?\"\"\"\n",
    "    return 1 - x - y + 2 * x * y if outcome == \"T\" else x + y - 2 * x * y\n",
    "\n",
    "for y in [0.1, 0.2, 0.3, 0.4]:\n",
    "    hypos = np.linspace(0, 1, 101)\n",
    "    priors = Pmf(1, hypos)\n",
    "    priors.normalize()\n",
    "\n",
    "\n",
    "    outcomes = 140 * \"H\" + (250 - 140) * \"T\"\n",
    "    posterior = priors.copy()\n",
    "\n",
    "    for outcome in outcomes:\n",
    "        likelihoods = [ likelihood(outcome, x, y) for x in hypos]\n",
    "        posterior *= likelihoods\n",
    "\n",
    "    posterior.normalize()\n",
    "    print(f\"Maximum likelihood for y={y}:\", posterior.max_prob())\n",
    "    posterior.plot()"
   ]
  },
  {
   "cell_type": "markdown",
   "id": "16780bd3-ae74-4a99-9a0f-10997c10cd55",
   "metadata": {},
   "source": [
    "### Exercise 4-4\n",
    "> In preparation for an alien invasion, Earth Defence League (EDL) has been working on new missiles to shoot down space invaders. Of course, some missile designs are better than others; let's assume that each design has some probability of hitting an alien ship, $x$.\n",
    ">\n",
    "> Based on previous tests, the distribution of $x$ in the population of designs is approximately uniform between 0.1 and 0.4\n",
    ">\n",
    "> Now suppose that the new ultra-secret Alien Blaster 9000 is being tested. In a press conference, an EDL general reports that the new design has been tested twice, taking two shots during each test. The results are confidential, so the general won't say how many targets were hit, but they report: \"The same number of targets were hit in the two tests, so we have reason to think that this new design is consistent\".\n",
    ">\n",
    "> Is this data good or bad? That is, does it increase or decrease your estimate of $x$ for the Alien Blaster 9000?\n"
   ]
  },
  {
   "cell_type": "markdown",
   "id": "690d5e51-c5c0-402d-b740-8d4f1a3d45bb",
   "metadata": {},
   "source": [
    "3 possibilities:\n",
    "1. 2 hits each test\n",
    "2. 1 hit each test\n",
    "3. 0 hits each test\n",
    "\n",
    "Let's start by naively assuming that each of these is equally likely - that is, we don't really know anything about which one occurred"
   ]
  },
  {
   "cell_type": "code",
   "execution_count": 20,
   "id": "72f730e8-2afd-4076-9e6e-865ddd7cb4d8",
   "metadata": {},
   "outputs": [
    {
     "data": {
      "image/png": "[encoded data removed]",
      "text/plain": [
       "<Figure size 432x288 with 1 Axes>"
      ]
     },
     "metadata": {
      "needs_background": "light"
     },
     "output_type": "display_data"
    }
   ],
   "source": [
    "def likelihood(outcome, p):\n",
    "    \"\"\" Given a likelihood of a hit p and an outcome hit (\"H\") or miss (\"M\"), what was the likelihood? \"\"\"\n",
    "    return p if outcome == \"H\" else 1 - p\n",
    "\n",
    "hypos = np.linspace(0, 1, 101)\n",
    "prior_probabilities = [ 0 if p < 0.1 or p > 0.4 else 1 for p in hypos]\n",
    "priors = Pmf(prior_probabilities, hypos)\n",
    "priors.normalize()\n",
    "priors.plot()\n",
    "\n",
    "for possible_outcome in [\"HHHH\", \"HHMM\", \"MMMM\"]:\n",
    "    posterior = priors.copy()\n",
    "    for event in possible_outcome:\n",
    "        likelihoods = [ likelihood(event, p) for p in hypos]\n",
    "        posterior *= likelihoods\n",
    "    posterior.normalize()\n",
    "    posterior.plot()"
   ]
  },
  {
   "cell_type": "markdown",
   "id": "ad49ad6e-7cc6-4c02-a261-d7b97c16d9bb",
   "metadata": {},
   "source": [
    "So from this we can guess that if there were two hits or 1 hit and 1 miss each time we are more likely; otherwise we are less likely. If there are two misses then we are less likely. I would like to think that the two \"good\" options are more likely than the other one, so I would in general feel more confident about the weapon."
   ]
  }
 ],
 "metadata": {
  "kernelspec": {
   "display_name": "Python 3 (ipykernel)",
   "language": "python",
   "name": "python3"
  },
  "language_info": {
   "codemirror_mode": {
    "name": "ipython",
    "version": 3
   },
   "file_extension": ".py",
   "mimetype": "text/x-python",
   "name": "python",
   "nbconvert_exporter": "python",
   "pygments_lexer": "ipython3",
   "version": "3.8.5"
  }
 },
 "nbformat": 4,
 "nbformat_minor": 5
}
