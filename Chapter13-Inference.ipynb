{
 "cells": [
  {
   "cell_type": "markdown",
   "id": "b9c9c226-1558-47e3-a928-c735e1fefbda",
   "metadata": {},
   "source": [
    "# Chapter 13 - Inference\n",
    "\n",
    "In traditional statistics, we test hypothese against a null hypothesis using a Students $t$ test, producing a $p$ value. The Bayesian approach is to construct a posterior distribution for the thing that we care about, and then use that to answer any questions that we have about the underlying quantity.\n",
    "\n",
    "- Most likely size of the difference\n",
    "- Credible interval that's likely to contain the true value\n",
    "- Probability of superiority\n",
    "- Probability that the difference exceeds some threshold\n",
    "\n",
    "We'll demonstrate that process using a problem borrowed from a statistcis textbook.\n",
    "\n",
    "## Improving Reading Ability\n",
    "- Data is from a PhD dissertation in educational psychology (1987), &c.\n",
    "- Description:\n",
    "> An educator condicted an experiment to test whether new directed reading activities in the classroom will help elementary students imprpove some aspects of their reading ability. She arranged for a third grade class od 21 students to follow these activities for an 8-week period. A control classroom of 23 third graders followed the same curriculum without the activities. At the end of the eight weeks,. all students took a Degree of Reading Power (DRP) test, which measures the aspects of reading ability that the treatment is designed to improve."
   ]
  },
  {
   "cell_type": "code",
   "execution_count": 1,
   "id": "f638bc4e-e08f-44d9-acbd-111789c8cc32",
   "metadata": {},
   "outputs": [
    {
     "data": {
      "text/html": [
       "<div>\n",
       "<style scoped>\n",
       "    .dataframe tbody tr th:only-of-type {\n",
       "        vertical-align: middle;\n",
       "    }\n",
       "\n",
       "    .dataframe tbody tr th {\n",
       "        vertical-align: top;\n",
       "    }\n",
       "\n",
       "    .dataframe thead th {\n",
       "        text-align: right;\n",
       "    }\n",
       "</style>\n",
       "<table border=\"1\" class=\"dataframe\">\n",
       "  <thead>\n",
       "    <tr style=\"text-align: right;\">\n",
       "      <th></th>\n",
       "      <th>Treatment</th>\n",
       "      <th>Response</th>\n",
       "    </tr>\n",
       "  </thead>\n",
       "  <tbody>\n",
       "    <tr>\n",
       "      <th>0</th>\n",
       "      <td>Treated</td>\n",
       "      <td>24</td>\n",
       "    </tr>\n",
       "    <tr>\n",
       "      <th>1</th>\n",
       "      <td>Treated</td>\n",
       "      <td>43</td>\n",
       "    </tr>\n",
       "    <tr>\n",
       "      <th>2</th>\n",
       "      <td>Treated</td>\n",
       "      <td>58</td>\n",
       "    </tr>\n",
       "    <tr>\n",
       "      <th>3</th>\n",
       "      <td>Treated</td>\n",
       "      <td>71</td>\n",
       "    </tr>\n",
       "    <tr>\n",
       "      <th>4</th>\n",
       "      <td>Treated</td>\n",
       "      <td>43</td>\n",
       "    </tr>\n",
       "  </tbody>\n",
       "</table>\n",
       "</div>"
      ],
      "text/plain": [
       "  Treatment  Response\n",
       "0   Treated        24\n",
       "1   Treated        43\n",
       "2   Treated        58\n",
       "3   Treated        71\n",
       "4   Treated        43"
      ]
     },
     "execution_count": 1,
     "metadata": {},
     "output_type": "execute_result"
    }
   ],
   "source": [
    "import pandas as pd\n",
    "import numpy as np\n",
    "from empiricaldist import Pmf, Cdf\n",
    "import matplotlib.pyplot as plt\n",
    "\n",
    "df = pd.read_csv('./data/drp_scores.csv', skiprows=21, delimiter=\"\\t\")\n",
    "df.head()"
   ]
  },
  {
   "cell_type": "code",
   "execution_count": 2,
   "id": "a61c1d81-e00a-4cf6-9612-d2407ef3e39c",
   "metadata": {},
   "outputs": [],
   "source": [
    "# group the data by whether they are in the reatment or control group\n",
    "grouped = df.groupby('Treatment')\n",
    "responses = {}\n",
    "\n",
    "for name, group in grouped:\n",
    "    responses[name] = group['Response']"
   ]
  },
  {
   "cell_type": "code",
   "execution_count": 3,
   "id": "57d973c1-019f-4091-94cf-4415260770c8",
   "metadata": {},
   "outputs": [
    {
     "data": {
      "image/png": "[encoded data removed]",
      "text/plain": [
       "<Figure size 432x288 with 1 Axes>"
      ]
     },
     "metadata": {
      "needs_background": "light"
     },
     "output_type": "display_data"
    }
   ],
   "source": [
    "for values in responses.values():\n",
    "    Cdf.from_seq(values).plot()"
   ]
  },
  {
   "cell_type": "markdown",
   "id": "2f6fa0ba-532e-4d86-9171-01182e594c23",
   "metadata": {},
   "source": [
    "So it looks like the treatment group is doing slightly better?\n",
    "\n",
    "The scores are not entirely normally distributed, but close enough. Let's make the assumption of normality, and assume that each is described by a normal distribution with mean $mu$ and standard deviation $sigma$, and go from there.\n",
    "\n",
    "## Estimating Parameters\n",
    "As always, we need a prior distribution for the parameters. Since there are two parameters, it will be a joint distribution. We'll construct it it by choosing marginal distributions for each parameter and computing their outer product.\n",
    "\n",
    "As a simple starting place: assume that the prior distributions for mu and sigma as uniform."
   ]
  },
  {
   "cell_type": "code",
   "execution_count": 4,
   "id": "c8a42da2-3f11-4af7-a022-ccaa464d9246",
   "metadata": {},
   "outputs": [
    {
     "data": {
      "text/plain": [
       "(23,)"
      ]
     },
     "execution_count": 4,
     "metadata": {},
     "output_type": "execute_result"
    }
   ],
   "source": [
    "def make_uniform(qs, name=None, **options):\n",
    "    \"\"\" Make a PMF representing a uniform distribution \"\"\"\n",
    "    pmf = Pmf(1, qs, **options)\n",
    "    pmf.normalize()\n",
    "    if name:\n",
    "        pmf.index.name = name\n",
    "    return pmf\n",
    "\n",
    "# prior distribution for mu\n",
    "qs = np.linspace(20, 80, num=101)\n",
    "prior_mu = make_uniform(qs, name='mean')\n",
    "\n",
    "# prior distribution for sigma\n",
    "qs = np.linspace(5, 30, num=101)\n",
    "prior_sigma = make_uniform(qs, name='std')\n",
    "\n",
    "def make_joint(s1, s2):\n",
    "    \"\"\" \n",
    "    Compute the outer product of two Series\n",
    "    \n",
    "    First series goes across the columns; second series goes down the rows\n",
    "    \n",
    "    Arguments: \n",
    "        s1: Series\n",
    "        s2: Series\n",
    "        \n",
    "    Returns:\n",
    "        DataFrame\n",
    "    \"\"\"\n",
    "    \n",
    "    X, Y = np.meshgrid(s1, s2)\n",
    "    return pd.DataFrame(X * Y, columns=s1.index, index=s2.index)\n",
    "\n",
    "prior = make_joint(prior_mu, prior_sigma)\n",
    "\n",
    "# start by working with the data from the control group\n",
    "data = responses['Control']\n",
    "data.shape"
   ]
  },
  {
   "cell_type": "markdown",
   "id": "21e9029a-7ed6-4d3a-baf7-4c758c4ab259",
   "metadata": {},
   "source": [
    "## Likelihood\n",
    "\n",
    "We would like to know the probability of each score given each combination of values for mu and sigma. We'll do that by making a 3d grid of values of mu on the first axis, sigma on the second, and the score on the third"
   ]
  },
  {
   "cell_type": "code",
   "execution_count": 5,
   "id": "6e7b1187-ef4c-49b1-bf12-8d32d8769cbf",
   "metadata": {},
   "outputs": [
    {
     "data": {
      "text/plain": [
       "(101, 101, 23)"
      ]
     },
     "execution_count": 5,
     "metadata": {},
     "output_type": "execute_result"
    }
   ],
   "source": [
    "mu_mesh, sigma_mesh, data_mesh = np.meshgrid(prior.columns, prior.index, data)\n",
    "mu_mesh.shape"
   ]
  },
  {
   "cell_type": "code",
   "execution_count": 6,
   "id": "6be5030c-c67f-4afc-a619-08708fb578b5",
   "metadata": {},
   "outputs": [
    {
     "data": {
      "text/plain": [
       "(101, 101, 23)"
      ]
     },
     "execution_count": 6,
     "metadata": {},
     "output_type": "execute_result"
    }
   ],
   "source": [
    "# now we can calculate the probabilities of each score\n",
    "from scipy.stats import norm\n",
    "\n",
    "densities = norm(mu_mesh, sigma_mesh).pdf(data_mesh)\n",
    "densities.shape"
   ]
  },
  {
   "cell_type": "markdown",
   "id": "ac9e9a1e-c066-4a6f-a202-2c663d93ecc0",
   "metadata": {},
   "source": [
    "The result is a 3D array. To compute the likelihoods, multiply the densities along axis=2, which is the axis of the data."
   ]
  },
  {
   "cell_type": "code",
   "execution_count": 7,
   "id": "a716167a-9b13-4c7a-8479-b4543d9807c5",
   "metadata": {},
   "outputs": [
    {
     "data": {
      "text/plain": [
       "(101, 101)"
      ]
     },
     "execution_count": 7,
     "metadata": {},
     "output_type": "execute_result"
    }
   ],
   "source": [
    "likelihood = densities.prod(axis=2)\n",
    "likelihood.shape"
   ]
  },
  {
   "cell_type": "markdown",
   "id": "96983e0e-47be-43d2-b6e4-6e1808855514",
   "metadata": {},
   "source": [
    "The result is the probability of the entirety of the set of data, given each combination of mu and sigma."
   ]
  },
  {
   "cell_type": "code",
   "execution_count": 8,
   "id": "418c1f4c-939d-46b2-9886-4f31992a1a49",
   "metadata": {},
   "outputs": [
    {
     "data": {
      "text/plain": [
       "(101, 101)"
      ]
     },
     "execution_count": 8,
     "metadata": {},
     "output_type": "execute_result"
    }
   ],
   "source": [
    "from utils import normalize\n",
    "\n",
    "posterior = prior * likelihood\n",
    "normalize(posterior)\n",
    "posterior.shape"
   ]
  },
  {
   "cell_type": "markdown",
   "id": "77095141-9463-4d02-9d13-943d5392196f",
   "metadata": {},
   "source": [
    "The result is a joint distribution representing the joint posterior distribution."
   ]
  },
  {
   "cell_type": "code",
   "execution_count": 9,
   "id": "129d7a80-6239-4fad-9f71-b1fe7b01ddfc",
   "metadata": {},
   "outputs": [
    {
     "data": {
      "image/png": "[encoded data removed]",
      "text/plain": [
       "<Figure size 1728x1152 with 1 Axes>"
      ]
     },
     "metadata": {
      "needs_background": "light"
     },
     "output_type": "display_data"
    }
   ],
   "source": [
    "# Let's encapsulate all of this:\n",
    "def update_norm(prior, data):\n",
    "    \"\"\" Update the prior based on the data \"\"\"\n",
    "    mu_mesh, sigma_mesh, data_mesh = np.meshgrid(prior.columns, prior.index, data)\n",
    "    \n",
    "    densities = norm(mu_mesh, sigma_mesh).pdf(data)\n",
    "    likelihood = densities.prod(axis=2)\n",
    "    \n",
    "    posterior = prior * likelihood\n",
    "    normalize(posterior)\n",
    "    return posterior\n",
    "\n",
    "# Now let's update the control and treatment groups:\n",
    "data = responses['Control']\n",
    "posterior_control = update_norm(prior, data)\n",
    "\n",
    "data = responses['Treated']\n",
    "posterior_treated = update_norm(prior, data)\n",
    "\n",
    "from utils import plot_contour\n",
    "\n",
    "fig, ax = plt.subplots()\n",
    "fig.set_size_inches(24, 16)\n",
    "plot_contour(posterior_control)\n",
    "plot_contour(posterior_treated, xlabel=\"Mean (mu)\", ylabel=\"Std (sigma)\")"
   ]
  },
  {
   "cell_type": "markdown",
   "id": "fa08321c-211a-4858-b63d-6e878b2ca009",
   "metadata": {},
   "source": [
    "So from here it looks like the treatment group has a higher mean (bottom axis) and a lower standard deviation (vertical axis)\n",
    "\n",
    "# Posterior Marginal Distributions\n",
    "We can extract the marginal distributions of the means:"
   ]
  },
  {
   "cell_type": "code",
   "execution_count": 10,
   "id": "9c945c4d-3364-48e6-be9f-bd8c50d4ed6c",
   "metadata": {},
   "outputs": [
    {
     "data": {
      "text/plain": [
       "<AxesSubplot:xlabel='mean'>"
      ]
     },
     "execution_count": 10,
     "metadata": {},
     "output_type": "execute_result"
    },
    {
     "data": {
      "image/png": "[encoded data removed]",
      "text/plain": [
       "<Figure size 432x288 with 1 Axes>"
      ]
     },
     "metadata": {
      "needs_background": "light"
     },
     "output_type": "display_data"
    }
   ],
   "source": [
    "from utils import marginal\n",
    "\n",
    "pmf_mean_control = marginal(posterior_control, axis=0)\n",
    "pmf_mean_treated = marginal(posterior_treated, axis=0)\n",
    "\n",
    "pmf_mean_control.plot()\n",
    "pmf_mean_treated.plot()"
   ]
  },
  {
   "cell_type": "markdown",
   "id": "a6d4dd44-4a25-46f3-a73d-b999d22e06d5",
   "metadata": {},
   "source": [
    "Note that around the bounds that we chose, both distributions are basically zero. This is a good indicator that our bounds were OK."
   ]
  },
  {
   "cell_type": "code",
   "execution_count": 11,
   "id": "8082b59c-e043-406c-9afc-301b5c6973fa",
   "metadata": {},
   "outputs": [
    {
     "data": {
      "text/plain": [
       "0.980479025187326"
      ]
     },
     "execution_count": 11,
     "metadata": {},
     "output_type": "execute_result"
    }
   ],
   "source": [
    "Pmf.prob_gt(pmf_mean_treated, pmf_mean_control)"
   ]
  },
  {
   "cell_type": "markdown",
   "id": "34b97bca-b5fa-4bce-8f73-34e47be6aef6",
   "metadata": {},
   "source": [
    "So it looks like there is a 98\\% chance that the mean of the treated group is higher than that of the control group.\n",
    "\n",
    "## Distribution of Differences\n",
    "\n",
    "To quantify themagnitude of the differences between the two groups, we can sub_dist to compute the distribution of the difference:"
   ]
  },
  {
   "cell_type": "code",
   "execution_count": 12,
   "id": "7d5ba6d7-9fa2-4987-9ff9-79a05803a011",
   "metadata": {},
   "outputs": [
    {
     "data": {
      "text/plain": [
       "<AxesSubplot:>"
      ]
     },
     "execution_count": 12,
     "metadata": {},
     "output_type": "execute_result"
    },
    {
     "data": {
      "image/png": "[encoded data removed]",
      "text/plain": [
       "<Figure size 432x288 with 1 Axes>"
      ]
     },
     "metadata": {
      "needs_background": "light"
     },
     "output_type": "display_data"
    }
   ],
   "source": [
    "pmf_diff = Pmf.sub_dist(pmf_mean_treated, pmf_mean_control)\n",
    "pmf_diff.plot()"
   ]
  },
  {
   "cell_type": "markdown",
   "id": "facb6605-1fbc-4751-9654-82272c5eca3b",
   "metadata": {},
   "source": [
    "This is very spiky - we can either plot the CDF or use Kernel Density Estimation to get a smoother estimate"
   ]
  },
  {
   "cell_type": "code",
   "execution_count": 13,
   "id": "a8d4061d-9170-48ce-9469-0a9e0d973ca4",
   "metadata": {},
   "outputs": [
    {
     "data": {
      "text/plain": [
       "<AxesSubplot:>"
      ]
     },
     "execution_count": 13,
     "metadata": {},
     "output_type": "execute_result"
    },
    {
     "data": {
      "image/png": "[encoded data removed]",
      "text/plain": [
       "<Figure size 432x288 with 1 Axes>"
      ]
     },
     "metadata": {
      "needs_background": "light"
     },
     "output_type": "display_data"
    }
   ],
   "source": [
    "cdf_diff = pmf_diff.make_cdf()\n",
    "cdf_diff.plot()"
   ]
  },
  {
   "cell_type": "code",
   "execution_count": 14,
   "id": "8c297db2-0dec-4090-b28c-06a90f586709",
   "metadata": {},
   "outputs": [
    {
     "data": {
      "text/plain": [
       "<AxesSubplot:>"
      ]
     },
     "execution_count": 14,
     "metadata": {},
     "output_type": "execute_result"
    },
    {
     "data": {
      "image/png": "[encoded data removed]",
      "text/plain": [
       "<Figure size 432x288 with 1 Axes>"
      ]
     },
     "metadata": {
      "needs_background": "light"
     },
     "output_type": "display_data"
    }
   ],
   "source": [
    "# Or using KDE\n",
    "from scipy.stats import gaussian_kde\n",
    "\n",
    "def kde_from_pmf(pmf, n=101):\n",
    "    kde = gaussian_kde(pmf.qs, weights=pmf.ps)\n",
    "    qs = np.linspace(pmf.qs.min(), pmf.qs.max(), n)\n",
    "    ps = kde.evaluate(qs)\n",
    "    new_pmf = Pmf(ps, qs)\n",
    "    new_pmf.normalize()\n",
    "    return new_pmf\n",
    "\n",
    "kde_diff = kde_from_pmf(pmf_diff)\n",
    "kde_diff.plot()"
   ]
  },
  {
   "cell_type": "code",
   "execution_count": 15,
   "id": "7e946a93-10ba-4531-81ca-7e3c0b741a67",
   "metadata": {},
   "outputs": [
    {
     "data": {
      "text/plain": [
       "9.954413088940848"
      ]
     },
     "execution_count": 15,
     "metadata": {},
     "output_type": "execute_result"
    }
   ],
   "source": [
    "pmf_diff.mean()"
   ]
  },
  {
   "cell_type": "markdown",
   "id": "bc37cf17-becb-41cf-afe9-c4b41021e94b",
   "metadata": {},
   "source": [
    "So the mean difference seems to be about 10 points on a test for which the mean is 45 - pretty good!"
   ]
  },
  {
   "cell_type": "markdown",
   "id": "8dab3596-c467-47e2-8c90-673595374deb",
   "metadata": {},
   "source": [
    "We can also compute the credible interval for the difference:"
   ]
  },
  {
   "cell_type": "code",
   "execution_count": 16,
   "id": "3a9695eb-ff29-4476-a9d3-f01d067ae825",
   "metadata": {},
   "outputs": [
    {
     "data": {
      "text/plain": [
       "array([ 2.4, 17.4])"
      ]
     },
     "execution_count": 16,
     "metadata": {},
     "output_type": "execute_result"
    }
   ],
   "source": [
    "pmf_diff.credible_interval(0.9)"
   ]
  },
  {
   "cell_type": "markdown",
   "id": "6c877674-9c48-468e-82e3-92709293a157",
   "metadata": {},
   "source": [
    "So again, the interval seems to indicate that the treatment group has a higher score compared to the control group.\n",
    "\n",
    "## Using Summary Statistics\n",
    "\n",
    "In this example, the dataset was pretty small, so the actual computations didn't take too long. However, we did end up computing a 3D array, which for a larger dataset could become unfeasible.\n",
    "\n",
    "We can also run into the problem (with large datasets) that each individual probability is very small (imagine a million datapoints - the probability of any particular one of them is almost surely small!). This can cause problems when using floating-point numbers.\n",
    "\n",
    "An alternative is to compute some summary statistics, and then compute the probability that we would get those summary statistics! \n",
    "\n",
    "For instance, say that we know that $\\mu=42$ and $\\sigma=17$. Now suppose that we draw a sample from the population with $n=20$, and find that the population mean $m=41$ and the population standard deviation $s=18$. These values are pretty close. To compute the likelihood of getting these values, we are going to rely on some facts:\n",
    "- Given $\\mu$ and $\\sigma$, $m\\sim N(\\mu, \\frac{\\sigma}{\\sqrt{n}})$.\n",
    "- The distribution of $s$ is more complicated, but if we compute the transform $t = \\frac{ns^2}{\\sigma^2}$, the distribution of $t$ is chi-squared with parameter $n-1$.\n",
    "- According to Basu's Theorem, $m$ and $s$ are indenpendent"
   ]
  },
  {
   "cell_type": "code",
   "execution_count": 17,
   "id": "cde4cbe8-01b5-4a92-b8de-11de54342854",
   "metadata": {},
   "outputs": [
    {
     "data": {
      "text/plain": [
       "0.10137915138497372"
      ]
     },
     "execution_count": 17,
     "metadata": {},
     "output_type": "execute_result"
    }
   ],
   "source": [
    "# population parameters\n",
    "mu = 42\n",
    "sigma = 17\n",
    "\n",
    "# sample parameters\n",
    "n = 20\n",
    "m = 41\n",
    "s = 18\n",
    "\n",
    "# the sampling distribution of the sample mean\n",
    "dist_m = norm(mu, sigma / np.sqrt(n))\n",
    "\n",
    "# calculate the likelihood of the observed sample mean\n",
    "like1 = dist_m.pdf(m)\n",
    "like1"
   ]
  },
  {
   "cell_type": "markdown",
   "id": "9e52baef-8903-499f-811b-074b9791214f",
   "metadata": {},
   "source": [
    "Now let's compute the likelihood of the observed value of sigma:"
   ]
  },
  {
   "cell_type": "code",
   "execution_count": 18,
   "id": "f50c241f-e1c3-4b18-8fb4-eb80e0998213",
   "metadata": {},
   "outputs": [
    {
     "data": {
      "text/plain": [
       "22.422145328719722"
      ]
     },
     "execution_count": 18,
     "metadata": {},
     "output_type": "execute_result"
    }
   ],
   "source": [
    "t = n * s ** 2 / sigma ** 2\n",
    "t"
   ]
  },
  {
   "cell_type": "code",
   "execution_count": 19,
   "id": "68565f48-2320-4e38-8ce2-f556dc70f8f3",
   "metadata": {},
   "outputs": [
    {
     "data": {
      "text/plain": [
       "0.04736427909437004"
      ]
     },
     "execution_count": 19,
     "metadata": {},
     "output_type": "execute_result"
    }
   ],
   "source": [
    "from scipy.stats import chi2\n",
    "\n",
    "dist_s = chi2(n - 1)\n",
    "like2 = dist_s.pdf(t)\n",
    "like2"
   ]
  },
  {
   "cell_type": "code",
   "execution_count": 20,
   "id": "7deb4aca-fbac-4bad-9145-4509cd54350d",
   "metadata": {},
   "outputs": [
    {
     "data": {
      "text/plain": [
       "0.004801750420548287"
      ]
     },
     "execution_count": 20,
     "metadata": {},
     "output_type": "execute_result"
    }
   ],
   "source": [
    "# because m and s are independent:\n",
    "like = like1 * like2\n",
    "like"
   ]
  },
  {
   "cell_type": "markdown",
   "id": "299dd6d7-9a25-4d48-a927-933d20d510ec",
   "metadata": {},
   "source": [
    "Now we can compute the likelihood of the data for any value of $\\mu$ and $\\sigma$, which we'll use in the next section to do the update\n",
    "\n",
    "## Update with Summary Statistics\n",
    "\n",
    "Let's do the update. First we need to compute the summary statistics for the two populations:"
   ]
  },
  {
   "cell_type": "code",
   "execution_count": 21,
   "id": "a9e01558-1c29-4353-a32d-d35acffb0441",
   "metadata": {},
   "outputs": [
    {
     "data": {
      "text/plain": [
       "{'Control': (23, 41.52173913043478, 17.148733229699484),\n",
       " 'Treated': (21, 51.476190476190474, 11.00735684721381)}"
      ]
     },
     "execution_count": 21,
     "metadata": {},
     "output_type": "execute_result"
    }
   ],
   "source": [
    "summary = dict()\n",
    "\n",
    "# the value for each is a tuple (n, m, s) for each group\n",
    "for name, response in responses.items():\n",
    "    summary[name] = len(response), response.mean(), response.std()\n",
    "summary"
   ]
  },
  {
   "cell_type": "code",
   "execution_count": 22,
   "id": "f572544c-d3f3-4b33-98b4-e5a375c7b626",
   "metadata": {},
   "outputs": [
    {
     "data": {
      "text/plain": [
       "(101, 101)"
      ]
     },
     "execution_count": 22,
     "metadata": {},
     "output_type": "execute_result"
    }
   ],
   "source": [
    "# Let's do the update for the control group:\n",
    "n, m, s = summary['Control']\n",
    "\n",
    "mus, sigmas = np.meshgrid(prior.columns, prior.index)\n",
    "mus.shape"
   ]
  },
  {
   "cell_type": "code",
   "execution_count": 23,
   "id": "f14dc354-04c9-4a8d-a208-063419187d59",
   "metadata": {},
   "outputs": [
    {
     "data": {
      "text/plain": [
       "(101, 101)"
      ]
     },
     "execution_count": 23,
     "metadata": {},
     "output_type": "execute_result"
    }
   ],
   "source": [
    "like1 = norm(mus, sigmas / np.sqrt(n)).pdf(m)\n",
    "like1.shape"
   ]
  },
  {
   "cell_type": "code",
   "execution_count": 24,
   "id": "59bb47e5-f8a4-4cc1-a17b-0a6da11f1878",
   "metadata": {},
   "outputs": [
    {
     "data": {
      "text/plain": [
       "(101, 101)"
      ]
     },
     "execution_count": 24,
     "metadata": {},
     "output_type": "execute_result"
    }
   ],
   "source": [
    "ts = n * s ** 2 / sigmas ** 2\n",
    "like2 = chi2(n - 1).pdf(ts)\n",
    "like2.shape"
   ]
  },
  {
   "cell_type": "code",
   "execution_count": 25,
   "id": "48a70af5-5f25-40d3-9b13-763197e39831",
   "metadata": {},
   "outputs": [
    {
     "data": {
      "text/plain": [
       "0.00030965351017402847"
      ]
     },
     "execution_count": 25,
     "metadata": {},
     "output_type": "execute_result"
    }
   ],
   "source": [
    "posterior_control2 = prior * like1 * like2\n",
    "normalize(posterior_control2)"
   ]
  },
  {
   "cell_type": "code",
   "execution_count": 28,
   "id": "4db0de9a-72cb-4096-aac5-5d20ecc95e24",
   "metadata": {},
   "outputs": [
    {
     "data": {
      "image/png": "[encoded data removed]",
      "text/plain": [
       "<Figure size 432x288 with 1 Axes>"
      ]
     },
     "metadata": {
      "needs_background": "light"
     },
     "output_type": "display_data"
    }
   ],
   "source": [
    "# Now we can put all of this into a function\n",
    "def update_norm_summary(prior, data):\n",
    "    \"\"\" Update the normal distribution using summary statistics \"\"\"\n",
    "    n, m, s = data\n",
    "    mu_mesh, sigma_mesh = np.meshgrid(prior.columns, prior.index)\n",
    "    \n",
    "    like1 = norm(mu_mesh, sigma_mesh / np.sqrt(n)).pdf(m)\n",
    "    like2 = chi2(n - 1).pdf(n * s ** 2 / sigma_mesh ** 2)\n",
    "    \n",
    "    posterior = prior * like1 * like2\n",
    "    normalize(posterior)\n",
    "    \n",
    "    return posterior\n",
    "\n",
    "data = summary['Treated']\n",
    "posterior_treated2 = update_norm_summary(prior, data)\n",
    "\n",
    "plot_contour(posterior_treated2)\n",
    "plot_contour(posterior_control2)"
   ]
  },
  {
   "cell_type": "markdown",
   "id": "557078b5-63dd-49ed-aa36-5c788a69625e",
   "metadata": {},
   "source": [
    "If everything had worked, then this would have looked similar to the ones that we computed using the entire dataset. However, they are not quite identical:\n",
    "\n",
    "## Comparing Marginals"
   ]
  },
  {
   "cell_type": "code",
   "execution_count": 29,
   "id": "2f326740-2c11-489a-b30e-7d80a2c2466c",
   "metadata": {},
   "outputs": [
    {
     "data": {
      "text/plain": [
       "<AxesSubplot:xlabel='mean'>"
      ]
     },
     "execution_count": 29,
     "metadata": {},
     "output_type": "execute_result"
    },
    {
     "data": {
      "image/png": "[encoded data removed]",
      "text/plain": [
       "<Figure size 432x288 with 1 Axes>"
      ]
     },
     "metadata": {
      "needs_background": "light"
     },
     "output_type": "display_data"
    }
   ],
   "source": [
    "pmf_mean_control_2 = marginal(posterior_control2, 0)\n",
    "pmf_mean_treated_2 = marginal(posterior_control2, 0)\n",
    "\n",
    "pmf_mean_control_2.plot()\n",
    "pmf_mean_treated_2.plot()\n",
    "pmf_mean_control.plot()\n",
    "pmf_mean_treated.plot()"
   ]
  },
  {
   "cell_type": "markdown",
   "id": "51bc8695-f5df-4b3d-8957-42337852023c",
   "metadata": {},
   "source": [
    "Although it is not quite clear just from this, in both cases the plots for the ones using just the summary statistics are slightly fatter and wider than the ones computed using the actual data, as might be expected from the fact that we have thrown away some data (namely, the actual shape of the distribution; we assumed that it was normal).\n",
    "\n",
    "## Exercises"
   ]
  },
  {
   "cell_type": "markdown",
   "id": "905fff17-2364-4842-ac0b-e5fc2864c817",
   "metadata": {},
   "source": [
    "### Exercise 13-1\n",
    "> Looking at the posterior joint distribution of $\\mu$ and $\\sigma$, it looks like the standard deviation of the treated group might be lower; that would suggest that the treatement is more effective for lower-scoring students. However, we should probably check this.\n",
    ">\n",
    "> Let's estimate the size of the difference and see whether it might actually be zero,\n",
    ">\n",
    "> Extract the marginal posterior distributions of sigma for the two groups. What is the probability that the standard deviation is higher in the control group?\n",
    ">\n",
    "> Compute the distribution of the difference in sigma between the two groups. What is the means of the difference? What is the 90\\% credible interval?"
   ]
  },
  {
   "cell_type": "markdown",
   "id": "36322e7c-974e-40d4-b879-b95a281698db",
   "metadata": {},
   "source": [
    "### Solution 13-1"
   ]
  },
  {
   "cell_type": "code",
   "execution_count": null,
   "id": "282370ba-a5a7-4d59-9007-ed2f4e69fe58",
   "metadata": {},
   "outputs": [],
   "source": []
  },
  {
   "cell_type": "markdown",
   "id": "4cc9d136-9adf-49db-a202-757d289a32b6",
   "metadata": {},
   "source": [
    "### Exercise 13-2"
   ]
  },
  {
   "cell_type": "markdown",
   "id": "74649e20-1311-4383-a126-586b53281a5b",
   "metadata": {},
   "source": [
    "> An effect size is a statistic intended to quantify the magnitude of an effect. If the effect is a difference in means between two groups, a common way to quantify it is Cohen's effect size, $d$. If the parameters for Group 1 are ($\\mu_1$, $\\sigma_1$) and for Group 2 are $(\\mu_2, \\sigma_2)$, then\n",
    "$$\n",
    "d = \\frac{\\mu_1 - \\mu_2}{\\frac{\\sigma_1 + \\sigma_2}{2}}\n",
    "$$\n",
    ">\n",
    ">Use the joint posterior distribution for the two groups to compute the posterior distribution for Cohen's effect size."
   ]
  },
  {
   "cell_type": "markdown",
   "id": "46d32845-9ff2-46fa-a217-529f26d53ac4",
   "metadata": {},
   "source": [
    "### Solution 13-2"
   ]
  },
  {
   "cell_type": "code",
   "execution_count": null,
   "id": "c48c1bef-4d4c-4507-83a7-dd99ea612251",
   "metadata": {},
   "outputs": [],
   "source": []
  },
  {
   "cell_type": "markdown",
   "id": "9896f35f-275d-4cab-aecb-03f2d6c4f566",
   "metadata": {},
   "source": [
    "### Exercise 13-3\n",
    "> Inspired by a question asked on Reddit.\n",
    ">\n",
    "> An instructor announces the results of an exam like this: \"The average score was 81. Out of 25 students, 5 got more than 90 and no one failed (got less than 60).\" Based on this, what do you think the standard deviation was?\n",
    "> \n",
    "> You can assume that the distribtion of scores is approximately normal. For simplicity, assume that the sample mean 81 is actually the population mean, so we only have to estimate sigma.\n",
    ">\n",
    "> Hint: to compute the probability of a score greater than 90, use norm.sf, which computes the survival function ($1 - Cdf(x)$)"
   ]
  },
  {
   "cell_type": "markdown",
   "id": "23a6e5ea-2a1e-4fd3-bae5-3972205ab6ed",
   "metadata": {},
   "source": [
    "### Solution 13-3"
   ]
  },
  {
   "cell_type": "code",
   "execution_count": null,
   "id": "326a9022-efad-48fe-88e6-ffe6d5f8889a",
   "metadata": {},
   "outputs": [],
   "source": []
  },
  {
   "cell_type": "markdown",
   "id": "d6f39bcf-3a7a-4b57-89c5-2e59cf0db06f",
   "metadata": {},
   "source": [
    "### Exercise 13-4\n",
    "> The Variability Hypothesis is the observation that many physical traits are more variable among males than among females.\n",
    ">\n",
    "> Let's look at te distribution for heights of men and women in the US to see who is more variable.\n",
    ">\n",
    "> I used 2018 data from the CDC's Behavioural Risk Factor Surveillance System (BRFSS), which includes self-reported heights from 154,407 men and 254,722 women.\n",
    ">\n",
    "> Results:\n",
    "> - The average height for men is 178cm; for women it is 163cm.\n",
    "> - For men, the standard deviation is 8.27cm; for women, 7.75.\n",
    ">\n",
    "> However, these are in absolute terms. It is more meaningful to compute the coefficient of variation, (CV), which is the standard deviation divided by the mean. It is a dimensionless measure of variability relative to scale.\n",
    ">\n",
    "> For men, CV is 00465; for women, 0.0475. The coefficient of variation is higher for women, which would seem to be evidence against the variability hypothesis. But we can use Bayesian statistics to make this more precise. \n",
    ">\n",
    "> Use these summary statistics to compute the posterior distribution of mu and sigma for the distributions of male and female height. Use Pmf.div_dist to compute posterior distribtions of CV. Based on this dataset and the assumption that the distribution of heights is normal, what is the probability the the coefficient of variation is higher for men? What is the most likely ratio of the CVs and what is the 90% credible interval?"
   ]
  },
  {
   "cell_type": "code",
   "execution_count": null,
   "id": "6b01608a-66c8-4078-b0f3-c75473cb95b9",
   "metadata": {},
   "outputs": [],
   "source": []
  }
 ],
 "metadata": {
  "kernelspec": {
   "display_name": "Python 3 (ipykernel)",
   "language": "python",
   "name": "python3"
  },
  "language_info": {
   "codemirror_mode": {
    "name": "ipython",
    "version": 3
   },
   "file_extension": ".py",
   "mimetype": "text/x-python",
   "name": "python",
   "nbconvert_exporter": "python",
   "pygments_lexer": "ipython3",
   "version": "3.8.10"
  }
 },
 "nbformat": 4,
 "nbformat_minor": 5
}
