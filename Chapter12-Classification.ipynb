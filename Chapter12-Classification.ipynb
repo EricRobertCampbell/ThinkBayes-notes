{
 "cells": [
  {
   "cell_type": "code",
   "execution_count": 1,
   "id": "35dcee7b-1d88-4a1b-af03-bfeeb6e4b74d",
   "metadata": {},
   "outputs": [],
   "source": [
    "# Chapter 12 - Classification"
   ]
  },
  {
   "cell_type": "code",
   "execution_count": null,
   "id": "afe4b566-60ae-4b52-ad8e-27fd22cdffae",
   "metadata": {},
   "outputs": [],
   "source": []
  }
 ],
 "metadata": {
  "kernelspec": {
   "display_name": "Python 3 (ipykernel)",
   "language": "python",
   "name": "python3"
  },
  "language_info": {
   "codemirror_mode": {
    "name": "ipython",
    "version": 3
   },
   "file_extension": ".py",
   "mimetype": "text/x-python",
   "name": "python",
   "nbconvert_exporter": "python",
   "pygments_lexer": "ipython3",
   "version": "3.8.10"
  }
 },
 "nbformat": 4,
 "nbformat_minor": 5
}
