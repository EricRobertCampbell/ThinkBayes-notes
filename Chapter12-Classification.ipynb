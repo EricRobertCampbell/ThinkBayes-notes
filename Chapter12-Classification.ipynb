{
 "cells": [
  {
   "cell_type": "markdown",
   "id": "8414d1f0-4da2-4dc5-a2d0-0372f137b35a",
   "metadata": {},
   "source": [
    "# Chapter 12 - Classification\n",
    "\n",
    "- Apparently made famous by Bayesian spamn filters"
   ]
  },
  {
   "cell_type": "code",
   "execution_count": 1,
   "id": "afe4b566-60ae-4b52-ad8e-27fd22cdffae",
   "metadata": {},
   "outputs": [
    {
     "data": {
      "text/plain": [
       "(344, 17)"
      ]
     },
     "execution_count": 1,
     "metadata": {},
     "output_type": "execute_result"
    }
   ],
   "source": [
    "import pandas as pd\n",
    "import numpy as np\n",
    "import matplotlib.pyplot as plt\n",
    "from empiricaldist import Cdf\n",
    "\n",
    "df = pd.read_csv('data/penguins_raw.csv')\n",
    "df.shape"
   ]
  },
  {
   "cell_type": "code",
   "execution_count": 2,
   "id": "2a97d8ed-99c9-4e2f-9c04-7db724881614",
   "metadata": {},
   "outputs": [
    {
     "data": {
      "text/html": [
       "<div>\n",
       "<style scoped>\n",
       "    .dataframe tbody tr th:only-of-type {\n",
       "        vertical-align: middle;\n",
       "    }\n",
       "\n",
       "    .dataframe tbody tr th {\n",
       "        vertical-align: top;\n",
       "    }\n",
       "\n",
       "    .dataframe thead th {\n",
       "        text-align: right;\n",
       "    }\n",
       "</style>\n",
       "<table border=\"1\" class=\"dataframe\">\n",
       "  <thead>\n",
       "    <tr style=\"text-align: right;\">\n",
       "      <th></th>\n",
       "      <th>studyName</th>\n",
       "      <th>Sample Number</th>\n",
       "      <th>Species</th>\n",
       "      <th>Region</th>\n",
       "      <th>Island</th>\n",
       "      <th>Stage</th>\n",
       "      <th>Individual ID</th>\n",
       "      <th>Clutch Completion</th>\n",
       "      <th>Date Egg</th>\n",
       "      <th>Culmen Length (mm)</th>\n",
       "      <th>Culmen Depth (mm)</th>\n",
       "      <th>Flipper Length (mm)</th>\n",
       "      <th>Body Mass (g)</th>\n",
       "      <th>Sex</th>\n",
       "      <th>Delta 15 N (o/oo)</th>\n",
       "      <th>Delta 13 C (o/oo)</th>\n",
       "      <th>Comments</th>\n",
       "    </tr>\n",
       "  </thead>\n",
       "  <tbody>\n",
       "    <tr>\n",
       "      <th>0</th>\n",
       "      <td>PAL0708</td>\n",
       "      <td>1</td>\n",
       "      <td>Adelie Penguin (Pygoscelis adeliae)</td>\n",
       "      <td>Anvers</td>\n",
       "      <td>Torgersen</td>\n",
       "      <td>Adult, 1 Egg Stage</td>\n",
       "      <td>N1A1</td>\n",
       "      <td>Yes</td>\n",
       "      <td>2007-11-11</td>\n",
       "      <td>39.1</td>\n",
       "      <td>18.7</td>\n",
       "      <td>181.0</td>\n",
       "      <td>3750.0</td>\n",
       "      <td>MALE</td>\n",
       "      <td>NaN</td>\n",
       "      <td>NaN</td>\n",
       "      <td>Not enough blood for isotopes.</td>\n",
       "    </tr>\n",
       "    <tr>\n",
       "      <th>1</th>\n",
       "      <td>PAL0708</td>\n",
       "      <td>2</td>\n",
       "      <td>Adelie Penguin (Pygoscelis adeliae)</td>\n",
       "      <td>Anvers</td>\n",
       "      <td>Torgersen</td>\n",
       "      <td>Adult, 1 Egg Stage</td>\n",
       "      <td>N1A2</td>\n",
       "      <td>Yes</td>\n",
       "      <td>2007-11-11</td>\n",
       "      <td>39.5</td>\n",
       "      <td>17.4</td>\n",
       "      <td>186.0</td>\n",
       "      <td>3800.0</td>\n",
       "      <td>FEMALE</td>\n",
       "      <td>8.94956</td>\n",
       "      <td>-24.69454</td>\n",
       "      <td>NaN</td>\n",
       "    </tr>\n",
       "    <tr>\n",
       "      <th>2</th>\n",
       "      <td>PAL0708</td>\n",
       "      <td>3</td>\n",
       "      <td>Adelie Penguin (Pygoscelis adeliae)</td>\n",
       "      <td>Anvers</td>\n",
       "      <td>Torgersen</td>\n",
       "      <td>Adult, 1 Egg Stage</td>\n",
       "      <td>N2A1</td>\n",
       "      <td>Yes</td>\n",
       "      <td>2007-11-16</td>\n",
       "      <td>40.3</td>\n",
       "      <td>18.0</td>\n",
       "      <td>195.0</td>\n",
       "      <td>3250.0</td>\n",
       "      <td>FEMALE</td>\n",
       "      <td>8.36821</td>\n",
       "      <td>-25.33302</td>\n",
       "      <td>NaN</td>\n",
       "    </tr>\n",
       "    <tr>\n",
       "      <th>3</th>\n",
       "      <td>PAL0708</td>\n",
       "      <td>4</td>\n",
       "      <td>Adelie Penguin (Pygoscelis adeliae)</td>\n",
       "      <td>Anvers</td>\n",
       "      <td>Torgersen</td>\n",
       "      <td>Adult, 1 Egg Stage</td>\n",
       "      <td>N2A2</td>\n",
       "      <td>Yes</td>\n",
       "      <td>2007-11-16</td>\n",
       "      <td>NaN</td>\n",
       "      <td>NaN</td>\n",
       "      <td>NaN</td>\n",
       "      <td>NaN</td>\n",
       "      <td>NaN</td>\n",
       "      <td>NaN</td>\n",
       "      <td>NaN</td>\n",
       "      <td>Adult not sampled.</td>\n",
       "    </tr>\n",
       "    <tr>\n",
       "      <th>4</th>\n",
       "      <td>PAL0708</td>\n",
       "      <td>5</td>\n",
       "      <td>Adelie Penguin (Pygoscelis adeliae)</td>\n",
       "      <td>Anvers</td>\n",
       "      <td>Torgersen</td>\n",
       "      <td>Adult, 1 Egg Stage</td>\n",
       "      <td>N3A1</td>\n",
       "      <td>Yes</td>\n",
       "      <td>2007-11-16</td>\n",
       "      <td>36.7</td>\n",
       "      <td>19.3</td>\n",
       "      <td>193.0</td>\n",
       "      <td>3450.0</td>\n",
       "      <td>FEMALE</td>\n",
       "      <td>8.76651</td>\n",
       "      <td>-25.32426</td>\n",
       "      <td>NaN</td>\n",
       "    </tr>\n",
       "  </tbody>\n",
       "</table>\n",
       "</div>"
      ],
      "text/plain": [
       "  studyName  Sample Number                              Species  Region  \\\n",
       "0   PAL0708              1  Adelie Penguin (Pygoscelis adeliae)  Anvers   \n",
       "1   PAL0708              2  Adelie Penguin (Pygoscelis adeliae)  Anvers   \n",
       "2   PAL0708              3  Adelie Penguin (Pygoscelis adeliae)  Anvers   \n",
       "3   PAL0708              4  Adelie Penguin (Pygoscelis adeliae)  Anvers   \n",
       "4   PAL0708              5  Adelie Penguin (Pygoscelis adeliae)  Anvers   \n",
       "\n",
       "      Island               Stage Individual ID Clutch Completion    Date Egg  \\\n",
       "0  Torgersen  Adult, 1 Egg Stage          N1A1               Yes  2007-11-11   \n",
       "1  Torgersen  Adult, 1 Egg Stage          N1A2               Yes  2007-11-11   \n",
       "2  Torgersen  Adult, 1 Egg Stage          N2A1               Yes  2007-11-16   \n",
       "3  Torgersen  Adult, 1 Egg Stage          N2A2               Yes  2007-11-16   \n",
       "4  Torgersen  Adult, 1 Egg Stage          N3A1               Yes  2007-11-16   \n",
       "\n",
       "   Culmen Length (mm)  Culmen Depth (mm)  Flipper Length (mm)  Body Mass (g)  \\\n",
       "0                39.1               18.7                181.0         3750.0   \n",
       "1                39.5               17.4                186.0         3800.0   \n",
       "2                40.3               18.0                195.0         3250.0   \n",
       "3                 NaN                NaN                  NaN            NaN   \n",
       "4                36.7               19.3                193.0         3450.0   \n",
       "\n",
       "      Sex  Delta 15 N (o/oo)  Delta 13 C (o/oo)  \\\n",
       "0    MALE                NaN                NaN   \n",
       "1  FEMALE            8.94956          -24.69454   \n",
       "2  FEMALE            8.36821          -25.33302   \n",
       "3     NaN                NaN                NaN   \n",
       "4  FEMALE            8.76651          -25.32426   \n",
       "\n",
       "                         Comments  \n",
       "0  Not enough blood for isotopes.  \n",
       "1                             NaN  \n",
       "2                             NaN  \n",
       "3              Adult not sampled.  \n",
       "4                             NaN  "
      ]
     },
     "execution_count": 2,
     "metadata": {},
     "output_type": "execute_result"
    }
   ],
   "source": [
    "df.head()"
   ]
  },
  {
   "cell_type": "markdown",
   "id": "5590b7c4-2216-4709-a666-61a5644f70ef",
   "metadata": {},
   "source": [
    "We'll use the following measurements when calssifying:\n",
    "- Body mass (g)\n",
    "- Flipper length (mm)\n",
    "- Culmen length (mm)\n",
    "- Culmen depth (mm)\n",
    "\n",
    "(The culmen is the top bit of the beak)"
   ]
  },
  {
   "cell_type": "code",
   "execution_count": 3,
   "id": "0a0f83cf-a8d4-4d54-ad17-c408b4478b34",
   "metadata": {},
   "outputs": [],
   "source": [
    "def make_cdf_map(df, colname, by=\"Species\"):\n",
    "    \"\"\" Returns a dictionary indexed by the species name whose value is a cdf \"\"\"\n",
    "    cdf_map = dict()\n",
    "    grouped = df.groupby(by)[colname]\n",
    "    for species, group in grouped:\n",
    "        cdf_map[species] = Cdf.from_seq(group, name=species)\n",
    "    return cdf_map\n",
    "\n",
    "culmen_length_cdf_map = make_cdf_map(df, \"Culmen Length (mm)\")"
   ]
  },
  {
   "cell_type": "code",
   "execution_count": 4,
   "id": "ae54b45a-3356-48c2-963a-0275bdf3041a",
   "metadata": {},
   "outputs": [
    {
     "data": {
      "image/png": "[encoded data removed]",
      "text/plain": [
       "<Figure size 432x288 with 1 Axes>"
      ]
     },
     "metadata": {
      "needs_background": "light"
     },
     "output_type": "display_data"
    }
   ],
   "source": [
    "for cdf in culmen_length_cdf_map.values():\n",
    "    cdf.plot()"
   ]
  },
  {
   "cell_type": "markdown",
   "id": "95e5e033-479c-4191-8d59-fcaa2009633e",
   "metadata": {},
   "source": [
    "Here, we can see that the Culmen Length is pretty good for identifying Adelie penguins, but not good for Chinstraps or Gentoos"
   ]
  },
  {
   "cell_type": "code",
   "execution_count": 5,
   "id": "da814011-389c-4849-a532-82f6f0312c03",
   "metadata": {},
   "outputs": [
    {
     "data": {
      "image/png": "[encoded data removed]",
      "text/plain": [
       "<Figure size 432x288 with 1 Axes>"
      ]
     },
     "metadata": {
      "needs_background": "light"
     },
     "output_type": "display_data"
    }
   ],
   "source": [
    "flipper_length_cdf_map = make_cdf_map(df, \"Flipper Length (mm)\")\n",
    "for cdf in flipper_length_cdf_map.values():\n",
    "    cdf.plot()"
   ]
  },
  {
   "cell_type": "markdown",
   "id": "c1490b15-5206-4018-bd17-3bc15fe1cf1b",
   "metadata": {},
   "source": [
    "From the flipper length, we can distinguish Gentoos, but not the others!\n",
    "\n",
    "But wait - that means that by combining the measurements of culmen depth and flipper length, we should be able to get a pretty good fix on what species a given individual belongs to!\n",
    "\n",
    "## Normal Models\n",
    "\n",
    "We'll use those features to try to classify the penguins. We'll proceed in the usual way:\n",
    "1. Define a prior distribution with the three possible species and a prior probability for each\n",
    "1. Compute the likelihood of the data for each hypothesis\n",
    "1. Compute the posterior probability for each species\n",
    "\n",
    "To compute the likelihood of the data for each species, we'll use the available data to estimate the parameters for a normal distribution for each species."
   ]
  },
  {
   "cell_type": "code",
   "execution_count": 6,
   "id": "b8527abd-2edf-4cc7-ab5f-1b6b44e95b38",
   "metadata": {},
   "outputs": [],
   "source": [
    "from scipy.stats import norm\n",
    "\n",
    "def make_norm_map(df, colname, by=\"Species\"):\n",
    "    \"\"\" Creates a map whose keys are the species and whose values are the normal distribution approximating that attribute for that species\"\"\"\n",
    "    norm_map = dict()\n",
    "    grouped = df.groupby(by)[colname]\n",
    "    for species, group in grouped:\n",
    "        mean = group.mean()\n",
    "        std = group.std()\n",
    "        norm_map[species] = norm(mean, std)\n",
    "    return norm_map"
   ]
  },
  {
   "cell_type": "markdown",
   "id": "6f1ef7e4-758f-4246-ae2a-35fc70a18128",
   "metadata": {},
   "source": [
    "Now suppose we measure the flipper length of a penguin to be 193 cm. What is the probability of each measurement for each speciesm"
   ]
  },
  {
   "cell_type": "code",
   "execution_count": 7,
   "id": "2738b17a-1329-4913-82e6-1f105d9e660d",
   "metadata": {},
   "outputs": [
    {
     "data": {
      "text/plain": [
       "dict_keys(['Adelie Penguin (Pygoscelis adeliae)', 'Chinstrap penguin (Pygoscelis antarctica)', 'Gentoo penguin (Pygoscelis papua)'])"
      ]
     },
     "execution_count": 7,
     "metadata": {},
     "output_type": "execute_result"
    }
   ],
   "source": [
    "flipper_map = make_norm_map(df, 'Flipper Length (mm)')\n",
    "\n",
    "data = 193\n",
    "hypos = flipper_map.keys()\n",
    "hypos"
   ]
  },
  {
   "cell_type": "code",
   "execution_count": 8,
   "id": "4b3839df-43e1-4bd8-9f64-b12c49ce0f37",
   "metadata": {},
   "outputs": [
    {
     "data": {
      "text/plain": [
       "[0.054732511875530694, 0.05172135615888162, 5.8660453661990634e-05]"
      ]
     },
     "execution_count": 8,
     "metadata": {},
     "output_type": "execute_result"
    }
   ],
   "source": [
    "likelihood = [ flipper_map[hypo].pdf(data) for hypo in hypos]\n",
    "likelihood"
   ]
  },
  {
   "cell_type": "markdown",
   "id": "e7d9fe0b-38f8-4fba-aef8-41c837739d63",
   "metadata": {},
   "source": [
    "## The Update"
   ]
  },
  {
   "cell_type": "code",
   "execution_count": 9,
   "id": "585d6272-3850-4cfc-966a-25b1a010b388",
   "metadata": {},
   "outputs": [
    {
     "data": {
      "text/html": [
       "<div>\n",
       "<style scoped>\n",
       "    .dataframe tbody tr th:only-of-type {\n",
       "        vertical-align: middle;\n",
       "    }\n",
       "\n",
       "    .dataframe tbody tr th {\n",
       "        vertical-align: top;\n",
       "    }\n",
       "\n",
       "    .dataframe thead th {\n",
       "        text-align: right;\n",
       "    }\n",
       "</style>\n",
       "<table border=\"1\" class=\"dataframe\">\n",
       "  <thead>\n",
       "    <tr style=\"text-align: right;\">\n",
       "      <th></th>\n",
       "      <th>probs</th>\n",
       "    </tr>\n",
       "  </thead>\n",
       "  <tbody>\n",
       "    <tr>\n",
       "      <th>Adelie Penguin (Pygoscelis adeliae)</th>\n",
       "      <td>0.333333</td>\n",
       "    </tr>\n",
       "    <tr>\n",
       "      <th>Chinstrap penguin (Pygoscelis antarctica)</th>\n",
       "      <td>0.333333</td>\n",
       "    </tr>\n",
       "    <tr>\n",
       "      <th>Gentoo penguin (Pygoscelis papua)</th>\n",
       "      <td>0.333333</td>\n",
       "    </tr>\n",
       "  </tbody>\n",
       "</table>\n",
       "</div>"
      ],
      "text/plain": [
       "Adelie Penguin (Pygoscelis adeliae)          0.333333\n",
       "Chinstrap penguin (Pygoscelis antarctica)    0.333333\n",
       "Gentoo penguin (Pygoscelis papua)            0.333333\n",
       "Name: , dtype: float64"
      ]
     },
     "execution_count": 9,
     "metadata": {},
     "output_type": "execute_result"
    }
   ],
   "source": [
    "from empiricaldist import Pmf\n",
    "\n",
    "prior = Pmf(1/3, hypos)\n",
    "prior"
   ]
  },
  {
   "cell_type": "code",
   "execution_count": 10,
   "id": "997a5951-9793-41d7-a89d-ae864eebb5fc",
   "metadata": {},
   "outputs": [
    {
     "data": {
      "text/html": [
       "<div>\n",
       "<style scoped>\n",
       "    .dataframe tbody tr th:only-of-type {\n",
       "        vertical-align: middle;\n",
       "    }\n",
       "\n",
       "    .dataframe tbody tr th {\n",
       "        vertical-align: top;\n",
       "    }\n",
       "\n",
       "    .dataframe thead th {\n",
       "        text-align: right;\n",
       "    }\n",
       "</style>\n",
       "<table border=\"1\" class=\"dataframe\">\n",
       "  <thead>\n",
       "    <tr style=\"text-align: right;\">\n",
       "      <th></th>\n",
       "      <th>probs</th>\n",
       "    </tr>\n",
       "  </thead>\n",
       "  <tbody>\n",
       "    <tr>\n",
       "      <th>Adelie Penguin (Pygoscelis adeliae)</th>\n",
       "      <td>0.513860</td>\n",
       "    </tr>\n",
       "    <tr>\n",
       "      <th>Chinstrap penguin (Pygoscelis antarctica)</th>\n",
       "      <td>0.485589</td>\n",
       "    </tr>\n",
       "    <tr>\n",
       "      <th>Gentoo penguin (Pygoscelis papua)</th>\n",
       "      <td>0.000551</td>\n",
       "    </tr>\n",
       "  </tbody>\n",
       "</table>\n",
       "</div>"
      ],
      "text/plain": [
       "Adelie Penguin (Pygoscelis adeliae)          0.513860\n",
       "Chinstrap penguin (Pygoscelis antarctica)    0.485589\n",
       "Gentoo penguin (Pygoscelis papua)            0.000551\n",
       "Name: , dtype: float64"
      ]
     },
     "execution_count": 10,
     "metadata": {},
     "output_type": "execute_result"
    }
   ],
   "source": [
    "posterior = prior * likelihood\n",
    "posterior.normalize()\n",
    "posterior"
   ]
  },
  {
   "cell_type": "markdown",
   "id": "cdccdb5b-0c0d-454d-a61a-bf393510f0fe",
   "metadata": {},
   "source": [
    "So a penguin with a flipper that is 193mm long is about equally likeliy to be an Adelie of Chinstrap, but is unlikely to be a Gentoo"
   ]
  },
  {
   "cell_type": "code",
   "execution_count": 11,
   "id": "7ee0817b-e81f-4531-b6ec-c3626cf45144",
   "metadata": {},
   "outputs": [
    {
     "data": {
      "text/html": [
       "<div>\n",
       "<style scoped>\n",
       "    .dataframe tbody tr th:only-of-type {\n",
       "        vertical-align: middle;\n",
       "    }\n",
       "\n",
       "    .dataframe tbody tr th {\n",
       "        vertical-align: top;\n",
       "    }\n",
       "\n",
       "    .dataframe thead th {\n",
       "        text-align: right;\n",
       "    }\n",
       "</style>\n",
       "<table border=\"1\" class=\"dataframe\">\n",
       "  <thead>\n",
       "    <tr style=\"text-align: right;\">\n",
       "      <th></th>\n",
       "      <th>probs</th>\n",
       "    </tr>\n",
       "  </thead>\n",
       "  <tbody>\n",
       "    <tr>\n",
       "      <th>Adelie Penguin (Pygoscelis adeliae)</th>\n",
       "      <td>0.513860</td>\n",
       "    </tr>\n",
       "    <tr>\n",
       "      <th>Chinstrap penguin (Pygoscelis antarctica)</th>\n",
       "      <td>0.485589</td>\n",
       "    </tr>\n",
       "    <tr>\n",
       "      <th>Gentoo penguin (Pygoscelis papua)</th>\n",
       "      <td>0.000551</td>\n",
       "    </tr>\n",
       "  </tbody>\n",
       "</table>\n",
       "</div>"
      ],
      "text/plain": [
       "Adelie Penguin (Pygoscelis adeliae)          0.513860\n",
       "Chinstrap penguin (Pygoscelis antarctica)    0.485589\n",
       "Gentoo penguin (Pygoscelis papua)            0.000551\n",
       "Name: , dtype: float64"
      ]
     },
     "execution_count": 11,
     "metadata": {},
     "output_type": "execute_result"
    }
   ],
   "source": [
    "def update_penguin(prior, data, norm_map):\n",
    "    \"\"\" Update the hypothetical species \"\"\"\n",
    "    hypos = prior.qs\n",
    "    likelihood = [ norm_map[hypo].pdf(data) for hypo in hypos]\n",
    "    posterior = prior * likelihood\n",
    "    posterior.normalize()\n",
    "    return posterior\n",
    "\n",
    "# Here's our previous update using our new function\n",
    "posterior1 = update_penguin(prior, 193, flipper_map)\n",
    "posterior1"
   ]
  },
  {
   "cell_type": "markdown",
   "id": "65d823de-53a4-4f7e-977b-003af2981a57",
   "metadata": {},
   "source": [
    "As we saw, flipper length does not strongly distringuish Adelies and Chinstraps. However, the culmen length does, Let's see what we can find if we assume a Culmen length of 48mm:"
   ]
  },
  {
   "cell_type": "code",
   "execution_count": 12,
   "id": "a26c0495-7fa6-46a9-838e-b2cafcf3412f",
   "metadata": {},
   "outputs": [
    {
     "data": {
      "text/html": [
       "<div>\n",
       "<style scoped>\n",
       "    .dataframe tbody tr th:only-of-type {\n",
       "        vertical-align: middle;\n",
       "    }\n",
       "\n",
       "    .dataframe tbody tr th {\n",
       "        vertical-align: top;\n",
       "    }\n",
       "\n",
       "    .dataframe thead th {\n",
       "        text-align: right;\n",
       "    }\n",
       "</style>\n",
       "<table border=\"1\" class=\"dataframe\">\n",
       "  <thead>\n",
       "    <tr style=\"text-align: right;\">\n",
       "      <th></th>\n",
       "      <th>probs</th>\n",
       "    </tr>\n",
       "  </thead>\n",
       "  <tbody>\n",
       "    <tr>\n",
       "      <th>Adelie Penguin (Pygoscelis adeliae)</th>\n",
       "      <td>0.001557</td>\n",
       "    </tr>\n",
       "    <tr>\n",
       "      <th>Chinstrap penguin (Pygoscelis antarctica)</th>\n",
       "      <td>0.474658</td>\n",
       "    </tr>\n",
       "    <tr>\n",
       "      <th>Gentoo penguin (Pygoscelis papua)</th>\n",
       "      <td>0.523785</td>\n",
       "    </tr>\n",
       "  </tbody>\n",
       "</table>\n",
       "</div>"
      ],
      "text/plain": [
       "Adelie Penguin (Pygoscelis adeliae)          0.001557\n",
       "Chinstrap penguin (Pygoscelis antarctica)    0.474658\n",
       "Gentoo penguin (Pygoscelis papua)            0.523785\n",
       "Name: , dtype: float64"
      ]
     },
     "execution_count": 12,
     "metadata": {},
     "output_type": "execute_result"
    }
   ],
   "source": [
    "culmen_map = make_norm_map(df, 'Culmen Length (mm)')\n",
    "posterior2 = update_penguin(prior, 48, culmen_map)\n",
    "posterior2"
   ]
  },
  {
   "cell_type": "markdown",
   "id": "60843cf7-2ae9-4391-bacc-8a86f93c7f84",
   "metadata": {},
   "source": [
    "Using one feature, it seems like we can rule out about one species at a time. Using multiple features, we can do better!\n",
    "\n",
    "## Naive Bayesian Classification\n",
    "\n",
    "Let's take a look at the following function, which can perform multiple updates:"
   ]
  },
  {
   "cell_type": "code",
   "execution_count": 13,
   "id": "09d3c424-b5ca-4f6b-afdd-62c71dc14b5b",
   "metadata": {},
   "outputs": [
    {
     "data": {
      "text/html": [
       "<div>\n",
       "<style scoped>\n",
       "    .dataframe tbody tr th:only-of-type {\n",
       "        vertical-align: middle;\n",
       "    }\n",
       "\n",
       "    .dataframe tbody tr th {\n",
       "        vertical-align: top;\n",
       "    }\n",
       "\n",
       "    .dataframe thead th {\n",
       "        text-align: right;\n",
       "    }\n",
       "</style>\n",
       "<table border=\"1\" class=\"dataframe\">\n",
       "  <thead>\n",
       "    <tr style=\"text-align: right;\">\n",
       "      <th></th>\n",
       "      <th>probs</th>\n",
       "    </tr>\n",
       "  </thead>\n",
       "  <tbody>\n",
       "    <tr>\n",
       "      <th>Adelie Penguin (Pygoscelis adeliae)</th>\n",
       "      <td>0.003455</td>\n",
       "    </tr>\n",
       "    <tr>\n",
       "      <th>Chinstrap penguin (Pygoscelis antarctica)</th>\n",
       "      <td>0.995299</td>\n",
       "    </tr>\n",
       "    <tr>\n",
       "      <th>Gentoo penguin (Pygoscelis papua)</th>\n",
       "      <td>0.001246</td>\n",
       "    </tr>\n",
       "  </tbody>\n",
       "</table>\n",
       "</div>"
      ],
      "text/plain": [
       "Adelie Penguin (Pygoscelis adeliae)          0.003455\n",
       "Chinstrap penguin (Pygoscelis antarctica)    0.995299\n",
       "Gentoo penguin (Pygoscelis papua)            0.001246\n",
       "Name: , dtype: float64"
      ]
     },
     "execution_count": 13,
     "metadata": {},
     "output_type": "execute_result"
    }
   ],
   "source": [
    "def update_naive(prior, data_seq, norm_maps):\n",
    "    \"\"\" \n",
    "    Performs a sequence of updates\n",
    "    \n",
    "    Arguments:\n",
    "    prior: the prior probabilities\n",
    "    data_seq: a sequence of data\n",
    "    norm_maps: the normal maps to determine the likelihood of the data\n",
    "    \n",
    "    Returns: The updated classification\n",
    "    \"\"\"\n",
    "    posterior = prior.copy()\n",
    "    for data, norm_map in zip(data_seq, norm_maps):\n",
    "        posterior = update_penguin(posterior, data, norm_map)\n",
    "    return posterior\n",
    "\n",
    "# Let's test it using the same features that we were looking at earlier\n",
    "colnames = ['Flipper Length (mm)', 'Culmen Length (mm)']\n",
    "norm_maps = [flipper_map, culmen_map]\n",
    "\n",
    "# suppose we find a penguin with flipper length 193mm and culmen length 48mm:\n",
    "data_seq = 193, 48\n",
    "posterior = update_naive(prior, data_seq, norm_maps)\n",
    "posterior"
   ]
  },
  {
   "cell_type": "markdown",
   "id": "55d330a9-1c88-4f04-8675-285c94064da9",
   "metadata": {},
   "source": [
    "What a success! By using two pieces of data, we are now 99.5\\% sure that it is a Chinstrap!\n",
    "\n",
    "We can test this idea by looping through the data and classifying each penguin based on these features."
   ]
  },
  {
   "cell_type": "code",
   "execution_count": 14,
   "id": "910a7af9-61fe-403f-a4c1-c4656fd1466f",
   "metadata": {},
   "outputs": [
    {
     "data": {
      "text/plain": [
       "342"
      ]
     },
     "execution_count": 14,
     "metadata": {},
     "output_type": "execute_result"
    }
   ],
   "source": [
    "df['Classification'] = np.nan\n",
    "\n",
    "for i, row in df.iterrows():\n",
    "    data_seq = row[colnames]\n",
    "    posterior = update_naive(prior, data_seq, norm_maps)\n",
    "    df.loc[i, \"Classification\"] = posterior.max_prob()\n",
    "    \n",
    "# Now let's see how many we get right!\n",
    "valid = df['Classification'].notna()\n",
    "valid.sum()"
   ]
  },
  {
   "cell_type": "code",
   "execution_count": 15,
   "id": "780b3bb0-847b-4ae3-b69e-8bce82cb0243",
   "metadata": {},
   "outputs": [
    {
     "data": {
      "text/plain": [
       "324"
      ]
     },
     "execution_count": 15,
     "metadata": {},
     "output_type": "execute_result"
    }
   ],
   "source": [
    "same = df['Species'] == df['Classification']\n",
    "same.sum()"
   ]
  },
  {
   "cell_type": "code",
   "execution_count": 16,
   "id": "ec5911b4-66d7-43f2-833c-82ffbdd7b745",
   "metadata": {},
   "outputs": [
    {
     "data": {
      "text/plain": [
       "0.9473684210526315"
      ]
     },
     "execution_count": 16,
     "metadata": {},
     "output_type": "execute_result"
    }
   ],
   "source": [
    "same.sum() / valid.sum()"
   ]
  },
  {
   "cell_type": "markdown",
   "id": "779eee4d-bda2-4179-b7b6-b1ce5afb523d",
   "metadata": {},
   "source": [
    "So this classifier, based on only two measurements, is about 95% correct!\n",
    "\n",
    "The following function encapsulates the steps:"
   ]
  },
  {
   "cell_type": "code",
   "execution_count": 17,
   "id": "59a4e9df-db86-41f2-9941-91a2803fef68",
   "metadata": {},
   "outputs": [],
   "source": [
    "def accuracy(df):\n",
    "    \"\"\" Compute the accuracy of classifications \"\"\"\n",
    "    valid = df['Classification'].notna()\n",
    "    same = df['Classification'] == df['Species']\n",
    "    return same.sum() / valid.sum()"
   ]
  },
  {
   "cell_type": "markdown",
   "id": "61b21cf5-8100-40b6-b86e-11ad8be6451a",
   "metadata": {},
   "source": [
    "## Joint Distributions"
   ]
  },
  {
   "cell_type": "code",
   "execution_count": 18,
   "id": "a0cc97ea-d00e-4030-a996-35dde37e0c93",
   "metadata": {},
   "outputs": [
    {
     "data": {
      "text/plain": [
       "<AxesSubplot:xlabel='Flipper Length (mm)', ylabel='Culmen Length (mm)'>"
      ]
     },
     "execution_count": 18,
     "metadata": {},
     "output_type": "execute_result"
    },
    {
     "data": {
      "image/png": "[encoded data removed]",
      "text/plain": [
       "<Figure size 1728x1152 with 1 Axes>"
      ]
     },
     "metadata": {
      "needs_background": "light"
     },
     "output_type": "display_data"
    }
   ],
   "source": [
    "import matplotlib.pyplot as plt\n",
    "\n",
    "def scatterplot(df, var1, var2):\n",
    "    \"\"\" Make a scatterplot of the the columns var1 against var2 in the DataFrame \"\"\"\n",
    "    grouped = df.groupby('Species')\n",
    "    fig, ax = plt.subplots()\n",
    "    fig.set_size_inches(24, 16)\n",
    "    for species, group in grouped:\n",
    "        ax.scatter(group[var1], group[var2], label=species)\n",
    "    ax.set_xlabel(var1)\n",
    "    ax.set_ylabel(var2)\n",
    "    ax.legend()\n",
    "    return ax\n",
    "        \n",
    "var1 = 'Flipper Length (mm)'\n",
    "var2 = 'Culmen Length (mm)'\n",
    "scatterplot(df, var1, var2)"
   ]
  },
  {
   "cell_type": "markdown",
   "id": "c4c3408a-69dd-42b9-ac4c-077a62c19a36",
   "metadata": {},
   "source": [
    "Within each species, the joint distribution of the measurements forms an oval (roughly). The orientation of the ovals is a diagonal, indicating the there is some correlation between the culmen length and flipper length.\n",
    "\n",
    "If we ignore those correlations, we are assuming that the features are independent. To see what that looks like, I'll make a joint distribution for each species, assuming independence."
   ]
  },
  {
   "cell_type": "code",
   "execution_count": 19,
   "id": "18909d0e-d508-4719-beaf-2deb210c2418",
   "metadata": {},
   "outputs": [
    {
     "data": {
      "image/png": "[encoded data removed]",
      "text/plain": [
       "<Figure size 1728x1152 with 1 Axes>"
      ]
     },
     "metadata": {
      "needs_background": "light"
     },
     "output_type": "display_data"
    }
   ],
   "source": [
    "def make_pmf_norm(dist, sigmas=3, n=101):\n",
    "    \"\"\" Make a Pmf approximation to the normal distribution \"\"\"\n",
    "    mean, std = dist.mean(), dist.std()\n",
    "    low = mean - sigmas * std\n",
    "    high = mean + sigmas * std\n",
    "    qs = np.linspace(low, high, n)\n",
    "    ps = dist.pdf(qs)\n",
    "    pmf = Pmf(ps, qs)\n",
    "    pmf.normalize()\n",
    "    return pmf\n",
    "\n",
    "def make_joint(pmf1, pmf2):\n",
    "    \"\"\" Make the joint distribution of pmf1 and 2, assuming independence \"\"\"\n",
    "    X, Y = np.meshgrid(pmf1, pmf2)\n",
    "    return pd.DataFrame(X * Y, columns=pmf1.qs, index=pmf2.qs)\n",
    "\n",
    "joint_map = dict()\n",
    "for species in hypos:\n",
    "    pmf1 = make_pmf_norm(flipper_map[species])\n",
    "    pmf2 = make_pmf_norm(culmen_map[species])\n",
    "    joint_map[species] = make_joint(pmf1, pmf2)\n",
    "    \n",
    "    \n",
    "\n",
    "var1 = 'Flipper Length (mm)'\n",
    "var2 = 'Culmen Length (mm)'\n",
    "ax = scatterplot(df, var1, var2)\n",
    "for species in hypos:\n",
    "    joint = joint_map[species]\n",
    "    low = joint.to_numpy().min()\n",
    "    high = joint.to_numpy().max()\n",
    "    levels = np.linspace(low, high, 6)\n",
    "    #levels = levels[1:]\n",
    "    cs = plt.contour(joint.columns, joint.index, joint, levels=levels, linewidths=1)"
   ]
  },
  {
   "cell_type": "markdown",
   "id": "bf1aecc6-bb2c-4e2b-96e0-d1290bb8780c",
   "metadata": {},
   "source": [
    "Because we have treated them as independent, the axes of the ellipses are aligned parallel to the axes of the graph.\n",
    "\n",
    "We can make this better by using the multivariate normal distribution!\n",
    "\n",
    "## Multivariate Normal Distribution\n",
    "\n",
    "The normal normal distribution is characterized by its mean and standard deviation. A multivariate normal distribution is characterized by the means of the features and the covariance matrix, which contains the variances and covariances of the features.\n",
    "\n",
    "First we can use the data to estimate the means and covariances"
   ]
  },
  {
   "cell_type": "code",
   "execution_count": 20,
   "id": "756b2a19-c1f9-402c-bdc2-09d6d94d7e41",
   "metadata": {},
   "outputs": [
    {
     "data": {
      "text/plain": [
       "Flipper Length (mm)    200.915205\n",
       "Culmen Length (mm)      43.921930\n",
       "dtype: float64"
      ]
     },
     "execution_count": 20,
     "metadata": {},
     "output_type": "execute_result"
    }
   ],
   "source": [
    "features = df[[var1, var2]]\n",
    "mean = features.mean()\n",
    "mean"
   ]
  },
  {
   "cell_type": "code",
   "execution_count": 21,
   "id": "055df726-ec94-4bc0-ab1a-af24a3bcfbe0",
   "metadata": {},
   "outputs": [
    {
     "data": {
      "text/html": [
       "<div>\n",
       "<style scoped>\n",
       "    .dataframe tbody tr th:only-of-type {\n",
       "        vertical-align: middle;\n",
       "    }\n",
       "\n",
       "    .dataframe tbody tr th {\n",
       "        vertical-align: top;\n",
       "    }\n",
       "\n",
       "    .dataframe thead th {\n",
       "        text-align: right;\n",
       "    }\n",
       "</style>\n",
       "<table border=\"1\" class=\"dataframe\">\n",
       "  <thead>\n",
       "    <tr style=\"text-align: right;\">\n",
       "      <th></th>\n",
       "      <th>Flipper Length (mm)</th>\n",
       "      <th>Culmen Length (mm)</th>\n",
       "    </tr>\n",
       "  </thead>\n",
       "  <tbody>\n",
       "    <tr>\n",
       "      <th>Flipper Length (mm)</th>\n",
       "      <td>197.731792</td>\n",
       "      <td>50.375765</td>\n",
       "    </tr>\n",
       "    <tr>\n",
       "      <th>Culmen Length (mm)</th>\n",
       "      <td>50.375765</td>\n",
       "      <td>29.807054</td>\n",
       "    </tr>\n",
       "  </tbody>\n",
       "</table>\n",
       "</div>"
      ],
      "text/plain": [
       "                     Flipper Length (mm)  Culmen Length (mm)\n",
       "Flipper Length (mm)           197.731792           50.375765\n",
       "Culmen Length (mm)             50.375765           29.807054"
      ]
     },
     "execution_count": 21,
     "metadata": {},
     "output_type": "execute_result"
    }
   ],
   "source": [
    "cov = features.cov()\n",
    "cov"
   ]
  },
  {
   "cell_type": "code",
   "execution_count": 22,
   "id": "3552ffd0-9d1e-4a09-bdb0-cd16b009a038",
   "metadata": {},
   "outputs": [
    {
     "data": {
      "text/plain": [
       "{'Adelie Penguin (Pygoscelis adeliae)': <scipy.stats._multivariate.multivariate_normal_frozen at 0x7f77dcc5f910>,\n",
       " 'Chinstrap penguin (Pygoscelis antarctica)': <scipy.stats._multivariate.multivariate_normal_frozen at 0x7f77dcc5f8e0>,\n",
       " 'Gentoo penguin (Pygoscelis papua)': <scipy.stats._multivariate.multivariate_normal_frozen at 0x7f77dcc5fc10>}"
      ]
     },
     "execution_count": 22,
     "metadata": {},
     "output_type": "execute_result"
    }
   ],
   "source": [
    "from scipy.stats import multivariate_normal\n",
    "\n",
    "# function to make a multivariate normal object for each species\n",
    "def make_multivariate_normal(df, colnames):\n",
    "    \"\"\" Make a map from each species to a multivariate normal \"\"\"\n",
    "    multinorm_map = {}\n",
    "    grouped = df.groupby('Species')\n",
    "    for species, group in grouped:\n",
    "        features = group[colnames]\n",
    "        mean = features.mean()\n",
    "        cov = features.cov()\n",
    "        multinorm_map[species] = multivariate_normal(mean, cov)\n",
    "    return multinorm_map\n",
    "\n",
    "multinorm_map = make_multivariate_normal(df, [var1, var2])\n",
    "multinorm_map"
   ]
  },
  {
   "cell_type": "markdown",
   "id": "ecf3be97-b27e-41d5-bb46-3da44ea58b81",
   "metadata": {},
   "source": [
    "(See the book - the ellipses are now aligned much better with the data and are no longer parallel to the axes)\n",
    "\n",
    "Because the multivariate normal takes into account the correlations between the features, it should give much better classifications!\n",
    "\n",
    "## A Less Naive Classifier\n",
    "\n",
    "We can use the same `update_penguin` function that we used earlier, but now we can use the multivariate normal maps instead:"
   ]
  },
  {
   "cell_type": "code",
   "execution_count": 23,
   "id": "41eb6a02-85a4-4f9f-8c3f-ef4ecba68d8d",
   "metadata": {},
   "outputs": [
    {
     "data": {
      "text/html": [
       "<div>\n",
       "<style scoped>\n",
       "    .dataframe tbody tr th:only-of-type {\n",
       "        vertical-align: middle;\n",
       "    }\n",
       "\n",
       "    .dataframe tbody tr th {\n",
       "        vertical-align: top;\n",
       "    }\n",
       "\n",
       "    .dataframe thead th {\n",
       "        text-align: right;\n",
       "    }\n",
       "</style>\n",
       "<table border=\"1\" class=\"dataframe\">\n",
       "  <thead>\n",
       "    <tr style=\"text-align: right;\">\n",
       "      <th></th>\n",
       "      <th>probs</th>\n",
       "    </tr>\n",
       "  </thead>\n",
       "  <tbody>\n",
       "    <tr>\n",
       "      <th>Adelie Penguin (Pygoscelis adeliae)</th>\n",
       "      <td>0.002740</td>\n",
       "    </tr>\n",
       "    <tr>\n",
       "      <th>Chinstrap penguin (Pygoscelis antarctica)</th>\n",
       "      <td>0.997257</td>\n",
       "    </tr>\n",
       "    <tr>\n",
       "      <th>Gentoo penguin (Pygoscelis papua)</th>\n",
       "      <td>0.000003</td>\n",
       "    </tr>\n",
       "  </tbody>\n",
       "</table>\n",
       "</div>"
      ],
      "text/plain": [
       "Adelie Penguin (Pygoscelis adeliae)          0.002740\n",
       "Chinstrap penguin (Pygoscelis antarctica)    0.997257\n",
       "Gentoo penguin (Pygoscelis papua)            0.000003\n",
       "Name: , dtype: float64"
      ]
     },
     "execution_count": 23,
     "metadata": {},
     "output_type": "execute_result"
    }
   ],
   "source": [
    "def update_penguin(prior, data, norm_map):\n",
    "    hypos = prior.qs\n",
    "    likelihood = [ norm_map[hypo].pdf(data) for hypo in hypos ]\n",
    "    posterior = prior * likelihood\n",
    "    posterior.normalize()\n",
    "    return posterior\n",
    "\n",
    "data = 193, 48\n",
    "update_penguin(prior, data, multinorm_map)"
   ]
  },
  {
   "cell_type": "markdown",
   "id": "f882882d-59be-4e1a-9314-d5801d131c90",
   "metadata": {},
   "source": [
    "So a penguin with these features is almost surely a Chinstrap!\n",
    "\n",
    "Let's see if it does better than the naive classifier:"
   ]
  },
  {
   "cell_type": "code",
   "execution_count": 24,
   "id": "e62c5e34-df29-4250-bbd4-cdc8e3dec3c4",
   "metadata": {},
   "outputs": [
    {
     "data": {
      "text/plain": [
       "0.9532163742690059"
      ]
     },
     "execution_count": 24,
     "metadata": {},
     "output_type": "execute_result"
    }
   ],
   "source": [
    "df['Classification'] = np.nan\n",
    "for i, row in df.iterrows():\n",
    "    data = row[colnames]\n",
    "    posterior = update_penguin(prior, data, multinorm_map)\n",
    "    df.loc[i, 'Classification'] = posterior.idxmax()\n",
    "accuracy(df)"
   ]
  },
  {
   "cell_type": "markdown",
   "id": "0de2e315-4b0f-4b1a-a073-2498c8e8f645",
   "metadata": {},
   "source": [
    "So this is actually only slightly better: about 95.3% accurate against the 94.7% of the naive classifier."
   ]
  },
  {
   "cell_type": "markdown",
   "id": "4cc6325b-2955-448c-841e-255dbe074354",
   "metadata": {},
   "source": [
    "## Exercises"
   ]
  },
  {
   "cell_type": "markdown",
   "id": "89e6ad49-7c00-4ff3-95c8-3bc55346ef0b",
   "metadata": {},
   "source": [
    "### Exercise 12-1\n",
    "> Previously we used flipper length and culmen length because they seemed to provide the most power to distinguish the penguins. Maybe we can do better by using more features? Make a naive Bayesian classifier that uses all four measurements in the dataset: culmen length, culmen depth, flipper length, and body mass. Is it more accurate than the model with two features?"
   ]
  },
  {
   "cell_type": "markdown",
   "id": "7f0ef751-e7d1-4015-ba3e-b1e58e4fc57c",
   "metadata": {
    "tags": []
   },
   "source": [
    "### Solution 12-1"
   ]
  },
  {
   "cell_type": "code",
   "execution_count": 25,
   "id": "32cd4e28-d34c-4de2-b983-84a44fdb517d",
   "metadata": {},
   "outputs": [
    {
     "data": {
      "text/plain": [
       "0.9678362573099415"
      ]
     },
     "execution_count": 25,
     "metadata": {},
     "output_type": "execute_result"
    }
   ],
   "source": [
    "relevant_columns = [\n",
    "    'Culmen Length (mm)',\n",
    "    \"Culmen Depth (mm)\",\n",
    "    'Flipper Length (mm)',\n",
    "    \"Body Mass (g)\"\n",
    "]\n",
    "norm_maps = [ make_norm_map(df, column) for column in relevant_columns]\n",
    "df['Classification'] = np.nan\n",
    "\n",
    "for i, row in df.iterrows():\n",
    "    data_seq = row[relevant_columns]\n",
    "    posterior = update_naive(prior, data_seq, norm_maps)\n",
    "    df.loc[i, 'Classification'] = posterior.max_prob()\n",
    "\n",
    "accuracy(df)"
   ]
  },
  {
   "cell_type": "markdown",
   "id": "48d2f035-dd9a-4e63-ada7-13396e7e5bb2",
   "metadata": {},
   "source": [
    "So by including all of these, we get only a slight bump to 96.7\\%."
   ]
  },
  {
   "cell_type": "markdown",
   "id": "93ff7671-8486-42f3-a070-5ff4cfc4e96f",
   "metadata": {},
   "source": [
    "### Exercise 12-2\n",
    "> One of the reasons that the penguin dataset was collected was to quantify sexual dimorphism in different penguin species; that is, how different are the males and females? One way to quantify sexual dimorphism is to use measurements to classify penguins by sex. If a species is more dimorphic, we expect to be able to classify them more accurately. \n",
    ">\n",
    "> For this exercise, pick a species and use a Bayesian classifies (naive or not) to classify the penguins by sex. Which features are most useful? What accuracy can you achieve?"
   ]
  },
  {
   "cell_type": "markdown",
   "id": "0ad16edf-94de-4902-8c77-825c5cb636e4",
   "metadata": {},
   "source": [
    "### Solution 12-2"
   ]
  },
  {
   "cell_type": "code",
   "execution_count": 26,
   "id": "83c8232f-61be-4d74-9d03-132ed36f9483",
   "metadata": {},
   "outputs": [
    {
     "data": {
      "text/plain": [
       "Adelie Penguin (Pygoscelis adeliae)          152\n",
       "Gentoo penguin (Pygoscelis papua)            124\n",
       "Chinstrap penguin (Pygoscelis antarctica)     68\n",
       "Name: Species, dtype: int64"
      ]
     },
     "execution_count": 26,
     "metadata": {},
     "output_type": "execute_result"
    }
   ],
   "source": [
    "df[\"Species\"].value_counts()"
   ]
  },
  {
   "cell_type": "code",
   "execution_count": 27,
   "id": "31d22442-5464-41e1-9d5e-c975206bc2ba",
   "metadata": {},
   "outputs": [
    {
     "data": {
      "text/html": [
       "<div>\n",
       "<style scoped>\n",
       "    .dataframe tbody tr th:only-of-type {\n",
       "        vertical-align: middle;\n",
       "    }\n",
       "\n",
       "    .dataframe tbody tr th {\n",
       "        vertical-align: top;\n",
       "    }\n",
       "\n",
       "    .dataframe thead th {\n",
       "        text-align: right;\n",
       "    }\n",
       "</style>\n",
       "<table border=\"1\" class=\"dataframe\">\n",
       "  <thead>\n",
       "    <tr style=\"text-align: right;\">\n",
       "      <th></th>\n",
       "      <th>studyName</th>\n",
       "      <th>Sample Number</th>\n",
       "      <th>Species</th>\n",
       "      <th>Region</th>\n",
       "      <th>Island</th>\n",
       "      <th>Stage</th>\n",
       "      <th>Individual ID</th>\n",
       "      <th>Clutch Completion</th>\n",
       "      <th>Date Egg</th>\n",
       "      <th>Culmen Length (mm)</th>\n",
       "      <th>Culmen Depth (mm)</th>\n",
       "      <th>Flipper Length (mm)</th>\n",
       "      <th>Body Mass (g)</th>\n",
       "      <th>Sex</th>\n",
       "      <th>Delta 15 N (o/oo)</th>\n",
       "      <th>Delta 13 C (o/oo)</th>\n",
       "      <th>Comments</th>\n",
       "      <th>Classification</th>\n",
       "    </tr>\n",
       "  </thead>\n",
       "  <tbody>\n",
       "    <tr>\n",
       "      <th>152</th>\n",
       "      <td>PAL0708</td>\n",
       "      <td>1</td>\n",
       "      <td>Gentoo penguin (Pygoscelis papua)</td>\n",
       "      <td>Anvers</td>\n",
       "      <td>Biscoe</td>\n",
       "      <td>Adult, 1 Egg Stage</td>\n",
       "      <td>N31A1</td>\n",
       "      <td>Yes</td>\n",
       "      <td>2007-11-27</td>\n",
       "      <td>46.1</td>\n",
       "      <td>13.2</td>\n",
       "      <td>211.0</td>\n",
       "      <td>4500.0</td>\n",
       "      <td>FEMALE</td>\n",
       "      <td>7.99300</td>\n",
       "      <td>-25.51390</td>\n",
       "      <td>NaN</td>\n",
       "      <td>Gentoo penguin (Pygoscelis papua)</td>\n",
       "    </tr>\n",
       "    <tr>\n",
       "      <th>153</th>\n",
       "      <td>PAL0708</td>\n",
       "      <td>2</td>\n",
       "      <td>Gentoo penguin (Pygoscelis papua)</td>\n",
       "      <td>Anvers</td>\n",
       "      <td>Biscoe</td>\n",
       "      <td>Adult, 1 Egg Stage</td>\n",
       "      <td>N31A2</td>\n",
       "      <td>Yes</td>\n",
       "      <td>2007-11-27</td>\n",
       "      <td>50.0</td>\n",
       "      <td>16.3</td>\n",
       "      <td>230.0</td>\n",
       "      <td>5700.0</td>\n",
       "      <td>MALE</td>\n",
       "      <td>8.14756</td>\n",
       "      <td>-25.39369</td>\n",
       "      <td>NaN</td>\n",
       "      <td>Gentoo penguin (Pygoscelis papua)</td>\n",
       "    </tr>\n",
       "    <tr>\n",
       "      <th>154</th>\n",
       "      <td>PAL0708</td>\n",
       "      <td>3</td>\n",
       "      <td>Gentoo penguin (Pygoscelis papua)</td>\n",
       "      <td>Anvers</td>\n",
       "      <td>Biscoe</td>\n",
       "      <td>Adult, 1 Egg Stage</td>\n",
       "      <td>N32A1</td>\n",
       "      <td>Yes</td>\n",
       "      <td>2007-11-27</td>\n",
       "      <td>48.7</td>\n",
       "      <td>14.1</td>\n",
       "      <td>210.0</td>\n",
       "      <td>4450.0</td>\n",
       "      <td>FEMALE</td>\n",
       "      <td>8.14705</td>\n",
       "      <td>-25.46172</td>\n",
       "      <td>NaN</td>\n",
       "      <td>Gentoo penguin (Pygoscelis papua)</td>\n",
       "    </tr>\n",
       "    <tr>\n",
       "      <th>155</th>\n",
       "      <td>PAL0708</td>\n",
       "      <td>4</td>\n",
       "      <td>Gentoo penguin (Pygoscelis papua)</td>\n",
       "      <td>Anvers</td>\n",
       "      <td>Biscoe</td>\n",
       "      <td>Adult, 1 Egg Stage</td>\n",
       "      <td>N32A2</td>\n",
       "      <td>Yes</td>\n",
       "      <td>2007-11-27</td>\n",
       "      <td>50.0</td>\n",
       "      <td>15.2</td>\n",
       "      <td>218.0</td>\n",
       "      <td>5700.0</td>\n",
       "      <td>MALE</td>\n",
       "      <td>8.25540</td>\n",
       "      <td>-25.40075</td>\n",
       "      <td>NaN</td>\n",
       "      <td>Gentoo penguin (Pygoscelis papua)</td>\n",
       "    </tr>\n",
       "    <tr>\n",
       "      <th>156</th>\n",
       "      <td>PAL0708</td>\n",
       "      <td>5</td>\n",
       "      <td>Gentoo penguin (Pygoscelis papua)</td>\n",
       "      <td>Anvers</td>\n",
       "      <td>Biscoe</td>\n",
       "      <td>Adult, 1 Egg Stage</td>\n",
       "      <td>N33A1</td>\n",
       "      <td>Yes</td>\n",
       "      <td>2007-11-18</td>\n",
       "      <td>47.6</td>\n",
       "      <td>14.5</td>\n",
       "      <td>215.0</td>\n",
       "      <td>5400.0</td>\n",
       "      <td>MALE</td>\n",
       "      <td>8.23450</td>\n",
       "      <td>-25.54456</td>\n",
       "      <td>NaN</td>\n",
       "      <td>Gentoo penguin (Pygoscelis papua)</td>\n",
       "    </tr>\n",
       "  </tbody>\n",
       "</table>\n",
       "</div>"
      ],
      "text/plain": [
       "    studyName  Sample Number                            Species  Region  \\\n",
       "152   PAL0708              1  Gentoo penguin (Pygoscelis papua)  Anvers   \n",
       "153   PAL0708              2  Gentoo penguin (Pygoscelis papua)  Anvers   \n",
       "154   PAL0708              3  Gentoo penguin (Pygoscelis papua)  Anvers   \n",
       "155   PAL0708              4  Gentoo penguin (Pygoscelis papua)  Anvers   \n",
       "156   PAL0708              5  Gentoo penguin (Pygoscelis papua)  Anvers   \n",
       "\n",
       "     Island               Stage Individual ID Clutch Completion    Date Egg  \\\n",
       "152  Biscoe  Adult, 1 Egg Stage         N31A1               Yes  2007-11-27   \n",
       "153  Biscoe  Adult, 1 Egg Stage         N31A2               Yes  2007-11-27   \n",
       "154  Biscoe  Adult, 1 Egg Stage         N32A1               Yes  2007-11-27   \n",
       "155  Biscoe  Adult, 1 Egg Stage         N32A2               Yes  2007-11-27   \n",
       "156  Biscoe  Adult, 1 Egg Stage         N33A1               Yes  2007-11-18   \n",
       "\n",
       "     Culmen Length (mm)  Culmen Depth (mm)  Flipper Length (mm)  \\\n",
       "152                46.1               13.2                211.0   \n",
       "153                50.0               16.3                230.0   \n",
       "154                48.7               14.1                210.0   \n",
       "155                50.0               15.2                218.0   \n",
       "156                47.6               14.5                215.0   \n",
       "\n",
       "     Body Mass (g)     Sex  Delta 15 N (o/oo)  Delta 13 C (o/oo) Comments  \\\n",
       "152         4500.0  FEMALE            7.99300          -25.51390      NaN   \n",
       "153         5700.0    MALE            8.14756          -25.39369      NaN   \n",
       "154         4450.0  FEMALE            8.14705          -25.46172      NaN   \n",
       "155         5700.0    MALE            8.25540          -25.40075      NaN   \n",
       "156         5400.0    MALE            8.23450          -25.54456      NaN   \n",
       "\n",
       "                        Classification  \n",
       "152  Gentoo penguin (Pygoscelis papua)  \n",
       "153  Gentoo penguin (Pygoscelis papua)  \n",
       "154  Gentoo penguin (Pygoscelis papua)  \n",
       "155  Gentoo penguin (Pygoscelis papua)  \n",
       "156  Gentoo penguin (Pygoscelis papua)  "
      ]
     },
     "execution_count": 27,
     "metadata": {},
     "output_type": "execute_result"
    }
   ],
   "source": [
    "is_gentoo = df['Species'] == 'Gentoo penguin (Pygoscelis papua)'\n",
    "gentoo = df[is_gentoo]\n",
    "gentoo = gentoo.copy()\n",
    "gentoo.dropna(subset=[\"Sex\"], inplace=True)\n",
    "gentoo.head()"
   ]
  },
  {
   "cell_type": "code",
   "execution_count": 28,
   "id": "a071db74-396f-420a-b2d1-1090ae07cfe8",
   "metadata": {},
   "outputs": [
    {
     "data": {
      "text/plain": [
       "MALE      61\n",
       "FEMALE    58\n",
       "Name: Sex, dtype: int64"
      ]
     },
     "execution_count": 28,
     "metadata": {},
     "output_type": "execute_result"
    }
   ],
   "source": [
    "gentoo['Sex'].value_counts()"
   ]
  },
  {
   "cell_type": "code",
   "execution_count": 29,
   "id": "58358b48-a267-484b-883e-46f2ca1ddf00",
   "metadata": {},
   "outputs": [
    {
     "data": {
      "text/plain": [
       "array(['FEMALE', 'MALE'], dtype=object)"
      ]
     },
     "execution_count": 29,
     "metadata": {},
     "output_type": "execute_result"
    }
   ],
   "source": [
    "gentoo['Sex'].unique()"
   ]
  },
  {
   "cell_type": "code",
   "execution_count": 30,
   "id": "45fbbaf6-8bf3-47a7-b64a-25bac14398ac",
   "metadata": {},
   "outputs": [
    {
     "data": {
      "text/html": [
       "<div>\n",
       "<style scoped>\n",
       "    .dataframe tbody tr th:only-of-type {\n",
       "        vertical-align: middle;\n",
       "    }\n",
       "\n",
       "    .dataframe tbody tr th {\n",
       "        vertical-align: top;\n",
       "    }\n",
       "\n",
       "    .dataframe thead th {\n",
       "        text-align: right;\n",
       "    }\n",
       "</style>\n",
       "<table border=\"1\" class=\"dataframe\">\n",
       "  <thead>\n",
       "    <tr style=\"text-align: right;\">\n",
       "      <th></th>\n",
       "      <th>probs</th>\n",
       "    </tr>\n",
       "  </thead>\n",
       "  <tbody>\n",
       "    <tr>\n",
       "      <th>FEMALE</th>\n",
       "      <td>0.5</td>\n",
       "    </tr>\n",
       "    <tr>\n",
       "      <th>MALE</th>\n",
       "      <td>0.5</td>\n",
       "    </tr>\n",
       "  </tbody>\n",
       "</table>\n",
       "</div>"
      ],
      "text/plain": [
       "FEMALE    0.5\n",
       "MALE      0.5\n",
       "Name: , dtype: float64"
      ]
     },
     "execution_count": 30,
     "metadata": {},
     "output_type": "execute_result"
    }
   ],
   "source": [
    "## Let's do it the naive way first\n",
    "relevant_columns = [ \"Culmen Length (mm)\", \"Culmen Depth (mm)\", \"Flipper Length (mm)\", \"Body Mass (g)\"]\n",
    "sex_prior = Pmf(1, gentoo['Sex'].unique())\n",
    "sex_prior.normalize()\n",
    "sex_prior"
   ]
  },
  {
   "cell_type": "code",
   "execution_count": 31,
   "id": "04ebf0c2-ea74-4e5e-b04f-e9bbb3b61a74",
   "metadata": {},
   "outputs": [
    {
     "data": {
      "text/plain": [
       "[{'FEMALE': <scipy.stats._distn_infrastructure.rv_frozen at 0x7f77dcbaa670>,\n",
       "  'MALE': <scipy.stats._distn_infrastructure.rv_frozen at 0x7f77dcbaa640>},\n",
       " {'FEMALE': <scipy.stats._distn_infrastructure.rv_frozen at 0x7f77dcbaac40>,\n",
       "  'MALE': <scipy.stats._distn_infrastructure.rv_frozen at 0x7f77dcbaac10>},\n",
       " {'FEMALE': <scipy.stats._distn_infrastructure.rv_frozen at 0x7f77dcbaf1c0>,\n",
       "  'MALE': <scipy.stats._distn_infrastructure.rv_frozen at 0x7f77dcbaf190>},\n",
       " {'FEMALE': <scipy.stats._distn_infrastructure.rv_frozen at 0x7f77dcbaf790>,\n",
       "  'MALE': <scipy.stats._distn_infrastructure.rv_frozen at 0x7f77dcbaf760>}]"
      ]
     },
     "execution_count": 31,
     "metadata": {},
     "output_type": "execute_result"
    }
   ],
   "source": [
    "gentoo['Classification'] = np.nan\n",
    "\n",
    "def flexible_accuracy(df, actual: str, guess: str):\n",
    "    \"\"\"\n",
    "    Compare the accuracy of a classification \n",
    "    \n",
    "    df: a dataframe\n",
    "    actual: the column name holding the actual correct answer\n",
    "    guess: column name holding the result produced by our classifier\n",
    "    \"\"\"\n",
    "    valid = df[guess].notna()\n",
    "    same = df[guess] == df[actual]\n",
    "    return same.sum() / valid.sum()\n",
    "\n",
    "norm_maps = [ make_norm_map(gentoo, column, by=\"Sex\") for column in relevant_columns ]\n",
    "norm_maps"
   ]
  },
  {
   "cell_type": "code",
   "execution_count": 32,
   "id": "abaeb00a-9ae7-40a5-b994-0bad1736ccaa",
   "metadata": {},
   "outputs": [
    {
     "data": {
      "text/plain": [
       "0.9495798319327731"
      ]
     },
     "execution_count": 32,
     "metadata": {},
     "output_type": "execute_result"
    }
   ],
   "source": [
    "for i, row in gentoo.iterrows():\n",
    "    data_seq = row[relevant_columns]\n",
    "    posterior = update_naive(sex_prior, data_seq, norm_maps)\n",
    "    gentoo.loc[i, 'Classification'] = posterior.max_prob()\n",
    "    \n",
    "flexible_accuracy(gentoo, actual=\"Sex\", guess=\"Classification\")"
   ]
  },
  {
   "cell_type": "code",
   "execution_count": null,
   "id": "1ccfd47e-dc1d-4b13-8958-9f013eea1167",
   "metadata": {},
   "outputs": [],
   "source": []
  }
 ],
 "metadata": {
  "kernelspec": {
   "display_name": "Python 3 (ipykernel)",
   "language": "python",
   "name": "python3"
  },
  "language_info": {
   "codemirror_mode": {
    "name": "ipython",
    "version": 3
   },
   "file_extension": ".py",
   "mimetype": "text/x-python",
   "name": "python",
   "nbconvert_exporter": "python",
   "pygments_lexer": "ipython3",
   "version": "3.8.10"
  }
 },
 "nbformat": 4,
 "nbformat_minor": 5
}
