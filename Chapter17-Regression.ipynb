{
 "cells": [
  {
   "cell_type": "markdown",
   "id": "8c011310-bcb0-4bf0-892a-3ff21f0945e7",
   "metadata": {},
   "source": [
    "# Chapter 17 - Regression\n",
    "\n",
    "In the previous chapter we saw several examples of logistic regression, which is based on the assumption that the likelihood of an outcome, expressedin the form of log odds, is a linear function of some quantity (continuous or discrete).\n",
    "\n",
    "In this chapter we'll look at simple linear regression.\n",
    "\n",
    "We'll use a 3-parameter model!\n",
    "\n",
    "## More Snow?\n",
    "\n",
    "The author believes that less snow falls around his home (Norfolk County) than when he was young.\n",
    "\n",
    "Get the data!"
   ]
  },
  {
   "cell_type": "code",
   "execution_count": null,
   "id": "9920d41c-5725-4033-b3be-c3e172683cde",
   "metadata": {},
   "outputs": [],
   "source": []
  },
  {
   "cell_type": "code",
   "execution_count": 1,
   "id": "be8f3f8d-d6b9-4dc7-a65f-796707e06c90",
   "metadata": {},
   "outputs": [
    {
     "data": {
      "text/html": [
       "<div>\n",
       "<style scoped>\n",
       "    .dataframe tbody tr th:only-of-type {\n",
       "        vertical-align: middle;\n",
       "    }\n",
       "\n",
       "    .dataframe tbody tr th {\n",
       "        vertical-align: top;\n",
       "    }\n",
       "\n",
       "    .dataframe thead th {\n",
       "        text-align: right;\n",
       "    }\n",
       "</style>\n",
       "<table border=\"1\" class=\"dataframe\">\n",
       "  <thead>\n",
       "    <tr style=\"text-align: right;\">\n",
       "      <th></th>\n",
       "      <th>STATION</th>\n",
       "      <th>NAME</th>\n",
       "      <th>DATE</th>\n",
       "      <th>PRCP</th>\n",
       "      <th>SNOW</th>\n",
       "      <th>SNWD</th>\n",
       "      <th>TMAX</th>\n",
       "      <th>TMIN</th>\n",
       "      <th>TOBS</th>\n",
       "      <th>WESD</th>\n",
       "      <th>WT01</th>\n",
       "      <th>WT03</th>\n",
       "      <th>WT04</th>\n",
       "      <th>WT05</th>\n",
       "      <th>WT06</th>\n",
       "      <th>WT08</th>\n",
       "      <th>WT09</th>\n",
       "      <th>WT11</th>\n",
       "      <th>WT16</th>\n",
       "      <th>WT18</th>\n",
       "    </tr>\n",
       "  </thead>\n",
       "  <tbody>\n",
       "    <tr>\n",
       "      <th>0</th>\n",
       "      <td>USC00190736</td>\n",
       "      <td>BLUE HILL COOP, MA US</td>\n",
       "      <td>1967-05-11</td>\n",
       "      <td>0.43</td>\n",
       "      <td>0.0</td>\n",
       "      <td>0.0</td>\n",
       "      <td>57</td>\n",
       "      <td>36.0</td>\n",
       "      <td>NaN</td>\n",
       "      <td>NaN</td>\n",
       "      <td>NaN</td>\n",
       "      <td>NaN</td>\n",
       "      <td>NaN</td>\n",
       "      <td>NaN</td>\n",
       "      <td>NaN</td>\n",
       "      <td>NaN</td>\n",
       "      <td>NaN</td>\n",
       "      <td>NaN</td>\n",
       "      <td>NaN</td>\n",
       "      <td>NaN</td>\n",
       "    </tr>\n",
       "    <tr>\n",
       "      <th>1</th>\n",
       "      <td>USC00190736</td>\n",
       "      <td>BLUE HILL COOP, MA US</td>\n",
       "      <td>1967-05-12</td>\n",
       "      <td>0.00</td>\n",
       "      <td>0.0</td>\n",
       "      <td>0.0</td>\n",
       "      <td>58</td>\n",
       "      <td>39.0</td>\n",
       "      <td>NaN</td>\n",
       "      <td>NaN</td>\n",
       "      <td>NaN</td>\n",
       "      <td>NaN</td>\n",
       "      <td>NaN</td>\n",
       "      <td>NaN</td>\n",
       "      <td>NaN</td>\n",
       "      <td>NaN</td>\n",
       "      <td>NaN</td>\n",
       "      <td>NaN</td>\n",
       "      <td>NaN</td>\n",
       "      <td>NaN</td>\n",
       "    </tr>\n",
       "    <tr>\n",
       "      <th>2</th>\n",
       "      <td>USC00190736</td>\n",
       "      <td>BLUE HILL COOP, MA US</td>\n",
       "      <td>1967-05-13</td>\n",
       "      <td>0.00</td>\n",
       "      <td>0.0</td>\n",
       "      <td>0.0</td>\n",
       "      <td>64</td>\n",
       "      <td>38.0</td>\n",
       "      <td>NaN</td>\n",
       "      <td>NaN</td>\n",
       "      <td>NaN</td>\n",
       "      <td>NaN</td>\n",
       "      <td>NaN</td>\n",
       "      <td>NaN</td>\n",
       "      <td>NaN</td>\n",
       "      <td>NaN</td>\n",
       "      <td>NaN</td>\n",
       "      <td>NaN</td>\n",
       "      <td>NaN</td>\n",
       "      <td>NaN</td>\n",
       "    </tr>\n",
       "    <tr>\n",
       "      <th>3</th>\n",
       "      <td>USC00190736</td>\n",
       "      <td>BLUE HILL COOP, MA US</td>\n",
       "      <td>1967-05-14</td>\n",
       "      <td>0.00</td>\n",
       "      <td>0.0</td>\n",
       "      <td>0.0</td>\n",
       "      <td>67</td>\n",
       "      <td>44.0</td>\n",
       "      <td>NaN</td>\n",
       "      <td>NaN</td>\n",
       "      <td>NaN</td>\n",
       "      <td>NaN</td>\n",
       "      <td>NaN</td>\n",
       "      <td>NaN</td>\n",
       "      <td>NaN</td>\n",
       "      <td>NaN</td>\n",
       "      <td>NaN</td>\n",
       "      <td>NaN</td>\n",
       "      <td>NaN</td>\n",
       "      <td>NaN</td>\n",
       "    </tr>\n",
       "    <tr>\n",
       "      <th>4</th>\n",
       "      <td>USC00190736</td>\n",
       "      <td>BLUE HILL COOP, MA US</td>\n",
       "      <td>1967-05-15</td>\n",
       "      <td>0.31</td>\n",
       "      <td>0.0</td>\n",
       "      <td>0.0</td>\n",
       "      <td>49</td>\n",
       "      <td>41.0</td>\n",
       "      <td>NaN</td>\n",
       "      <td>NaN</td>\n",
       "      <td>NaN</td>\n",
       "      <td>NaN</td>\n",
       "      <td>NaN</td>\n",
       "      <td>NaN</td>\n",
       "      <td>NaN</td>\n",
       "      <td>NaN</td>\n",
       "      <td>NaN</td>\n",
       "      <td>NaN</td>\n",
       "      <td>NaN</td>\n",
       "      <td>NaN</td>\n",
       "    </tr>\n",
       "  </tbody>\n",
       "</table>\n",
       "</div>"
      ],
      "text/plain": [
       "       STATION                   NAME       DATE  PRCP  SNOW  SNWD  TMAX  \\\n",
       "0  USC00190736  BLUE HILL COOP, MA US 1967-05-11  0.43   0.0   0.0    57   \n",
       "1  USC00190736  BLUE HILL COOP, MA US 1967-05-12  0.00   0.0   0.0    58   \n",
       "2  USC00190736  BLUE HILL COOP, MA US 1967-05-13  0.00   0.0   0.0    64   \n",
       "3  USC00190736  BLUE HILL COOP, MA US 1967-05-14  0.00   0.0   0.0    67   \n",
       "4  USC00190736  BLUE HILL COOP, MA US 1967-05-15  0.31   0.0   0.0    49   \n",
       "\n",
       "   TMIN  TOBS  WESD  WT01  WT03  WT04  WT05  WT06  WT08  WT09  WT11  WT16  \\\n",
       "0  36.0   NaN   NaN   NaN   NaN   NaN   NaN   NaN   NaN   NaN   NaN   NaN   \n",
       "1  39.0   NaN   NaN   NaN   NaN   NaN   NaN   NaN   NaN   NaN   NaN   NaN   \n",
       "2  38.0   NaN   NaN   NaN   NaN   NaN   NaN   NaN   NaN   NaN   NaN   NaN   \n",
       "3  44.0   NaN   NaN   NaN   NaN   NaN   NaN   NaN   NaN   NaN   NaN   NaN   \n",
       "4  41.0   NaN   NaN   NaN   NaN   NaN   NaN   NaN   NaN   NaN   NaN   NaN   \n",
       "\n",
       "   WT18  \n",
       "0   NaN  \n",
       "1   NaN  \n",
       "2   NaN  \n",
       "3   NaN  \n",
       "4   NaN  "
      ]
     },
     "execution_count": 1,
     "metadata": {},
     "output_type": "execute_result"
    }
   ],
   "source": [
    "import numpy as np\n",
    "import pandas as pd\n",
    "import matplotlib.pyplot as plt\n",
    "\n",
    "df = pd.read_csv('data/2239075.csv', parse_dates=[2])\n",
    "df.head()"
   ]
  },
  {
   "cell_type": "markdown",
   "id": "04357ac6-6588-4ea9-9aa5-893d509d9eb4",
   "metadata": {},
   "source": [
    "The columns we'll use are\n",
    "- `DATE`: the date of each observation\n",
    "- `SNOW`: the total snowfall, in inches"
   ]
  },
  {
   "cell_type": "code",
   "execution_count": 2,
   "id": "7a16a48c-2b59-40f6-8f68-7336a23e4785",
   "metadata": {},
   "outputs": [
    {
     "data": {
      "text/plain": [
       "YEAR\n",
       "1967     28.6\n",
       "1968     44.7\n",
       "1969     99.2\n",
       "1970     66.8\n",
       "1971     54.6\n",
       "1972     68.7\n",
       "1973     12.5\n",
       "1974     46.5\n",
       "1975     61.9\n",
       "1976     57.7\n",
       "1977     65.5\n",
       "1978    100.6\n",
       "1979     34.4\n",
       "1980     27.7\n",
       "1981     54.2\n",
       "1982     64.1\n",
       "1983     50.2\n",
       "1984     56.3\n",
       "1985     49.7\n",
       "1986     38.3\n",
       "1987     89.3\n",
       "1988     53.5\n",
       "1989     38.5\n",
       "1990     52.5\n",
       "1991     30.7\n",
       "1992     39.0\n",
       "1993     80.1\n",
       "1994     88.7\n",
       "1995     46.0\n",
       "1996    124.2\n",
       "1997     77.1\n",
       "1998     24.1\n",
       "1999     56.6\n",
       "2000     43.7\n",
       "2001     90.8\n",
       "2002     61.5\n",
       "2003    112.0\n",
       "2004     51.8\n",
       "2005    110.7\n",
       "2006     40.6\n",
       "2007     54.2\n",
       "2008     59.1\n",
       "2009     85.8\n",
       "2010     57.6\n",
       "2011     82.3\n",
       "2012     31.1\n",
       "2013     99.1\n",
       "2014     80.6\n",
       "2015    141.1\n",
       "2016     64.0\n",
       "2017     68.0\n",
       "2018     90.4\n",
       "2019     59.6\n",
       "2020     12.2\n",
       "Name: SNOW, dtype: float64"
      ]
     },
     "execution_count": 2,
     "metadata": {},
     "output_type": "execute_result"
    }
   ],
   "source": [
    "# add a column which is just the year\n",
    "df['YEAR'] = df['DATE'].dt.year\n",
    "\n",
    "# groupby to add up the total snowfall for each year:\n",
    "snow = df.groupby('YEAR')['SNOW'].sum()\n",
    "snow"
   ]
  },
  {
   "cell_type": "code",
   "execution_count": 3,
   "id": "58db059c-4578-4ab5-9622-6d84749165e2",
   "metadata": {},
   "outputs": [
    {
     "data": {
      "text/plain": [
       "Text(0, 0.5, 'Total Annual Snowfall (inches)')"
      ]
     },
     "execution_count": 3,
     "metadata": {},
     "output_type": "execute_result"
    },
    {
     "data": {
      "image/png": "[encoded data removed]",
      "text/plain": [
       "<Figure size 432x288 with 1 Axes>"
      ]
     },
     "metadata": {
      "needs_background": "light"
     },
     "output_type": "display_data"
    }
   ],
   "source": [
    "# plot the results:\n",
    "fig, ax = plt.subplots()\n",
    "ax.plot(snow.index, snow, 'o')\n",
    "ax.set_title('Total Annual Snowfall in Norfolk County, MA')\n",
    "ax.set_xlabel(\"Year\")\n",
    "ax.set_ylabel(\"Total Annual Snowfall (inches)\")"
   ]
  },
  {
   "cell_type": "markdown",
   "id": "e231d884-84e9-47d6-883e-c29502e66b81",
   "metadata": {},
   "source": [
    "Just by looking at this, it's hard to say whether the snowfall is increasing, decreasing, or staying the same. Luckily, this kind of noisy question is exactly where Bayesian analysis shines!\n",
    "\n",
    "## Regression Model\n",
    "\n",
    "The foundation of any regression model is the assumption that a time series like this is the sum of two parts:\n",
    "1. A linear function of time, and\n",
    "1. A series of random values frawn from a distribution that is not changing over time\n",
    "\n",
    "Mathematically, the regression model is\n",
    "\n",
    "$$\n",
    "y = ax + b + \\epsilon\n",
    "$$\n",
    "\n",
    "Where\n",
    "- $y$ is the series of measurements (in our case, snowfall)\n",
    "- $x$ is the series of times (years)\n",
    "- $\\epsilon$ is the series of random values\n",
    "- $a$ and $b$ are the slope and intercept of the line through the data. They are unknown parameters, so we will use the data to estimate them\n",
    "\n",
    "We don't know the distribution of $\\epsilon$, so we'll additionally make the assumption that it is a normal distribution with mean 0 and and unknown standard deviation, $\\sigma$. \n",
    "\n",
    "To see whether this assumption is reasonable, I'll plot the distribution of total snowdall and a normal model with the same mean and standard deviation:"
   ]
  },
  {
   "cell_type": "code",
   "execution_count": 4,
   "id": "f453400b-c449-47af-9b56-c14894a11e21",
   "metadata": {},
   "outputs": [
    {
     "data": {
      "text/plain": [
       "(62.56851851851851, 27.1357207799914)"
      ]
     },
     "execution_count": 4,
     "metadata": {},
     "output_type": "execute_result"
    }
   ],
   "source": [
    "from empiricaldist import Pmf\n",
    "\n",
    "pmf_snowfall = Pmf.from_seq(snow)\n",
    "\n",
    "mean, std = pmf_snowfall.mean(), pmf_snowfall.std()\n",
    "mean, std"
   ]
  },
  {
   "cell_type": "code",
   "execution_count": 5,
   "id": "4b972525-468f-4d62-9b9c-b7713f78648e",
   "metadata": {},
   "outputs": [
    {
     "data": {
      "text/plain": [
       "<AxesSubplot:>"
      ]
     },
     "execution_count": 5,
     "metadata": {},
     "output_type": "execute_result"
    },
    {
     "data": {
      "image/png": "[encoded data removed]",
      "text/plain": [
       "<Figure size 432x288 with 1 Axes>"
      ]
     },
     "metadata": {
      "needs_background": "light"
     },
     "output_type": "display_data"
    }
   ],
   "source": [
    "from scipy.stats import norm\n",
    "\n",
    "dist = norm(mean, std)\n",
    "qs = pmf_snowfall.qs\n",
    "ps = dist.cdf(qs)\n",
    "\n",
    "plt.plot(qs, ps)\n",
    "pmf_snowfall.make_cdf().plot()"
   ]
  },
  {
   "cell_type": "markdown",
   "id": "dcdc6a78-f794-4314-8f43-2dad48668eef",
   "metadata": {},
   "source": [
    "From this it looks like are a few more slightly below-average years of snowfall, but overall this looks like a good fit.\n",
    "\n",
    "## Least Squares Regression\n",
    "\n",
    "Our regression model has three parameters: slope, intercept, and standard deviation of $\\epsilon$. To help us choose priors, we'll use `statsmodel` to fit a line to the data by least-squares regression."
   ]
  },
  {
   "cell_type": "code",
   "execution_count": 6,
   "id": "c9d642c0-9fcd-4a57-ab28-a27476c25195",
   "metadata": {},
   "outputs": [
    {
     "data": {
      "text/html": [
       "<div>\n",
       "<style scoped>\n",
       "    .dataframe tbody tr th:only-of-type {\n",
       "        vertical-align: middle;\n",
       "    }\n",
       "\n",
       "    .dataframe tbody tr th {\n",
       "        vertical-align: top;\n",
       "    }\n",
       "\n",
       "    .dataframe thead th {\n",
       "        text-align: right;\n",
       "    }\n",
       "</style>\n",
       "<table border=\"1\" class=\"dataframe\">\n",
       "  <thead>\n",
       "    <tr style=\"text-align: right;\">\n",
       "      <th></th>\n",
       "      <th>YEAR</th>\n",
       "      <th>SNOW</th>\n",
       "    </tr>\n",
       "  </thead>\n",
       "  <tbody>\n",
       "    <tr>\n",
       "      <th>0</th>\n",
       "      <td>1967</td>\n",
       "      <td>28.6</td>\n",
       "    </tr>\n",
       "    <tr>\n",
       "      <th>1</th>\n",
       "      <td>1968</td>\n",
       "      <td>44.7</td>\n",
       "    </tr>\n",
       "    <tr>\n",
       "      <th>2</th>\n",
       "      <td>1969</td>\n",
       "      <td>99.2</td>\n",
       "    </tr>\n",
       "  </tbody>\n",
       "</table>\n",
       "</div>"
      ],
      "text/plain": [
       "   YEAR  SNOW\n",
       "0  1967  28.6\n",
       "1  1968  44.7\n",
       "2  1969  99.2"
      ]
     },
     "execution_count": 6,
     "metadata": {},
     "output_type": "execute_result"
    }
   ],
   "source": [
    "# convert snow back to a DataFrame\n",
    "data = snow.reset_index()\n",
    "data.head(3)"
   ]
  },
  {
   "cell_type": "code",
   "execution_count": 7,
   "id": "619aa1c0-8d39-43b3-8981-67f0865032f7",
   "metadata": {},
   "outputs": [
    {
     "data": {
      "text/plain": [
       "1994.0"
      ]
     },
     "execution_count": 7,
     "metadata": {},
     "output_type": "execute_result"
    }
   ],
   "source": [
    "# centre the data by subtracting off the mean\n",
    "offset = data['YEAR'].mean().round()\n",
    "data['x'] = data['YEAR'] - offset\n",
    "offset"
   ]
  },
  {
   "cell_type": "code",
   "execution_count": 8,
   "id": "cf3768ef-e7f5-440a-aacd-a1d226af950c",
   "metadata": {},
   "outputs": [
    {
     "data": {
      "text/plain": [
       "Intercept    62.780489\n",
       "x             0.423941\n",
       "dtype: float64"
      ]
     },
     "execution_count": 8,
     "metadata": {},
     "output_type": "execute_result"
    }
   ],
   "source": [
    "# add the same column to data so the dependent variable has a standard name:\n",
    "data['y'] = data['SNOW']\n",
    "\n",
    "# use statsmodel to compute the least-squares fit:\n",
    "import statsmodels.formula.api as smf\n",
    "\n",
    "formula = \"y ~ x\"\n",
    "results = smf.ols(formula, data=data).fit()\n",
    "results.params"
   ]
  },
  {
   "cell_type": "markdown",
   "id": "b14f1eb8-c295-4be0-be1c-cc6fa36e4f65",
   "metadata": {},
   "source": [
    "These parameters tell us that the snowfall in year 0 (1994) should have been about 64\", and that it seems to be increasing at a rate of a little less than half an inch a year.\n",
    "\n",
    "The variable `results` also provides `resid`, which is an array of residuals - that is, the differences between the data and the fitted line. The standard deviation of the resifuals is an estimate of $\\sigma$:"
   ]
  },
  {
   "cell_type": "code",
   "execution_count": 9,
   "id": "0e67ae2e-7edf-430c-b0e1-f228182cd977",
   "metadata": {},
   "outputs": [
    {
     "data": {
      "text/plain": [
       "26.566114647742996"
      ]
     },
     "execution_count": 9,
     "metadata": {},
     "output_type": "execute_result"
    }
   ],
   "source": [
    "results.resid.std()"
   ]
  },
  {
   "cell_type": "markdown",
   "id": "0c82ab71-27d1-43f0-8acc-fbcbea1ce286",
   "metadata": {},
   "source": [
    "## Priors\n",
    "\n",
    "Use uniform priors for each of the parameters:"
   ]
  },
  {
   "cell_type": "code",
   "execution_count": 10,
   "id": "a8e435a9-987f-412a-8d5a-54c5c9192c88",
   "metadata": {},
   "outputs": [
    {
     "data": {
      "text/html": [
       "<div>\n",
       "<style scoped>\n",
       "    .dataframe tbody tr th:only-of-type {\n",
       "        vertical-align: middle;\n",
       "    }\n",
       "\n",
       "    .dataframe tbody tr th {\n",
       "        vertical-align: top;\n",
       "    }\n",
       "\n",
       "    .dataframe thead th {\n",
       "        text-align: right;\n",
       "    }\n",
       "</style>\n",
       "<table border=\"1\" class=\"dataframe\">\n",
       "  <thead>\n",
       "    <tr style=\"text-align: right;\">\n",
       "      <th></th>\n",
       "      <th></th>\n",
       "      <th></th>\n",
       "      <th>probs</th>\n",
       "    </tr>\n",
       "    <tr>\n",
       "      <th>Slope</th>\n",
       "      <th>Intercept</th>\n",
       "      <th>Sigma</th>\n",
       "      <th></th>\n",
       "    </tr>\n",
       "  </thead>\n",
       "  <tbody>\n",
       "    <tr>\n",
       "      <th rowspan=\"3\" valign=\"top\">-0.5</th>\n",
       "      <th rowspan=\"3\" valign=\"top\">54.0</th>\n",
       "      <th>20.0</th>\n",
       "      <td>0.000015</td>\n",
       "    </tr>\n",
       "    <tr>\n",
       "      <th>20.5</th>\n",
       "      <td>0.000015</td>\n",
       "    </tr>\n",
       "    <tr>\n",
       "      <th>21.0</th>\n",
       "      <td>0.000015</td>\n",
       "    </tr>\n",
       "  </tbody>\n",
       "</table>\n",
       "</div>"
      ],
      "text/plain": [
       "Slope  Intercept  Sigma\n",
       "-0.5   54.0       20.0     0.000015\n",
       "                  20.5     0.000015\n",
       "                  21.0     0.000015\n",
       "Name: , dtype: float64"
      ]
     },
     "execution_count": 10,
     "metadata": {},
     "output_type": "execute_result"
    }
   ],
   "source": [
    "from utils import make_uniform, make_joint\n",
    "\n",
    "qs = np.linspace(-0.5, 1.5, 51)\n",
    "prior_slope = make_uniform(qs, \"Slope\")\n",
    "\n",
    "qs = np.linspace(54, 75, 41)\n",
    "prior_intercept = make_uniform(qs, \"Intercept\")\n",
    "\n",
    "qs = np.linspace(20, 35, 31)\n",
    "prior_sigma = make_uniform(qs, \"Sigma\")\n",
    "\n",
    "# creating a function to represent a joint distribution with three parameters:\n",
    "def make_joint3(pmf1, pmf2, pmf3):\n",
    "    \"\"\" Make a joint distribution with three parameters \"\"\"\n",
    "    joint2 = make_joint(pmf2, pmf1).stack()\n",
    "    joint3 = make_joint(pmf3, joint2).stack()\n",
    "    return Pmf(joint3)\n",
    "\n",
    "prior = make_joint3(prior_slope, prior_intercept, prior_sigma)\n",
    "prior.head(3)"
   ]
  },
  {
   "cell_type": "markdown",
   "id": "afeb778d-41be-4eed-89ce-742d9a43acb8",
   "metadata": {},
   "source": [
    "Note that the size is getting pretty large - in this case, it is the product of the number of each parameter that we are testing. That means it is $51 * 41 * 31 = 64 821$.\n",
    "\n",
    "## Likelihood\n",
    "\n",
    "Now we'll compute the likelihood of the data. To do so, we'll assume that we know the values of the parameters:"
   ]
  },
  {
   "cell_type": "code",
   "execution_count": 11,
   "id": "9eab3b6b-069c-4dc9-a63b-7375faa5c07d",
   "metadata": {},
   "outputs": [],
   "source": [
    "inter = 64\n",
    "slope = 0.51\n",
    "sigma = 25\n",
    "\n",
    "xs = data['x']\n",
    "ys = data['y']\n",
    "\n",
    "# compute the residuals\n",
    "expected = slope * xs + inter\n",
    "resid = ys - expected"
   ]
  },
  {
   "cell_type": "markdown",
   "id": "44f199c9-f09d-41a8-a0ae-52ef266b7790",
   "metadata": {},
   "source": [
    "According to our model, the residuals should follow a normal distribution with mean $0$ and a standard deviation of $\\sigma$. So we can compute the likelihood of each residual value using `norm` from `scipy.stats`:"
   ]
  },
  {
   "cell_type": "code",
   "execution_count": 12,
   "id": "2205b659-434a-4f3c-8862-0a3bedf1f1cd",
   "metadata": {},
   "outputs": [
    {
     "data": {
      "text/plain": [
       "8.030916905259667e-111"
      ]
     },
     "execution_count": 12,
     "metadata": {},
     "output_type": "execute_result"
    }
   ],
   "source": [
    "densities = norm(0, sigma).pdf(resid)\n",
    "\n",
    "likelihood = densities.prod()\n",
    "likelihood"
   ]
  },
  {
   "cell_type": "markdown",
   "id": "89fbaeb6-e240-48b4-b283-f286508f3958",
   "metadata": {},
   "source": [
    "## The Update"
   ]
  },
  {
   "cell_type": "code",
   "execution_count": 13,
   "id": "323fb822-d5bd-47c0-989d-71d14a1b8170",
   "metadata": {},
   "outputs": [],
   "source": [
    "likelihood = prior.copy()\n",
    "\n",
    "for slope, inter, sigma in prior.index:\n",
    "    expected = slope * xs + inter\n",
    "    resid = ys - expected\n",
    "    densities = norm.pdf(resid, 0, sigma)\n",
    "    likelihood[slope, inter, sigma] = densities.prod()"
   ]
  },
  {
   "cell_type": "markdown",
   "id": "1eb0ae12-065f-4071-94f6-f4efc35f883c",
   "metadata": {},
   "source": [
    "This computation takes quite a while - we are approaching the limit of what we can do with a grid approximation!"
   ]
  },
  {
   "cell_type": "code",
   "execution_count": 14,
   "id": "39614223-6b57-4b15-b02a-91bce1f014a8",
   "metadata": {},
   "outputs": [
    {
     "data": {
      "text/plain": [
       "5.449892039155885e-112"
      ]
     },
     "execution_count": 14,
     "metadata": {},
     "output_type": "execute_result"
    }
   ],
   "source": [
    "posterior = prior * likelihood\n",
    "posterior.normalize()"
   ]
  },
  {
   "cell_type": "markdown",
   "id": "8064b28a-ea2d-4288-99dd-2cef6d6ab952",
   "metadata": {},
   "source": [
    "The result is a PMF with a 3-level index: `slope`, `inter`, and `sigma`. We can grab the marginals:"
   ]
  },
  {
   "cell_type": "code",
   "execution_count": 15,
   "id": "9163b6d6-1e6f-44b5-918e-83917afd6695",
   "metadata": {},
   "outputs": [
    {
     "name": "stderr",
     "output_type": "stream",
     "text": [
      "/home/eric/documents/tutorials/ThinkBayes/venv/lib/python3.8/site-packages/empiricaldist/empiricaldist.py:673: FutureWarning: Using the level keyword in DataFrame and Series aggregations is deprecated and will be removed in a future version. Use groupby instead. df.sum(level=1) should use df.groupby(level=1).sum().\n",
      "  return Pmf(self.sum(level=i))\n"
     ]
    },
    {
     "data": {
      "text/plain": [
       "<AxesSubplot:xlabel='Sigma'>"
      ]
     },
     "execution_count": 15,
     "metadata": {},
     "output_type": "execute_result"
    },
    {
     "data": {
      "image/png": "[encoded data removed]",
      "text/plain": [
       "<Figure size 432x288 with 1 Axes>"
      ]
     },
     "metadata": {
      "needs_background": "light"
     },
     "output_type": "display_data"
    }
   ],
   "source": [
    "posterior_slope = posterior.marginal(0)\n",
    "posterior_inter = posterior.marginal(1)\n",
    "posterior_sigma = posterior.marginal(2)\n",
    "\n",
    "posterior_sigma.plot()"
   ]
  },
  {
   "cell_type": "markdown",
   "id": "68d1f370-4f39-47b5-aa70-b41c265b5e80",
   "metadata": {},
   "source": [
    "We don't actually care about sigma - we just need to estimate it as part of our model. We show it here for two reasons:\n",
    "1. Is the location consistent with our expectation? In this case, yes - it roughly matches our previously-calculated sigma\n",
    "2. Are the probabilities near the edge close to zero? That indicates that we have considered the relevant values of the parameters. In our case, again it looks good."
   ]
  },
  {
   "cell_type": "code",
   "execution_count": 16,
   "id": "fd41e626-cc5a-47c0-a580-1669a75c52a3",
   "metadata": {},
   "outputs": [
    {
     "data": {
      "text/plain": [
       "<AxesSubplot:xlabel='Intercept'>"
      ]
     },
     "execution_count": 16,
     "metadata": {},
     "output_type": "execute_result"
    },
    {
     "data": {
      "image/png": "[encoded data removed]",
      "text/plain": [
       "<Figure size 432x288 with 1 Axes>"
      ]
     },
     "metadata": {
      "needs_background": "light"
     },
     "output_type": "display_data"
    }
   ],
   "source": [
    "posterior_inter.plot()"
   ]
  },
  {
   "cell_type": "code",
   "execution_count": 17,
   "id": "fecec4c9-460b-4f2d-973c-e5a996d8ddf9",
   "metadata": {},
   "outputs": [
    {
     "data": {
      "text/plain": [
       "<AxesSubplot:xlabel='Slope'>"
      ]
     },
     "execution_count": 17,
     "metadata": {},
     "output_type": "execute_result"
    },
    {
     "data": {
      "image/png": "[encoded data removed]",
      "text/plain": [
       "<Figure size 432x288 with 1 Axes>"
      ]
     },
     "metadata": {
      "needs_background": "light"
     },
     "output_type": "display_data"
    }
   ],
   "source": [
    "posterior_slope.plot()"
   ]
  },
  {
   "cell_type": "code",
   "execution_count": 18,
   "id": "290d979a-c931-4654-9758-297e10ac857a",
   "metadata": {},
   "outputs": [
    {
     "data": {
      "text/plain": [
       "array([0.02, 0.82])"
      ]
     },
     "execution_count": 18,
     "metadata": {},
     "output_type": "execute_result"
    }
   ],
   "source": [
    "posterior_slope.credible_interval(0.9)"
   ]
  },
  {
   "cell_type": "markdown",
   "id": "1f1009e4-79d4-4cc0-92ae-9d3dd108fe12",
   "metadata": {},
   "source": [
    "This interval is pretty wide. In fact, there is even a non-negligible chance (about 2%) that it is negative.\n",
    "\n",
    "This is an example of how with noisy data, sometimes your intuition can be wrong!\n",
    "\n",
    "## Marathon World Record\n",
    "\n",
    "For many sporting events, the world record pace / time seems to follow a linear trend. Let's consider the world-record time for the male marathon, and try to fit a linear model to estimate when the time will be less than two hours."
   ]
  },
  {
   "cell_type": "code",
   "execution_count": 19,
   "id": "1cf1b902-dea6-4801-bf3c-315f4c2d022c",
   "metadata": {},
   "outputs": [
    {
     "data": {
      "text/plain": [
       "5"
      ]
     },
     "execution_count": 19,
     "metadata": {},
     "output_type": "execute_result"
    }
   ],
   "source": [
    "url = 'https://en.wikipedia.org/wiki/Marathon_world_record_progression#Men'\n",
    "tables = pd.read_html(url)\n",
    "len(tables)"
   ]
  },
  {
   "cell_type": "code",
   "execution_count": 20,
   "id": "9b832c72-5abd-4feb-998f-e29a0c159e13",
   "metadata": {},
   "outputs": [
    {
     "data": {
      "text/html": [
       "<div>\n",
       "<style scoped>\n",
       "    .dataframe tbody tr th:only-of-type {\n",
       "        vertical-align: middle;\n",
       "    }\n",
       "\n",
       "    .dataframe tbody tr th {\n",
       "        vertical-align: top;\n",
       "    }\n",
       "\n",
       "    .dataframe thead th {\n",
       "        text-align: right;\n",
       "    }\n",
       "</style>\n",
       "<table border=\"1\" class=\"dataframe\">\n",
       "  <thead>\n",
       "    <tr style=\"text-align: right;\">\n",
       "      <th></th>\n",
       "      <th>Time</th>\n",
       "      <th>Name</th>\n",
       "      <th>Nationality</th>\n",
       "      <th>Date</th>\n",
       "      <th>Event/Place</th>\n",
       "      <th>Source</th>\n",
       "      <th>Notes</th>\n",
       "    </tr>\n",
       "  </thead>\n",
       "  <tbody>\n",
       "    <tr>\n",
       "      <th>0</th>\n",
       "      <td>2:55:18.4</td>\n",
       "      <td>Johnny Hayes</td>\n",
       "      <td>United States</td>\n",
       "      <td>July 24, 1908</td>\n",
       "      <td>London, United Kingdom</td>\n",
       "      <td>IAAF[53]</td>\n",
       "      <td>Time was officially recorded as 2:55:18 2/5.[5...</td>\n",
       "    </tr>\n",
       "    <tr>\n",
       "      <th>1</th>\n",
       "      <td>2:52:45.4</td>\n",
       "      <td>Robert Fowler</td>\n",
       "      <td>United States</td>\n",
       "      <td>January 1, 1909</td>\n",
       "      <td>Yonkers,[nb 5] United States</td>\n",
       "      <td>IAAF[53]</td>\n",
       "      <td>Note.[56]</td>\n",
       "    </tr>\n",
       "    <tr>\n",
       "      <th>2</th>\n",
       "      <td>2:46:52.8</td>\n",
       "      <td>James Clark</td>\n",
       "      <td>United States</td>\n",
       "      <td>February 12, 1909</td>\n",
       "      <td>New York City, United States</td>\n",
       "      <td>IAAF[53]</td>\n",
       "      <td>Note.[56]</td>\n",
       "    </tr>\n",
       "  </tbody>\n",
       "</table>\n",
       "</div>"
      ],
      "text/plain": [
       "        Time           Name    Nationality               Date  \\\n",
       "0  2:55:18.4   Johnny Hayes  United States      July 24, 1908   \n",
       "1  2:52:45.4  Robert Fowler  United States    January 1, 1909   \n",
       "2  2:46:52.8    James Clark  United States  February 12, 1909   \n",
       "\n",
       "                    Event/Place    Source  \\\n",
       "0        London, United Kingdom  IAAF[53]   \n",
       "1  Yonkers,[nb 5] United States  IAAF[53]   \n",
       "2  New York City, United States  IAAF[53]   \n",
       "\n",
       "                                               Notes  \n",
       "0  Time was officially recorded as 2:55:18 2/5.[5...  \n",
       "1                                          Note.[56]  \n",
       "2                                          Note.[56]  "
      ]
     },
     "execution_count": 20,
     "metadata": {},
     "output_type": "execute_result"
    }
   ],
   "source": [
    "table = tables[0]\n",
    "table.head(3)"
   ]
  },
  {
   "cell_type": "code",
   "execution_count": 21,
   "id": "b547f838-c147-40ec-b4ef-40e08f50b435",
   "metadata": {},
   "outputs": [
    {
     "data": {
      "text/plain": [
       "0   1908-07-24\n",
       "1   1909-01-01\n",
       "2   1909-02-12\n",
       "Name: date, dtype: datetime64[ns]"
      ]
     },
     "execution_count": 21,
     "metadata": {},
     "output_type": "execute_result"
    }
   ],
   "source": [
    "table['date'] = pd.to_datetime(table['Date'], errors='coerce')\n",
    "table['date'].head(3)"
   ]
  },
  {
   "cell_type": "code",
   "execution_count": 22,
   "id": "c0d9c4d3-57c4-44e7-bbf0-40444b626c97",
   "metadata": {},
   "outputs": [
    {
     "data": {
      "text/plain": [
       "0   0 days 02:55:18.400000\n",
       "1   0 days 02:52:45.400000\n",
       "2   0 days 02:46:52.800000\n",
       "Name: time, dtype: timedelta64[ns]"
      ]
     },
     "execution_count": 22,
     "metadata": {},
     "output_type": "execute_result"
    }
   ],
   "source": [
    "table['time'] = pd.to_timedelta(table['Time'])\n",
    "table['time'].head(3)"
   ]
  },
  {
   "cell_type": "code",
   "execution_count": 23,
   "id": "4d84b6b3-7a77-4c44-905e-03767fba45ba",
   "metadata": {},
   "outputs": [
    {
     "data": {
      "text/plain": [
       "0    8.967143\n",
       "1    9.099504\n",
       "2    9.419942\n",
       "3    9.465508\n",
       "4    9.672854\n",
       "Name: y, dtype: float64"
      ]
     },
     "execution_count": 23,
     "metadata": {},
     "output_type": "execute_result"
    }
   ],
   "source": [
    "# convert the time to pace (miles / hr)\n",
    "table['y'] = 26.2 / table['time'].dt.total_seconds() * 3600\n",
    "table['y'].head()"
   ]
  },
  {
   "cell_type": "code",
   "execution_count": 24,
   "id": "c0b7d5e8-d1b5-4780-bad7-0bcf83e09e33",
   "metadata": {},
   "outputs": [
    {
     "data": {
      "image/png": "[encoded data removed]",
      "text/plain": [
       "<Figure size 432x288 with 1 Axes>"
      ]
     },
     "metadata": {
      "needs_background": "light"
     },
     "output_type": "display_data"
    }
   ],
   "source": [
    "# to plot the speeds\n",
    "def plot_speeds(df):\n",
    "    \"\"\" Plot the speeds for a marathon time \"\"\"\n",
    "    plt.axhline(13.1, color=\"C5\", linestyle=\"dashed\")\n",
    "    plt.plot(df['date'], df['y'], 'o',\n",
    "    label=\"World Record Speed\",\n",
    "    color=\"C1\", alpha=0.5)\n",
    "    \n",
    "plot_speeds(table)"
   ]
  },
  {
   "cell_type": "code",
   "execution_count": 25,
   "id": "40cc7585-fcbb-4998-9d9a-6bf5e34e03a9",
   "metadata": {},
   "outputs": [
    {
     "data": {
      "text/html": [
       "<div>\n",
       "<style scoped>\n",
       "    .dataframe tbody tr th:only-of-type {\n",
       "        vertical-align: middle;\n",
       "    }\n",
       "\n",
       "    .dataframe tbody tr th {\n",
       "        vertical-align: top;\n",
       "    }\n",
       "\n",
       "    .dataframe thead th {\n",
       "        text-align: right;\n",
       "    }\n",
       "</style>\n",
       "<table border=\"1\" class=\"dataframe\">\n",
       "  <thead>\n",
       "    <tr style=\"text-align: right;\">\n",
       "      <th></th>\n",
       "      <th>Time</th>\n",
       "      <th>Name</th>\n",
       "      <th>Nationality</th>\n",
       "      <th>Date</th>\n",
       "      <th>Event/Place</th>\n",
       "      <th>Source</th>\n",
       "      <th>Notes</th>\n",
       "      <th>date</th>\n",
       "      <th>time</th>\n",
       "      <th>y</th>\n",
       "    </tr>\n",
       "  </thead>\n",
       "  <tbody>\n",
       "    <tr>\n",
       "      <th>32</th>\n",
       "      <td>2:09:28.8</td>\n",
       "      <td>Ron Hill</td>\n",
       "      <td>United Kingdom</td>\n",
       "      <td>July 23, 1970</td>\n",
       "      <td>Edinburgh, Scotland</td>\n",
       "      <td>ARRS[9]</td>\n",
       "      <td>NaN</td>\n",
       "      <td>1970-07-23</td>\n",
       "      <td>0 days 02:09:28.800000</td>\n",
       "      <td>12.140871</td>\n",
       "    </tr>\n",
       "    <tr>\n",
       "      <th>33</th>\n",
       "      <td>2:09:12</td>\n",
       "      <td>Ian Thompson</td>\n",
       "      <td>United Kingdom</td>\n",
       "      <td>January 31, 1974</td>\n",
       "      <td>Christchurch, New Zealand</td>\n",
       "      <td>ARRS[9]</td>\n",
       "      <td>NaN</td>\n",
       "      <td>1974-01-31</td>\n",
       "      <td>0 days 02:09:12</td>\n",
       "      <td>12.167183</td>\n",
       "    </tr>\n",
       "    <tr>\n",
       "      <th>34</th>\n",
       "      <td>2:09:05.6</td>\n",
       "      <td>Shigeru So</td>\n",
       "      <td>Japan</td>\n",
       "      <td>February 5, 1978</td>\n",
       "      <td>Beppu-Ōita Marathon</td>\n",
       "      <td>ARRS[9]</td>\n",
       "      <td>NaN</td>\n",
       "      <td>1978-02-05</td>\n",
       "      <td>0 days 02:09:05.600000</td>\n",
       "      <td>12.177236</td>\n",
       "    </tr>\n",
       "    <tr>\n",
       "      <th>35</th>\n",
       "      <td>2:09:01</td>\n",
       "      <td>Gerard Nijboer</td>\n",
       "      <td>Netherlands</td>\n",
       "      <td>April 26, 1980</td>\n",
       "      <td>Amsterdam Marathon</td>\n",
       "      <td>ARRS[9]</td>\n",
       "      <td>NaN</td>\n",
       "      <td>1980-04-26</td>\n",
       "      <td>0 days 02:09:01</td>\n",
       "      <td>12.184472</td>\n",
       "    </tr>\n",
       "    <tr>\n",
       "      <th>36</th>\n",
       "      <td>2:08:18</td>\n",
       "      <td>Robert De Castella</td>\n",
       "      <td>Australia</td>\n",
       "      <td>December 6, 1981</td>\n",
       "      <td>Fukuoka Marathon</td>\n",
       "      <td>IAAF,[53] ARRS[9]</td>\n",
       "      <td>NaN</td>\n",
       "      <td>1981-12-06</td>\n",
       "      <td>0 days 02:08:18</td>\n",
       "      <td>12.252533</td>\n",
       "    </tr>\n",
       "  </tbody>\n",
       "</table>\n",
       "</div>"
      ],
      "text/plain": [
       "         Time                Name     Nationality              Date  \\\n",
       "32  2:09:28.8            Ron Hill  United Kingdom     July 23, 1970   \n",
       "33    2:09:12        Ian Thompson  United Kingdom  January 31, 1974   \n",
       "34  2:09:05.6          Shigeru So           Japan  February 5, 1978   \n",
       "35    2:09:01      Gerard Nijboer     Netherlands    April 26, 1980   \n",
       "36    2:08:18  Robert De Castella       Australia  December 6, 1981   \n",
       "\n",
       "                  Event/Place             Source Notes       date  \\\n",
       "32        Edinburgh, Scotland            ARRS[9]   NaN 1970-07-23   \n",
       "33  Christchurch, New Zealand            ARRS[9]   NaN 1974-01-31   \n",
       "34        Beppu-Ōita Marathon            ARRS[9]   NaN 1978-02-05   \n",
       "35         Amsterdam Marathon            ARRS[9]   NaN 1980-04-26   \n",
       "36           Fukuoka Marathon  IAAF,[53] ARRS[9]   NaN 1981-12-06   \n",
       "\n",
       "                     time          y  \n",
       "32 0 days 02:09:28.800000  12.140871  \n",
       "33        0 days 02:09:12  12.167183  \n",
       "34 0 days 02:09:05.600000  12.177236  \n",
       "35        0 days 02:09:01  12.184472  \n",
       "36        0 days 02:08:18  12.252533  "
      ]
     },
     "execution_count": 25,
     "metadata": {},
     "output_type": "execute_result"
    }
   ],
   "source": [
    "# let's just focus on the more recent times:\n",
    "recent = table['date'] > pd.to_datetime('1970')\n",
    "data = table.loc[recent].copy()\n",
    "data.head()"
   ]
  },
  {
   "cell_type": "code",
   "execution_count": 26,
   "id": "77c62c78-877b-49c9-92b5-a041529e6092",
   "metadata": {},
   "outputs": [
    {
     "data": {
      "image/png": "[encoded data removed]",
      "text/plain": [
       "<Figure size 432x288 with 1 Axes>"
      ]
     },
     "metadata": {
      "needs_background": "light"
     },
     "output_type": "display_data"
    }
   ],
   "source": [
    "plot_speeds(data)"
   ]
  },
  {
   "cell_type": "code",
   "execution_count": 27,
   "id": "5829acf1-5e9b-4388-9879-7f50bd4e9c07",
   "metadata": {},
   "outputs": [
    {
     "data": {
      "text/plain": [
       "Intercept    12.460507\n",
       "x             0.015464\n",
       "dtype: float64"
      ]
     },
     "execution_count": 27,
     "metadata": {},
     "output_type": "execute_result"
    }
   ],
   "source": [
    "# prepare the data by subtracting away the midpoint\n",
    "offset = pd.to_datetime('1995')\n",
    "timedelta = table['date'] - offset\n",
    "data['x'] = timedelta.dt.total_seconds() / 3600 / 24 / 365.24\n",
    "\n",
    "# again, let's use least squares regression to get estimates for our parameters:\n",
    "import statsmodels.formula.api as smf\n",
    "\n",
    "formula = \"y ~ x\"\n",
    "results = smf.ols(formula, data=data).fit()\n",
    "results.params"
   ]
  },
  {
   "cell_type": "code",
   "execution_count": 28,
   "id": "c52cc438-5d31-4d48-8890-03ffbbd3a944",
   "metadata": {},
   "outputs": [
    {
     "data": {
      "text/plain": [
       "0.04139961220193233"
      ]
     },
     "execution_count": 28,
     "metadata": {},
     "output_type": "execute_result"
    }
   ],
   "source": [
    "# again, we can use the std of the residuals as a point estimate for `sigma`\n",
    "results.resid.std()"
   ]
  },
  {
   "cell_type": "markdown",
   "id": "d49a8911-09d3-4157-8f12-87a3d9455c57",
   "metadata": {},
   "source": [
    "## The Priors\n",
    "\n",
    "Again, let's start with uniform priors for `slope`, `intercept`, and `sigma`"
   ]
  },
  {
   "cell_type": "code",
   "execution_count": 29,
   "id": "39411e0a-3fa9-4f3b-8dd9-8723d751c713",
   "metadata": {},
   "outputs": [
    {
     "data": {
      "text/html": [
       "<div>\n",
       "<style scoped>\n",
       "    .dataframe tbody tr th:only-of-type {\n",
       "        vertical-align: middle;\n",
       "    }\n",
       "\n",
       "    .dataframe tbody tr th {\n",
       "        vertical-align: top;\n",
       "    }\n",
       "\n",
       "    .dataframe thead th {\n",
       "        text-align: right;\n",
       "    }\n",
       "</style>\n",
       "<table border=\"1\" class=\"dataframe\">\n",
       "  <thead>\n",
       "    <tr style=\"text-align: right;\">\n",
       "      <th></th>\n",
       "      <th></th>\n",
       "      <th></th>\n",
       "      <th>probs</th>\n",
       "    </tr>\n",
       "    <tr>\n",
       "      <th>Slope</th>\n",
       "      <th>Intercept</th>\n",
       "      <th>Sigma</th>\n",
       "      <th></th>\n",
       "    </tr>\n",
       "  </thead>\n",
       "  <tbody>\n",
       "    <tr>\n",
       "      <th rowspan=\"3\" valign=\"top\">0.012</th>\n",
       "      <th rowspan=\"3\" valign=\"top\">12.4</th>\n",
       "      <th>0.010000</th>\n",
       "      <td>0.000015</td>\n",
       "    </tr>\n",
       "    <tr>\n",
       "      <th>0.016667</th>\n",
       "      <td>0.000015</td>\n",
       "    </tr>\n",
       "    <tr>\n",
       "      <th>0.023333</th>\n",
       "      <td>0.000015</td>\n",
       "    </tr>\n",
       "  </tbody>\n",
       "</table>\n",
       "</div>"
      ],
      "text/plain": [
       "Slope  Intercept  Sigma   \n",
       "0.012  12.4       0.010000    0.000015\n",
       "                  0.016667    0.000015\n",
       "                  0.023333    0.000015\n",
       "Name: , dtype: float64"
      ]
     },
     "execution_count": 29,
     "metadata": {},
     "output_type": "execute_result"
    }
   ],
   "source": [
    "qs = np.linspace(0.012, 0.018, 51)\n",
    "prior_slope = make_uniform(qs, 'Slope')\n",
    "\n",
    "qs = np.linspace(12.4, 12.5, 41)\n",
    "prior_inter = make_uniform(qs, \"Intercept\")\n",
    "\n",
    "qs = np.linspace(0.01, 0.21, 31)\n",
    "prior_sigma = make_uniform(qs, \"Sigma\")\n",
    "\n",
    "prior = make_joint3(prior_slope, prior_inter, prior_sigma)\n",
    "prior.head()"
   ]
  },
  {
   "cell_type": "code",
   "execution_count": 30,
   "id": "fddf971a-fc96-4ea2-b18e-7ee98e9e458f",
   "metadata": {},
   "outputs": [
    {
     "data": {
      "text/plain": [
       "654100803618.6069"
      ]
     },
     "execution_count": 30,
     "metadata": {},
     "output_type": "execute_result"
    }
   ],
   "source": [
    "# Now compute the likelihood as usual\n",
    "xs = data['x']\n",
    "ys = data['y']\n",
    "likelihood = prior.copy()\n",
    "\n",
    "for slope, inter, sigma in prior.index:\n",
    "    estimated = inter + slope * xs\n",
    "    residuals = ys - estimated\n",
    "    likes = norm.pdf(residuals, 0, sigma)\n",
    "    likelihood[slope, inter, sigma] = likes.prod()\n",
    "    \n",
    "posterior = prior * likelihood\n",
    "posterior.normalize()"
   ]
  },
  {
   "cell_type": "code",
   "execution_count": 31,
   "id": "6f4e9d6d-eba3-4bfd-a4d0-a9a508765fd1",
   "metadata": {},
   "outputs": [
    {
     "name": "stderr",
     "output_type": "stream",
     "text": [
      "/home/eric/documents/tutorials/ThinkBayes/venv/lib/python3.8/site-packages/empiricaldist/empiricaldist.py:673: FutureWarning: Using the level keyword in DataFrame and Series aggregations is deprecated and will be removed in a future version. Use groupby instead. df.sum(level=1) should use df.groupby(level=1).sum().\n",
      "  return Pmf(self.sum(level=i))\n"
     ]
    }
   ],
   "source": [
    "posterior_slope = posterior.marginal(0)\n",
    "posterior_inter = posterior.marginal(1)\n",
    "posterior_sigma = posterior.marginal(2)"
   ]
  },
  {
   "cell_type": "code",
   "execution_count": 32,
   "id": "011ac570-71b1-45c3-b6cc-97b9a6cde972",
   "metadata": {},
   "outputs": [
    {
     "data": {
      "text/plain": [
       "<AxesSubplot:xlabel='Intercept'>"
      ]
     },
     "execution_count": 32,
     "metadata": {},
     "output_type": "execute_result"
    },
    {
     "data": {
      "image/png": "[encoded data removed]",
      "text/plain": [
       "<Figure size 432x288 with 1 Axes>"
      ]
     },
     "metadata": {
      "needs_background": "light"
     },
     "output_type": "display_data"
    }
   ],
   "source": [
    "posterior_inter.plot()"
   ]
  },
  {
   "cell_type": "code",
   "execution_count": 33,
   "id": "e424b886-680c-4d4c-a59a-232f9b192367",
   "metadata": {},
   "outputs": [
    {
     "data": {
      "text/plain": [
       "<AxesSubplot:xlabel='Slope'>"
      ]
     },
     "execution_count": 33,
     "metadata": {},
     "output_type": "execute_result"
    },
    {
     "data": {
      "image/png": "[encoded data removed]",
      "text/plain": [
       "<Figure size 432x288 with 1 Axes>"
      ]
     },
     "metadata": {
      "needs_background": "light"
     },
     "output_type": "display_data"
    }
   ],
   "source": [
    "posterior_slope.plot()"
   ]
  },
  {
   "cell_type": "markdown",
   "id": "cdbce000-32c0-45c5-a8e1-83e275e8800b",
   "metadata": {},
   "source": [
    "## Prediction\n",
    "\n",
    "To generate the prediction, we'll draw a sample from the posterior distrivution of parameters, the use the regression equation to combine the parameters with the data."
   ]
  },
  {
   "cell_type": "code",
   "execution_count": 34,
   "id": "67c98383-9fa6-4df4-8f60-5effa049ca8b",
   "metadata": {},
   "outputs": [
    {
     "data": {
      "text/plain": [
       "(101,)"
      ]
     },
     "execution_count": 34,
     "metadata": {},
     "output_type": "execute_result"
    }
   ],
   "source": [
    "sample = posterior.choice(101)\n",
    "sample.shape"
   ]
  },
  {
   "cell_type": "code",
   "execution_count": 35,
   "id": "bf82b950-edb7-42f9-93a6-da3e07b03c3e",
   "metadata": {},
   "outputs": [
    {
     "data": {
      "image/png": "[encoded data removed]",
      "text/plain": [
       "<Figure size 432x288 with 1 Axes>"
      ]
     },
     "metadata": {
      "needs_background": "light"
     },
     "output_type": "display_data"
    }
   ],
   "source": [
    "xs = np.arange(-25, 50, 2)\n",
    "pred = np.empty((len(sample), len(xs)))\n",
    "\n",
    "for i, (slope, inter, sigma) in enumerate(sample):\n",
    "    epsilon = norm(0, sigma).rvs(len(xs))\n",
    "    pred[i] = inter + slope * xs + epsilon\n",
    "    \n",
    "low, median, high = np.percentile(pred, [5, 50, 95], axis=0)\n",
    "\n",
    "times = pd.to_timedelta(xs * 365.24 , unit=\"days\") + offset\n",
    "\n",
    "plt.fill_between(times, low, high, color=\"C2\", alpha=0.1)\n",
    "plt.plot(times, median, color=\"C2\")\n",
    "plot_speeds(data)"
   ]
  },
  {
   "cell_type": "markdown",
   "id": "4bd9c5c2-355e-4440-b4ef-cf115b436273",
   "metadata": {},
   "source": [
    "Just by eyeballing it, it looks like the record will be broken somewhere between 2030 and 2040. However, we can be more precise by using interpolation!"
   ]
  },
  {
   "cell_type": "code",
   "execution_count": 36,
   "id": "666e8366-66b8-4606-aaff-e3b47d1391db",
   "metadata": {},
   "outputs": [
    {
     "data": {
      "text/plain": [
       "array([2030.62243959, 2036.47780235, 2042.39178173])"
      ]
     },
     "execution_count": 36,
     "metadata": {},
     "output_type": "execute_result"
    }
   ],
   "source": [
    "from scipy.interpolate import interp1d\n",
    "\n",
    "future = np.array([\n",
    "    interp1d(high, xs)(13.1),\n",
    "    interp1d(median, xs)(13.1),\n",
    "    interp1d(low, xs)(13.1),\n",
    "])\n",
    "future + 1995"
   ]
  },
  {
   "cell_type": "markdown",
   "id": "e97262ba-fd2e-46ac-9705-65a8178dc224",
   "metadata": {},
   "source": [
    "So the 90% credible interval run from early 2031 to early 2043."
   ]
  },
  {
   "cell_type": "markdown",
   "id": "8f9d24e6-c4d6-45a2-b59b-670e074a09ed",
   "metadata": {},
   "source": [
    "## Exercises"
   ]
  },
  {
   "cell_type": "markdown",
   "id": "bc43a5d4-3fe5-4486-88a8-424ed15409c6",
   "metadata": {},
   "source": [
    "### Exercise 17-1\n",
    "\n",
    "I am under the impression that it is warmer around here than it used to be. In this exercise, you can put the conjecture to the test.\n",
    "\n",
    "Use the same dataset as for the snow. It also contains the daily high and low temperatures.\n",
    "\n",
    "1. Use `statsmodels` to generate point estimates for the paramters\n",
    "1. Choose priors for `slope`, `intercept`, and `sigma` based on these estimates, and use `make_joint3` to make a joint prior distribution\n",
    "1. Compute the likelihood of the data and compute the posterior distribution of the parameters\n",
    "1. Extract the posterior distriution of `slope`. How confident are we that temperature is increasing?\n",
    "1. Draw a sample of paramters from the posterior distribution and use it to generate predictions up to 2067\n",
    "1. plot the median of the predictions and a 90% credible interval along with the observed data.\n",
    "\n",
    "Does the model fit the data well? How much do we expect annual average temperature to increase over the author's expected lifetime?"
   ]
  },
  {
   "cell_type": "code",
   "execution_count": 41,
   "id": "abe4a0a2-5fae-44f1-b832-214d45be7aec",
   "metadata": {},
   "outputs": [
    {
     "data": {
      "text/html": [
       "<div>\n",
       "<style scoped>\n",
       "    .dataframe tbody tr th:only-of-type {\n",
       "        vertical-align: middle;\n",
       "    }\n",
       "\n",
       "    .dataframe tbody tr th {\n",
       "        vertical-align: top;\n",
       "    }\n",
       "\n",
       "    .dataframe thead th {\n",
       "        text-align: right;\n",
       "    }\n",
       "</style>\n",
       "<table border=\"1\" class=\"dataframe\">\n",
       "  <thead>\n",
       "    <tr style=\"text-align: right;\">\n",
       "      <th></th>\n",
       "      <th>STATION</th>\n",
       "      <th>NAME</th>\n",
       "      <th>DATE</th>\n",
       "      <th>PRCP</th>\n",
       "      <th>SNOW</th>\n",
       "      <th>SNWD</th>\n",
       "      <th>TMAX</th>\n",
       "      <th>TMIN</th>\n",
       "      <th>TOBS</th>\n",
       "      <th>WESD</th>\n",
       "      <th>...</th>\n",
       "      <th>WT03</th>\n",
       "      <th>WT04</th>\n",
       "      <th>WT05</th>\n",
       "      <th>WT06</th>\n",
       "      <th>WT08</th>\n",
       "      <th>WT09</th>\n",
       "      <th>WT11</th>\n",
       "      <th>WT16</th>\n",
       "      <th>WT18</th>\n",
       "      <th>YEAR</th>\n",
       "    </tr>\n",
       "  </thead>\n",
       "  <tbody>\n",
       "    <tr>\n",
       "      <th>0</th>\n",
       "      <td>USC00190736</td>\n",
       "      <td>BLUE HILL COOP, MA US</td>\n",
       "      <td>1967-05-11</td>\n",
       "      <td>0.43</td>\n",
       "      <td>0.0</td>\n",
       "      <td>0.0</td>\n",
       "      <td>57</td>\n",
       "      <td>36.0</td>\n",
       "      <td>NaN</td>\n",
       "      <td>NaN</td>\n",
       "      <td>...</td>\n",
       "      <td>NaN</td>\n",
       "      <td>NaN</td>\n",
       "      <td>NaN</td>\n",
       "      <td>NaN</td>\n",
       "      <td>NaN</td>\n",
       "      <td>NaN</td>\n",
       "      <td>NaN</td>\n",
       "      <td>NaN</td>\n",
       "      <td>NaN</td>\n",
       "      <td>1967</td>\n",
       "    </tr>\n",
       "    <tr>\n",
       "      <th>1</th>\n",
       "      <td>USC00190736</td>\n",
       "      <td>BLUE HILL COOP, MA US</td>\n",
       "      <td>1967-05-12</td>\n",
       "      <td>0.00</td>\n",
       "      <td>0.0</td>\n",
       "      <td>0.0</td>\n",
       "      <td>58</td>\n",
       "      <td>39.0</td>\n",
       "      <td>NaN</td>\n",
       "      <td>NaN</td>\n",
       "      <td>...</td>\n",
       "      <td>NaN</td>\n",
       "      <td>NaN</td>\n",
       "      <td>NaN</td>\n",
       "      <td>NaN</td>\n",
       "      <td>NaN</td>\n",
       "      <td>NaN</td>\n",
       "      <td>NaN</td>\n",
       "      <td>NaN</td>\n",
       "      <td>NaN</td>\n",
       "      <td>1967</td>\n",
       "    </tr>\n",
       "    <tr>\n",
       "      <th>2</th>\n",
       "      <td>USC00190736</td>\n",
       "      <td>BLUE HILL COOP, MA US</td>\n",
       "      <td>1967-05-13</td>\n",
       "      <td>0.00</td>\n",
       "      <td>0.0</td>\n",
       "      <td>0.0</td>\n",
       "      <td>64</td>\n",
       "      <td>38.0</td>\n",
       "      <td>NaN</td>\n",
       "      <td>NaN</td>\n",
       "      <td>...</td>\n",
       "      <td>NaN</td>\n",
       "      <td>NaN</td>\n",
       "      <td>NaN</td>\n",
       "      <td>NaN</td>\n",
       "      <td>NaN</td>\n",
       "      <td>NaN</td>\n",
       "      <td>NaN</td>\n",
       "      <td>NaN</td>\n",
       "      <td>NaN</td>\n",
       "      <td>1967</td>\n",
       "    </tr>\n",
       "    <tr>\n",
       "      <th>3</th>\n",
       "      <td>USC00190736</td>\n",
       "      <td>BLUE HILL COOP, MA US</td>\n",
       "      <td>1967-05-14</td>\n",
       "      <td>0.00</td>\n",
       "      <td>0.0</td>\n",
       "      <td>0.0</td>\n",
       "      <td>67</td>\n",
       "      <td>44.0</td>\n",
       "      <td>NaN</td>\n",
       "      <td>NaN</td>\n",
       "      <td>...</td>\n",
       "      <td>NaN</td>\n",
       "      <td>NaN</td>\n",
       "      <td>NaN</td>\n",
       "      <td>NaN</td>\n",
       "      <td>NaN</td>\n",
       "      <td>NaN</td>\n",
       "      <td>NaN</td>\n",
       "      <td>NaN</td>\n",
       "      <td>NaN</td>\n",
       "      <td>1967</td>\n",
       "    </tr>\n",
       "    <tr>\n",
       "      <th>4</th>\n",
       "      <td>USC00190736</td>\n",
       "      <td>BLUE HILL COOP, MA US</td>\n",
       "      <td>1967-05-15</td>\n",
       "      <td>0.31</td>\n",
       "      <td>0.0</td>\n",
       "      <td>0.0</td>\n",
       "      <td>49</td>\n",
       "      <td>41.0</td>\n",
       "      <td>NaN</td>\n",
       "      <td>NaN</td>\n",
       "      <td>...</td>\n",
       "      <td>NaN</td>\n",
       "      <td>NaN</td>\n",
       "      <td>NaN</td>\n",
       "      <td>NaN</td>\n",
       "      <td>NaN</td>\n",
       "      <td>NaN</td>\n",
       "      <td>NaN</td>\n",
       "      <td>NaN</td>\n",
       "      <td>NaN</td>\n",
       "      <td>1967</td>\n",
       "    </tr>\n",
       "  </tbody>\n",
       "</table>\n",
       "<p>5 rows × 21 columns</p>\n",
       "</div>"
      ],
      "text/plain": [
       "       STATION                   NAME       DATE  PRCP  SNOW  SNWD  TMAX  \\\n",
       "0  USC00190736  BLUE HILL COOP, MA US 1967-05-11  0.43   0.0   0.0    57   \n",
       "1  USC00190736  BLUE HILL COOP, MA US 1967-05-12  0.00   0.0   0.0    58   \n",
       "2  USC00190736  BLUE HILL COOP, MA US 1967-05-13  0.00   0.0   0.0    64   \n",
       "3  USC00190736  BLUE HILL COOP, MA US 1967-05-14  0.00   0.0   0.0    67   \n",
       "4  USC00190736  BLUE HILL COOP, MA US 1967-05-15  0.31   0.0   0.0    49   \n",
       "\n",
       "   TMIN  TOBS  WESD  ...  WT03  WT04  WT05  WT06  WT08  WT09  WT11  WT16  \\\n",
       "0  36.0   NaN   NaN  ...   NaN   NaN   NaN   NaN   NaN   NaN   NaN   NaN   \n",
       "1  39.0   NaN   NaN  ...   NaN   NaN   NaN   NaN   NaN   NaN   NaN   NaN   \n",
       "2  38.0   NaN   NaN  ...   NaN   NaN   NaN   NaN   NaN   NaN   NaN   NaN   \n",
       "3  44.0   NaN   NaN  ...   NaN   NaN   NaN   NaN   NaN   NaN   NaN   NaN   \n",
       "4  41.0   NaN   NaN  ...   NaN   NaN   NaN   NaN   NaN   NaN   NaN   NaN   \n",
       "\n",
       "   WT18  YEAR  \n",
       "0   NaN  1967  \n",
       "1   NaN  1967  \n",
       "2   NaN  1967  \n",
       "3   NaN  1967  \n",
       "4   NaN  1967  \n",
       "\n",
       "[5 rows x 21 columns]"
      ]
     },
     "execution_count": 41,
     "metadata": {},
     "output_type": "execute_result"
    }
   ],
   "source": [
    "df.head()"
   ]
  },
  {
   "cell_type": "code",
   "execution_count": 42,
   "id": "a2fb0d1d-3324-44c9-a5d6-486509d5514d",
   "metadata": {},
   "outputs": [],
   "source": [
    "df['TMID'] = (df['TMAX'] + df['TMIN']) / 2"
   ]
  },
  {
   "cell_type": "code",
   "execution_count": 44,
   "id": "2ccfaa0c-7811-4dfb-9e06-f9da0328ca7a",
   "metadata": {},
   "outputs": [
    {
     "data": {
      "text/plain": [
       "YEAR\n",
       "1967    55.325532\n",
       "1968    48.071038\n",
       "1969    48.687671\n",
       "1970    48.258904\n",
       "1971    48.804110\n",
       "1972    47.112022\n",
       "1973    50.479452\n",
       "1974    48.741096\n",
       "1975    49.758904\n",
       "1976    48.360656\n",
       "1977    48.989041\n",
       "1978    47.352055\n",
       "1979    49.368493\n",
       "1980    47.983607\n",
       "1981    48.652055\n",
       "1982    48.017808\n",
       "1983    49.710959\n",
       "1984    49.296448\n",
       "1985    48.597260\n",
       "1986    48.383562\n",
       "1987    48.802740\n",
       "1988    48.989071\n",
       "1989    48.150685\n",
       "1990    50.971233\n",
       "1991    50.853425\n",
       "1992    47.635246\n",
       "1993    48.727397\n",
       "1994    49.382192\n",
       "1995    49.230137\n",
       "1996    48.653005\n",
       "1997    48.942466\n",
       "1998    51.531507\n",
       "1999    51.400000\n",
       "2000    48.467213\n",
       "2001    50.834247\n",
       "2002    50.334247\n",
       "2003    47.979452\n",
       "2004    48.304645\n",
       "2005    49.490385\n",
       "2006    51.305479\n",
       "2007    49.606849\n",
       "2008    49.928962\n",
       "2009    48.704110\n",
       "2010    51.690411\n",
       "2011    50.978082\n",
       "2012    52.351093\n",
       "2013    50.098630\n",
       "2014    49.317808\n",
       "2015    50.019178\n",
       "2016    51.620219\n",
       "2017    50.701370\n",
       "2018    50.235616\n",
       "2019    49.356164\n",
       "2020    38.412879\n",
       "Name: TMID, dtype: float64"
      ]
     },
     "execution_count": 44,
     "metadata": {},
     "output_type": "execute_result"
    }
   ],
   "source": [
    "# now group by year and find the mean\n",
    "tmid = df.groupby('YEAR')['TMID'].mean()\n",
    "tmid"
   ]
  },
  {
   "cell_type": "code",
   "execution_count": 45,
   "id": "e724ce97-95ab-497e-aa98-3a37f5670bd4",
   "metadata": {},
   "outputs": [
    {
     "data": {
      "text/plain": [
       "52"
      ]
     },
     "execution_count": 45,
     "metadata": {},
     "output_type": "execute_result"
    }
   ],
   "source": [
    "# drop the first and last since they are incomplete\n",
    "complete = tmid.iloc[1:-1]\n",
    "len(complete)"
   ]
  },
  {
   "cell_type": "code",
   "execution_count": 48,
   "id": "034ed2ae-fef5-4cda-b7ae-c567381a2589",
   "metadata": {},
   "outputs": [
    {
     "data": {
      "text/plain": [
       "<AxesSubplot:xlabel='YEAR'>"
      ]
     },
     "execution_count": 48,
     "metadata": {},
     "output_type": "execute_result"
    },
    {
     "data": {
      "image/png": "[encoded data removed]",
      "text/plain": [
       "<Figure size 432x288 with 1 Axes>"
      ]
     },
     "metadata": {
      "needs_background": "light"
     },
     "output_type": "display_data"
    }
   ],
   "source": [
    "complete.plot(ls=\"\", marker=\"o\")"
   ]
  },
  {
   "cell_type": "code",
   "execution_count": 50,
   "id": "4f32c006-bc9e-4754-a689-5bf31ee81a9b",
   "metadata": {},
   "outputs": [
    {
     "data": {
      "text/html": [
       "<div>\n",
       "<style scoped>\n",
       "    .dataframe tbody tr th:only-of-type {\n",
       "        vertical-align: middle;\n",
       "    }\n",
       "\n",
       "    .dataframe tbody tr th {\n",
       "        vertical-align: top;\n",
       "    }\n",
       "\n",
       "    .dataframe thead th {\n",
       "        text-align: right;\n",
       "    }\n",
       "</style>\n",
       "<table border=\"1\" class=\"dataframe\">\n",
       "  <thead>\n",
       "    <tr style=\"text-align: right;\">\n",
       "      <th></th>\n",
       "      <th>YEAR</th>\n",
       "      <th>TMID</th>\n",
       "    </tr>\n",
       "  </thead>\n",
       "  <tbody>\n",
       "    <tr>\n",
       "      <th>0</th>\n",
       "      <td>1968</td>\n",
       "      <td>48.071038</td>\n",
       "    </tr>\n",
       "    <tr>\n",
       "      <th>1</th>\n",
       "      <td>1969</td>\n",
       "      <td>48.687671</td>\n",
       "    </tr>\n",
       "    <tr>\n",
       "      <th>2</th>\n",
       "      <td>1970</td>\n",
       "      <td>48.258904</td>\n",
       "    </tr>\n",
       "    <tr>\n",
       "      <th>3</th>\n",
       "      <td>1971</td>\n",
       "      <td>48.804110</td>\n",
       "    </tr>\n",
       "    <tr>\n",
       "      <th>4</th>\n",
       "      <td>1972</td>\n",
       "      <td>47.112022</td>\n",
       "    </tr>\n",
       "  </tbody>\n",
       "</table>\n",
       "</div>"
      ],
      "text/plain": [
       "   YEAR       TMID\n",
       "0  1968  48.071038\n",
       "1  1969  48.687671\n",
       "2  1970  48.258904\n",
       "3  1971  48.804110\n",
       "4  1972  47.112022"
      ]
     },
     "execution_count": 50,
     "metadata": {},
     "output_type": "execute_result"
    }
   ],
   "source": [
    "data = complete.reset_index()\n",
    "data.head()"
   ]
  },
  {
   "cell_type": "code",
   "execution_count": 54,
   "id": "757c60bc-011b-41c1-b0c9-7df60c7cc6d2",
   "metadata": {},
   "outputs": [
    {
     "data": {
      "text/plain": [
       "1994.0"
      ]
     },
     "execution_count": 54,
     "metadata": {},
     "output_type": "execute_result"
    }
   ],
   "source": [
    "offset = data['YEAR'].mean().round()\n",
    "offset"
   ]
  },
  {
   "cell_type": "code",
   "execution_count": 55,
   "id": "9dc09e97-b765-44cf-a5a6-9daae421021a",
   "metadata": {},
   "outputs": [
    {
     "data": {
      "text/html": [
       "<div>\n",
       "<style scoped>\n",
       "    .dataframe tbody tr th:only-of-type {\n",
       "        vertical-align: middle;\n",
       "    }\n",
       "\n",
       "    .dataframe tbody tr th {\n",
       "        vertical-align: top;\n",
       "    }\n",
       "\n",
       "    .dataframe thead th {\n",
       "        text-align: right;\n",
       "    }\n",
       "</style>\n",
       "<table border=\"1\" class=\"dataframe\">\n",
       "  <thead>\n",
       "    <tr style=\"text-align: right;\">\n",
       "      <th></th>\n",
       "      <th>YEAR</th>\n",
       "      <th>TMID</th>\n",
       "      <th>x</th>\n",
       "      <th>y</th>\n",
       "    </tr>\n",
       "  </thead>\n",
       "  <tbody>\n",
       "    <tr>\n",
       "      <th>0</th>\n",
       "      <td>1968</td>\n",
       "      <td>48.071038</td>\n",
       "      <td>-26.0</td>\n",
       "      <td>48.071038</td>\n",
       "    </tr>\n",
       "    <tr>\n",
       "      <th>1</th>\n",
       "      <td>1969</td>\n",
       "      <td>48.687671</td>\n",
       "      <td>-25.0</td>\n",
       "      <td>48.687671</td>\n",
       "    </tr>\n",
       "    <tr>\n",
       "      <th>2</th>\n",
       "      <td>1970</td>\n",
       "      <td>48.258904</td>\n",
       "      <td>-24.0</td>\n",
       "      <td>48.258904</td>\n",
       "    </tr>\n",
       "    <tr>\n",
       "      <th>3</th>\n",
       "      <td>1971</td>\n",
       "      <td>48.804110</td>\n",
       "      <td>-23.0</td>\n",
       "      <td>48.804110</td>\n",
       "    </tr>\n",
       "    <tr>\n",
       "      <th>4</th>\n",
       "      <td>1972</td>\n",
       "      <td>47.112022</td>\n",
       "      <td>-22.0</td>\n",
       "      <td>47.112022</td>\n",
       "    </tr>\n",
       "  </tbody>\n",
       "</table>\n",
       "</div>"
      ],
      "text/plain": [
       "   YEAR       TMID     x          y\n",
       "0  1968  48.071038 -26.0  48.071038\n",
       "1  1969  48.687671 -25.0  48.687671\n",
       "2  1970  48.258904 -24.0  48.258904\n",
       "3  1971  48.804110 -23.0  48.804110\n",
       "4  1972  47.112022 -22.0  47.112022"
      ]
     },
     "execution_count": 55,
     "metadata": {},
     "output_type": "execute_result"
    }
   ],
   "source": [
    "data['x'] = data['YEAR'] - offset\n",
    "data['y'] = data['TMID']\n",
    "data.head()"
   ]
  },
  {
   "cell_type": "code",
   "execution_count": 79,
   "id": "b3cf498a-38b8-4c41-ab2e-253ad7a157de",
   "metadata": {},
   "outputs": [
    {
     "data": {
      "text/html": [
       "<div>\n",
       "<style scoped>\n",
       "    .dataframe tbody tr th:only-of-type {\n",
       "        vertical-align: middle;\n",
       "    }\n",
       "\n",
       "    .dataframe tbody tr th {\n",
       "        vertical-align: top;\n",
       "    }\n",
       "\n",
       "    .dataframe thead th {\n",
       "        text-align: right;\n",
       "    }\n",
       "</style>\n",
       "<table border=\"1\" class=\"dataframe\">\n",
       "  <thead>\n",
       "    <tr style=\"text-align: right;\">\n",
       "      <th></th>\n",
       "      <th>YEAR</th>\n",
       "      <th>TMID</th>\n",
       "      <th>x</th>\n",
       "      <th>y</th>\n",
       "    </tr>\n",
       "  </thead>\n",
       "  <tbody>\n",
       "    <tr>\n",
       "      <th>0</th>\n",
       "      <td>1968</td>\n",
       "      <td>48.071038</td>\n",
       "      <td>-26.0</td>\n",
       "      <td>48.071038</td>\n",
       "    </tr>\n",
       "    <tr>\n",
       "      <th>1</th>\n",
       "      <td>1969</td>\n",
       "      <td>48.687671</td>\n",
       "      <td>-25.0</td>\n",
       "      <td>48.687671</td>\n",
       "    </tr>\n",
       "    <tr>\n",
       "      <th>2</th>\n",
       "      <td>1970</td>\n",
       "      <td>48.258904</td>\n",
       "      <td>-24.0</td>\n",
       "      <td>48.258904</td>\n",
       "    </tr>\n",
       "    <tr>\n",
       "      <th>3</th>\n",
       "      <td>1971</td>\n",
       "      <td>48.804110</td>\n",
       "      <td>-23.0</td>\n",
       "      <td>48.804110</td>\n",
       "    </tr>\n",
       "    <tr>\n",
       "      <th>4</th>\n",
       "      <td>1972</td>\n",
       "      <td>47.112022</td>\n",
       "      <td>-22.0</td>\n",
       "      <td>47.112022</td>\n",
       "    </tr>\n",
       "    <tr>\n",
       "      <th>5</th>\n",
       "      <td>1973</td>\n",
       "      <td>50.479452</td>\n",
       "      <td>-21.0</td>\n",
       "      <td>50.479452</td>\n",
       "    </tr>\n",
       "    <tr>\n",
       "      <th>6</th>\n",
       "      <td>1974</td>\n",
       "      <td>48.741096</td>\n",
       "      <td>-20.0</td>\n",
       "      <td>48.741096</td>\n",
       "    </tr>\n",
       "    <tr>\n",
       "      <th>7</th>\n",
       "      <td>1975</td>\n",
       "      <td>49.758904</td>\n",
       "      <td>-19.0</td>\n",
       "      <td>49.758904</td>\n",
       "    </tr>\n",
       "    <tr>\n",
       "      <th>8</th>\n",
       "      <td>1976</td>\n",
       "      <td>48.360656</td>\n",
       "      <td>-18.0</td>\n",
       "      <td>48.360656</td>\n",
       "    </tr>\n",
       "    <tr>\n",
       "      <th>9</th>\n",
       "      <td>1977</td>\n",
       "      <td>48.989041</td>\n",
       "      <td>-17.0</td>\n",
       "      <td>48.989041</td>\n",
       "    </tr>\n",
       "    <tr>\n",
       "      <th>10</th>\n",
       "      <td>1978</td>\n",
       "      <td>47.352055</td>\n",
       "      <td>-16.0</td>\n",
       "      <td>47.352055</td>\n",
       "    </tr>\n",
       "    <tr>\n",
       "      <th>11</th>\n",
       "      <td>1979</td>\n",
       "      <td>49.368493</td>\n",
       "      <td>-15.0</td>\n",
       "      <td>49.368493</td>\n",
       "    </tr>\n",
       "    <tr>\n",
       "      <th>12</th>\n",
       "      <td>1980</td>\n",
       "      <td>47.983607</td>\n",
       "      <td>-14.0</td>\n",
       "      <td>47.983607</td>\n",
       "    </tr>\n",
       "    <tr>\n",
       "      <th>13</th>\n",
       "      <td>1981</td>\n",
       "      <td>48.652055</td>\n",
       "      <td>-13.0</td>\n",
       "      <td>48.652055</td>\n",
       "    </tr>\n",
       "    <tr>\n",
       "      <th>14</th>\n",
       "      <td>1982</td>\n",
       "      <td>48.017808</td>\n",
       "      <td>-12.0</td>\n",
       "      <td>48.017808</td>\n",
       "    </tr>\n",
       "    <tr>\n",
       "      <th>15</th>\n",
       "      <td>1983</td>\n",
       "      <td>49.710959</td>\n",
       "      <td>-11.0</td>\n",
       "      <td>49.710959</td>\n",
       "    </tr>\n",
       "    <tr>\n",
       "      <th>16</th>\n",
       "      <td>1984</td>\n",
       "      <td>49.296448</td>\n",
       "      <td>-10.0</td>\n",
       "      <td>49.296448</td>\n",
       "    </tr>\n",
       "    <tr>\n",
       "      <th>17</th>\n",
       "      <td>1985</td>\n",
       "      <td>48.597260</td>\n",
       "      <td>-9.0</td>\n",
       "      <td>48.597260</td>\n",
       "    </tr>\n",
       "    <tr>\n",
       "      <th>18</th>\n",
       "      <td>1986</td>\n",
       "      <td>48.383562</td>\n",
       "      <td>-8.0</td>\n",
       "      <td>48.383562</td>\n",
       "    </tr>\n",
       "    <tr>\n",
       "      <th>19</th>\n",
       "      <td>1987</td>\n",
       "      <td>48.802740</td>\n",
       "      <td>-7.0</td>\n",
       "      <td>48.802740</td>\n",
       "    </tr>\n",
       "    <tr>\n",
       "      <th>20</th>\n",
       "      <td>1988</td>\n",
       "      <td>48.989071</td>\n",
       "      <td>-6.0</td>\n",
       "      <td>48.989071</td>\n",
       "    </tr>\n",
       "    <tr>\n",
       "      <th>21</th>\n",
       "      <td>1989</td>\n",
       "      <td>48.150685</td>\n",
       "      <td>-5.0</td>\n",
       "      <td>48.150685</td>\n",
       "    </tr>\n",
       "    <tr>\n",
       "      <th>22</th>\n",
       "      <td>1990</td>\n",
       "      <td>50.971233</td>\n",
       "      <td>-4.0</td>\n",
       "      <td>50.971233</td>\n",
       "    </tr>\n",
       "    <tr>\n",
       "      <th>23</th>\n",
       "      <td>1991</td>\n",
       "      <td>50.853425</td>\n",
       "      <td>-3.0</td>\n",
       "      <td>50.853425</td>\n",
       "    </tr>\n",
       "    <tr>\n",
       "      <th>24</th>\n",
       "      <td>1992</td>\n",
       "      <td>47.635246</td>\n",
       "      <td>-2.0</td>\n",
       "      <td>47.635246</td>\n",
       "    </tr>\n",
       "    <tr>\n",
       "      <th>25</th>\n",
       "      <td>1993</td>\n",
       "      <td>48.727397</td>\n",
       "      <td>-1.0</td>\n",
       "      <td>48.727397</td>\n",
       "    </tr>\n",
       "    <tr>\n",
       "      <th>26</th>\n",
       "      <td>1994</td>\n",
       "      <td>49.382192</td>\n",
       "      <td>0.0</td>\n",
       "      <td>49.382192</td>\n",
       "    </tr>\n",
       "    <tr>\n",
       "      <th>27</th>\n",
       "      <td>1995</td>\n",
       "      <td>49.230137</td>\n",
       "      <td>1.0</td>\n",
       "      <td>49.230137</td>\n",
       "    </tr>\n",
       "    <tr>\n",
       "      <th>28</th>\n",
       "      <td>1996</td>\n",
       "      <td>48.653005</td>\n",
       "      <td>2.0</td>\n",
       "      <td>48.653005</td>\n",
       "    </tr>\n",
       "    <tr>\n",
       "      <th>29</th>\n",
       "      <td>1997</td>\n",
       "      <td>48.942466</td>\n",
       "      <td>3.0</td>\n",
       "      <td>48.942466</td>\n",
       "    </tr>\n",
       "    <tr>\n",
       "      <th>30</th>\n",
       "      <td>1998</td>\n",
       "      <td>51.531507</td>\n",
       "      <td>4.0</td>\n",
       "      <td>51.531507</td>\n",
       "    </tr>\n",
       "    <tr>\n",
       "      <th>31</th>\n",
       "      <td>1999</td>\n",
       "      <td>51.400000</td>\n",
       "      <td>5.0</td>\n",
       "      <td>51.400000</td>\n",
       "    </tr>\n",
       "    <tr>\n",
       "      <th>32</th>\n",
       "      <td>2000</td>\n",
       "      <td>48.467213</td>\n",
       "      <td>6.0</td>\n",
       "      <td>48.467213</td>\n",
       "    </tr>\n",
       "    <tr>\n",
       "      <th>33</th>\n",
       "      <td>2001</td>\n",
       "      <td>50.834247</td>\n",
       "      <td>7.0</td>\n",
       "      <td>50.834247</td>\n",
       "    </tr>\n",
       "    <tr>\n",
       "      <th>34</th>\n",
       "      <td>2002</td>\n",
       "      <td>50.334247</td>\n",
       "      <td>8.0</td>\n",
       "      <td>50.334247</td>\n",
       "    </tr>\n",
       "    <tr>\n",
       "      <th>35</th>\n",
       "      <td>2003</td>\n",
       "      <td>47.979452</td>\n",
       "      <td>9.0</td>\n",
       "      <td>47.979452</td>\n",
       "    </tr>\n",
       "    <tr>\n",
       "      <th>36</th>\n",
       "      <td>2004</td>\n",
       "      <td>48.304645</td>\n",
       "      <td>10.0</td>\n",
       "      <td>48.304645</td>\n",
       "    </tr>\n",
       "    <tr>\n",
       "      <th>37</th>\n",
       "      <td>2005</td>\n",
       "      <td>49.490385</td>\n",
       "      <td>11.0</td>\n",
       "      <td>49.490385</td>\n",
       "    </tr>\n",
       "    <tr>\n",
       "      <th>38</th>\n",
       "      <td>2006</td>\n",
       "      <td>51.305479</td>\n",
       "      <td>12.0</td>\n",
       "      <td>51.305479</td>\n",
       "    </tr>\n",
       "    <tr>\n",
       "      <th>39</th>\n",
       "      <td>2007</td>\n",
       "      <td>49.606849</td>\n",
       "      <td>13.0</td>\n",
       "      <td>49.606849</td>\n",
       "    </tr>\n",
       "    <tr>\n",
       "      <th>40</th>\n",
       "      <td>2008</td>\n",
       "      <td>49.928962</td>\n",
       "      <td>14.0</td>\n",
       "      <td>49.928962</td>\n",
       "    </tr>\n",
       "    <tr>\n",
       "      <th>41</th>\n",
       "      <td>2009</td>\n",
       "      <td>48.704110</td>\n",
       "      <td>15.0</td>\n",
       "      <td>48.704110</td>\n",
       "    </tr>\n",
       "    <tr>\n",
       "      <th>42</th>\n",
       "      <td>2010</td>\n",
       "      <td>51.690411</td>\n",
       "      <td>16.0</td>\n",
       "      <td>51.690411</td>\n",
       "    </tr>\n",
       "    <tr>\n",
       "      <th>43</th>\n",
       "      <td>2011</td>\n",
       "      <td>50.978082</td>\n",
       "      <td>17.0</td>\n",
       "      <td>50.978082</td>\n",
       "    </tr>\n",
       "    <tr>\n",
       "      <th>44</th>\n",
       "      <td>2012</td>\n",
       "      <td>52.351093</td>\n",
       "      <td>18.0</td>\n",
       "      <td>52.351093</td>\n",
       "    </tr>\n",
       "    <tr>\n",
       "      <th>45</th>\n",
       "      <td>2013</td>\n",
       "      <td>50.098630</td>\n",
       "      <td>19.0</td>\n",
       "      <td>50.098630</td>\n",
       "    </tr>\n",
       "    <tr>\n",
       "      <th>46</th>\n",
       "      <td>2014</td>\n",
       "      <td>49.317808</td>\n",
       "      <td>20.0</td>\n",
       "      <td>49.317808</td>\n",
       "    </tr>\n",
       "    <tr>\n",
       "      <th>47</th>\n",
       "      <td>2015</td>\n",
       "      <td>50.019178</td>\n",
       "      <td>21.0</td>\n",
       "      <td>50.019178</td>\n",
       "    </tr>\n",
       "    <tr>\n",
       "      <th>48</th>\n",
       "      <td>2016</td>\n",
       "      <td>51.620219</td>\n",
       "      <td>22.0</td>\n",
       "      <td>51.620219</td>\n",
       "    </tr>\n",
       "    <tr>\n",
       "      <th>49</th>\n",
       "      <td>2017</td>\n",
       "      <td>50.701370</td>\n",
       "      <td>23.0</td>\n",
       "      <td>50.701370</td>\n",
       "    </tr>\n",
       "    <tr>\n",
       "      <th>50</th>\n",
       "      <td>2018</td>\n",
       "      <td>50.235616</td>\n",
       "      <td>24.0</td>\n",
       "      <td>50.235616</td>\n",
       "    </tr>\n",
       "    <tr>\n",
       "      <th>51</th>\n",
       "      <td>2019</td>\n",
       "      <td>49.356164</td>\n",
       "      <td>25.0</td>\n",
       "      <td>49.356164</td>\n",
       "    </tr>\n",
       "  </tbody>\n",
       "</table>\n",
       "</div>"
      ],
      "text/plain": [
       "    YEAR       TMID     x          y\n",
       "0   1968  48.071038 -26.0  48.071038\n",
       "1   1969  48.687671 -25.0  48.687671\n",
       "2   1970  48.258904 -24.0  48.258904\n",
       "3   1971  48.804110 -23.0  48.804110\n",
       "4   1972  47.112022 -22.0  47.112022\n",
       "5   1973  50.479452 -21.0  50.479452\n",
       "6   1974  48.741096 -20.0  48.741096\n",
       "7   1975  49.758904 -19.0  49.758904\n",
       "8   1976  48.360656 -18.0  48.360656\n",
       "9   1977  48.989041 -17.0  48.989041\n",
       "10  1978  47.352055 -16.0  47.352055\n",
       "11  1979  49.368493 -15.0  49.368493\n",
       "12  1980  47.983607 -14.0  47.983607\n",
       "13  1981  48.652055 -13.0  48.652055\n",
       "14  1982  48.017808 -12.0  48.017808\n",
       "15  1983  49.710959 -11.0  49.710959\n",
       "16  1984  49.296448 -10.0  49.296448\n",
       "17  1985  48.597260  -9.0  48.597260\n",
       "18  1986  48.383562  -8.0  48.383562\n",
       "19  1987  48.802740  -7.0  48.802740\n",
       "20  1988  48.989071  -6.0  48.989071\n",
       "21  1989  48.150685  -5.0  48.150685\n",
       "22  1990  50.971233  -4.0  50.971233\n",
       "23  1991  50.853425  -3.0  50.853425\n",
       "24  1992  47.635246  -2.0  47.635246\n",
       "25  1993  48.727397  -1.0  48.727397\n",
       "26  1994  49.382192   0.0  49.382192\n",
       "27  1995  49.230137   1.0  49.230137\n",
       "28  1996  48.653005   2.0  48.653005\n",
       "29  1997  48.942466   3.0  48.942466\n",
       "30  1998  51.531507   4.0  51.531507\n",
       "31  1999  51.400000   5.0  51.400000\n",
       "32  2000  48.467213   6.0  48.467213\n",
       "33  2001  50.834247   7.0  50.834247\n",
       "34  2002  50.334247   8.0  50.334247\n",
       "35  2003  47.979452   9.0  47.979452\n",
       "36  2004  48.304645  10.0  48.304645\n",
       "37  2005  49.490385  11.0  49.490385\n",
       "38  2006  51.305479  12.0  51.305479\n",
       "39  2007  49.606849  13.0  49.606849\n",
       "40  2008  49.928962  14.0  49.928962\n",
       "41  2009  48.704110  15.0  48.704110\n",
       "42  2010  51.690411  16.0  51.690411\n",
       "43  2011  50.978082  17.0  50.978082\n",
       "44  2012  52.351093  18.0  52.351093\n",
       "45  2013  50.098630  19.0  50.098630\n",
       "46  2014  49.317808  20.0  49.317808\n",
       "47  2015  50.019178  21.0  50.019178\n",
       "48  2016  51.620219  22.0  51.620219\n",
       "49  2017  50.701370  23.0  50.701370\n",
       "50  2018  50.235616  24.0  50.235616\n",
       "51  2019  49.356164  25.0  49.356164"
      ]
     },
     "execution_count": 79,
     "metadata": {},
     "output_type": "execute_result"
    }
   ],
   "source": [
    "data"
   ]
  },
  {
   "cell_type": "code",
   "execution_count": 58,
   "id": "affa1a15-cd2a-498f-a046-f743d8c374aa",
   "metadata": {},
   "outputs": [
    {
     "data": {
      "text/plain": [
       "Intercept    49.430172\n",
       "x             0.044252\n",
       "dtype: float64"
      ]
     },
     "execution_count": 58,
     "metadata": {},
     "output_type": "execute_result"
    }
   ],
   "source": [
    "formula = \"y ~ x\"\n",
    "results = smf.ols(formula, data=data).fit()\n",
    "results.params"
   ]
  },
  {
   "cell_type": "code",
   "execution_count": 60,
   "id": "fb5f85cd-6b03-4a3d-b09f-5da4adcb3a58",
   "metadata": {},
   "outputs": [
    {
     "data": {
      "text/plain": [
       "1.041705765390206"
      ]
     },
     "execution_count": 60,
     "metadata": {},
     "output_type": "execute_result"
    }
   ],
   "source": [
    "results.resid.std()"
   ]
  },
  {
   "cell_type": "code",
   "execution_count": 88,
   "id": "6ff3f0d4-24b0-40c3-a6f6-837434df6372",
   "metadata": {},
   "outputs": [
    {
     "data": {
      "text/html": [
       "<div>\n",
       "<style scoped>\n",
       "    .dataframe tbody tr th:only-of-type {\n",
       "        vertical-align: middle;\n",
       "    }\n",
       "\n",
       "    .dataframe tbody tr th {\n",
       "        vertical-align: top;\n",
       "    }\n",
       "\n",
       "    .dataframe thead th {\n",
       "        text-align: right;\n",
       "    }\n",
       "</style>\n",
       "<table border=\"1\" class=\"dataframe\">\n",
       "  <thead>\n",
       "    <tr style=\"text-align: right;\">\n",
       "      <th></th>\n",
       "      <th></th>\n",
       "      <th></th>\n",
       "      <th>probs</th>\n",
       "    </tr>\n",
       "    <tr>\n",
       "      <th>Intercept</th>\n",
       "      <th>Slope</th>\n",
       "      <th>Sigma</th>\n",
       "      <th></th>\n",
       "    </tr>\n",
       "  </thead>\n",
       "  <tbody>\n",
       "    <tr>\n",
       "      <th rowspan=\"3\" valign=\"top\">48.0</th>\n",
       "      <th rowspan=\"3\" valign=\"top\">-0.1</th>\n",
       "      <th>0.50</th>\n",
       "      <td>0.000008</td>\n",
       "    </tr>\n",
       "    <tr>\n",
       "      <th>0.53</th>\n",
       "      <td>0.000008</td>\n",
       "    </tr>\n",
       "    <tr>\n",
       "      <th>0.56</th>\n",
       "      <td>0.000008</td>\n",
       "    </tr>\n",
       "  </tbody>\n",
       "</table>\n",
       "</div>"
      ],
      "text/plain": [
       "Intercept  Slope  Sigma\n",
       "48.0       -0.1   0.50     0.000008\n",
       "                  0.53     0.000008\n",
       "                  0.56     0.000008\n",
       "Name: , dtype: float64"
      ]
     },
     "execution_count": 88,
     "metadata": {},
     "output_type": "execute_result"
    }
   ],
   "source": [
    "# get the priors for the three parameters: intercept, slope, and sigma\n",
    "qs = np.linspace(48, 52, 51)\n",
    "prior_intercept = make_uniform(qs, \"Intercept\")\n",
    "\n",
    "qs = np.linspace(-0.1, 0.1, 51)\n",
    "prior_slope = make_uniform(qs, \"Slope\")\n",
    "\n",
    "qs = np.linspace(0.5, 2, 51)\n",
    "prior_sigma = make_uniform(qs, \"Sigma\")\n",
    "\n",
    "joint_prior = make_joint3(prior_intercept, prior_slope, prior_sigma)\n",
    "joint_prior.head()"
   ]
  },
  {
   "cell_type": "code",
   "execution_count": 89,
   "id": "742a2a98-77d7-49c3-9b1f-e6bfeecbea03",
   "metadata": {},
   "outputs": [],
   "source": [
    "# now compute the likelihood\n",
    "likelihood = joint_prior.copy()\n",
    "\n",
    "for intercept, slope, sigma in joint_prior.index:\n",
    "    estimated = intercept + slope * data['x']\n",
    "    residuals = data['y'] - estimated\n",
    "    likes = norm.pdf(residuals, 0, sigma)\n",
    "    likelihood[intercept, slope, sigma] = likes.prod()"
   ]
  },
  {
   "cell_type": "code",
   "execution_count": 90,
   "id": "c4bf0a7e-401e-4149-af52-48ad38952862",
   "metadata": {},
   "outputs": [
    {
     "data": {
      "text/plain": [
       "3.2942092664851435e-36"
      ]
     },
     "execution_count": 90,
     "metadata": {},
     "output_type": "execute_result"
    }
   ],
   "source": [
    "posterior = joint_prior * likelihood\n",
    "posterior.normalize()"
   ]
  },
  {
   "cell_type": "code",
   "execution_count": 91,
   "id": "f3d6edc1-f4d4-4503-b8d0-6424ceff2d29",
   "metadata": {},
   "outputs": [
    {
     "name": "stderr",
     "output_type": "stream",
     "text": [
      "/home/eric/documents/tutorials/ThinkBayes/venv/lib/python3.8/site-packages/empiricaldist/empiricaldist.py:673: FutureWarning: Using the level keyword in DataFrame and Series aggregations is deprecated and will be removed in a future version. Use groupby instead. df.sum(level=1) should use df.groupby(level=1).sum().\n",
      "  return Pmf(self.sum(level=i))\n"
     ]
    }
   ],
   "source": [
    "posterior_inter = posterior.marginal(0)\n",
    "posterior_slope = posterior.marginal(1)\n",
    "posterior_sigma = posterior.marginal(2)"
   ]
  },
  {
   "cell_type": "code",
   "execution_count": 92,
   "id": "1617dcf9-1d33-4042-8fd1-1687b7ad059e",
   "metadata": {},
   "outputs": [
    {
     "data": {
      "text/plain": [
       "<AxesSubplot:xlabel='Intercept'>"
      ]
     },
     "execution_count": 92,
     "metadata": {},
     "output_type": "execute_result"
    },
    {
     "data": {
      "image/png": "[encoded data removed]",
      "text/plain": [
       "<Figure size 432x288 with 1 Axes>"
      ]
     },
     "metadata": {
      "needs_background": "light"
     },
     "output_type": "display_data"
    }
   ],
   "source": [
    "posterior_inter.plot()"
   ]
  },
  {
   "cell_type": "code",
   "execution_count": 93,
   "id": "1e187ca5-bec4-4489-b687-d9c6a615703c",
   "metadata": {},
   "outputs": [
    {
     "data": {
      "text/plain": [
       "<AxesSubplot:xlabel='Slope'>"
      ]
     },
     "execution_count": 93,
     "metadata": {},
     "output_type": "execute_result"
    },
    {
     "data": {
      "image/png": "[encoded data removed]",
      "text/plain": [
       "<Figure size 432x288 with 1 Axes>"
      ]
     },
     "metadata": {
      "needs_background": "light"
     },
     "output_type": "display_data"
    }
   ],
   "source": [
    "posterior_slope.plot()"
   ]
  },
  {
   "cell_type": "code",
   "execution_count": 94,
   "id": "7363c917-1dc6-426a-a489-c8b907fac705",
   "metadata": {},
   "outputs": [
    {
     "data": {
      "text/plain": [
       "<AxesSubplot:xlabel='Sigma'>"
      ]
     },
     "execution_count": 94,
     "metadata": {},
     "output_type": "execute_result"
    },
    {
     "data": {
      "image/png": "[encoded data removed]",
      "text/plain": [
       "<Figure size 432x288 with 1 Axes>"
      ]
     },
     "metadata": {
      "needs_background": "light"
     },
     "output_type": "display_data"
    }
   ],
   "source": [
    "posterior_sigma.plot()"
   ]
  },
  {
   "cell_type": "code",
   "execution_count": 95,
   "id": "6fc8e33f-f360-41bd-b531-ba3f0262b5b7",
   "metadata": {},
   "outputs": [
    {
     "data": {
      "text/plain": [
       "array([0.028, 0.06 ])"
      ]
     },
     "execution_count": 95,
     "metadata": {},
     "output_type": "execute_result"
    }
   ],
   "source": [
    "posterior_slope.credible_interval(0.9)"
   ]
  },
  {
   "cell_type": "code",
   "execution_count": 98,
   "id": "0627c538-03db-4f62-bd11-fdedb84e0c70",
   "metadata": {},
   "outputs": [
    {
     "data": {
      "text/plain": [
       "9.60660062641891e-06"
      ]
     },
     "execution_count": 98,
     "metadata": {},
     "output_type": "execute_result"
    }
   ],
   "source": [
    "posterior_slope.prob_lt(0)"
   ]
  },
  {
   "cell_type": "markdown",
   "id": "63e9c68e-22e9-4b63-b738-8d6c08502a4e",
   "metadata": {},
   "source": [
    "So from this is seems pretty unlikely that the temperature is falling!"
   ]
  },
  {
   "cell_type": "code",
   "execution_count": 99,
   "id": "d4d0b943-373c-4a69-8c1c-3122ce68a786",
   "metadata": {},
   "outputs": [
    {
     "data": {
      "text/plain": [
       "(101, 50)"
      ]
     },
     "execution_count": 99,
     "metadata": {},
     "output_type": "execute_result"
    }
   ],
   "source": [
    "sample = posterior.choice(101)\n",
    "\n",
    "years = np.arange(1967, 2067, 2)\n",
    "xs = years - offset\n",
    "\n",
    "pred = np.empty((len(sample), len(xs)))\n",
    "\n",
    "for i, (inter, slope, sigma) in enumerate(sample):\n",
    "    pred[i] = inter + slope * xs + norm(0, sigma).rvs(len(xs))\n",
    "    \n",
    "pred.shape"
   ]
  },
  {
   "cell_type": "code",
   "execution_count": 100,
   "id": "e3aa73ec-ff30-4b79-a16f-ce4b0b42ca20",
   "metadata": {},
   "outputs": [
    {
     "data": {
      "text/plain": [
       "(50,)"
      ]
     },
     "execution_count": 100,
     "metadata": {},
     "output_type": "execute_result"
    }
   ],
   "source": [
    "low, median, high = np.percentile(pred, [5, 50, 95], axis=0)\n",
    "median.shape"
   ]
  },
  {
   "cell_type": "code",
   "execution_count": 101,
   "id": "3e5dd8b2-15c2-4c15-a0fb-354695b0ca18",
   "metadata": {},
   "outputs": [
    {
     "data": {
      "text/plain": [
       "<AxesSubplot:xlabel='YEAR'>"
      ]
     },
     "execution_count": 101,
     "metadata": {},
     "output_type": "execute_result"
    },
    {
     "data": {
      "image/png": "[encoded data removed]",
      "text/plain": [
       "<Figure size 432x288 with 1 Axes>"
      ]
     },
     "metadata": {
      "needs_background": "light"
     },
     "output_type": "display_data"
    }
   ],
   "source": [
    "plt.fill_between(years, low, high, color=\"C1\", alpha=0.1)\n",
    "plt.plot(years, median, color=\"C1\")\n",
    "complete.plot(ls=\"\", marker=\"o\", alpha=0.5)"
   ]
  },
  {
   "cell_type": "code",
   "execution_count": null,
   "id": "0a8ce30b-d433-45b0-9b1a-d0b475f2ada5",
   "metadata": {},
   "outputs": [],
   "source": []
  }
 ],
 "metadata": {
  "kernelspec": {
   "display_name": "Python 3 (ipykernel)",
   "language": "python",
   "name": "python3"
  },
  "language_info": {
   "codemirror_mode": {
    "name": "ipython",
    "version": 3
   },
   "file_extension": ".py",
   "mimetype": "text/x-python",
   "name": "python",
   "nbconvert_exporter": "python",
   "pygments_lexer": "ipython3",
   "version": "3.8.10"
  }
 },
 "nbformat": 4,
 "nbformat_minor": 5
}
