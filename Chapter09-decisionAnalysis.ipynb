{
 "cells": [
  {
   "cell_type": "markdown",
   "id": "3f4e8690-cdeb-4354-ab66-231b5d903892",
   "metadata": {},
   "source": [
    "# Chapter 9 - Decision Analysis\n",
    "\n",
    "- Price is Right: contestants are shown a collection of items, and have to guess the price. The person who is closest, without going over, is the winner and gets all of the stuff.\n",
    "\n",
    "Two people are shown the collection, and need to pick their price.\n",
    "\n",
    "Questions:\n",
    "1. Before seeing the collection, what prior beliefs should the contestants have about the prizes?\n",
    "2. After seeing the collection, how should they update their beliefs?\n",
    "3. Based on the posterior distibution, how should the contestants bid?\n",
    "\n",
    "To choose a prior distribution, let's look at the data. The data has been compiled, and is of the 2011 and 2012 seasons"
   ]
  },
  {
   "cell_type": "code",
   "execution_count": 1,
   "id": "c0295583-b261-4ba8-a69a-765f2d196140",
   "metadata": {},
   "outputs": [
    {
     "data": {
      "text/html": [
       "<div>\n",
       "<style scoped>\n",
       "    .dataframe tbody tr th:only-of-type {\n",
       "        vertical-align: middle;\n",
       "    }\n",
       "\n",
       "    .dataframe tbody tr th {\n",
       "        vertical-align: top;\n",
       "    }\n",
       "\n",
       "    .dataframe thead th {\n",
       "        text-align: right;\n",
       "    }\n",
       "</style>\n",
       "<table border=\"1\" class=\"dataframe\">\n",
       "  <thead>\n",
       "    <tr style=\"text-align: right;\">\n",
       "      <th></th>\n",
       "      <th>Showcase 1</th>\n",
       "      <th>Showcase 2</th>\n",
       "      <th>Bid 1</th>\n",
       "      <th>Bid 2</th>\n",
       "      <th>Difference 1</th>\n",
       "      <th>Difference 2</th>\n",
       "    </tr>\n",
       "  </thead>\n",
       "  <tbody>\n",
       "    <tr>\n",
       "      <th>0</th>\n",
       "      <td>50969.0</td>\n",
       "      <td>45429.0</td>\n",
       "      <td>42000.0</td>\n",
       "      <td>34000.0</td>\n",
       "      <td>8969.0</td>\n",
       "      <td>11429.0</td>\n",
       "    </tr>\n",
       "    <tr>\n",
       "      <th>1</th>\n",
       "      <td>21901.0</td>\n",
       "      <td>34061.0</td>\n",
       "      <td>14000.0</td>\n",
       "      <td>59900.0</td>\n",
       "      <td>7901.0</td>\n",
       "      <td>-25839.0</td>\n",
       "    </tr>\n",
       "    <tr>\n",
       "      <th>2</th>\n",
       "      <td>32815.0</td>\n",
       "      <td>53186.0</td>\n",
       "      <td>32000.0</td>\n",
       "      <td>45000.0</td>\n",
       "      <td>815.0</td>\n",
       "      <td>8186.0</td>\n",
       "    </tr>\n",
       "    <tr>\n",
       "      <th>3</th>\n",
       "      <td>44432.0</td>\n",
       "      <td>31428.0</td>\n",
       "      <td>27000.0</td>\n",
       "      <td>38000.0</td>\n",
       "      <td>17432.0</td>\n",
       "      <td>-6572.0</td>\n",
       "    </tr>\n",
       "    <tr>\n",
       "      <th>4</th>\n",
       "      <td>24273.0</td>\n",
       "      <td>22320.0</td>\n",
       "      <td>18750.0</td>\n",
       "      <td>23000.0</td>\n",
       "      <td>5523.0</td>\n",
       "      <td>-680.0</td>\n",
       "    </tr>\n",
       "  </tbody>\n",
       "</table>\n",
       "</div>"
      ],
      "text/plain": [
       "   Showcase 1  Showcase 2    Bid 1    Bid 2  Difference 1  Difference 2\n",
       "0     50969.0     45429.0  42000.0  34000.0        8969.0       11429.0\n",
       "1     21901.0     34061.0  14000.0  59900.0        7901.0      -25839.0\n",
       "2     32815.0     53186.0  32000.0  45000.0         815.0        8186.0\n",
       "3     44432.0     31428.0  27000.0  38000.0       17432.0       -6572.0\n",
       "4     24273.0     22320.0  18750.0  23000.0        5523.0        -680.0"
      ]
     },
     "execution_count": 1,
     "metadata": {},
     "output_type": "execute_result"
    }
   ],
   "source": [
    "import pandas as pd\n",
    "\n",
    "def read_data(filename):\n",
    "    \"\"\" Read the showcase data file \"\"\"\n",
    "    df = pd.read_csv(filename, index_col=0, skiprows=[1])\n",
    "    return df.dropna().transpose()\n",
    "\n",
    "df2011 = read_data('./data/showcases.2011.csv')\n",
    "df2012 = read_data('./data/showcases.2012.csv')\n",
    "df = pd.concat([df2011, df2012], ignore_index=True)\n",
    "\n",
    "df.head()"
   ]
  },
  {
   "cell_type": "markdown",
   "id": "ba4437f3-5deb-4e2d-a61b-625b4b13292d",
   "metadata": {},
   "source": [
    "The first two columns are the actual prices; the Bid columns are the bids. Difference are actual - bid.\n",
    "\n",
    "## Kernel Density Estimation\n",
    "\n",
    "This dataset contains the information for 313 showcases, which we can think of as being a sample from the population of possible prices.\n",
    "\n",
    "To generate our guess as to the prior distribution, we can use [Kernel Density Estimation (KDE)](https://mathisonian.github.io/kde/)\n",
    "\n",
    "SciPY includes a `gaussian_kde` function, which takes in some data and returns the estimated distribution."
   ]
  },
  {
   "cell_type": "code",
   "execution_count": 2,
   "id": "606de66d-0254-4607-92c4-875936785716",
   "metadata": {},
   "outputs": [
    {
     "data": {
      "text/plain": [
       "<AxesSubplot:>"
      ]
     },
     "execution_count": 2,
     "metadata": {},
     "output_type": "execute_result"
    },
    {
     "data": {
      "image/png": "[encoded data removed]",
      "text/plain": [
       "<Figure size 432x288 with 1 Axes>"
      ]
     },
     "metadata": {
      "needs_background": "light"
     },
     "output_type": "display_data"
    }
   ],
   "source": [
    "from scipy.stats import gaussian_kde\n",
    "from empiricaldist import Pmf\n",
    "import numpy as np\n",
    "\n",
    "def kde_from_sample(sample, qs):\n",
    "    \"\"\" Make the kernel density estimation from a sample \"\"\"\n",
    "    kde = gaussian_kde(sample)\n",
    "    ps = kde(qs)\n",
    "    pmf = Pmf(ps, qs)\n",
    "    pmf.normalize()\n",
    "    return pmf\n",
    "\n",
    "qs = np.linspace(0, 80000, 81)\n",
    "prior1 = kde_from_sample(df['Showcase 1'], qs)\n",
    "prior1.plot()\n",
    "prior2 = kde_from_sample(df['Showcase 2'], qs)\n",
    "prior2.plot()"
   ]
  },
  {
   "cell_type": "markdown",
   "id": "136d5cc3-4822-47f5-90cf-b7027c94ac30",
   "metadata": {},
   "source": [
    "## Distribution of Error\n",
    "\n",
    "To update the priors, we have to consider the questions:\n",
    "1. What data should we consider and how should we quantify it?\n",
    "2. Can we compute a likelihood function? That is, for each hypothetical price, can we compute the conditional likelihood of the data?\n",
    "\n",
    "To answer these questions, we can model each contestant as a guessing machine with some sort of error characteristic. \n",
    "\n",
    "The question that we have to answer is, \"If the actual price is `price`, what is the likelihood that the contestant's guess would be `guess`?\n",
    "\n",
    "Equivalently, if we define `error = guess - price`, what is the probability that the contestant will be off by `error`?\n",
    "\n",
    "Let's use historical data again! We can create a sample distribution from the supplied data:"
   ]
  },
  {
   "cell_type": "code",
   "execution_count": 3,
   "id": "f107c2c7-e82f-45ed-9afe-934b44cd13ae",
   "metadata": {},
   "outputs": [
    {
     "data": {
      "text/plain": [
       "<AxesSubplot:>"
      ]
     },
     "execution_count": 3,
     "metadata": {},
     "output_type": "execute_result"
    },
    {
     "data": {
      "image/png": "[encoded data removed]",
      "text/plain": [
       "<Figure size 432x288 with 1 Axes>"
      ]
     },
     "metadata": {
      "needs_background": "light"
     },
     "output_type": "display_data"
    }
   ],
   "source": [
    "sample_diff1 = df['Bid 1'] - df['Showcase 1']\n",
    "sample_diff2 = df['Bid 2'] - df['Showcase 2']\n",
    "\n",
    "qs = np.linspace(-40000, 20000, 61)\n",
    "kde_diff1 = kde_from_sample(sample_diff1, qs)\n",
    "kde_diff2 = kde_from_sample(sample_diff2, qs)\n",
    "kde_diff1.plot()\n",
    "kde_diff2.plot()"
   ]
  },
  {
   "cell_type": "markdown",
   "id": "39345ce4-f483-4629-900d-121ec71e3011",
   "metadata": {},
   "source": [
    "These both look roughly normal, so we can characterize them by their mean and standard deviation."
   ]
  },
  {
   "cell_type": "code",
   "execution_count": 4,
   "id": "8cb0983d-24f0-45be-bc11-0ebc6d7b38a4",
   "metadata": {},
   "outputs": [],
   "source": [
    "mean_diff1 = sample_diff1.mean()\n",
    "std_diff1 = sample_diff1.std()\n",
    "mean_diff2 = sample_diff2.mean()\n",
    "std_diff2 = sample_diff2.std()"
   ]
  },
  {
   "cell_type": "markdown",
   "id": "c7c575da-820e-4a10-9f50-3ede83ddfb1e",
   "metadata": {},
   "source": [
    "Now we want to model their guesses as to the value. Tragically though, we don't know their best estimate of the value; all we have is their bid! Let's make some assumptions here:\n",
    "\n",
    "1. They are actually able to guess the value, they are just deliberately under bidding because under the rules, they automatically lose if they go over. Thus, their 'true mean' is 0\n",
    "2. The standard deviation actually reflects the real standard deviation"
   ]
  },
  {
   "cell_type": "code",
   "execution_count": 5,
   "id": "6835ea3a-7c97-42a2-9b0c-c48b766b7111",
   "metadata": {},
   "outputs": [],
   "source": [
    "from scipy.stats import norm\n",
    "\n",
    "error_dist1 = norm(0, std_diff1)\n",
    "error_dist2 = norm(0, std_diff2)"
   ]
  },
  {
   "cell_type": "markdown",
   "id": "1d4ad6ee-5d88-4b11-bb23-39e8b69ae9c3",
   "metadata": {},
   "source": [
    "## Update\n",
    "\n",
    "Say you are player 1. You estimate that the prizes in your collection are worth $23,000.\n",
    "\n",
    "From the guess, let's subtract away all of the guesses in the prior. The result will be the errors under each hypothesis."
   ]
  },
  {
   "cell_type": "code",
   "execution_count": 6,
   "id": "4e0720ce-97aa-4220-b750-3880370c617c",
   "metadata": {},
   "outputs": [],
   "source": [
    "guess1 = 23000\n",
    "error1 = guess1 - prior1.qs"
   ]
  },
  {
   "cell_type": "markdown",
   "id": "8aa19cde-e030-43ae-843d-97042d03dc81",
   "metadata": {},
   "source": [
    "If we assume that our error is well-modelled by `error_dist`:"
   ]
  },
  {
   "cell_type": "code",
   "execution_count": 7,
   "id": "3d08af7a-e737-45d3-a054-b66eb191c792",
   "metadata": {},
   "outputs": [
    {
     "data": {
      "text/plain": [
       "<AxesSubplot:>"
      ]
     },
     "execution_count": 7,
     "metadata": {},
     "output_type": "execute_result"
    },
    {
     "data": {
      "image/png": "[encoded data removed]",
      "text/plain": [
       "<Figure size 432x288 with 1 Axes>"
      ]
     },
     "metadata": {
      "needs_background": "light"
     },
     "output_type": "display_data"
    }
   ],
   "source": [
    "likelihood1 = error_dist1.pdf(error1)\n",
    "posterior1 = prior1 * likelihood1\n",
    "posterior1.normalize()\n",
    "prior1.plot()\n",
    "posterior1.plot()\n",
    "## Orange (taller one) is the posterior"
   ]
  },
  {
   "cell_type": "code",
   "execution_count": 8,
   "id": "1be6bb36-cd07-468b-a276-fc7ba7897860",
   "metadata": {},
   "outputs": [
    {
     "name": "stdout",
     "output_type": "stream",
     "text": [
      "Means: 30299.488817891375 -> 26192.024002392536\n"
     ]
    }
   ],
   "source": [
    "print(f\"Means: {prior1.mean()} -> {posterior1.mean()}\")"
   ]
  },
  {
   "cell_type": "markdown",
   "id": "170c5224-1c0e-4cb2-b509-6a9fc24b6d5e",
   "metadata": {},
   "source": [
    "So: before you saw the prize, you expected it to be worth $\\$30,000$. After seeing it and estimating the value at $\\$23,000$, you now believe it to be about $\\$26000$. You have an understanding of your own error."
   ]
  },
  {
   "cell_type": "markdown",
   "id": "49e51e02-b32e-4db5-ae49-1a9ff7ecaf42",
   "metadata": {},
   "source": [
    "### Exercise 9-2\n",
    "> Now do the same for player 2, assuming that their estimate is $\\$38,000$"
   ]
  },
  {
   "cell_type": "code",
   "execution_count": 9,
   "id": "4eab72e1-5729-466f-ba4c-fb51ff0f382e",
   "metadata": {},
   "outputs": [
    {
     "data": {
      "text/plain": [
       "<AxesSubplot:>"
      ]
     },
     "execution_count": 9,
     "metadata": {},
     "output_type": "execute_result"
    },
    {
     "data": {
      "image/png": "[encoded data removed]",
      "text/plain": [
       "<Figure size 432x288 with 1 Axes>"
      ]
     },
     "metadata": {
      "needs_background": "light"
     },
     "output_type": "display_data"
    }
   ],
   "source": [
    "guess2 = 38000\n",
    "error2 = guess2 - prior2.qs\n",
    "likelihood2 = error_dist2.pdf(error2)\n",
    "posterior2 = prior2 * likelihood2\n",
    "posterior2.normalize()\n",
    "prior2.plot()\n",
    "posterior2.plot()"
   ]
  },
  {
   "cell_type": "code",
   "execution_count": 10,
   "id": "e5754d0d-b363-465d-a6d2-63977933f226",
   "metadata": {},
   "outputs": [
    {
     "data": {
      "text/plain": [
       "34305.20161642468"
      ]
     },
     "execution_count": 10,
     "metadata": {},
     "output_type": "execute_result"
    }
   ],
   "source": [
    "posterior2.mean()"
   ]
  },
  {
   "cell_type": "markdown",
   "id": "5f190a9f-5762-436f-8bbd-5b51a6bcea7d",
   "metadata": {},
   "source": [
    "## Probability of Winning\n",
    "\n",
    "Now that we have a posterior distribution for the contestants: strategy!\n",
    "\n",
    "Let's be player 1. Let's compute the probability that Player 2 overbids:"
   ]
  },
  {
   "cell_type": "code",
   "execution_count": 11,
   "id": "176ab052-b227-47fb-855d-cf001423a11a",
   "metadata": {},
   "outputs": [
    {
     "data": {
      "text/plain": [
       "0.29073482428115016"
      ]
     },
     "execution_count": 11,
     "metadata": {},
     "output_type": "execute_result"
    }
   ],
   "source": [
    "def prob_overbid(sample_diff):\n",
    "    \"\"\" Compute the probability of an overbid \"\"\"\n",
    "    return np.mean(sample_diff > 0)\n",
    "prob_overbid(sample_diff2)"
   ]
  },
  {
   "cell_type": "markdown",
   "id": "5dda1e30-e433-4555-913a-3236b2d86121",
   "metadata": {},
   "source": [
    "Now suppose that player 1 underbids by 5000. What is the probability that player 2 underbids by more?"
   ]
  },
  {
   "cell_type": "code",
   "execution_count": 12,
   "id": "9e2710eb-182a-49cb-87b2-52ddb442d496",
   "metadata": {},
   "outputs": [
    {
     "data": {
      "text/plain": [
       "0.38338658146964855"
      ]
     },
     "execution_count": 12,
     "metadata": {},
     "output_type": "execute_result"
    }
   ],
   "source": [
    "def prob_worse_than(diff, sample_diff):\n",
    "    \"\"\" The probability that the opponent diff is worse than the given difference amount \"\"\"\n",
    "    return np.mean(sample_diff < diff)\n",
    "prob_worse_than(-5000, sample_diff2)"
   ]
  },
  {
   "cell_type": "code",
   "execution_count": 13,
   "id": "536927b3-1165-4df1-8160-10992fa15b7c",
   "metadata": {},
   "outputs": [
    {
     "data": {
      "text/plain": [
       "0.14376996805111822"
      ]
     },
     "execution_count": 13,
     "metadata": {},
     "output_type": "execute_result"
    }
   ],
   "source": [
    "prob_worse_than(-10000, sample_diff2)"
   ]
  },
  {
   "cell_type": "markdown",
   "id": "44e6f084-b047-477e-8bff-e8b6bef3c916",
   "metadata": {},
   "source": [
    "Let's combine these to compute the probability that Player 1 wins, given the difference between their bid and the actual price:"
   ]
  },
  {
   "cell_type": "code",
   "execution_count": 14,
   "id": "f1203d69-2fc4-4ba0-b1c1-f88b82683cd9",
   "metadata": {},
   "outputs": [
    {
     "data": {
      "text/plain": [
       "0.6741214057507987"
      ]
     },
     "execution_count": 14,
     "metadata": {},
     "output_type": "execute_result"
    }
   ],
   "source": [
    "def compute_prob_win(diff, sample_diff):\n",
    "    \"\"\" Probability of winning, for a given difference \"\"\"\n",
    "    # If you overbid, you lose\n",
    "    if diff > 0:\n",
    "        return 0\n",
    "    \n",
    "    # if the oppnent overbids (but you don't), you win\n",
    "    p1 = prob_overbid(sample_diff)\n",
    "    \n",
    "    # if their bid is worse that yours, you win\n",
    "    p2 = prob_worse_than(diff, sample_diff)\n",
    "    \n",
    "    # since they are mutually exclusive, it is fine to add them\n",
    "    return p1 + p2\n",
    "\n",
    "# Probability that you win, given that you underbid by 5000:\n",
    "compute_prob_win(-5000, sample_diff2)"
   ]
  },
  {
   "cell_type": "code",
   "execution_count": 15,
   "id": "93cc5ff7-65d7-4154-88da-fa4991c80147",
   "metadata": {},
   "outputs": [
    {
     "data": {
      "text/plain": [
       "[<matplotlib.lines.Line2D at 0x7eff6305f880>]"
      ]
     },
     "execution_count": 15,
     "metadata": {},
     "output_type": "execute_result"
    },
    {
     "data": {
      "image/png": "[encoded data removed]",
      "text/plain": [
       "<Figure size 432x288 with 1 Axes>"
      ]
     },
     "metadata": {
      "needs_background": "light"
     },
     "output_type": "display_data"
    }
   ],
   "source": [
    "import matplotlib.pyplot as plt\n",
    "\n",
    "# for a wide variety of possible differences:\n",
    "xs = np.linspace(-30000, 5000, 121)\n",
    "ys = [ compute_prob_win(diff, sample_diff2) for diff in xs ]\n",
    "fig, ax = plt.subplots()\n",
    "ax.plot(xs, ys)"
   ]
  },
  {
   "cell_type": "markdown",
   "id": "a3aeebfd-0da5-42c3-a8a2-6849e1c48815",
   "metadata": {},
   "source": [
    "### Excercise 9-3\n",
    "> Run the same analysis from Player 2's perspective\n",
    "> 1. Calculate the probability that Player 1 overbids\n",
    "> 1. Calculate the probability that Player 1 underbids by more than 5000\n",
    "> 1. The probability that Player 2 wins, given that Player 2 underbids by 5000"
   ]
  },
  {
   "cell_type": "code",
   "execution_count": 16,
   "id": "91a3c56f-b384-40fb-89a3-b40abd25a908",
   "metadata": {},
   "outputs": [
    {
     "name": "stdout",
     "output_type": "stream",
     "text": [
      "Probability that Player 2 wins: 0.6453674121405751\n"
     ]
    },
    {
     "data": {
      "image/png": "[encoded data removed]",
      "text/plain": [
       "<Figure size 432x288 with 1 Axes>"
      ]
     },
     "metadata": {
      "needs_background": "light"
     },
     "output_type": "display_data"
    }
   ],
   "source": [
    "xs = np.linspace(-30000, 5000, 121)\n",
    "ys = [ compute_prob_win(diff, sample_diff1 ) for diff in xs ]\n",
    "fix, ax = plt.subplots()\n",
    "ax.plot(xs, ys)\n",
    "print(f\"Probability that Player 2 wins: {compute_prob_win(-5000, sample_diff1)}\")"
   ]
  },
  {
   "cell_type": "markdown",
   "id": "f5d4834b-9b26-47fe-b697-458282c3105d",
   "metadata": {},
   "source": [
    "## Decision Analysis\n",
    "\n",
    "So if we know how much we've underbid by, then we can calculate some probabilities. Problem: we don't know that! But we have a distribution of the price, which should help us. So:\n",
    "\n",
    "Function to calculate the probability of winning, given a possible bid, a posterior distribution of the actual amount, and the distribution of the opponent's errors.\n",
    "\n",
    "It loops through the prices in the posterior, and, for each price:\n",
    "1. Computes the difference between the bid and the hypothetical price\n",
    "2. Computes the probability that the player wins, given that difference\n",
    "3. Adds up the weighted sum of the probabilityies, where the weghts are the probabilities in the posterior distribution"
   ]
  },
  {
   "cell_type": "code",
   "execution_count": 17,
   "id": "10fcd92a-c493-4cff-949d-ca9a84cd534f",
   "metadata": {},
   "outputs": [],
   "source": [
    "def total_prob_win(bid, posterior, sample_diff):\n",
    "    \"\"\" \n",
    "    Computes the total probability of winning the game\n",
    "    \n",
    "    Arguments:\n",
    "        bid: your bid amount\n",
    "        posterior: the posterior distribution of the actual prize amount\n",
    "        sample_diff: sequence of differences for the opponent\n",
    "    \n",
    "    Returns:\n",
    "        The probability of winning\n",
    "    \"\"\"\n",
    "    total = 0\n",
    "    for price, prob in posterior.items():\n",
    "        diff = bid - price\n",
    "        total += prob * compute_prob_win(diff, sample_diff)\n",
    "    return total"
   ]
  },
  {
   "cell_type": "markdown",
   "id": "302d3fe6-c359-43a8-a213-6a67b5ca3c01",
   "metadata": {},
   "source": [
    "(This is the law of total probability)\n",
    "$$\n",
    "P(win) = \\sum_{\\text{price}}P(\\text{price})P(\\text{win}|\\text{price})\n",
    "$$"
   ]
  },
  {
   "cell_type": "code",
   "execution_count": 18,
   "id": "363133e5-947b-483d-b0f5-8019c161d43a",
   "metadata": {},
   "outputs": [
    {
     "data": {
      "text/plain": [
       "0.4842210945439812"
      ]
     },
     "execution_count": 18,
     "metadata": {},
     "output_type": "execute_result"
    }
   ],
   "source": [
    "total_prob_win(25000, posterior1, sample_diff2)"
   ]
  },
  {
   "cell_type": "code",
   "execution_count": 19,
   "id": "f4ad5b71-0947-44c7-9d54-9da16c022204",
   "metadata": {},
   "outputs": [
    {
     "data": {
      "text/plain": [
       "[<matplotlib.lines.Line2D at 0x7eff62f3ae50>]"
      ]
     },
     "execution_count": 19,
     "metadata": {},
     "output_type": "execute_result"
    },
    {
     "data": {
      "image/png": "[encoded data removed]",
      "text/plain": [
       "<Figure size 432x288 with 1 Axes>"
      ]
     },
     "metadata": {
      "needs_background": "light"
     },
     "output_type": "display_data"
    }
   ],
   "source": [
    "# We can loop through a bunch of different bids to calculate the probabilities\n",
    "bids = posterior1.qs\n",
    "probs = [ total_prob_win(bid, posterior1, sample_diff2) for bid in bids ]\n",
    "fig, ax = plt.subplots()\n",
    "ax.plot(bids, probs)"
   ]
  },
  {
   "cell_type": "code",
   "execution_count": 20,
   "id": "2e858097-49f4-46e9-9d60-d6262e3dbaf2",
   "metadata": {},
   "outputs": [
    {
     "name": "stdout",
     "output_type": "stream",
     "text": [
      "21000.0 0.6136807192359474\n"
     ]
    }
   ],
   "source": [
    "prob_win_series = pd.Series(probs, index=bids)\n",
    "print(prob_win_series.idxmax(), prob_win_series.max())"
   ]
  },
  {
   "cell_type": "markdown",
   "id": "19bf1675-d27c-4b41-9502-f1628e30ae2c",
   "metadata": {},
   "source": [
    "### Exercise 9-5 \n",
    "> Do the same analysis for Player 2"
   ]
  },
  {
   "cell_type": "code",
   "execution_count": 21,
   "id": "9527e4fc-3ac8-48fd-b3c5-c56220f12fc5",
   "metadata": {},
   "outputs": [
    {
     "name": "stdout",
     "output_type": "stream",
     "text": [
      "29000.0 0.5171370053364229\n"
     ]
    },
    {
     "data": {
      "image/png": "[encoded data removed]",
      "text/plain": [
       "<Figure size 432x288 with 1 Axes>"
      ]
     },
     "metadata": {
      "needs_background": "light"
     },
     "output_type": "display_data"
    }
   ],
   "source": [
    "bids = posterior2.qs\n",
    "probs = [ total_prob_win(bid, posterior2, sample_diff1) for bid in bids ]\n",
    "fix, ax = plt.subplots()\n",
    "ax.plot(bids, probs)\n",
    "\n",
    "prob_win_series = pd.Series(probs, index=bids)\n",
    "print(prob_win_series.idxmax(), prob_win_series.max())"
   ]
  },
  {
   "cell_type": "markdown",
   "id": "71f9d69e-a859-4af6-a6b1-30b6a6c1a0e8",
   "metadata": {},
   "source": [
    "## Maximizing Expected Gain\n",
    "\n",
    "The solution so far is correct, *but* it just maximimzes the chance of winning, not the expected payoff. Remember that if you are off by less than $\\$$250, you win *both* prizes."
   ]
  },
  {
   "cell_type": "code",
   "execution_count": 22,
   "id": "63bc2111-0efe-47e8-9d1a-a4ad38334f94",
   "metadata": {},
   "outputs": [],
   "source": [
    "def compute_gain(bid, price, sample_diff):\n",
    "    \"\"\" Compute the expected gain, given a bid and actual price \"\"\"\n",
    "    diff = bid - price\n",
    "    prob = compute_prob_win(diff, sample_diff)\n",
    "    \n",
    "    # If you are within 250 dollars, you win both showcases\n",
    "    if -250 <= diff <= 0:\n",
    "        return 2 * price * prob\n",
    "    else:\n",
    "        return price * prob"
   ]
  },
  {
   "cell_type": "markdown",
   "id": "5a100c7b-7d11-4a2e-bc67-4f2384a79782",
   "metadata": {},
   "source": [
    "If the actual price is 35,000 and you bid 30,000, you will win about $\\$$ 23,600 worth of prizes, taking into account your probability of losing, winning one showcase, or winning both."
   ]
  },
  {
   "cell_type": "code",
   "execution_count": 23,
   "id": "db3c426a-c96a-4b24-80d1-998ed9dd4a8c",
   "metadata": {},
   "outputs": [
    {
     "data": {
      "text/plain": [
       "23594.249201277955"
      ]
     },
     "execution_count": 23,
     "metadata": {},
     "output_type": "execute_result"
    }
   ],
   "source": [
    "compute_gain(30000, 35000, sample_diff2)"
   ]
  },
  {
   "cell_type": "markdown",
   "id": "958773b0-965a-4148-bbf1-58ee5336499a",
   "metadata": {},
   "source": [
    "Of course, we don't have the actual price; instead, we have a posterior distribution of the price! By averaging over the price and the probability of it actually being that price, we can compute the expected gain for a bid.\n",
    "\n",
    "In this case, 'expected' means the average over the possible showcase values, weighted by their probabilities."
   ]
  },
  {
   "cell_type": "code",
   "execution_count": 24,
   "id": "4205392b-5635-47f4-859e-21ccbc247417",
   "metadata": {},
   "outputs": [
    {
     "data": {
      "text/plain": [
       "[<matplotlib.lines.Line2D at 0x7eff62e2e070>]"
      ]
     },
     "execution_count": 24,
     "metadata": {},
     "output_type": "execute_result"
    },
    {
     "data": {
      "image/png": "[encoded data removed]",
      "text/plain": [
       "<Figure size 432x288 with 1 Axes>"
      ]
     },
     "metadata": {
      "needs_background": "light"
     },
     "output_type": "display_data"
    }
   ],
   "source": [
    "def expected_gain(bid, posterior, sample_diff):\n",
    "    \"\"\" Compute the expected gain of a given bid \"\"\"\n",
    "    total = 0\n",
    "    for price, prob in posterior.items():\n",
    "        total += prob * compute_gain(bid, price, sample_diff)\n",
    "    return total\n",
    "\n",
    "# While we're at it, we should now loop through the possible values of the bid \n",
    "# and see which one gives us the best expected value!\n",
    "bids = posterior1.qs\n",
    "gains = [ expected_gain(bid, posterior1, sample_diff2) for bid in bids ]\n",
    "fix, ax = plt.subplots()\n",
    "ax.plot(bids, gains)"
   ]
  },
  {
   "cell_type": "code",
   "execution_count": 25,
   "id": "c67c6616-a3f9-4fb9-b850-fba0a218cb34",
   "metadata": {},
   "outputs": [
    {
     "name": "stdout",
     "output_type": "stream",
     "text": [
      "22000.0 17384.899584430797\n"
     ]
    }
   ],
   "source": [
    "as_series = pd.Series(gains, index=bids)\n",
    "print(as_series.idxmax(), as_series.max())"
   ]
  },
  {
   "cell_type": "markdown",
   "id": "e96b9224-3b9e-40ef-82da-e34b255bc87b",
   "metadata": {},
   "source": [
    "So actually, we should slightly increase the amount of our bid to increase the chance of us getting into that magical <250 off zone."
   ]
  },
  {
   "cell_type": "markdown",
   "id": "6228c4bc-d811-4fe7-b859-538d88ece6e8",
   "metadata": {},
   "source": [
    "### Exercise 9-5\n",
    "> Do the same for player 2"
   ]
  },
  {
   "cell_type": "code",
   "execution_count": 26,
   "id": "feb14d31-7620-4f6d-95b5-b38518cfb747",
   "metadata": {},
   "outputs": [
    {
     "name": "stdout",
     "output_type": "stream",
     "text": [
      "30000.0 19404.164188501607\n"
     ]
    },
    {
     "data": {
      "image/png": "[encoded data removed]",
      "text/plain": [
       "<Figure size 432x288 with 1 Axes>"
      ]
     },
     "metadata": {
      "needs_background": "light"
     },
     "output_type": "display_data"
    }
   ],
   "source": [
    "bids = posterior2.qs\n",
    "gains = [expected_gain(bid, posterior2, sample_diff1) for bid in bids ]\n",
    "fix, ax = plt.subplots()\n",
    "ax.plot(bids, gains)\n",
    "\n",
    "as_series = pd.Series(gains, index=bids)\n",
    "print(as_series.idxmax(), as_series.max())"
   ]
  },
  {
   "cell_type": "markdown",
   "id": "547f9de3-df12-446e-b519-73ec27d160f4",
   "metadata": {},
   "source": [
    "So again, we see a slight increase."
   ]
  },
  {
   "cell_type": "markdown",
   "id": "2afe1fec-2587-422b-946a-db9b8029566d",
   "metadata": {},
   "source": [
    "### Exercise 9.????\n",
    "\n",
    "- How many books to order?\n",
    "- Assume that it is a Poisson process\n",
    "- Cost of ordering books is \\$ 5 per\n",
    "    - Unless you order more than >=100; then it is \\$4.5 per\n",
    "- For every book you sell, you get \\$10\n",
    "- If you run out of books before 8 weeks, you lose \\$50 in future sales for each week that you are out\n",
    "- If you have books left over at the end of 8 weeks, you lose \\$2 / book in inventory costs\n",
    "\n",
    "- E.g. Say you sell exactly 10 books per week. If you order 60 books, then\n",
    "    - Total cost is \\$300\n",
    "    - You sell all 60 books, so you make \\$600\n",
    "    - You are out of stock for 2 weeks, so you lost \\$100\n",
    "    - -> total profit is -300 + 600 - 100 = 200\n",
    "    \n",
    "- Combining these costs with the prior predictive distribution, how many books should you order to maximize your expected profit?"
   ]
  },
  {
   "cell_type": "code",
   "execution_count": 27,
   "id": "ce611bd9-936b-49ad-b453-694a2b27bdf8",
   "metadata": {},
   "outputs": [
    {
     "name": "stdout",
     "output_type": "stream",
     "text": [
      "200\n",
      "310.0\n"
     ]
    }
   ],
   "source": [
    "from typing import List\n",
    "\n",
    "def print_cost(printed: int) -> float:\n",
    "    \"\"\" Calculate the cost of printing printed number of books \"\"\"\n",
    "    return printed * 5 if printed < 100 else printed * 4.5\n",
    "\n",
    "def total_income(printed: int, orders: List[int]) -> float:\n",
    "    \"\"\" Given the number printed and a list representing the orders by week, calculate the total income \"\"\"\n",
    "    return 10 * min(printed, sum(orders))\n",
    "\n",
    "def inventory_cost(printed: int, orders: List[int]) -> float:\n",
    "    \"\"\" Given the number printed and a list representing the orders by week, calculate the inventory costs \"\"\"\n",
    "    return 2 * max(printed - sum(orders), 0)\n",
    "    \n",
    "def out_of_stock_cost(printed: int, orders: List[int]) -> float:\n",
    "    weeks = len(orders)\n",
    "    total_orders = np.cumsum(orders)\n",
    "    for i, total in enumerate(total_orders):\n",
    "        if total > printed:\n",
    "            return (weeks - i) * 50\n",
    "    return 0\n",
    "\n",
    "def compute_profit(printed, orders):\n",
    "    return total_income(printed, orders) - print_cost(printed) - out_of_stock_cost(printed, orders) - inventory_cost(printed, orders)\n",
    "\n",
    "for printed in [60, 100]:\n",
    "    print(compute_profit(printed, [10] * 8))\n",
    "assert compute_profit(60, [10] * 8) == 200\n",
    "assert compute_profit(100, [10] * 8) == 310"
   ]
  },
  {
   "cell_type": "markdown",
   "id": "0b2f33fe-b409-4b8f-81a3-57475cb65088",
   "metadata": {},
   "source": [
    "Start with the arbitrary assumption that the number of books ordered in a week comes from a Gamma distribution with mean 9."
   ]
  },
  {
   "cell_type": "code",
   "execution_count": 28,
   "id": "f56d2a07-12d4-4399-8191-bbce0cd984ac",
   "metadata": {},
   "outputs": [
    {
     "data": {
      "text/plain": [
       "8.998788382371902"
      ]
     },
     "execution_count": 28,
     "metadata": {},
     "output_type": "execute_result"
    },
    {
     "data": {
      "image/png": "[encoded data removed]",
      "text/plain": [
       "<Figure size 432x288 with 1 Axes>"
      ]
     },
     "metadata": {
      "needs_background": "light"
     },
     "output_type": "display_data"
    }
   ],
   "source": [
    "from scipy.stats import gamma\n",
    "\n",
    "alpha = 9\n",
    "qs = np.linspace(0, 25, 101)\n",
    "ps = gamma(alpha).pdf(qs)\n",
    "pmf = Pmf(ps, qs)\n",
    "pmf.normalize()\n",
    "pmf.plot()\n",
    "pmf.mean()"
   ]
  },
  {
   "cell_type": "markdown",
   "id": "771f0cb2-57c8-4824-8116-42275ad6d254",
   "metadata": {},
   "source": [
    "So this is our prior distribution for the number of books ordered in a given week. Kind of - it's actually the distribution of $\\lambda$ for our Poisson distribution.\n",
    "\n",
    "Now that we have that, we can run a simulation - draw 1000 samples from this distribution, and calculate the likely profit from each."
   ]
  },
  {
   "cell_type": "code",
   "execution_count": 29,
   "id": "81521f1f-4d9d-4ec4-b68f-af3449d99d72",
   "metadata": {},
   "outputs": [
    {
     "data": {
      "text/plain": [
       "9.00075"
      ]
     },
     "execution_count": 29,
     "metadata": {},
     "output_type": "execute_result"
    }
   ],
   "source": [
    "rates = pmf.choice(1000)\n",
    "np.mean(rates)"
   ]
  },
  {
   "cell_type": "code",
   "execution_count": 30,
   "id": "90c9fe6b-e009-4e4c-ac10-aac40961d131",
   "metadata": {},
   "outputs": [
    {
     "data": {
      "text/plain": [
       "array([[ 5,  6,  9,  8, 13,  7,  8,  9],\n",
       "       [ 5, 11, 15, 10,  4,  4,  9,  8],\n",
       "       [10, 14, 11, 12, 10, 12,  5,  8],\n",
       "       [ 5,  6,  9,  7,  6,  5,  7, 11],\n",
       "       [ 9, 14,  6,  9, 15, 13, 13, 12]])"
      ]
     },
     "execution_count": 30,
     "metadata": {},
     "output_type": "execute_result"
    }
   ],
   "source": [
    "np.random.seed(17)\n",
    "orders_array = np.random.poisson(rates, size=(8, 1000)).transpose()\n",
    "orders_array[:5, :]"
   ]
  },
  {
   "cell_type": "code",
   "execution_count": 31,
   "id": "3c921b8e-bdb7-41fa-9ccd-b84b14786da1",
   "metadata": {},
   "outputs": [
    {
     "name": "stdout",
     "output_type": "stream",
     "text": [
      "184.288\n",
      "184.652\n",
      "162.322\n"
     ]
    }
   ],
   "source": [
    "def compute_expected_profits(printed, order_array):\n",
    "    profits = [ compute_profit(printed, orders) for orders in order_array ]\n",
    "    return np.mean(profits)\n",
    "\n",
    "for printed in [70, 80, 90]:\n",
    "    print(compute_expected_profits(printed, orders_array))"
   ]
  },
  {
   "cell_type": "code",
   "execution_count": 32,
   "id": "0ff239f1-8b05-4fc8-a283-9f2e4e0cb629",
   "metadata": {},
   "outputs": [
    {
     "data": {
      "text/plain": [
       "<AxesSubplot:>"
      ]
     },
     "execution_count": 32,
     "metadata": {},
     "output_type": "execute_result"
    },
    {
     "data": {
      "image/png": "[encoded data removed]",
      "text/plain": [
       "<Figure size 432x288 with 1 Axes>"
      ]
     },
     "metadata": {
      "needs_background": "light"
     },
     "output_type": "display_data"
    }
   ],
   "source": [
    "possible_book_printings = np.arange(70, 110)\n",
    "profits = [ compute_expected_profits(printed, orders_array) for printed in possible_book_printings ]\n",
    "expected_profits = pd.Series(profits, possible_book_printings)\n",
    "expected_profits.plot()"
   ]
  },
  {
   "cell_type": "code",
   "execution_count": 33,
   "id": "22ae27fc-ddda-46d0-80fb-e072f817083d",
   "metadata": {},
   "outputs": [
    {
     "data": {
      "text/plain": [
       "(74, 188.296)"
      ]
     },
     "execution_count": 33,
     "metadata": {},
     "output_type": "execute_result"
    }
   ],
   "source": [
    "expected_profits.idxmax(), expected_profits.max()"
   ]
  },
  {
   "cell_type": "markdown",
   "id": "34b146b6-06d6-4d97-8b90-c05ca85fa83c",
   "metadata": {},
   "source": [
    "Now let's choose some sort of reasonable prior, and update it with the data that we are given; then let's re-run the simulation"
   ]
  },
  {
   "cell_type": "code",
   "execution_count": 34,
   "id": "bfa989c4-8119-46d5-a778-db41613c793f",
   "metadata": {},
   "outputs": [
    {
     "data": {
      "text/plain": [
       "<AxesSubplot:>"
      ]
     },
     "execution_count": 34,
     "metadata": {},
     "output_type": "execute_result"
    },
    {
     "data": {
      "image/png": "[encoded data removed]",
      "text/plain": [
       "<Figure size 432x288 with 1 Axes>"
      ]
     },
     "metadata": {
      "needs_background": "light"
     },
     "output_type": "display_data"
    }
   ],
   "source": [
    "possible_lambdas = np.linspace(0, 100, 101)\n",
    "\n",
    "# choose a uniform prior\n",
    "uniform_prior = Pmf(1, possible_lambdas)\n",
    "uniform_prior.normalize()\n",
    "uniform_prior.plot()"
   ]
  },
  {
   "cell_type": "code",
   "execution_count": 35,
   "id": "1810f256-7a39-45c5-92f6-e3a9b310dad6",
   "metadata": {},
   "outputs": [],
   "source": [
    "from scipy.stats import poisson\n",
    "def updated_with_poisson(pmf, data):\n",
    "    \"\"\" Given a PMF that represents the probabilities for different lambda, update it with a measurement \"\"\"\n",
    "    copied = pmf.copy()\n",
    "    lams = pmf.index\n",
    "    likelihood = poisson.pmf(data, lams)\n",
    "    copied *= likelihood\n",
    "    copied.normalize()\n",
    "    return copied"
   ]
  },
  {
   "cell_type": "code",
   "execution_count": 36,
   "id": "b17f82f1-4d6c-44d0-ac3b-54e7ddf3f3bc",
   "metadata": {},
   "outputs": [
    {
     "data": {
      "text/plain": [
       "<AxesSubplot:>"
      ]
     },
     "execution_count": 36,
     "metadata": {},
     "output_type": "execute_result"
    },
    {
     "data": {
      "image/png": "[encoded data removed]",
      "text/plain": [
       "<Figure size 432x288 with 1 Axes>"
      ]
     },
     "metadata": {
      "needs_background": "light"
     },
     "output_type": "display_data"
    }
   ],
   "source": [
    "after_first = updated_with_poisson(uniform_prior, 10)\n",
    "after_second = updated_with_poisson(after_first, 9)\n",
    "uniform_prior.plot()\n",
    "after_first.plot()\n",
    "after_second.plot()"
   ]
  },
  {
   "cell_type": "code",
   "execution_count": 37,
   "id": "dfa562f6-5ed8-4c31-848a-d8681b3a6849",
   "metadata": {},
   "outputs": [
    {
     "data": {
      "text/plain": [
       "(50.0, 11.000000029811321, 9.999999999186826)"
      ]
     },
     "execution_count": 37,
     "metadata": {},
     "output_type": "execute_result"
    }
   ],
   "source": [
    "uniform_prior.mean(), after_first.mean(), after_second.mean()"
   ]
  },
  {
   "cell_type": "code",
   "execution_count": 41,
   "id": "b3073da0-36eb-4c0c-af1b-8d528d08d1a7",
   "metadata": {},
   "outputs": [
    {
     "name": "stdout",
     "output_type": "stream",
     "text": [
      "9.921 1000\n",
      "[[11 12 15 11 10 13  8 18]\n",
      " [10  8  8  6  9  8  6  6]\n",
      " [ 8  6  8  3 10  6  8  4]\n",
      " [ 8  9  7  9  4  3  3  9]\n",
      " [ 6 10 14 12 11 10  9 13]]\n"
     ]
    },
    {
     "data": {
      "text/plain": [
       "<AxesSubplot:>"
      ]
     },
     "execution_count": 41,
     "metadata": {},
     "output_type": "execute_result"
    },
    {
     "data": {
      "image/png": "[encoded data removed]",
      "text/plain": [
       "<Figure size 432x288 with 1 Axes>"
      ]
     },
     "metadata": {
      "needs_background": "light"
     },
     "output_type": "display_data"
    }
   ],
   "source": [
    "rates = after_second.choice(1000)\n",
    "print(np.mean(rates), len(rates))\n",
    "orders_array = np.random.poisson(rates, size=(8, 1000)).transpose()\n",
    "print(orders_array[:5, :])\n",
    "\n",
    "possible_book_printings = np.arange(70, 110)\n",
    "profits = [ compute_expected_profits(printed, orders_array) for printed in possible_book_printings ]\n",
    "expected_profits = pd.Series(profits, possible_book_printings)\n",
    "expected_profits.plot()"
   ]
  },
  {
   "cell_type": "code",
   "execution_count": 42,
   "id": "bf28080e-32f8-4e1e-be64-c5b1d64bd038",
   "metadata": {},
   "outputs": [
    {
     "data": {
      "text/plain": [
       "(100, 270.438)"
      ]
     },
     "execution_count": 42,
     "metadata": {},
     "output_type": "execute_result"
    }
   ],
   "source": [
    "expected_profits.idxmax(), expected_profits.max()"
   ]
  },
  {
   "cell_type": "code",
   "execution_count": null,
   "id": "7ffc359b-818e-4221-bb2c-2bc7752959d6",
   "metadata": {},
   "outputs": [],
   "source": []
  }
 ],
 "metadata": {
  "kernelspec": {
   "display_name": "Python 3 (ipykernel)",
   "language": "python",
   "name": "python3"
  },
  "language_info": {
   "codemirror_mode": {
    "name": "ipython",
    "version": 3
   },
   "file_extension": ".py",
   "mimetype": "text/x-python",
   "name": "python",
   "nbconvert_exporter": "python",
   "pygments_lexer": "ipython3",
   "version": "3.8.5"
  }
 },
 "nbformat": 4,
 "nbformat_minor": 5
}
