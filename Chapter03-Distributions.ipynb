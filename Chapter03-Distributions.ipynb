{
 "cells": [
  {
   "cell_type": "markdown",
   "id": "4c3ee656-0d38-43b7-9a16-3fb0347fc594",
   "metadata": {},
   "source": [
    "# Chapter 3 - Distributions\n",
    "\n",
    "- We can use the `Pmf` (probability mass function) to solve some problems\n",
    "- PMF maps from outcomes to probabilities"
   ]
  },
  {
   "cell_type": "code",
   "execution_count": 1,
   "id": "59ebebb9-b1ff-4e4e-bc71-641c25738af1",
   "metadata": {},
   "outputs": [
    {
     "data": {
      "text/html": [
       "<div>\n",
       "<style scoped>\n",
       "    .dataframe tbody tr th:only-of-type {\n",
       "        vertical-align: middle;\n",
       "    }\n",
       "\n",
       "    .dataframe tbody tr th {\n",
       "        vertical-align: top;\n",
       "    }\n",
       "\n",
       "    .dataframe thead th {\n",
       "        text-align: right;\n",
       "    }\n",
       "</style>\n",
       "<table border=\"1\" class=\"dataframe\">\n",
       "  <thead>\n",
       "    <tr style=\"text-align: right;\">\n",
       "      <th></th>\n",
       "      <th>probs</th>\n",
       "    </tr>\n",
       "  </thead>\n",
       "  <tbody>\n",
       "    <tr>\n",
       "      <th>heads</th>\n",
       "      <td>0.5</td>\n",
       "    </tr>\n",
       "    <tr>\n",
       "      <th>tails</th>\n",
       "      <td>0.5</td>\n",
       "    </tr>\n",
       "  </tbody>\n",
       "</table>\n",
       "</div>"
      ],
      "text/plain": [
       "heads    0.5\n",
       "tails    0.5\n",
       "Name: , dtype: float64"
      ]
     },
     "execution_count": 1,
     "metadata": {},
     "output_type": "execute_result"
    }
   ],
   "source": [
    "from empiricaldist import Pmf\n",
    "\n",
    "coin = Pmf()\n",
    "coin['heads'] = 1/2\n",
    "coin['tails'] = 1/2\n",
    "coin"
   ]
  },
  {
   "cell_type": "code",
   "execution_count": 2,
   "id": "0d22d5e9-6f71-4d83-a8d8-917a64418a03",
   "metadata": {},
   "outputs": [
    {
     "data": {
      "text/html": [
       "<div>\n",
       "<style scoped>\n",
       "    .dataframe tbody tr th:only-of-type {\n",
       "        vertical-align: middle;\n",
       "    }\n",
       "\n",
       "    .dataframe tbody tr th {\n",
       "        vertical-align: top;\n",
       "    }\n",
       "\n",
       "    .dataframe thead th {\n",
       "        text-align: right;\n",
       "    }\n",
       "</style>\n",
       "<table border=\"1\" class=\"dataframe\">\n",
       "  <thead>\n",
       "    <tr style=\"text-align: right;\">\n",
       "      <th></th>\n",
       "      <th>probs</th>\n",
       "    </tr>\n",
       "  </thead>\n",
       "  <tbody>\n",
       "    <tr>\n",
       "      <th>1</th>\n",
       "      <td>0.166667</td>\n",
       "    </tr>\n",
       "    <tr>\n",
       "      <th>2</th>\n",
       "      <td>0.166667</td>\n",
       "    </tr>\n",
       "    <tr>\n",
       "      <th>3</th>\n",
       "      <td>0.166667</td>\n",
       "    </tr>\n",
       "    <tr>\n",
       "      <th>4</th>\n",
       "      <td>0.166667</td>\n",
       "    </tr>\n",
       "    <tr>\n",
       "      <th>5</th>\n",
       "      <td>0.166667</td>\n",
       "    </tr>\n",
       "    <tr>\n",
       "      <th>6</th>\n",
       "      <td>0.166667</td>\n",
       "    </tr>\n",
       "  </tbody>\n",
       "</table>\n",
       "</div>"
      ],
      "text/plain": [
       "1    0.166667\n",
       "2    0.166667\n",
       "3    0.166667\n",
       "4    0.166667\n",
       "5    0.166667\n",
       "6    0.166667\n",
       "Name: , dtype: float64"
      ]
     },
     "execution_count": 2,
     "metadata": {},
     "output_type": "execute_result"
    }
   ],
   "source": [
    "die = Pmf.from_seq([1, 2, 3, 4, 5, 6])\n",
    "die"
   ]
  },
  {
   "cell_type": "code",
   "execution_count": 3,
   "id": "a6a7279c-da50-4f61-aad1-fb1e69efed21",
   "metadata": {},
   "outputs": [
    {
     "data": {
      "text/html": [
       "<div>\n",
       "<style scoped>\n",
       "    .dataframe tbody tr th:only-of-type {\n",
       "        vertical-align: middle;\n",
       "    }\n",
       "\n",
       "    .dataframe tbody tr th {\n",
       "        vertical-align: top;\n",
       "    }\n",
       "\n",
       "    .dataframe thead th {\n",
       "        text-align: right;\n",
       "    }\n",
       "</style>\n",
       "<table border=\"1\" class=\"dataframe\">\n",
       "  <thead>\n",
       "    <tr style=\"text-align: right;\">\n",
       "      <th></th>\n",
       "      <th>probs</th>\n",
       "    </tr>\n",
       "  </thead>\n",
       "  <tbody>\n",
       "    <tr>\n",
       "      <th>M</th>\n",
       "      <td>0.090909</td>\n",
       "    </tr>\n",
       "    <tr>\n",
       "      <th>i</th>\n",
       "      <td>0.363636</td>\n",
       "    </tr>\n",
       "    <tr>\n",
       "      <th>p</th>\n",
       "      <td>0.181818</td>\n",
       "    </tr>\n",
       "    <tr>\n",
       "      <th>s</th>\n",
       "      <td>0.363636</td>\n",
       "    </tr>\n",
       "  </tbody>\n",
       "</table>\n",
       "</div>"
      ],
      "text/plain": [
       "M    0.090909\n",
       "i    0.363636\n",
       "p    0.181818\n",
       "s    0.363636\n",
       "Name: , dtype: float64"
      ]
     },
     "execution_count": 3,
     "metadata": {},
     "output_type": "execute_result"
    }
   ],
   "source": [
    "letters = Pmf.from_seq(list(\"Mississippi\"))\n",
    "letters"
   ]
  },
  {
   "cell_type": "markdown",
   "id": "c786a8a1-7015-41b1-a46b-1b000b8a688b",
   "metadata": {},
   "source": [
    "You can ask for `letters['t']`, but this will throw an error. On the other hand, asking for `letters('t')` will give you zero."
   ]
  },
  {
   "cell_type": "code",
   "execution_count": 4,
   "id": "626fcc0e-e183-4733-9168-3bf3e15b1492",
   "metadata": {},
   "outputs": [
    {
     "data": {
      "text/plain": [
       "array([0.16666667, 0.16666667, 0.        ])"
      ]
     },
     "execution_count": 4,
     "metadata": {},
     "output_type": "execute_result"
    }
   ],
   "source": [
    "die([1, 4, 7])"
   ]
  },
  {
   "cell_type": "markdown",
   "id": "fa6c4119-8eea-4724-971b-c6a3db20d0d7",
   "metadata": {},
   "source": [
    "`Pmf` inherits from pandas `Series`, so you can do anything with a `Pmf` you can do with a `Series`.\n",
    "\n",
    "## The Cookie Problem Revisited\n",
    "\n",
    "> Cookie problem again.\n",
    "> \n",
    "> Bowl 1: 30 vanilla, 10 chocolate\n",
    "> Bowl 2: 20 vanilla, 20 chocolate"
   ]
  },
  {
   "cell_type": "code",
   "execution_count": 5,
   "id": "aa4afcf3-414d-48e7-8b63-dd10bb3bd4dc",
   "metadata": {},
   "outputs": [
    {
     "data": {
      "text/html": [
       "<div>\n",
       "<style scoped>\n",
       "    .dataframe tbody tr th:only-of-type {\n",
       "        vertical-align: middle;\n",
       "    }\n",
       "\n",
       "    .dataframe tbody tr th {\n",
       "        vertical-align: top;\n",
       "    }\n",
       "\n",
       "    .dataframe thead th {\n",
       "        text-align: right;\n",
       "    }\n",
       "</style>\n",
       "<table border=\"1\" class=\"dataframe\">\n",
       "  <thead>\n",
       "    <tr style=\"text-align: right;\">\n",
       "      <th></th>\n",
       "      <th>probs</th>\n",
       "    </tr>\n",
       "  </thead>\n",
       "  <tbody>\n",
       "    <tr>\n",
       "      <th>Bowl 1</th>\n",
       "      <td>0.5</td>\n",
       "    </tr>\n",
       "    <tr>\n",
       "      <th>Bowl 2</th>\n",
       "      <td>0.5</td>\n",
       "    </tr>\n",
       "  </tbody>\n",
       "</table>\n",
       "</div>"
      ],
      "text/plain": [
       "Bowl 1    0.5\n",
       "Bowl 2    0.5\n",
       "Name: , dtype: float64"
      ]
     },
     "execution_count": 5,
     "metadata": {},
     "output_type": "execute_result"
    }
   ],
   "source": [
    "prior = Pmf.from_seq(['Bowl 1', \"Bowl 2\"])\n",
    "prior"
   ]
  },
  {
   "cell_type": "markdown",
   "id": "035c2cb3-7307-472a-ba80-76a9ca3de56f",
   "metadata": {},
   "source": [
    "This is actually a distribution - the *prior distribution*."
   ]
  },
  {
   "cell_type": "code",
   "execution_count": 6,
   "id": "db84533a-008c-49c3-afbc-0e9f47bca2e2",
   "metadata": {},
   "outputs": [
    {
     "data": {
      "text/html": [
       "<div>\n",
       "<style scoped>\n",
       "    .dataframe tbody tr th:only-of-type {\n",
       "        vertical-align: middle;\n",
       "    }\n",
       "\n",
       "    .dataframe tbody tr th {\n",
       "        vertical-align: top;\n",
       "    }\n",
       "\n",
       "    .dataframe thead th {\n",
       "        text-align: right;\n",
       "    }\n",
       "</style>\n",
       "<table border=\"1\" class=\"dataframe\">\n",
       "  <thead>\n",
       "    <tr style=\"text-align: right;\">\n",
       "      <th></th>\n",
       "      <th>probs</th>\n",
       "    </tr>\n",
       "  </thead>\n",
       "  <tbody>\n",
       "    <tr>\n",
       "      <th>Bowl 1</th>\n",
       "      <td>0.6</td>\n",
       "    </tr>\n",
       "    <tr>\n",
       "      <th>Bowl 2</th>\n",
       "      <td>0.4</td>\n",
       "    </tr>\n",
       "  </tbody>\n",
       "</table>\n",
       "</div>"
      ],
      "text/plain": [
       "Bowl 1    0.6\n",
       "Bowl 2    0.4\n",
       "Name: , dtype: float64"
      ]
     },
     "execution_count": 6,
     "metadata": {},
     "output_type": "execute_result"
    }
   ],
   "source": [
    "likelihood_vanilla = [0.75, 0.5]\n",
    "posterior = prior * likelihood_vanilla\n",
    "posterior.normalize()\n",
    "posterior"
   ]
  },
  {
   "cell_type": "markdown",
   "id": "3478ed46-b47c-4686-9c22-673c60c9a9ff",
   "metadata": {},
   "source": [
    "This is another probability distribution - the *posterior distribution*."
   ]
  },
  {
   "cell_type": "code",
   "execution_count": 7,
   "id": "65ce9343-e8a7-4711-b29f-d14452793233",
   "metadata": {},
   "outputs": [
    {
     "data": {
      "text/plain": [
       "0.6"
      ]
     },
     "execution_count": 7,
     "metadata": {},
     "output_type": "execute_result"
    }
   ],
   "source": [
    "posterior('Bowl 1')"
   ]
  },
  {
   "cell_type": "markdown",
   "id": "cc7ced53-5587-490c-8cfa-687e3fdebc1d",
   "metadata": {},
   "source": [
    "One advantage of this method: it is easy to update with additional data. \n",
    "\n",
    "Let's say that you put the cookie back, and draw again from the same bowl. Again, you get a vanilla cookie. Now what is the probability that it was Bowl 1?"
   ]
  },
  {
   "cell_type": "code",
   "execution_count": 8,
   "id": "95c1a417-a2c6-406a-a6a8-445361c7423f",
   "metadata": {},
   "outputs": [
    {
     "data": {
      "text/html": [
       "<div>\n",
       "<style scoped>\n",
       "    .dataframe tbody tr th:only-of-type {\n",
       "        vertical-align: middle;\n",
       "    }\n",
       "\n",
       "    .dataframe tbody tr th {\n",
       "        vertical-align: top;\n",
       "    }\n",
       "\n",
       "    .dataframe thead th {\n",
       "        text-align: right;\n",
       "    }\n",
       "</style>\n",
       "<table border=\"1\" class=\"dataframe\">\n",
       "  <thead>\n",
       "    <tr style=\"text-align: right;\">\n",
       "      <th></th>\n",
       "      <th>probs</th>\n",
       "    </tr>\n",
       "  </thead>\n",
       "  <tbody>\n",
       "    <tr>\n",
       "      <th>Bowl 1</th>\n",
       "      <td>0.692308</td>\n",
       "    </tr>\n",
       "    <tr>\n",
       "      <th>Bowl 2</th>\n",
       "      <td>0.307692</td>\n",
       "    </tr>\n",
       "  </tbody>\n",
       "</table>\n",
       "</div>"
      ],
      "text/plain": [
       "Bowl 1    0.692308\n",
       "Bowl 2    0.307692\n",
       "Name: , dtype: float64"
      ]
     },
     "execution_count": 8,
     "metadata": {},
     "output_type": "execute_result"
    }
   ],
   "source": [
    "posterior *= likelihood_vanilla\n",
    "posterior.normalize()\n",
    "posterior"
   ]
  },
  {
   "cell_type": "markdown",
   "id": "49b229fb-e761-4add-84ec-38f13b846db0",
   "metadata": {},
   "source": [
    "Now let's say you do the same thing, but this time you get a chocolate cookie!"
   ]
  },
  {
   "cell_type": "code",
   "execution_count": 9,
   "id": "2f318832-1a36-40ba-8fef-27c7c4e63040",
   "metadata": {},
   "outputs": [
    {
     "data": {
      "text/html": [
       "<div>\n",
       "<style scoped>\n",
       "    .dataframe tbody tr th:only-of-type {\n",
       "        vertical-align: middle;\n",
       "    }\n",
       "\n",
       "    .dataframe tbody tr th {\n",
       "        vertical-align: top;\n",
       "    }\n",
       "\n",
       "    .dataframe thead th {\n",
       "        text-align: right;\n",
       "    }\n",
       "</style>\n",
       "<table border=\"1\" class=\"dataframe\">\n",
       "  <thead>\n",
       "    <tr style=\"text-align: right;\">\n",
       "      <th></th>\n",
       "      <th>probs</th>\n",
       "    </tr>\n",
       "  </thead>\n",
       "  <tbody>\n",
       "    <tr>\n",
       "      <th>Bowl 1</th>\n",
       "      <td>0.529412</td>\n",
       "    </tr>\n",
       "    <tr>\n",
       "      <th>Bowl 2</th>\n",
       "      <td>0.470588</td>\n",
       "    </tr>\n",
       "  </tbody>\n",
       "</table>\n",
       "</div>"
      ],
      "text/plain": [
       "Bowl 1    0.529412\n",
       "Bowl 2    0.470588\n",
       "Name: , dtype: float64"
      ]
     },
     "execution_count": 9,
     "metadata": {},
     "output_type": "execute_result"
    }
   ],
   "source": [
    "likelihood_chocolate = [0.25, 0.5]\n",
    "\n",
    "posterior *= likelihood_chocolate\n",
    "posterior.normalize()\n",
    "posterior"
   ]
  },
  {
   "cell_type": "markdown",
   "id": "d05d7c37-a2d5-46af-bf64-cf96c99c95e5",
   "metadata": {},
   "source": [
    "## 101 Bowls\n",
    "\n",
    "> Let's solve a related problem with 100 bowls:\n",
    "> - Bowl 0 contains 0% vanilla\n",
    "> - Bowl 1 contains 1% vanilla\n",
    "> - Bowl 2 contains 2% vanilla\n",
    "> - ...\n",
    "> - Bowl 100 contains 100% vanilla\n",
    "> Suppose we choose a bowl and a cookie at random, and it is vanilla. What is the probability that it came from Bowl $x$, for each value of $x$?"
   ]
  },
  {
   "cell_type": "code",
   "execution_count": 10,
   "id": "8d039dcd-eceb-4d9f-b983-b83541a60a67",
   "metadata": {},
   "outputs": [
    {
     "data": {
      "text/html": [
       "<div>\n",
       "<style scoped>\n",
       "    .dataframe tbody tr th:only-of-type {\n",
       "        vertical-align: middle;\n",
       "    }\n",
       "\n",
       "    .dataframe tbody tr th {\n",
       "        vertical-align: top;\n",
       "    }\n",
       "\n",
       "    .dataframe thead th {\n",
       "        text-align: right;\n",
       "    }\n",
       "</style>\n",
       "<table border=\"1\" class=\"dataframe\">\n",
       "  <thead>\n",
       "    <tr style=\"text-align: right;\">\n",
       "      <th></th>\n",
       "      <th>probs</th>\n",
       "    </tr>\n",
       "  </thead>\n",
       "  <tbody>\n",
       "    <tr>\n",
       "      <th>0</th>\n",
       "      <td>0.009901</td>\n",
       "    </tr>\n",
       "    <tr>\n",
       "      <th>1</th>\n",
       "      <td>0.009901</td>\n",
       "    </tr>\n",
       "    <tr>\n",
       "      <th>2</th>\n",
       "      <td>0.009901</td>\n",
       "    </tr>\n",
       "  </tbody>\n",
       "</table>\n",
       "</div>"
      ],
      "text/plain": [
       "0    0.009901\n",
       "1    0.009901\n",
       "2    0.009901\n",
       "Name: , dtype: float64"
      ]
     },
     "execution_count": 10,
     "metadata": {},
     "output_type": "execute_result"
    }
   ],
   "source": [
    "import numpy as np\n",
    "\n",
    "hypos = np.arange(101) #creates a sequence of 0 - 100\n",
    "\n",
    "prior = Pmf(1, hypos) # 1st parameter is the prior probability (uniform distribution), 2nd is the sequence of quantities\n",
    "prior.normalize()\n",
    "prior.head()"
   ]
  },
  {
   "cell_type": "code",
   "execution_count": 11,
   "id": "4412beba-8d8f-443d-b8c0-f71d278620c0",
   "metadata": {},
   "outputs": [
    {
     "data": {
      "text/plain": [
       "array([0.  , 0.01, 0.02, 0.03, 0.04])"
      ]
     },
     "execution_count": 11,
     "metadata": {},
     "output_type": "execute_result"
    }
   ],
   "source": [
    "likelihood_vanilla = hypos / 100\n",
    "likelihood_vanilla[:5]"
   ]
  },
  {
   "cell_type": "code",
   "execution_count": 12,
   "id": "ad205f12-5531-4996-bc09-933aec29b894",
   "metadata": {},
   "outputs": [
    {
     "data": {
      "text/html": [
       "<div>\n",
       "<style scoped>\n",
       "    .dataframe tbody tr th:only-of-type {\n",
       "        vertical-align: middle;\n",
       "    }\n",
       "\n",
       "    .dataframe tbody tr th {\n",
       "        vertical-align: top;\n",
       "    }\n",
       "\n",
       "    .dataframe thead th {\n",
       "        text-align: right;\n",
       "    }\n",
       "</style>\n",
       "<table border=\"1\" class=\"dataframe\">\n",
       "  <thead>\n",
       "    <tr style=\"text-align: right;\">\n",
       "      <th></th>\n",
       "      <th>probs</th>\n",
       "    </tr>\n",
       "  </thead>\n",
       "  <tbody>\n",
       "    <tr>\n",
       "      <th>0</th>\n",
       "      <td>0.000000</td>\n",
       "    </tr>\n",
       "    <tr>\n",
       "      <th>1</th>\n",
       "      <td>0.000198</td>\n",
       "    </tr>\n",
       "    <tr>\n",
       "      <th>2</th>\n",
       "      <td>0.000396</td>\n",
       "    </tr>\n",
       "  </tbody>\n",
       "</table>\n",
       "</div>"
      ],
      "text/plain": [
       "0    0.000000\n",
       "1    0.000198\n",
       "2    0.000396\n",
       "Name: , dtype: float64"
      ]
     },
     "execution_count": 12,
     "metadata": {},
     "output_type": "execute_result"
    }
   ],
   "source": [
    "posterior1 = prior * likelihood_vanilla\n",
    "posterior1.normalize()\n",
    "posterior1.head()"
   ]
  },
  {
   "cell_type": "code",
   "execution_count": 13,
   "id": "109eb8fa-befd-48af-98d9-80a913f5a8e6",
   "metadata": {},
   "outputs": [
    {
     "data": {
      "image/png": "[encoded data removed]",
      "text/plain": [
       "<Figure size 432x288 with 1 Axes>"
      ]
     },
     "metadata": {
      "needs_background": "light"
     },
     "output_type": "display_data"
    }
   ],
   "source": [
    "import matplotlib.pyplot as plt\n",
    "\n",
    "prior.plot(label=\"Prior\")\n",
    "posterior1.plot(label=\"Posterior\")\n",
    "plt.tight_layout()\n"
   ]
  },
  {
   "cell_type": "markdown",
   "id": "837857cc-06aa-4f88-8eb9-09167059278c",
   "metadata": {},
   "source": [
    "(Straight line is the priors - sloped one is the posteriors)\n",
    "\n",
    "Now let's say that we again draw a cookie from the same bowl, and again it is vanilla."
   ]
  },
  {
   "cell_type": "code",
   "execution_count": 14,
   "id": "01e5ee16-96a6-4227-b837-c9bfd3d7e015",
   "metadata": {},
   "outputs": [
    {
     "data": {
      "image/png": "[encoded data removed]",
      "text/plain": [
       "<Figure size 432x288 with 1 Axes>"
      ]
     },
     "metadata": {
      "needs_background": "light"
     },
     "output_type": "display_data"
    }
   ],
   "source": [
    "posterior2 = posterior1 * likelihood_vanilla\n",
    "posterior2.normalize()\n",
    "\n",
    "plt.clf()\n",
    "posterior2.plot()\n",
    "plt.tight_layout()"
   ]
  },
  {
   "cell_type": "markdown",
   "id": "3e7b4f83-7e7a-4613-810f-0521e69eb212",
   "metadata": {},
   "source": [
    "Now let's say that we again draw from the same bowl, but this time we get chocolate."
   ]
  },
  {
   "cell_type": "code",
   "execution_count": 15,
   "id": "f0aeef59-c65d-490b-86aa-1f3568d55718",
   "metadata": {},
   "outputs": [
    {
     "data": {
      "image/png": "[encoded data removed]",
      "text/plain": [
       "<Figure size 432x288 with 1 Axes>"
      ]
     },
     "metadata": {
      "needs_background": "light"
     },
     "output_type": "display_data"
    }
   ],
   "source": [
    "likelihood_chocolate = 1 - hypos / 100\n",
    "posterior3 = posterior2 * likelihood_chocolate\n",
    "posterior3.normalize()\n",
    "\n",
    "plt.clf()\n",
    "posterior3.plot()\n",
    "plt.tight_layout()"
   ]
  },
  {
   "cell_type": "markdown",
   "id": "10508a6c-0114-4413-99a2-a369acb76ea1",
   "metadata": {},
   "source": [
    "We now have a quite different distribution! The peak is at bowl 67, which is basically the data that we have (2 vanilla, 1 chocolate -> 2/3). This is called the MAP (\"maximum a posteriori probability\"). We can calculate it using either the `Series` `idxmax` function or the `Pmf` `max_prob` function."
   ]
  },
  {
   "cell_type": "code",
   "execution_count": 16,
   "id": "473e547d-42e8-4657-bd4b-85795211eb84",
   "metadata": {},
   "outputs": [
    {
     "name": "stdout",
     "output_type": "stream",
     "text": [
      "posterior3.idxmax(): 67\n",
      "posterior3.max_prob(): 67\n"
     ]
    }
   ],
   "source": [
    "print(f\"posterior3.idxmax(): {posterior3.idxmax()}\")\n",
    "print(f\"posterior3.max_prob(): {posterior3.max_prob()}\")"
   ]
  },
  {
   "cell_type": "markdown",
   "id": "c2524386-7b88-4bc5-8a3c-497d7831fe66",
   "metadata": {},
   "source": [
    "## The Dice Problem\n",
    "\n",
    "> D6, D8, D12. Choose one and roll it; result is 1. What is the probability that I chose the D6?"
   ]
  },
  {
   "cell_type": "code",
   "execution_count": 17,
   "id": "6c262d98-7663-4f86-b847-22c684f8f279",
   "metadata": {},
   "outputs": [
    {
     "data": {
      "text/html": [
       "<div>\n",
       "<style scoped>\n",
       "    .dataframe tbody tr th:only-of-type {\n",
       "        vertical-align: middle;\n",
       "    }\n",
       "\n",
       "    .dataframe tbody tr th {\n",
       "        vertical-align: top;\n",
       "    }\n",
       "\n",
       "    .dataframe thead th {\n",
       "        text-align: right;\n",
       "    }\n",
       "</style>\n",
       "<table border=\"1\" class=\"dataframe\">\n",
       "  <thead>\n",
       "    <tr style=\"text-align: right;\">\n",
       "      <th></th>\n",
       "      <th>probs</th>\n",
       "    </tr>\n",
       "  </thead>\n",
       "  <tbody>\n",
       "    <tr>\n",
       "      <th>6</th>\n",
       "      <td>0.333333</td>\n",
       "    </tr>\n",
       "    <tr>\n",
       "      <th>8</th>\n",
       "      <td>0.333333</td>\n",
       "    </tr>\n",
       "    <tr>\n",
       "      <th>12</th>\n",
       "      <td>0.333333</td>\n",
       "    </tr>\n",
       "  </tbody>\n",
       "</table>\n",
       "</div>"
      ],
      "text/plain": [
       "6     0.333333\n",
       "8     0.333333\n",
       "12    0.333333\n",
       "Name: , dtype: float64"
      ]
     },
     "execution_count": 17,
     "metadata": {},
     "output_type": "execute_result"
    }
   ],
   "source": [
    "hypos = [6, 8, 12]\n",
    "prior = Pmf(1/3, hypos) # recall: priors, hypotheses\n",
    "prior"
   ]
  },
  {
   "cell_type": "markdown",
   "id": "073faf76-c158-44fb-a487-61d6f56b2804",
   "metadata": {},
   "source": [
    "`Pmf` has two attribtues:\n",
    "- `qs`: quantities in the distribution\n",
    "- `ps`: probabilities in the distribution"
   ]
  },
  {
   "cell_type": "code",
   "execution_count": 18,
   "id": "d35a8dc6-092b-4900-8be2-ccf87e081a67",
   "metadata": {},
   "outputs": [
    {
     "name": "stdout",
     "output_type": "stream",
     "text": [
      "prior.qs: [ 6  8 12]\n",
      "prior.ps: [0.33333333 0.33333333 0.33333333]\n"
     ]
    }
   ],
   "source": [
    "print(f\"prior.qs: {prior.qs}\")\n",
    "print(f\"prior.ps: {prior.ps}\")"
   ]
  },
  {
   "cell_type": "code",
   "execution_count": 19,
   "id": "d3739ca1-0562-4657-a070-1070ebb7f4a4",
   "metadata": {},
   "outputs": [
    {
     "data": {
      "text/html": [
       "<div>\n",
       "<style scoped>\n",
       "    .dataframe tbody tr th:only-of-type {\n",
       "        vertical-align: middle;\n",
       "    }\n",
       "\n",
       "    .dataframe tbody tr th {\n",
       "        vertical-align: top;\n",
       "    }\n",
       "\n",
       "    .dataframe thead th {\n",
       "        text-align: right;\n",
       "    }\n",
       "</style>\n",
       "<table border=\"1\" class=\"dataframe\">\n",
       "  <thead>\n",
       "    <tr style=\"text-align: right;\">\n",
       "      <th></th>\n",
       "      <th>probs</th>\n",
       "    </tr>\n",
       "  </thead>\n",
       "  <tbody>\n",
       "    <tr>\n",
       "      <th>6</th>\n",
       "      <td>0.444444</td>\n",
       "    </tr>\n",
       "    <tr>\n",
       "      <th>8</th>\n",
       "      <td>0.333333</td>\n",
       "    </tr>\n",
       "    <tr>\n",
       "      <th>12</th>\n",
       "      <td>0.222222</td>\n",
       "    </tr>\n",
       "  </tbody>\n",
       "</table>\n",
       "</div>"
      ],
      "text/plain": [
       "6     0.444444\n",
       "8     0.333333\n",
       "12    0.222222\n",
       "Name: , dtype: float64"
      ]
     },
     "execution_count": 19,
     "metadata": {},
     "output_type": "execute_result"
    }
   ],
   "source": [
    "likelihood1 = (1/6, 1/8, 1/12)\n",
    "posterior = prior * likelihood1\n",
    "posterior.normalize()\n",
    "posterior"
   ]
  },
  {
   "cell_type": "markdown",
   "id": "9b62bca7-9c49-4576-9684-c1a1f41b5d65",
   "metadata": {},
   "source": [
    "Now suppose I roll it again and get a 7. Now what?"
   ]
  },
  {
   "cell_type": "code",
   "execution_count": 20,
   "id": "bf3e3faa-7f53-4bcf-be67-64078f744f1c",
   "metadata": {},
   "outputs": [
    {
     "data": {
      "text/html": [
       "<div>\n",
       "<style scoped>\n",
       "    .dataframe tbody tr th:only-of-type {\n",
       "        vertical-align: middle;\n",
       "    }\n",
       "\n",
       "    .dataframe tbody tr th {\n",
       "        vertical-align: top;\n",
       "    }\n",
       "\n",
       "    .dataframe thead th {\n",
       "        text-align: right;\n",
       "    }\n",
       "</style>\n",
       "<table border=\"1\" class=\"dataframe\">\n",
       "  <thead>\n",
       "    <tr style=\"text-align: right;\">\n",
       "      <th></th>\n",
       "      <th>probs</th>\n",
       "    </tr>\n",
       "  </thead>\n",
       "  <tbody>\n",
       "    <tr>\n",
       "      <th>6</th>\n",
       "      <td>0.000000</td>\n",
       "    </tr>\n",
       "    <tr>\n",
       "      <th>8</th>\n",
       "      <td>0.692308</td>\n",
       "    </tr>\n",
       "    <tr>\n",
       "      <th>12</th>\n",
       "      <td>0.307692</td>\n",
       "    </tr>\n",
       "  </tbody>\n",
       "</table>\n",
       "</div>"
      ],
      "text/plain": [
       "6     0.000000\n",
       "8     0.692308\n",
       "12    0.307692\n",
       "Name: , dtype: float64"
      ]
     },
     "execution_count": 20,
     "metadata": {},
     "output_type": "execute_result"
    }
   ],
   "source": [
    "likelihood2 = (0, 1/8, 1/12)\n",
    "\n",
    "posterior *= likelihood2\n",
    "posterior.normalize()\n",
    "posterior"
   ]
  },
  {
   "cell_type": "markdown",
   "id": "52102875-de0d-4b66-a9fd-7b637830d7d0",
   "metadata": {},
   "source": [
    "## Updating Dice\n",
    "\n",
    "We can generalize this process:"
   ]
  },
  {
   "cell_type": "code",
   "execution_count": 21,
   "id": "e7bfd992-9517-4af4-8708-ee902de359b0",
   "metadata": {},
   "outputs": [
    {
     "data": {
      "text/html": [
       "<div>\n",
       "<style scoped>\n",
       "    .dataframe tbody tr th:only-of-type {\n",
       "        vertical-align: middle;\n",
       "    }\n",
       "\n",
       "    .dataframe tbody tr th {\n",
       "        vertical-align: top;\n",
       "    }\n",
       "\n",
       "    .dataframe thead th {\n",
       "        text-align: right;\n",
       "    }\n",
       "</style>\n",
       "<table border=\"1\" class=\"dataframe\">\n",
       "  <thead>\n",
       "    <tr style=\"text-align: right;\">\n",
       "      <th></th>\n",
       "      <th>probs</th>\n",
       "    </tr>\n",
       "  </thead>\n",
       "  <tbody>\n",
       "    <tr>\n",
       "      <th>6</th>\n",
       "      <td>0.333333</td>\n",
       "    </tr>\n",
       "    <tr>\n",
       "      <th>8</th>\n",
       "      <td>0.333333</td>\n",
       "    </tr>\n",
       "    <tr>\n",
       "      <th>12</th>\n",
       "      <td>0.333333</td>\n",
       "    </tr>\n",
       "  </tbody>\n",
       "</table>\n",
       "</div>"
      ],
      "text/plain": [
       "6     0.333333\n",
       "8     0.333333\n",
       "12    0.333333\n",
       "Name: , dtype: float64"
      ]
     },
     "execution_count": 21,
     "metadata": {},
     "output_type": "execute_result"
    }
   ],
   "source": [
    "def update_dice(pmf, data):\n",
    "    \"\"\" Update pmf based on new data \"\"\"\n",
    "    hypos = pmf.qs\n",
    "    likelihood = 1 / hypos\n",
    "    impossible = data > hypos\n",
    "    likelihood[impossible] = 0\n",
    "    pmf *= likelihood\n",
    "    pmf.normalize()\n",
    "    \n",
    "    \n",
    "# In action\n",
    "pmf = prior.copy()\n",
    "pmf"
   ]
  },
  {
   "cell_type": "code",
   "execution_count": 22,
   "id": "51a89b8d-1dbe-4e5a-844c-7a432aaff5ef",
   "metadata": {},
   "outputs": [
    {
     "data": {
      "text/html": [
       "<div>\n",
       "<style scoped>\n",
       "    .dataframe tbody tr th:only-of-type {\n",
       "        vertical-align: middle;\n",
       "    }\n",
       "\n",
       "    .dataframe tbody tr th {\n",
       "        vertical-align: top;\n",
       "    }\n",
       "\n",
       "    .dataframe thead th {\n",
       "        text-align: right;\n",
       "    }\n",
       "</style>\n",
       "<table border=\"1\" class=\"dataframe\">\n",
       "  <thead>\n",
       "    <tr style=\"text-align: right;\">\n",
       "      <th></th>\n",
       "      <th>probs</th>\n",
       "    </tr>\n",
       "  </thead>\n",
       "  <tbody>\n",
       "    <tr>\n",
       "      <th>6</th>\n",
       "      <td>0.000000</td>\n",
       "    </tr>\n",
       "    <tr>\n",
       "      <th>8</th>\n",
       "      <td>0.692308</td>\n",
       "    </tr>\n",
       "    <tr>\n",
       "      <th>12</th>\n",
       "      <td>0.307692</td>\n",
       "    </tr>\n",
       "  </tbody>\n",
       "</table>\n",
       "</div>"
      ],
      "text/plain": [
       "6     0.000000\n",
       "8     0.692308\n",
       "12    0.307692\n",
       "Name: , dtype: float64"
      ]
     },
     "execution_count": 22,
     "metadata": {},
     "output_type": "execute_result"
    }
   ],
   "source": [
    "update_dice(pmf, 1)\n",
    "update_dice(pmf, 7)\n",
    "pmf"
   ]
  },
  {
   "cell_type": "markdown",
   "id": "f196fc18-77d1-4519-bf90-8cf716d91983",
   "metadata": {},
   "source": [
    "Same results!\n",
    "\n",
    "## Exercises"
   ]
  },
  {
   "cell_type": "markdown",
   "id": "ab3a9ea6-b273-47b2-9a9f-ca1e27f8d8bc",
   "metadata": {},
   "source": [
    "### Exercise 3-1\n",
    "> Suppose I have a box with a D6, a D8, and a D12. I choose one die at random, roll it 4 times, and get 1, 3, 5, 7. What is the probability that it was the D8?"
   ]
  },
  {
   "cell_type": "code",
   "execution_count": 23,
   "id": "5f96d04d-3bab-49a0-821f-ae53860b3d27",
   "metadata": {},
   "outputs": [
    {
     "data": {
      "text/html": [
       "<div>\n",
       "<style scoped>\n",
       "    .dataframe tbody tr th:only-of-type {\n",
       "        vertical-align: middle;\n",
       "    }\n",
       "\n",
       "    .dataframe tbody tr th {\n",
       "        vertical-align: top;\n",
       "    }\n",
       "\n",
       "    .dataframe thead th {\n",
       "        text-align: right;\n",
       "    }\n",
       "</style>\n",
       "<table border=\"1\" class=\"dataframe\">\n",
       "  <thead>\n",
       "    <tr style=\"text-align: right;\">\n",
       "      <th></th>\n",
       "      <th>probs</th>\n",
       "    </tr>\n",
       "  </thead>\n",
       "  <tbody>\n",
       "    <tr>\n",
       "      <th>6</th>\n",
       "      <td>0.000000</td>\n",
       "    </tr>\n",
       "    <tr>\n",
       "      <th>8</th>\n",
       "      <td>0.835052</td>\n",
       "    </tr>\n",
       "    <tr>\n",
       "      <th>12</th>\n",
       "      <td>0.164948</td>\n",
       "    </tr>\n",
       "  </tbody>\n",
       "</table>\n",
       "</div>"
      ],
      "text/plain": [
       "6     0.000000\n",
       "8     0.835052\n",
       "12    0.164948\n",
       "Name: , dtype: float64"
      ]
     },
     "execution_count": 23,
     "metadata": {},
     "output_type": "execute_result"
    }
   ],
   "source": [
    "hypos = [6, 8, 12]\n",
    "priors = Pmf.from_seq(hypos)\n",
    "pmf = priors.copy()\n",
    "for result in [1, 3, 5, 7]:\n",
    "    update_dice(pmf, result)\n",
    "pmf"
   ]
  },
  {
   "cell_type": "markdown",
   "id": "7764ce26-c822-4fc5-86bb-45b0dbb90f61",
   "metadata": {},
   "source": [
    "### Exercise 3-2\n",
    "> In the previous version of the Dice Problem, the prior probabilities are the same because the box contains one of each die. Now suppose that the box contains 1 D4, 2D6, 3 D8, 4 D12, and 5 D20. I choose a die, roll it, and get a 7. What is that probability that I chose a D8?\n",
    "> Hint: To make the prior distribution, call Pmf with two parameters."
   ]
  },
  {
   "cell_type": "code",
   "execution_count": 24,
   "id": "9739cebc-ee93-48a9-a0fb-1c4a1b64dc35",
   "metadata": {},
   "outputs": [
    {
     "data": {
      "text/html": [
       "<div>\n",
       "<style scoped>\n",
       "    .dataframe tbody tr th:only-of-type {\n",
       "        vertical-align: middle;\n",
       "    }\n",
       "\n",
       "    .dataframe tbody tr th {\n",
       "        vertical-align: top;\n",
       "    }\n",
       "\n",
       "    .dataframe thead th {\n",
       "        text-align: right;\n",
       "    }\n",
       "</style>\n",
       "<table border=\"1\" class=\"dataframe\">\n",
       "  <thead>\n",
       "    <tr style=\"text-align: right;\">\n",
       "      <th></th>\n",
       "      <th>probs</th>\n",
       "    </tr>\n",
       "  </thead>\n",
       "  <tbody>\n",
       "    <tr>\n",
       "      <th>D4</th>\n",
       "      <td>0</td>\n",
       "    </tr>\n",
       "    <tr>\n",
       "      <th>D6</th>\n",
       "      <td>0</td>\n",
       "    </tr>\n",
       "    <tr>\n",
       "      <th>D8</th>\n",
       "      <td>9/23</td>\n",
       "    </tr>\n",
       "    <tr>\n",
       "      <th>D12</th>\n",
       "      <td>8/23</td>\n",
       "    </tr>\n",
       "    <tr>\n",
       "      <th>D20</th>\n",
       "      <td>6/23</td>\n",
       "    </tr>\n",
       "  </tbody>\n",
       "</table>\n",
       "</div>"
      ],
      "text/plain": [
       "D4        0\n",
       "D6        0\n",
       "D8     9/23\n",
       "D12    8/23\n",
       "D20    6/23\n",
       "Name: , dtype: object"
      ]
     },
     "execution_count": 24,
     "metadata": {},
     "output_type": "execute_result"
    }
   ],
   "source": [
    "from fractions import Fraction\n",
    "hypos = [\"D4\", \"D6\", \"D8\", \"D12\", \"D20\"]\n",
    "total_dice = 1 + 2 + 3 + 4 + 5\n",
    "priors = Pmf(( Fraction(n, total_dice) for n in range(1, 6)), hypos)\n",
    "likelihood = [\n",
    "    0,\n",
    "    0,\n",
    "    Fraction(1, 8),\n",
    "    Fraction(1, 12),\n",
    "    Fraction(1, 20),\n",
    "]\n",
    "pmf = priors * likelihood\n",
    "pmf.normalize()\n",
    "pmf"
   ]
  },
  {
   "cell_type": "markdown",
   "id": "568e07d4-a9fe-45e8-8891-6e386aab7884",
   "metadata": {},
   "source": [
    "So the probability that it was one of the D8s is 8/23."
   ]
  },
  {
   "cell_type": "markdown",
   "id": "53151264-cb55-472f-a91f-71f03b463a2d",
   "metadata": {},
   "source": [
    "### Exercise 3-3\n",
    "> Two sock drawers. One has equal numbers of black and white socks. The other has equal numbers of red, green, and blue socks. Suppose that I choose a drawer at random, choose two socks at random, and get a matching pair. What is the probability that the socks are white?\n",
    ">\n",
    "> For simplicity, let's assume that there are so many socks in both drawers that removing one sock makes a negligible change to the proportions."
   ]
  },
  {
   "cell_type": "markdown",
   "id": "554ba68f-7960-42fb-bfec-346144ba20b3",
   "metadata": {},
   "source": [
    "Data: there is a pair\n",
    "\n",
    "Hypotheses: The drawer from which the socks were drawn\n",
    "(Drawer 1: Black and White; Drawer 2: Red, Green, Blue)"
   ]
  },
  {
   "cell_type": "code",
   "execution_count": 25,
   "id": "61c5585f-dd85-41f0-a697-71197020db90",
   "metadata": {},
   "outputs": [
    {
     "data": {
      "text/html": [
       "<div>\n",
       "<style scoped>\n",
       "    .dataframe tbody tr th:only-of-type {\n",
       "        vertical-align: middle;\n",
       "    }\n",
       "\n",
       "    .dataframe tbody tr th {\n",
       "        vertical-align: top;\n",
       "    }\n",
       "\n",
       "    .dataframe thead th {\n",
       "        text-align: right;\n",
       "    }\n",
       "</style>\n",
       "<table border=\"1\" class=\"dataframe\">\n",
       "  <thead>\n",
       "    <tr style=\"text-align: right;\">\n",
       "      <th></th>\n",
       "      <th>probs</th>\n",
       "    </tr>\n",
       "  </thead>\n",
       "  <tbody>\n",
       "    <tr>\n",
       "      <th>Drawer 1</th>\n",
       "      <td>3/5</td>\n",
       "    </tr>\n",
       "    <tr>\n",
       "      <th>Drawer 2</th>\n",
       "      <td>2/5</td>\n",
       "    </tr>\n",
       "  </tbody>\n",
       "</table>\n",
       "</div>"
      ],
      "text/plain": [
       "Drawer 1    3/5\n",
       "Drawer 2    2/5\n",
       "Name: , dtype: object"
      ]
     },
     "execution_count": 25,
     "metadata": {},
     "output_type": "execute_result"
    }
   ],
   "source": [
    "hypos = [\"Drawer 1\", \"Drawer 2\"]\n",
    "priors = Pmf(Fraction(1,2), hypos)\n",
    "likelihood = (Fraction(1,2), Fraction(1,3))\n",
    "posterior = priors * likelihood\n",
    "posterior.normalize()\n",
    "posterior"
   ]
  },
  {
   "cell_type": "markdown",
   "id": "b256bc42-6e2f-4bb4-9377-9616517940f6",
   "metadata": {},
   "source": [
    "$$\n",
    "\\begin{aligned}\n",
    "    P(\\text{White pair}) &= P(\\text{Drawer 1}) * P(\\text{White} | \\text{Drawer 1}) \\\\\n",
    "                   &= (3/5) * (1/2) \\\\\n",
    "                   &= 3/10\n",
    "\\end{aligned}\n",
    "$$"
   ]
  },
  {
   "cell_type": "markdown",
   "id": "91107f4d-ae9c-4d4b-bec2-124a96bb8867",
   "metadata": {},
   "source": [
    "### Exercise 3-4\n",
    "> (From *Bayesion Data Analysis*)\n",
    ">\n",
    ">> Elvis has a twin brother who died at birth. What is the probability that he was an identical twin?\n",
    ">\n",
    "> Hint: in 1935 about 2/3 or twins were fraternal and 1/3 were identical."
   ]
  },
  {
   "cell_type": "markdown",
   "id": "86783187-ce0d-437d-b217-864e268bbace",
   "metadata": {},
   "source": [
    "We know that Elvis had a twin *brother*. If he was an identical twin, then of course his twin would be a brother. If he was a fraternal twin, then there is a 50/50 chance of it being a brother."
   ]
  },
  {
   "cell_type": "code",
   "execution_count": 26,
   "id": "fa7904f3-ebb9-439f-9ff1-9ec9ed830d4f",
   "metadata": {},
   "outputs": [
    {
     "data": {
      "text/html": [
       "<div>\n",
       "<style scoped>\n",
       "    .dataframe tbody tr th:only-of-type {\n",
       "        vertical-align: middle;\n",
       "    }\n",
       "\n",
       "    .dataframe tbody tr th {\n",
       "        vertical-align: top;\n",
       "    }\n",
       "\n",
       "    .dataframe thead th {\n",
       "        text-align: right;\n",
       "    }\n",
       "</style>\n",
       "<table border=\"1\" class=\"dataframe\">\n",
       "  <thead>\n",
       "    <tr style=\"text-align: right;\">\n",
       "      <th></th>\n",
       "      <th>probs</th>\n",
       "    </tr>\n",
       "  </thead>\n",
       "  <tbody>\n",
       "    <tr>\n",
       "      <th>Fraternal</th>\n",
       "      <td>1/2</td>\n",
       "    </tr>\n",
       "    <tr>\n",
       "      <th>Identical</th>\n",
       "      <td>1/2</td>\n",
       "    </tr>\n",
       "  </tbody>\n",
       "</table>\n",
       "</div>"
      ],
      "text/plain": [
       "Fraternal    1/2\n",
       "Identical    1/2\n",
       "Name: , dtype: object"
      ]
     },
     "execution_count": 26,
     "metadata": {},
     "output_type": "execute_result"
    }
   ],
   "source": [
    "hypos = [\"Fraternal\", \"Identical\"]\n",
    "probs = (Fraction(2, 3), Fraction(1, 3))\n",
    "priors = Pmf(probs, hypos)\n",
    "likelihood = [Fraction(1, 2), 1]\n",
    "posterior = priors * likelihood\n",
    "posterior.normalize()\n",
    "posterior"
   ]
  },
  {
   "cell_type": "markdown",
   "id": "03453e07-a270-4168-bc58-b12d3edfed4e",
   "metadata": {},
   "source": [
    "So there is a 50% chance that Elvis was an identical twin."
   ]
  }
 ],
 "metadata": {
  "kernelspec": {
   "display_name": "Python 3 (ipykernel)",
   "language": "python",
   "name": "python3"
  },
  "language_info": {
   "codemirror_mode": {
    "name": "ipython",
    "version": 3
   },
   "file_extension": ".py",
   "mimetype": "text/x-python",
   "name": "python",
   "nbconvert_exporter": "python",
   "pygments_lexer": "ipython3",
   "version": "3.8.5"
  }
 },
 "nbformat": 4,
 "nbformat_minor": 5
}
